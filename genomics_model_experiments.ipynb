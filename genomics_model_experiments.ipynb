{
  "cells": [
    {
      "cell_type": "code",
      "source": [
        "!pip install ipython-autotime\n",
        "%load_ext autotime"
      ],
      "metadata": {
        "colab": {
          "base_uri": "https://localhost:8080/"
        },
        "id": "kwByb1OT0VMg",
        "outputId": "9f40bb81-1e50-4b46-df72-e659792c789d"
      },
      "execution_count": 1,
      "outputs": [
        {
          "output_type": "stream",
          "name": "stdout",
          "text": [
            "Looking in indexes: https://pypi.org/simple, https://us-python.pkg.dev/colab-wheels/public/simple/\n",
            "Requirement already satisfied: ipython-autotime in /usr/local/lib/python3.9/dist-packages (0.3.1)\n",
            "Requirement already satisfied: ipython in /usr/local/lib/python3.9/dist-packages (from ipython-autotime) (7.34.0)\n",
            "Requirement already satisfied: pygments in /usr/local/lib/python3.9/dist-packages (from ipython->ipython-autotime) (2.14.0)\n",
            "Requirement already satisfied: prompt-toolkit!=3.0.0,!=3.0.1,<3.1.0,>=2.0.0 in /usr/local/lib/python3.9/dist-packages (from ipython->ipython-autotime) (3.0.38)\n",
            "Requirement already satisfied: matplotlib-inline in /usr/local/lib/python3.9/dist-packages (from ipython->ipython-autotime) (0.1.6)\n",
            "Requirement already satisfied: decorator in /usr/local/lib/python3.9/dist-packages (from ipython->ipython-autotime) (4.4.2)\n",
            "Requirement already satisfied: pexpect>4.3 in /usr/local/lib/python3.9/dist-packages (from ipython->ipython-autotime) (4.8.0)\n",
            "Requirement already satisfied: backcall in /usr/local/lib/python3.9/dist-packages (from ipython->ipython-autotime) (0.2.0)\n",
            "Requirement already satisfied: pickleshare in /usr/local/lib/python3.9/dist-packages (from ipython->ipython-autotime) (0.7.5)\n",
            "Requirement already satisfied: setuptools>=18.5 in /usr/local/lib/python3.9/dist-packages (from ipython->ipython-autotime) (67.6.1)\n",
            "Requirement already satisfied: traitlets>=4.2 in /usr/local/lib/python3.9/dist-packages (from ipython->ipython-autotime) (5.7.1)\n",
            "Requirement already satisfied: jedi>=0.16 in /usr/local/lib/python3.9/dist-packages (from ipython->ipython-autotime) (0.18.2)\n",
            "Requirement already satisfied: parso<0.9.0,>=0.8.0 in /usr/local/lib/python3.9/dist-packages (from jedi>=0.16->ipython->ipython-autotime) (0.8.3)\n",
            "Requirement already satisfied: ptyprocess>=0.5 in /usr/local/lib/python3.9/dist-packages (from pexpect>4.3->ipython->ipython-autotime) (0.7.0)\n",
            "Requirement already satisfied: wcwidth in /usr/local/lib/python3.9/dist-packages (from prompt-toolkit!=3.0.0,!=3.0.1,<3.1.0,>=2.0.0->ipython->ipython-autotime) (0.2.6)\n",
            "time: 484 µs (started: 2023-04-18 19:01:13 +00:00)\n"
          ]
        }
      ]
    },
    {
      "cell_type": "code",
      "execution_count": 2,
      "metadata": {
        "colab": {
          "base_uri": "https://localhost:8080/"
        },
        "id": "IvOfoQrwRI8U",
        "outputId": "36a12bf3-9062-408a-bcbd-f5af3aad3eb0"
      },
      "outputs": [
        {
          "output_type": "stream",
          "name": "stdout",
          "text": [
            "Looking in indexes: https://pypi.org/simple, https://us-python.pkg.dev/colab-wheels/public/simple/\n",
            "Requirement already satisfied: Bio in /usr/local/lib/python3.9/dist-packages (1.5.9)\n",
            "Requirement already satisfied: pandas in /usr/local/lib/python3.9/dist-packages (from Bio) (1.5.3)\n",
            "Requirement already satisfied: gprofiler-official in /usr/local/lib/python3.9/dist-packages (from Bio) (1.0.0)\n",
            "Requirement already satisfied: biopython>=1.80 in /usr/local/lib/python3.9/dist-packages (from Bio) (1.81)\n",
            "Requirement already satisfied: mygene in /usr/local/lib/python3.9/dist-packages (from Bio) (3.2.2)\n",
            "Requirement already satisfied: requests in /usr/local/lib/python3.9/dist-packages (from Bio) (2.27.1)\n",
            "Requirement already satisfied: pooch in /usr/local/lib/python3.9/dist-packages (from Bio) (1.6.0)\n",
            "Requirement already satisfied: tqdm in /usr/local/lib/python3.9/dist-packages (from Bio) (4.65.0)\n",
            "Requirement already satisfied: numpy in /usr/local/lib/python3.9/dist-packages (from biopython>=1.80->Bio) (1.22.4)\n",
            "Requirement already satisfied: biothings-client>=0.2.6 in /usr/local/lib/python3.9/dist-packages (from mygene->Bio) (0.3.0)\n",
            "Requirement already satisfied: python-dateutil>=2.8.1 in /usr/local/lib/python3.9/dist-packages (from pandas->Bio) (2.8.2)\n",
            "Requirement already satisfied: pytz>=2020.1 in /usr/local/lib/python3.9/dist-packages (from pandas->Bio) (2022.7.1)\n",
            "Requirement already satisfied: appdirs>=1.3.0 in /usr/local/lib/python3.9/dist-packages (from pooch->Bio) (1.4.4)\n",
            "Requirement already satisfied: packaging>=20.0 in /usr/local/lib/python3.9/dist-packages (from pooch->Bio) (23.0)\n",
            "Requirement already satisfied: urllib3<1.27,>=1.21.1 in /usr/local/lib/python3.9/dist-packages (from requests->Bio) (1.26.15)\n",
            "Requirement already satisfied: certifi>=2017.4.17 in /usr/local/lib/python3.9/dist-packages (from requests->Bio) (2022.12.7)\n",
            "Requirement already satisfied: charset-normalizer~=2.0.0 in /usr/local/lib/python3.9/dist-packages (from requests->Bio) (2.0.12)\n",
            "Requirement already satisfied: idna<4,>=2.5 in /usr/local/lib/python3.9/dist-packages (from requests->Bio) (3.4)\n",
            "Requirement already satisfied: six>=1.5 in /usr/local/lib/python3.9/dist-packages (from python-dateutil>=2.8.1->pandas->Bio) (1.16.0)\n",
            "Looking in indexes: https://pypi.org/simple, https://us-python.pkg.dev/colab-wheels/public/simple/\n",
            "Requirement already satisfied: pyfastx in /usr/local/lib/python3.9/dist-packages (1.0.1)\n",
            "Looking in indexes: https://pypi.org/simple, https://us-python.pkg.dev/colab-wheels/public/simple/\n",
            "Requirement already satisfied: transformers in /usr/local/lib/python3.9/dist-packages (4.28.1)\n",
            "Requirement already satisfied: datasets in /usr/local/lib/python3.9/dist-packages (2.11.0)\n",
            "Requirement already satisfied: evaluate in /usr/local/lib/python3.9/dist-packages (0.4.0)\n",
            "Requirement already satisfied: pyyaml>=5.1 in /usr/local/lib/python3.9/dist-packages (from transformers) (6.0)\n",
            "Requirement already satisfied: filelock in /usr/local/lib/python3.9/dist-packages (from transformers) (3.11.0)\n",
            "Requirement already satisfied: tokenizers!=0.11.3,<0.14,>=0.11.1 in /usr/local/lib/python3.9/dist-packages (from transformers) (0.13.3)\n",
            "Requirement already satisfied: packaging>=20.0 in /usr/local/lib/python3.9/dist-packages (from transformers) (23.0)\n",
            "Requirement already satisfied: requests in /usr/local/lib/python3.9/dist-packages (from transformers) (2.27.1)\n",
            "Requirement already satisfied: numpy>=1.17 in /usr/local/lib/python3.9/dist-packages (from transformers) (1.22.4)\n",
            "Requirement already satisfied: huggingface-hub<1.0,>=0.11.0 in /usr/local/lib/python3.9/dist-packages (from transformers) (0.13.4)\n",
            "Requirement already satisfied: tqdm>=4.27 in /usr/local/lib/python3.9/dist-packages (from transformers) (4.65.0)\n",
            "Requirement already satisfied: regex!=2019.12.17 in /usr/local/lib/python3.9/dist-packages (from transformers) (2022.10.31)\n",
            "Requirement already satisfied: dill<0.3.7,>=0.3.0 in /usr/local/lib/python3.9/dist-packages (from datasets) (0.3.6)\n",
            "Requirement already satisfied: fsspec[http]>=2021.11.1 in /usr/local/lib/python3.9/dist-packages (from datasets) (2023.4.0)\n",
            "Requirement already satisfied: aiohttp in /usr/local/lib/python3.9/dist-packages (from datasets) (3.8.4)\n",
            "Requirement already satisfied: multiprocess in /usr/local/lib/python3.9/dist-packages (from datasets) (0.70.14)\n",
            "Requirement already satisfied: xxhash in /usr/local/lib/python3.9/dist-packages (from datasets) (3.2.0)\n",
            "Requirement already satisfied: responses<0.19 in /usr/local/lib/python3.9/dist-packages (from datasets) (0.18.0)\n",
            "Requirement already satisfied: pandas in /usr/local/lib/python3.9/dist-packages (from datasets) (1.5.3)\n",
            "Requirement already satisfied: pyarrow>=8.0.0 in /usr/local/lib/python3.9/dist-packages (from datasets) (9.0.0)\n",
            "Requirement already satisfied: async-timeout<5.0,>=4.0.0a3 in /usr/local/lib/python3.9/dist-packages (from aiohttp->datasets) (4.0.2)\n",
            "Requirement already satisfied: attrs>=17.3.0 in /usr/local/lib/python3.9/dist-packages (from aiohttp->datasets) (22.2.0)\n",
            "Requirement already satisfied: multidict<7.0,>=4.5 in /usr/local/lib/python3.9/dist-packages (from aiohttp->datasets) (6.0.4)\n",
            "Requirement already satisfied: yarl<2.0,>=1.0 in /usr/local/lib/python3.9/dist-packages (from aiohttp->datasets) (1.8.2)\n",
            "Requirement already satisfied: frozenlist>=1.1.1 in /usr/local/lib/python3.9/dist-packages (from aiohttp->datasets) (1.3.3)\n",
            "Requirement already satisfied: aiosignal>=1.1.2 in /usr/local/lib/python3.9/dist-packages (from aiohttp->datasets) (1.3.1)\n",
            "Requirement already satisfied: charset-normalizer<4.0,>=2.0 in /usr/local/lib/python3.9/dist-packages (from aiohttp->datasets) (2.0.12)\n",
            "Requirement already satisfied: typing-extensions>=3.7.4.3 in /usr/local/lib/python3.9/dist-packages (from huggingface-hub<1.0,>=0.11.0->transformers) (4.5.0)\n",
            "Requirement already satisfied: idna<4,>=2.5 in /usr/local/lib/python3.9/dist-packages (from requests->transformers) (3.4)\n",
            "Requirement already satisfied: urllib3<1.27,>=1.21.1 in /usr/local/lib/python3.9/dist-packages (from requests->transformers) (1.26.15)\n",
            "Requirement already satisfied: certifi>=2017.4.17 in /usr/local/lib/python3.9/dist-packages (from requests->transformers) (2022.12.7)\n",
            "Requirement already satisfied: pytz>=2020.1 in /usr/local/lib/python3.9/dist-packages (from pandas->datasets) (2022.7.1)\n",
            "Requirement already satisfied: python-dateutil>=2.8.1 in /usr/local/lib/python3.9/dist-packages (from pandas->datasets) (2.8.2)\n",
            "Requirement already satisfied: six>=1.5 in /usr/local/lib/python3.9/dist-packages (from python-dateutil>=2.8.1->pandas->datasets) (1.16.0)\n",
            "time: 19.7 s (started: 2023-04-18 19:01:13 +00:00)\n"
          ]
        }
      ],
      "source": [
        "!pip install Bio\n",
        "!pip install pyfastx\n",
        "!pip install transformers datasets evaluate"
      ]
    },
    {
      "cell_type": "code",
      "execution_count": 3,
      "metadata": {
        "id": "jeEEXPVi4nKx",
        "colab": {
          "base_uri": "https://localhost:8080/"
        },
        "outputId": "07d1688d-5006-4699-8619-4fcab0c0decf"
      },
      "outputs": [
        {
          "output_type": "stream",
          "name": "stdout",
          "text": [
            "time: 1.05 s (started: 2023-04-18 19:01:33 +00:00)\n"
          ]
        }
      ],
      "source": [
        "import os\n",
        "import pyfastx\n",
        "import pandas as pd\n",
        "import numpy as np\n",
        "from collections import Counter"
      ]
    },
    {
      "cell_type": "code",
      "execution_count": 4,
      "metadata": {
        "id": "JY2rjrJF5-tq",
        "colab": {
          "base_uri": "https://localhost:8080/"
        },
        "outputId": "6c536455-f3d8-453b-bae2-b8f2c7726510"
      },
      "outputs": [
        {
          "output_type": "stream",
          "name": "stdout",
          "text": [
            "time: 8.38 s (started: 2023-04-18 19:01:34 +00:00)\n"
          ]
        }
      ],
      "source": [
        "import csv\n",
        "from sklearn.model_selection import train_test_split\n",
        "from transformers import DistilBertTokenizerFast\n",
        "import torch"
      ]
    },
    {
      "cell_type": "markdown",
      "metadata": {
        "id": "36qxhEQpZAaK"
      },
      "source": [
        "Загрузим данные из предобработанных и размеченных датасетов."
      ]
    },
    {
      "cell_type": "code",
      "execution_count": 5,
      "metadata": {
        "id": "_X77nmxK4HSL",
        "colab": {
          "base_uri": "https://localhost:8080/"
        },
        "outputId": "011a6d72-04dd-4ea4-b925-6b5f9931e0b8"
      },
      "outputs": [
        {
          "output_type": "stream",
          "name": "stdout",
          "text": [
            "time: 101 ms (started: 2023-04-18 19:01:42 +00:00)\n"
          ]
        }
      ],
      "source": [
        "classificatorPath = 'classificator_dataset.csv'\n",
        "generatorPath = 'generator_dataset.csv'\n",
        "n = 1000\n",
        "classification_texts, classification_labels = [], []\n",
        "generation_texts, generation_labels = [], []\n",
        "ones, zeros = 0, 0\n",
        "with open(classificatorPath) as csvFile:\n",
        "  csvReader = csv.DictReader(csvFile, delimiter=';')\n",
        "  for row in csvReader:\n",
        "    if zeros == n and ones == n:\n",
        "      break\n",
        "    if int(row['label']) == 0 and zeros < n:\n",
        "      zeros += 1\n",
        "    elif int(row['label']) == 1 and ones < n:\n",
        "      ones += 1\n",
        "    else:\n",
        "      continue\n",
        "    classification_texts.append(row['kmer'])\n",
        "    classification_labels.append(int(row['label']))\n",
        "ones = 0\n",
        "with open(generatorPath) as csvFile:\n",
        "  csvReader = csv.DictReader(csvFile, delimiter=';')\n",
        "  for row in csvReader:\n",
        "    if ones == 2*n:\n",
        "      break\n",
        "    generation_texts.append(row['kmer'])\n",
        "    generation_labels.append(row['label'])\n",
        "    ones += 1"
      ]
    },
    {
      "cell_type": "markdown",
      "metadata": {
        "id": "Oj7HmgfxZLGP"
      },
      "source": [
        "Нам нужно обучить модель распознавать участки, похожие на консвервативные. Поэтому в качестве тестового датасета будем использовать участки, на которых обучалась модель, с 1-2 мутациями."
      ]
    },
    {
      "cell_type": "code",
      "execution_count": 6,
      "metadata": {
        "id": "MXQwlyv6YCkZ",
        "colab": {
          "base_uri": "https://localhost:8080/"
        },
        "outputId": "4988d906-1406-4141-d652-d0771f85ce94"
      },
      "outputs": [
        {
          "output_type": "stream",
          "name": "stdout",
          "text": [
            "time: 13.5 ms (started: 2023-04-18 19:01:44 +00:00)\n"
          ]
        }
      ],
      "source": [
        "import random\n",
        "def add_mismatches(texts):\n",
        "  res = []\n",
        "  nucleotides = ['A', 'T', 'C', 'G']\n",
        "  for text in texts:\n",
        "    mod_text = text\n",
        "    i = random.randint(0, 8)\n",
        "    mod_text = mod_text[:i] + nucleotides[random.randint(0, 3)] + mod_text[i+1:]\n",
        "    i = random.randint(0, 8)\n",
        "    mod_text = mod_text[:i] + nucleotides[random.randint(0, 3)] + mod_text[i+1:]\n",
        "    res.append(mod_text)\n",
        "  return res\n",
        "test_texts, test_labels = add_mismatches(classification_texts), classification_labels"
      ]
    },
    {
      "cell_type": "markdown",
      "metadata": {
        "id": "tJePf9cvZpC3"
      },
      "source": [
        "Разобьём выборку на тренировочную и валидационную"
      ]
    },
    {
      "cell_type": "code",
      "execution_count": 7,
      "metadata": {
        "id": "eCe-t9Fv5vDz",
        "colab": {
          "base_uri": "https://localhost:8080/"
        },
        "outputId": "8f2091c9-0d61-4a4f-f790-dd4e8360620e"
      },
      "outputs": [
        {
          "output_type": "stream",
          "name": "stdout",
          "text": [
            "time: 7.77 ms (started: 2023-04-18 19:01:44 +00:00)\n"
          ]
        }
      ],
      "source": [
        "train_texts, val_texts, train_labels, val_labels = train_test_split(classification_texts, classification_labels, test_size=.2)"
      ]
    },
    {
      "cell_type": "markdown",
      "metadata": {
        "id": "pgOwVlcwZukk"
      },
      "source": [
        "В качестве модели используем трансформер DistilBert"
      ]
    },
    {
      "cell_type": "code",
      "execution_count": 9,
      "metadata": {
        "id": "kVZh7XNN6Mpc",
        "colab": {
          "base_uri": "https://localhost:8080/",
          "height": 162,
          "referenced_widgets": [
            "e99ef7c9278948db9de710304a99dd36",
            "c782031e584b45bf859138e4b87e928f",
            "dfc3b5bf7ccd40a5b5830070d5780f91",
            "700ada8e5fd64b728e152ad9050e0416",
            "ca5e30666b8240dabd8647883a562603",
            "6ea6516a4af54997a300862d31b1a48b",
            "7e37f0e31d1346da9652053e6e58f57d",
            "59e1471de117456ba48deff7e85de4db",
            "7561f4623adf4e8a9e4ebaa9e7410cd9",
            "401324fd13f94adcb357ed0804458b46",
            "8a10ec9295004d7ba2e5c5f622af187d",
            "e062f4e010224e9087c1fc18753846b4",
            "5f9fdb861887458eaccda7c4fd298545",
            "97cdc74a0dc64868bec098c86d1c8451",
            "67564e31eeb841c786f7a2635b624063",
            "280b5abfdad74dadad990861b43fbf8a",
            "f3b5573a84964b3c8898c2eaf268bc94",
            "49b8e33d47b543b182d3bafe5451a1ea",
            "3741068955064e63a503c8b2867b7ed5",
            "4cbdeb1a95474b918435afd81991db0d",
            "18bc97eb58ef49d7ac3ff3fd27a12e37",
            "db1cb8f58fae426588d8d842217ec872",
            "ef6fdd95e5204abd984e8ad82ade5263",
            "02d089070c674c79a5cf0f352bddf2a8",
            "40932a227ffe4662b15becc156ce5b21",
            "275d4f961a8349cc9c00f92ebaac4a74",
            "4bfdca9c3be943bc8c13467f17c4055f",
            "882909e8223e49c38cb0954b15e0c0f3",
            "8c0df32f6f764d34bf2c537f9a4f414f",
            "98a1e1d7f20b45a99384cc054773c1aa",
            "7f7180e96c5140ad9f269246f4e9e5d8",
            "c4aacd6eb1a84871ad3fb6d37e100701",
            "2b977b37582347e2ba94b2eaa89a76d0",
            "5bbeb352cae44eb28f64e73c2560a84a",
            "77fea2226a08427a8e9b72e825c002a6",
            "846272b04dd049dea4628874b8dc9966",
            "82b5e7b6aaff4baea55f323a501ac9f7",
            "c9fd488e47984aefbed7c7536b8c63fb",
            "5dcbddaad84c4bdbaaef7abf97ed6010",
            "2413bd05da854123a2fc732b0ae55172",
            "8cfff9c66b7144f295859ed0349ed155",
            "d979c987a6a44dd68fe457776f6b42ec",
            "101c21fa6e324a55945cc3f1cbcf28ee",
            "eb83a73c316e43908f9ba50a62cff683"
          ]
        },
        "outputId": "7ae5a315-83e5-4380-b792-83819e98e8a5"
      },
      "outputs": [
        {
          "output_type": "display_data",
          "data": {
            "text/plain": [
              "Downloading (…)okenizer_config.json:   0%|          | 0.00/28.0 [00:00<?, ?B/s]"
            ],
            "application/vnd.jupyter.widget-view+json": {
              "version_major": 2,
              "version_minor": 0,
              "model_id": "e99ef7c9278948db9de710304a99dd36"
            }
          },
          "metadata": {}
        },
        {
          "output_type": "display_data",
          "data": {
            "text/plain": [
              "Downloading (…)solve/main/vocab.txt:   0%|          | 0.00/232k [00:00<?, ?B/s]"
            ],
            "application/vnd.jupyter.widget-view+json": {
              "version_major": 2,
              "version_minor": 0,
              "model_id": "e062f4e010224e9087c1fc18753846b4"
            }
          },
          "metadata": {}
        },
        {
          "output_type": "display_data",
          "data": {
            "text/plain": [
              "Downloading (…)/main/tokenizer.json:   0%|          | 0.00/466k [00:00<?, ?B/s]"
            ],
            "application/vnd.jupyter.widget-view+json": {
              "version_major": 2,
              "version_minor": 0,
              "model_id": "ef6fdd95e5204abd984e8ad82ade5263"
            }
          },
          "metadata": {}
        },
        {
          "output_type": "display_data",
          "data": {
            "text/plain": [
              "Downloading (…)lve/main/config.json:   0%|          | 0.00/483 [00:00<?, ?B/s]"
            ],
            "application/vnd.jupyter.widget-view+json": {
              "version_major": 2,
              "version_minor": 0,
              "model_id": "5bbeb352cae44eb28f64e73c2560a84a"
            }
          },
          "metadata": {}
        },
        {
          "output_type": "stream",
          "name": "stdout",
          "text": [
            "time: 1.52 s (started: 2023-04-18 17:55:24 +00:00)\n"
          ]
        }
      ],
      "source": [
        "tokenizer = DistilBertTokenizerFast.from_pretrained('distilbert-base-uncased')"
      ]
    },
    {
      "cell_type": "markdown",
      "metadata": {
        "id": "vd-3t3biZ3aC"
      },
      "source": [
        "Токенизируем текстовые данные"
      ]
    },
    {
      "cell_type": "code",
      "execution_count": 10,
      "metadata": {
        "id": "EGK1Xcbc6ZeK",
        "colab": {
          "base_uri": "https://localhost:8080/"
        },
        "outputId": "ebe686e2-48c5-43f3-9244-77a768ca832f"
      },
      "outputs": [
        {
          "output_type": "stream",
          "name": "stdout",
          "text": [
            "time: 244 ms (started: 2023-04-18 17:55:28 +00:00)\n"
          ]
        }
      ],
      "source": [
        "train_encodings = tokenizer(train_texts, truncation=True, padding=True)\n",
        "val_encodings = tokenizer(val_texts, truncation=True, padding=True)"
      ]
    },
    {
      "cell_type": "code",
      "execution_count": 8,
      "metadata": {
        "id": "Tv7ta2irAi7m",
        "colab": {
          "base_uri": "https://localhost:8080/"
        },
        "outputId": "bfdfd0fc-15d3-4684-8d51-4a8457c2cff6"
      },
      "outputs": [
        {
          "output_type": "stream",
          "name": "stdout",
          "text": [
            "time: 1.52 ms (started: 2023-04-18 19:02:13 +00:00)\n"
          ]
        }
      ],
      "source": [
        "class IMDbDataset(torch.utils.data.Dataset):\n",
        "    def __init__(self, encodings, labels):\n",
        "        self.encodings = encodings\n",
        "        self.labels = labels\n",
        "\n",
        "    def __getitem__(self, idx):\n",
        "        item = {key: torch.tensor(val[idx]) for key, val in self.encodings.items()}\n",
        "        item['labels'] = torch.tensor(self.labels[idx])\n",
        "        return item\n",
        "\n",
        "    def __len__(self):\n",
        "        return len(self.labels)"
      ]
    },
    {
      "cell_type": "code",
      "execution_count": 12,
      "metadata": {
        "id": "ZPy3mbhY6fiY",
        "colab": {
          "base_uri": "https://localhost:8080/"
        },
        "outputId": "12666397-e8d3-43fe-f91b-322aad94009b"
      },
      "outputs": [
        {
          "output_type": "stream",
          "name": "stdout",
          "text": [
            "time: 490 µs (started: 2023-04-18 17:55:33 +00:00)\n"
          ]
        }
      ],
      "source": [
        "train_dataset = IMDbDataset(train_encodings, train_labels)\n",
        "val_dataset = IMDbDataset(val_encodings, val_labels)"
      ]
    },
    {
      "cell_type": "markdown",
      "metadata": {
        "id": "vJi6bTVBasgU"
      },
      "source": [
        "Залогинимся в huggingface"
      ]
    },
    {
      "cell_type": "code",
      "execution_count": 9,
      "metadata": {
        "id": "d8fMRjQb81JF",
        "colab": {
          "base_uri": "https://localhost:8080/"
        },
        "outputId": "ead18338-2831-4375-9d13-986e5e7c6b4c"
      },
      "outputs": [
        {
          "output_type": "stream",
          "name": "stdout",
          "text": [
            "time: 955 µs (started: 2023-04-18 19:02:16 +00:00)\n"
          ]
        }
      ],
      "source": [
        "from transformers import logging\n",
        "logging.set_verbosity_error()"
      ]
    },
    {
      "cell_type": "markdown",
      "metadata": {
        "id": "Nq-zH4-2axRd"
      },
      "source": [
        "Обучим модель"
      ]
    },
    {
      "cell_type": "code",
      "execution_count": 14,
      "metadata": {
        "colab": {
          "base_uri": "https://localhost:8080/",
          "height": 676,
          "referenced_widgets": [
            "c7294fa67e2443d2addf48b92f2cefdb",
            "9e1241b3a8284282825f205ed27e7ce4",
            "0ce4179c352a471b8958bae3887d9758",
            "ff6a41f0531844409aecd5695963804c",
            "c01cb83619f341d3a77d2af0c48fd862",
            "0acffbdb081c4abd95fa5ac36998ea18",
            "5803df78172d4ca3a9ffe9f92182897d",
            "1ed982930c9647cf916a05cc0233a9fd",
            "7db4415f6a0744bb82de425230498bd1",
            "fae212d3517544df8b866916a13cc7e5",
            "3afa151309b64d8f8b5da82edd78a707"
          ]
        },
        "id": "CmkLGnY16u4w",
        "outputId": "a77d864f-1a32-4c90-d091-4cc67f57c368"
      },
      "outputs": [
        {
          "output_type": "display_data",
          "data": {
            "text/plain": [
              "Downloading pytorch_model.bin:   0%|          | 0.00/268M [00:00<?, ?B/s]"
            ],
            "application/vnd.jupyter.widget-view+json": {
              "version_major": 2,
              "version_minor": 0,
              "model_id": "c7294fa67e2443d2addf48b92f2cefdb"
            }
          },
          "metadata": {}
        },
        {
          "output_type": "stream",
          "name": "stderr",
          "text": [
            "/usr/local/lib/python3.9/dist-packages/transformers/optimization.py:391: FutureWarning: This implementation of AdamW is deprecated and will be removed in a future version. Use the PyTorch implementation torch.optim.AdamW instead, or set `no_deprecation_warning=True` to disable this warning\n",
            "  warnings.warn(\n"
          ]
        },
        {
          "output_type": "stream",
          "name": "stdout",
          "text": [
            "{'loss': 0.7004, 'learning_rate': 1.0000000000000002e-06, 'epoch': 0.1}\n",
            "{'loss': 0.7023, 'learning_rate': 2.0000000000000003e-06, 'epoch': 0.2}\n",
            "{'loss': 0.6981, 'learning_rate': 3e-06, 'epoch': 0.3}\n",
            "{'loss': 0.6898, 'learning_rate': 4.000000000000001e-06, 'epoch': 0.4}\n",
            "{'loss': 0.6855, 'learning_rate': 5e-06, 'epoch': 0.5}\n",
            "{'loss': 0.6682, 'learning_rate': 6e-06, 'epoch': 0.6}\n",
            "{'loss': 0.6516, 'learning_rate': 7.000000000000001e-06, 'epoch': 0.7}\n",
            "{'loss': 0.615, 'learning_rate': 8.000000000000001e-06, 'epoch': 0.8}\n",
            "{'loss': 0.6392, 'learning_rate': 9e-06, 'epoch': 0.9}\n",
            "{'loss': 0.5614, 'learning_rate': 1e-05, 'epoch': 1.0}\n",
            "{'loss': 0.5827, 'learning_rate': 1.1000000000000001e-05, 'epoch': 1.1}\n",
            "{'loss': 0.5525, 'learning_rate': 1.2e-05, 'epoch': 1.2}\n",
            "{'loss': 0.5702, 'learning_rate': 1.3000000000000001e-05, 'epoch': 1.3}\n",
            "{'loss': 0.5696, 'learning_rate': 1.4000000000000001e-05, 'epoch': 1.4}\n",
            "{'loss': 0.552, 'learning_rate': 1.5e-05, 'epoch': 1.5}\n",
            "{'loss': 0.4584, 'learning_rate': 1.6000000000000003e-05, 'epoch': 1.6}\n",
            "{'loss': 0.606, 'learning_rate': 1.7000000000000003e-05, 'epoch': 1.7}\n",
            "{'loss': 0.5749, 'learning_rate': 1.8e-05, 'epoch': 1.8}\n",
            "{'loss': 0.5337, 'learning_rate': 1.9e-05, 'epoch': 1.9}\n",
            "{'loss': 0.5482, 'learning_rate': 2e-05, 'epoch': 2.0}\n",
            "{'loss': 0.5294, 'learning_rate': 2.1e-05, 'epoch': 2.1}\n",
            "{'loss': 0.5031, 'learning_rate': 2.2000000000000003e-05, 'epoch': 2.2}\n",
            "{'loss': 0.4213, 'learning_rate': 2.3000000000000003e-05, 'epoch': 2.3}\n",
            "{'loss': 0.4633, 'learning_rate': 2.4e-05, 'epoch': 2.4}\n",
            "{'loss': 0.5197, 'learning_rate': 2.5e-05, 'epoch': 2.5}\n",
            "{'loss': 0.4273, 'learning_rate': 2.6000000000000002e-05, 'epoch': 2.6}\n",
            "{'loss': 0.4657, 'learning_rate': 2.7000000000000002e-05, 'epoch': 2.7}\n",
            "{'loss': 0.4987, 'learning_rate': 2.8000000000000003e-05, 'epoch': 2.8}\n",
            "{'loss': 0.5295, 'learning_rate': 2.9e-05, 'epoch': 2.9}\n",
            "{'loss': 0.5021, 'learning_rate': 3e-05, 'epoch': 3.0}\n",
            "{'train_runtime': 274.3611, 'train_samples_per_second': 17.495, 'train_steps_per_second': 1.093, 'train_loss': 0.5673265345891316, 'epoch': 3.0}\n"
          ]
        },
        {
          "output_type": "execute_result",
          "data": {
            "text/plain": [
              "TrainOutput(global_step=300, training_loss=0.5673265345891316, metrics={'train_runtime': 274.3611, 'train_samples_per_second': 17.495, 'train_steps_per_second': 1.093, 'train_loss': 0.5673265345891316, 'epoch': 3.0})"
            ]
          },
          "metadata": {},
          "execution_count": 14
        },
        {
          "output_type": "stream",
          "name": "stdout",
          "text": [
            "time: 4min 39s (started: 2023-04-18 17:55:48 +00:00)\n"
          ]
        }
      ],
      "source": [
        "from transformers import DistilBertForSequenceClassification, Trainer, TrainingArguments\n",
        "\n",
        "training_args = TrainingArguments(\n",
        "    output_dir='results',          # output directory\n",
        "    num_train_epochs=3,              # total number of training epochs\n",
        "    per_device_train_batch_size=16,  # batch size per device during training\n",
        "    per_device_eval_batch_size=64,   # batch size for evaluation\n",
        "    warmup_steps=500,                # number of warmup steps for learning rate scheduler\n",
        "    weight_decay=0.01,               # strength of weight decay\n",
        "    logging_dir='logs',            # directory for storing logs\n",
        "    logging_steps=10,\n",
        ")\n",
        "\n",
        "model = DistilBertForSequenceClassification.from_pretrained(\"distilbert-base-uncased\")\n",
        "\n",
        "trainer = Trainer(\n",
        "    model=model,                         # the instantiated 🤗 Transformers model to be trained\n",
        "    args=training_args,                  # training arguments, defined above\n",
        "    train_dataset=train_dataset,         # training dataset\n",
        "    eval_dataset=val_dataset             # evaluation dataset\n",
        ")\n",
        "\n",
        "trainer.train()"
      ]
    },
    {
      "cell_type": "markdown",
      "metadata": {
        "id": "r6Q12wWia0en"
      },
      "source": [
        "Протестируем модель"
      ]
    },
    {
      "cell_type": "code",
      "execution_count": 15,
      "metadata": {
        "id": "kCcCezLeRByc",
        "colab": {
          "base_uri": "https://localhost:8080/"
        },
        "outputId": "b37106a0-ac32-4927-8968-79824d27c278"
      },
      "outputs": [
        {
          "output_type": "stream",
          "name": "stdout",
          "text": [
            "time: 1min 12s (started: 2023-04-18 18:00:28 +00:00)\n"
          ]
        }
      ],
      "source": [
        "predicted_labels = [model(**tokenizer(kmer, return_tensors=\"pt\")).logits.argmax().item() for kmer in test_texts]"
      ]
    },
    {
      "cell_type": "code",
      "execution_count": 16,
      "metadata": {
        "colab": {
          "base_uri": "https://localhost:8080/"
        },
        "id": "N8zHJY5USV2L",
        "outputId": "bc3d0ae5-0c6f-4414-9e31-eee3e4cff97b"
      },
      "outputs": [
        {
          "output_type": "stream",
          "name": "stdout",
          "text": [
            "                  precision    recall  f1-score   support\n",
            "\n",
            "non-conservative       0.64      0.86      0.73      1000\n",
            "    conservative       0.79      0.51      0.62      1000\n",
            "\n",
            "        accuracy                           0.69      2000\n",
            "       macro avg       0.71      0.69      0.68      2000\n",
            "    weighted avg       0.71      0.69      0.68      2000\n",
            "\n",
            "time: 12.6 ms (started: 2023-04-18 18:01:41 +00:00)\n"
          ]
        }
      ],
      "source": [
        "from sklearn.metrics import classification_report\n",
        "\n",
        "target_names = ['non-conservative', 'conservative']\n",
        "print(classification_report(test_labels, predicted_labels, target_names=target_names))"
      ]
    },
    {
      "cell_type": "markdown",
      "metadata": {
        "id": "jr-ZkiGQa2UF"
      },
      "source": [
        "Как видно, показатели качества неидеальны. Попробуем поиграться с параметрами"
      ]
    },
    {
      "cell_type": "code",
      "execution_count": 17,
      "metadata": {
        "colab": {
          "base_uri": "https://localhost:8080/"
        },
        "id": "8_c2uamQX8CZ",
        "outputId": "c755e55e-7593-4d66-bcb7-e676c57ead26"
      },
      "outputs": [
        {
          "output_type": "stream",
          "name": "stderr",
          "text": [
            "/usr/local/lib/python3.9/dist-packages/transformers/optimization.py:391: FutureWarning: This implementation of AdamW is deprecated and will be removed in a future version. Use the PyTorch implementation torch.optim.AdamW instead, or set `no_deprecation_warning=True` to disable this warning\n",
            "  warnings.warn(\n"
          ]
        },
        {
          "output_type": "stream",
          "name": "stdout",
          "text": [
            "{'loss': 0.6895, 'learning_rate': 1.0000000000000002e-06, 'epoch': 0.1}\n",
            "{'loss': 0.6929, 'learning_rate': 2.0000000000000003e-06, 'epoch': 0.2}\n",
            "{'loss': 0.6891, 'learning_rate': 3e-06, 'epoch': 0.3}\n",
            "{'loss': 0.6862, 'learning_rate': 4.000000000000001e-06, 'epoch': 0.4}\n",
            "{'loss': 0.6732, 'learning_rate': 5e-06, 'epoch': 0.5}\n",
            "{'loss': 0.6507, 'learning_rate': 6e-06, 'epoch': 0.6}\n",
            "{'loss': 0.6212, 'learning_rate': 7.000000000000001e-06, 'epoch': 0.7}\n",
            "{'loss': 0.5987, 'learning_rate': 8.000000000000001e-06, 'epoch': 0.8}\n",
            "{'loss': 0.6426, 'learning_rate': 9e-06, 'epoch': 0.9}\n",
            "{'loss': 0.5539, 'learning_rate': 1e-05, 'epoch': 1.0}\n",
            "{'loss': 0.5573, 'learning_rate': 1.1000000000000001e-05, 'epoch': 1.1}\n",
            "{'loss': 0.5531, 'learning_rate': 1.2e-05, 'epoch': 1.2}\n",
            "{'loss': 0.555, 'learning_rate': 1.3000000000000001e-05, 'epoch': 1.3}\n",
            "{'loss': 0.5503, 'learning_rate': 1.4000000000000001e-05, 'epoch': 1.4}\n",
            "{'loss': 0.5207, 'learning_rate': 1.5e-05, 'epoch': 1.5}\n",
            "{'loss': 0.4371, 'learning_rate': 1.6000000000000003e-05, 'epoch': 1.6}\n",
            "{'loss': 0.5818, 'learning_rate': 1.7000000000000003e-05, 'epoch': 1.7}\n",
            "{'loss': 0.5712, 'learning_rate': 1.8e-05, 'epoch': 1.8}\n",
            "{'loss': 0.5313, 'learning_rate': 1.9e-05, 'epoch': 1.9}\n",
            "{'loss': 0.5503, 'learning_rate': 2e-05, 'epoch': 2.0}\n",
            "{'loss': 0.535, 'learning_rate': 2.1e-05, 'epoch': 2.1}\n",
            "{'loss': 0.4994, 'learning_rate': 2.2000000000000003e-05, 'epoch': 2.2}\n",
            "{'loss': 0.4307, 'learning_rate': 2.3000000000000003e-05, 'epoch': 2.3}\n",
            "{'loss': 0.4914, 'learning_rate': 2.4e-05, 'epoch': 2.4}\n",
            "{'loss': 0.5234, 'learning_rate': 2.5e-05, 'epoch': 2.5}\n",
            "{'loss': 0.446, 'learning_rate': 2.6000000000000002e-05, 'epoch': 2.6}\n",
            "{'loss': 0.5016, 'learning_rate': 2.7000000000000002e-05, 'epoch': 2.7}\n",
            "{'loss': 0.4883, 'learning_rate': 2.8000000000000003e-05, 'epoch': 2.8}\n",
            "{'loss': 0.5507, 'learning_rate': 2.9e-05, 'epoch': 2.9}\n",
            "{'loss': 0.5406, 'learning_rate': 3e-05, 'epoch': 3.0}\n",
            "{'train_runtime': 292.9455, 'train_samples_per_second': 16.385, 'train_steps_per_second': 1.024, 'train_loss': 0.5637805143992106, 'epoch': 3.0}\n"
          ]
        },
        {
          "output_type": "execute_result",
          "data": {
            "text/plain": [
              "TrainOutput(global_step=300, training_loss=0.5637805143992106, metrics={'train_runtime': 292.9455, 'train_samples_per_second': 16.385, 'train_steps_per_second': 1.024, 'train_loss': 0.5637805143992106, 'epoch': 3.0})"
            ]
          },
          "metadata": {},
          "execution_count": 17
        },
        {
          "output_type": "stream",
          "name": "stdout",
          "text": [
            "time: 4min 53s (started: 2023-04-18 18:01:41 +00:00)\n"
          ]
        }
      ],
      "source": [
        "from transformers import DistilBertForSequenceClassification, Trainer, TrainingArguments\n",
        "\n",
        "training_args = TrainingArguments(\n",
        "    output_dir='results',          # output directory\n",
        "    num_train_epochs=3,              # total number of training epochs\n",
        "    per_device_train_batch_size=16,  # batch size per device during training\n",
        "    per_device_eval_batch_size=64,   # batch size for evaluation\n",
        "    warmup_steps=500,                # number of warmup steps for learning rate scheduler\n",
        "    weight_decay=0.05,               # strength of weight decay\n",
        "    logging_dir='logs',            # directory for storing logs\n",
        "    logging_steps=10,\n",
        ")\n",
        "\n",
        "model = DistilBertForSequenceClassification.from_pretrained(\"distilbert-base-uncased\")\n",
        "\n",
        "trainer = Trainer(\n",
        "    model=model,                         # the instantiated 🤗 Transformers model to be trained\n",
        "    args=training_args,                  # training arguments, defined above\n",
        "    train_dataset=train_dataset,         # training dataset\n",
        "    eval_dataset=val_dataset             # evaluation dataset\n",
        ")\n",
        "\n",
        "trainer.train()"
      ]
    },
    {
      "cell_type": "code",
      "execution_count": 18,
      "metadata": {
        "id": "Fl9ZBRYUY4Dq",
        "colab": {
          "base_uri": "https://localhost:8080/"
        },
        "outputId": "81b2ed76-958f-422e-8f35-fafa8fd88636"
      },
      "outputs": [
        {
          "output_type": "stream",
          "name": "stdout",
          "text": [
            "time: 1min 20s (started: 2023-04-18 18:06:34 +00:00)\n"
          ]
        }
      ],
      "source": [
        "predicted_labels = [model(**tokenizer(kmer, return_tensors=\"pt\")).logits.argmax().item() for kmer in test_texts]"
      ]
    },
    {
      "cell_type": "code",
      "execution_count": 19,
      "metadata": {
        "colab": {
          "base_uri": "https://localhost:8080/"
        },
        "id": "rCttqtB7Y6hF",
        "outputId": "486b5cbf-4cd8-45ba-cc6e-aaaf020f5628"
      },
      "outputs": [
        {
          "output_type": "stream",
          "name": "stdout",
          "text": [
            "                  precision    recall  f1-score   support\n",
            "\n",
            "non-conservative       0.62      0.89      0.73      1000\n",
            "    conservative       0.80      0.45      0.58      1000\n",
            "\n",
            "        accuracy                           0.67      2000\n",
            "       macro avg       0.71      0.67      0.65      2000\n",
            "    weighted avg       0.71      0.67      0.65      2000\n",
            "\n",
            "time: 11.5 ms (started: 2023-04-18 18:07:55 +00:00)\n"
          ]
        }
      ],
      "source": [
        "from sklearn.metrics import classification_report\n",
        "\n",
        "target_names = ['non-conservative', 'conservative']\n",
        "print(classification_report(test_labels, predicted_labels, target_names=target_names))"
      ]
    },
    {
      "cell_type": "code",
      "execution_count": 20,
      "metadata": {
        "colab": {
          "base_uri": "https://localhost:8080/"
        },
        "id": "J1DleJ7ObJoU",
        "outputId": "f695431a-5901-42a4-8a24-c40c570224b4"
      },
      "outputs": [
        {
          "output_type": "stream",
          "name": "stderr",
          "text": [
            "/usr/local/lib/python3.9/dist-packages/transformers/optimization.py:391: FutureWarning: This implementation of AdamW is deprecated and will be removed in a future version. Use the PyTorch implementation torch.optim.AdamW instead, or set `no_deprecation_warning=True` to disable this warning\n",
            "  warnings.warn(\n"
          ]
        },
        {
          "output_type": "stream",
          "name": "stdout",
          "text": [
            "{'loss': 0.6895, 'learning_rate': 1.0000000000000002e-06, 'epoch': 0.1}\n",
            "{'loss': 0.6929, 'learning_rate': 2.0000000000000003e-06, 'epoch': 0.2}\n",
            "{'loss': 0.6891, 'learning_rate': 3e-06, 'epoch': 0.3}\n",
            "{'loss': 0.6862, 'learning_rate': 4.000000000000001e-06, 'epoch': 0.4}\n",
            "{'loss': 0.6732, 'learning_rate': 5e-06, 'epoch': 0.5}\n",
            "{'loss': 0.6507, 'learning_rate': 6e-06, 'epoch': 0.6}\n",
            "{'loss': 0.6212, 'learning_rate': 7.000000000000001e-06, 'epoch': 0.7}\n",
            "{'loss': 0.5987, 'learning_rate': 8.000000000000001e-06, 'epoch': 0.8}\n",
            "{'loss': 0.6425, 'learning_rate': 9e-06, 'epoch': 0.9}\n",
            "{'loss': 0.5541, 'learning_rate': 1e-05, 'epoch': 1.0}\n",
            "{'loss': 0.5573, 'learning_rate': 1.1000000000000001e-05, 'epoch': 1.1}\n",
            "{'loss': 0.553, 'learning_rate': 1.2e-05, 'epoch': 1.2}\n",
            "{'loss': 0.5547, 'learning_rate': 1.3000000000000001e-05, 'epoch': 1.3}\n",
            "{'loss': 0.5504, 'learning_rate': 1.4000000000000001e-05, 'epoch': 1.4}\n",
            "{'loss': 0.5207, 'learning_rate': 1.5e-05, 'epoch': 1.5}\n",
            "{'loss': 0.4372, 'learning_rate': 1.6000000000000003e-05, 'epoch': 1.6}\n",
            "{'loss': 0.5837, 'learning_rate': 1.7000000000000003e-05, 'epoch': 1.7}\n",
            "{'loss': 0.5694, 'learning_rate': 1.8e-05, 'epoch': 1.8}\n",
            "{'loss': 0.5302, 'learning_rate': 1.9e-05, 'epoch': 1.9}\n",
            "{'loss': 0.5496, 'learning_rate': 2e-05, 'epoch': 2.0}\n",
            "{'loss': 0.5373, 'learning_rate': 2.1e-05, 'epoch': 2.1}\n",
            "{'loss': 0.4996, 'learning_rate': 2.2000000000000003e-05, 'epoch': 2.2}\n",
            "{'loss': 0.4333, 'learning_rate': 2.3000000000000003e-05, 'epoch': 2.3}\n",
            "{'loss': 0.4888, 'learning_rate': 2.4e-05, 'epoch': 2.4}\n",
            "{'loss': 0.519, 'learning_rate': 2.5e-05, 'epoch': 2.5}\n",
            "{'loss': 0.4451, 'learning_rate': 2.6000000000000002e-05, 'epoch': 2.6}\n",
            "{'loss': 0.5018, 'learning_rate': 2.7000000000000002e-05, 'epoch': 2.7}\n",
            "{'loss': 0.4937, 'learning_rate': 2.8000000000000003e-05, 'epoch': 2.8}\n",
            "{'loss': 0.5563, 'learning_rate': 2.9e-05, 'epoch': 2.9}\n",
            "{'loss': 0.5319, 'learning_rate': 3e-05, 'epoch': 3.0}\n",
            "{'train_runtime': 259.4139, 'train_samples_per_second': 18.503, 'train_steps_per_second': 1.156, 'train_loss': 0.5637061134974162, 'epoch': 3.0}\n"
          ]
        },
        {
          "output_type": "execute_result",
          "data": {
            "text/plain": [
              "TrainOutput(global_step=300, training_loss=0.5637061134974162, metrics={'train_runtime': 259.4139, 'train_samples_per_second': 18.503, 'train_steps_per_second': 1.156, 'train_loss': 0.5637061134974162, 'epoch': 3.0})"
            ]
          },
          "metadata": {},
          "execution_count": 20
        },
        {
          "output_type": "stream",
          "name": "stdout",
          "text": [
            "time: 4min 20s (started: 2023-04-18 18:07:55 +00:00)\n"
          ]
        }
      ],
      "source": [
        "from transformers import DistilBertForSequenceClassification, Trainer, TrainingArguments\n",
        "\n",
        "training_args = TrainingArguments(\n",
        "    output_dir='results',          # output directory\n",
        "    num_train_epochs=3,              # total number of training epochs\n",
        "    per_device_train_batch_size=16,  # batch size per device during training\n",
        "    per_device_eval_batch_size=64,   # batch size for evaluation\n",
        "    warmup_steps=500,                # number of warmup steps for learning rate scheduler\n",
        "    weight_decay=0.1,               # strength of weight decay\n",
        "    logging_dir='logs',            # directory for storing logs\n",
        "    logging_steps=10,\n",
        ")\n",
        "\n",
        "model = DistilBertForSequenceClassification.from_pretrained(\"distilbert-base-uncased\")\n",
        "\n",
        "trainer = Trainer(\n",
        "    model=model,                         # the instantiated 🤗 Transformers model to be trained\n",
        "    args=training_args,                  # training arguments, defined above\n",
        "    train_dataset=train_dataset,         # training dataset\n",
        "    eval_dataset=val_dataset             # evaluation dataset\n",
        ")\n",
        "\n",
        "trainer.train()"
      ]
    },
    {
      "cell_type": "code",
      "execution_count": 21,
      "metadata": {
        "id": "9dd1cVb7bNyH",
        "colab": {
          "base_uri": "https://localhost:8080/"
        },
        "outputId": "6a4cfad2-60fa-465d-de9a-fb3636634097"
      },
      "outputs": [
        {
          "output_type": "stream",
          "name": "stdout",
          "text": [
            "time: 1min 10s (started: 2023-04-18 18:12:16 +00:00)\n"
          ]
        }
      ],
      "source": [
        "predicted_labels = [model(**tokenizer(kmer, return_tensors=\"pt\")).logits.argmax().item() for kmer in test_texts]"
      ]
    },
    {
      "cell_type": "code",
      "execution_count": 22,
      "metadata": {
        "colab": {
          "base_uri": "https://localhost:8080/"
        },
        "id": "EyhdJdyvbQVF",
        "outputId": "c7daecf0-b995-4320-b3d4-6f8ec4c119bf"
      },
      "outputs": [
        {
          "output_type": "stream",
          "name": "stdout",
          "text": [
            "                  precision    recall  f1-score   support\n",
            "\n",
            "non-conservative       0.62      0.89      0.73      1000\n",
            "    conservative       0.80      0.45      0.58      1000\n",
            "\n",
            "        accuracy                           0.67      2000\n",
            "       macro avg       0.71      0.67      0.65      2000\n",
            "    weighted avg       0.71      0.67      0.65      2000\n",
            "\n",
            "time: 7.65 ms (started: 2023-04-18 18:13:27 +00:00)\n"
          ]
        }
      ],
      "source": [
        "from sklearn.metrics import classification_report\n",
        "\n",
        "target_names = ['non-conservative', 'conservative']\n",
        "print(classification_report(test_labels, predicted_labels, target_names=target_names))"
      ]
    },
    {
      "cell_type": "code",
      "execution_count": 23,
      "metadata": {
        "colab": {
          "base_uri": "https://localhost:8080/"
        },
        "id": "xGlXhHWLcAQj",
        "outputId": "847d66bb-62b2-4912-e59d-db528f0afe2f"
      },
      "outputs": [
        {
          "output_type": "stream",
          "name": "stderr",
          "text": [
            "/usr/local/lib/python3.9/dist-packages/transformers/optimization.py:391: FutureWarning: This implementation of AdamW is deprecated and will be removed in a future version. Use the PyTorch implementation torch.optim.AdamW instead, or set `no_deprecation_warning=True` to disable this warning\n",
            "  warnings.warn(\n"
          ]
        },
        {
          "output_type": "stream",
          "name": "stdout",
          "text": [
            "{'loss': 0.6895, 'learning_rate': 1.0000000000000002e-06, 'epoch': 0.1}\n",
            "{'loss': 0.6929, 'learning_rate': 2.0000000000000003e-06, 'epoch': 0.2}\n",
            "{'loss': 0.6891, 'learning_rate': 3e-06, 'epoch': 0.3}\n",
            "{'loss': 0.6862, 'learning_rate': 4.000000000000001e-06, 'epoch': 0.4}\n",
            "{'loss': 0.6732, 'learning_rate': 5e-06, 'epoch': 0.5}\n",
            "{'loss': 0.6507, 'learning_rate': 6e-06, 'epoch': 0.6}\n",
            "{'loss': 0.6212, 'learning_rate': 7.000000000000001e-06, 'epoch': 0.7}\n",
            "{'loss': 0.5986, 'learning_rate': 8.000000000000001e-06, 'epoch': 0.8}\n",
            "{'loss': 0.6426, 'learning_rate': 9e-06, 'epoch': 0.9}\n",
            "{'loss': 0.5539, 'learning_rate': 1e-05, 'epoch': 1.0}\n",
            "{'loss': 0.5569, 'learning_rate': 1.1000000000000001e-05, 'epoch': 1.1}\n",
            "{'loss': 0.5534, 'learning_rate': 1.2e-05, 'epoch': 1.2}\n",
            "{'loss': 0.5544, 'learning_rate': 1.3000000000000001e-05, 'epoch': 1.3}\n",
            "{'loss': 0.5506, 'learning_rate': 1.4000000000000001e-05, 'epoch': 1.4}\n",
            "{'loss': 0.5215, 'learning_rate': 1.5e-05, 'epoch': 1.5}\n",
            "{'loss': 0.4386, 'learning_rate': 1.6000000000000003e-05, 'epoch': 1.6}\n",
            "{'loss': 0.5829, 'learning_rate': 1.7000000000000003e-05, 'epoch': 1.7}\n",
            "{'loss': 0.5704, 'learning_rate': 1.8e-05, 'epoch': 1.8}\n",
            "{'loss': 0.5329, 'learning_rate': 1.9e-05, 'epoch': 1.9}\n",
            "{'loss': 0.5495, 'learning_rate': 2e-05, 'epoch': 2.0}\n",
            "{'loss': 0.5373, 'learning_rate': 2.1e-05, 'epoch': 2.1}\n",
            "{'loss': 0.5026, 'learning_rate': 2.2000000000000003e-05, 'epoch': 2.2}\n",
            "{'loss': 0.4344, 'learning_rate': 2.3000000000000003e-05, 'epoch': 2.3}\n",
            "{'loss': 0.4895, 'learning_rate': 2.4e-05, 'epoch': 2.4}\n",
            "{'loss': 0.5225, 'learning_rate': 2.5e-05, 'epoch': 2.5}\n",
            "{'loss': 0.4435, 'learning_rate': 2.6000000000000002e-05, 'epoch': 2.6}\n",
            "{'loss': 0.5, 'learning_rate': 2.7000000000000002e-05, 'epoch': 2.7}\n",
            "{'loss': 0.493, 'learning_rate': 2.8000000000000003e-05, 'epoch': 2.8}\n",
            "{'loss': 0.5615, 'learning_rate': 2.9e-05, 'epoch': 2.9}\n",
            "{'loss': 0.5277, 'learning_rate': 3e-05, 'epoch': 3.0}\n",
            "{'train_runtime': 254.7882, 'train_samples_per_second': 18.839, 'train_steps_per_second': 1.177, 'train_loss': 0.5640222454071044, 'epoch': 3.0}\n"
          ]
        },
        {
          "output_type": "execute_result",
          "data": {
            "text/plain": [
              "TrainOutput(global_step=300, training_loss=0.5640222454071044, metrics={'train_runtime': 254.7882, 'train_samples_per_second': 18.839, 'train_steps_per_second': 1.177, 'train_loss': 0.5640222454071044, 'epoch': 3.0})"
            ]
          },
          "metadata": {},
          "execution_count": 23
        },
        {
          "output_type": "stream",
          "name": "stdout",
          "text": [
            "time: 4min 15s (started: 2023-04-18 18:13:27 +00:00)\n"
          ]
        }
      ],
      "source": [
        "from transformers import DistilBertForSequenceClassification, Trainer, TrainingArguments\n",
        "\n",
        "training_args = TrainingArguments(\n",
        "    output_dir='results',          # output directory\n",
        "    num_train_epochs=3,              # total number of training epochs\n",
        "    per_device_train_batch_size=16,  # batch size per device during training\n",
        "    per_device_eval_batch_size=64,   # batch size for evaluation\n",
        "    warmup_steps=500,                # number of warmup steps for learning rate scheduler\n",
        "    weight_decay=0.001,               # strength of weight decay\n",
        "    logging_dir='logs',            # directory for storing logs\n",
        "    logging_steps=10,\n",
        ")\n",
        "\n",
        "model = DistilBertForSequenceClassification.from_pretrained(\"distilbert-base-uncased\")\n",
        "\n",
        "trainer = Trainer(\n",
        "    model=model,                         # the instantiated 🤗 Transformers model to be trained\n",
        "    args=training_args,                  # training arguments, defined above\n",
        "    train_dataset=train_dataset,         # training dataset\n",
        "    eval_dataset=val_dataset             # evaluation dataset\n",
        ")\n",
        "\n",
        "trainer.train()"
      ]
    },
    {
      "cell_type": "code",
      "execution_count": 24,
      "metadata": {
        "colab": {
          "base_uri": "https://localhost:8080/"
        },
        "id": "UQjIpj5jfe2F",
        "outputId": "4f7cf658-7b9a-46fa-c5b5-7d85a90a963c"
      },
      "outputs": [
        {
          "output_type": "stream",
          "name": "stdout",
          "text": [
            "                  precision    recall  f1-score   support\n",
            "\n",
            "non-conservative       0.62      0.89      0.73      1000\n",
            "    conservative       0.81      0.45      0.58      1000\n",
            "\n",
            "        accuracy                           0.67      2000\n",
            "       macro avg       0.71      0.67      0.65      2000\n",
            "    weighted avg       0.71      0.67      0.65      2000\n",
            "\n",
            "time: 1min 11s (started: 2023-04-18 18:17:42 +00:00)\n"
          ]
        }
      ],
      "source": [
        "predicted_labels = [model(**tokenizer(kmer, return_tensors=\"pt\")).logits.argmax().item() for kmer in test_texts]\n",
        "target_names = ['non-conservative', 'conservative']\n",
        "print(classification_report(test_labels, predicted_labels, target_names=target_names))"
      ]
    },
    {
      "cell_type": "code",
      "execution_count": 25,
      "metadata": {
        "colab": {
          "base_uri": "https://localhost:8080/"
        },
        "id": "3tT62LMofi4f",
        "outputId": "d21f044b-5ec0-440a-8b83-2b43f06f0446"
      },
      "outputs": [
        {
          "output_type": "stream",
          "name": "stderr",
          "text": [
            "/usr/local/lib/python3.9/dist-packages/transformers/optimization.py:391: FutureWarning: This implementation of AdamW is deprecated and will be removed in a future version. Use the PyTorch implementation torch.optim.AdamW instead, or set `no_deprecation_warning=True` to disable this warning\n",
            "  warnings.warn(\n"
          ]
        },
        {
          "output_type": "stream",
          "name": "stdout",
          "text": [
            "{'loss': 0.6891, 'learning_rate': 5e-06, 'epoch': 0.1}\n",
            "{'loss': 0.6886, 'learning_rate': 1e-05, 'epoch': 0.2}\n",
            "{'loss': 0.6579, 'learning_rate': 1.5e-05, 'epoch': 0.3}\n",
            "{'loss': 0.6369, 'learning_rate': 2e-05, 'epoch': 0.4}\n",
            "{'loss': 0.5711, 'learning_rate': 2.5e-05, 'epoch': 0.5}\n",
            "{'loss': 0.5072, 'learning_rate': 3e-05, 'epoch': 0.6}\n",
            "{'loss': 0.5284, 'learning_rate': 3.5e-05, 'epoch': 0.7}\n",
            "{'loss': 0.5448, 'learning_rate': 4e-05, 'epoch': 0.8}\n",
            "{'loss': 0.6148, 'learning_rate': 4.5e-05, 'epoch': 0.9}\n",
            "{'loss': 0.5472, 'learning_rate': 5e-05, 'epoch': 1.0}\n",
            "{'loss': 0.5132, 'learning_rate': 4.75e-05, 'epoch': 1.1}\n",
            "{'loss': 0.5204, 'learning_rate': 4.5e-05, 'epoch': 1.2}\n",
            "{'loss': 0.5904, 'learning_rate': 4.25e-05, 'epoch': 1.3}\n",
            "{'loss': 0.5728, 'learning_rate': 4e-05, 'epoch': 1.4}\n",
            "{'loss': 0.4997, 'learning_rate': 3.7500000000000003e-05, 'epoch': 1.5}\n",
            "{'loss': 0.4023, 'learning_rate': 3.5e-05, 'epoch': 1.6}\n",
            "{'loss': 0.5583, 'learning_rate': 3.2500000000000004e-05, 'epoch': 1.7}\n",
            "{'loss': 0.5574, 'learning_rate': 3e-05, 'epoch': 1.8}\n",
            "{'loss': 0.5609, 'learning_rate': 2.7500000000000004e-05, 'epoch': 1.9}\n",
            "{'loss': 0.5114, 'learning_rate': 2.5e-05, 'epoch': 2.0}\n",
            "{'loss': 0.4588, 'learning_rate': 2.25e-05, 'epoch': 2.1}\n",
            "{'loss': 0.4665, 'learning_rate': 2e-05, 'epoch': 2.2}\n",
            "{'loss': 0.3554, 'learning_rate': 1.75e-05, 'epoch': 2.3}\n",
            "{'loss': 0.4422, 'learning_rate': 1.5e-05, 'epoch': 2.4}\n",
            "{'loss': 0.4288, 'learning_rate': 1.25e-05, 'epoch': 2.5}\n",
            "{'loss': 0.3854, 'learning_rate': 1e-05, 'epoch': 2.6}\n",
            "{'loss': 0.4335, 'learning_rate': 7.5e-06, 'epoch': 2.7}\n",
            "{'loss': 0.4251, 'learning_rate': 5e-06, 'epoch': 2.8}\n",
            "{'loss': 0.4805, 'learning_rate': 2.5e-06, 'epoch': 2.9}\n",
            "{'loss': 0.4213, 'learning_rate': 0.0, 'epoch': 3.0}\n",
            "{'train_runtime': 240.1011, 'train_samples_per_second': 19.992, 'train_steps_per_second': 1.249, 'train_loss': 0.5190047597885132, 'epoch': 3.0}\n"
          ]
        },
        {
          "output_type": "execute_result",
          "data": {
            "text/plain": [
              "TrainOutput(global_step=300, training_loss=0.5190047597885132, metrics={'train_runtime': 240.1011, 'train_samples_per_second': 19.992, 'train_steps_per_second': 1.249, 'train_loss': 0.5190047597885132, 'epoch': 3.0})"
            ]
          },
          "metadata": {},
          "execution_count": 25
        },
        {
          "output_type": "stream",
          "name": "stdout",
          "text": [
            "time: 4min (started: 2023-04-18 18:18:54 +00:00)\n"
          ]
        }
      ],
      "source": [
        "from transformers import DistilBertForSequenceClassification, Trainer, TrainingArguments\n",
        "\n",
        "training_args = TrainingArguments(\n",
        "    output_dir='results',          # output directory\n",
        "    num_train_epochs=3,              # total number of training epochs\n",
        "    per_device_train_batch_size=16,  # batch size per device during training\n",
        "    per_device_eval_batch_size=64,   # batch size for evaluation\n",
        "    warmup_steps=100,                # number of warmup steps for learning rate scheduler\n",
        "    weight_decay=0.01,               # strength of weight decay\n",
        "    logging_dir='logs',            # directory for storing logs\n",
        "    logging_steps=10,\n",
        ")\n",
        "\n",
        "model = DistilBertForSequenceClassification.from_pretrained(\"distilbert-base-uncased\")\n",
        "\n",
        "trainer = Trainer(\n",
        "    model=model,                         # the instantiated 🤗 Transformers model to be trained\n",
        "    args=training_args,                  # training arguments, defined above\n",
        "    train_dataset=train_dataset,         # training dataset\n",
        "    eval_dataset=val_dataset             # evaluation dataset\n",
        ")\n",
        "\n",
        "trainer.train()"
      ]
    },
    {
      "cell_type": "code",
      "execution_count": 26,
      "metadata": {
        "colab": {
          "base_uri": "https://localhost:8080/"
        },
        "id": "oJ9reNILfo4S",
        "outputId": "0b366b07-da6f-4f82-91a2-931510771afe"
      },
      "outputs": [
        {
          "output_type": "stream",
          "name": "stdout",
          "text": [
            "                  precision    recall  f1-score   support\n",
            "\n",
            "non-conservative       0.73      0.69      0.71      1000\n",
            "    conservative       0.70      0.74      0.72      1000\n",
            "\n",
            "        accuracy                           0.72      2000\n",
            "       macro avg       0.72      0.72      0.72      2000\n",
            "    weighted avg       0.72      0.72      0.72      2000\n",
            "\n",
            "time: 1min 12s (started: 2023-04-18 18:22:55 +00:00)\n"
          ]
        }
      ],
      "source": [
        "predicted_labels = [model(**tokenizer(kmer, return_tensors=\"pt\")).logits.argmax().item() for kmer in test_texts]\n",
        "target_names = ['non-conservative', 'conservative']\n",
        "print(classification_report(test_labels, predicted_labels, target_names=target_names))"
      ]
    },
    {
      "cell_type": "code",
      "execution_count": 27,
      "metadata": {
        "colab": {
          "base_uri": "https://localhost:8080/"
        },
        "id": "D7dFJcMkkNfS",
        "outputId": "cf6963c9-f8d8-46b6-e5f8-f3336fa1456f"
      },
      "outputs": [
        {
          "output_type": "stream",
          "name": "stderr",
          "text": [
            "/usr/local/lib/python3.9/dist-packages/transformers/optimization.py:391: FutureWarning: This implementation of AdamW is deprecated and will be removed in a future version. Use the PyTorch implementation torch.optim.AdamW instead, or set `no_deprecation_warning=True` to disable this warning\n",
            "  warnings.warn(\n"
          ]
        },
        {
          "output_type": "stream",
          "name": "stdout",
          "text": [
            "{'loss': 0.6846, 'learning_rate': 5e-05, 'epoch': 0.1}\n",
            "{'loss': 0.6285, 'learning_rate': 4.827586206896552e-05, 'epoch': 0.2}\n",
            "{'loss': 0.5502, 'learning_rate': 4.655172413793104e-05, 'epoch': 0.3}\n",
            "{'loss': 0.591, 'learning_rate': 4.482758620689655e-05, 'epoch': 0.4}\n",
            "{'loss': 0.5014, 'learning_rate': 4.3103448275862066e-05, 'epoch': 0.5}\n",
            "{'loss': 0.508, 'learning_rate': 4.1379310344827587e-05, 'epoch': 0.6}\n",
            "{'loss': 0.5528, 'learning_rate': 3.965517241379311e-05, 'epoch': 0.7}\n",
            "{'loss': 0.5511, 'learning_rate': 3.793103448275862e-05, 'epoch': 0.8}\n",
            "{'loss': 0.6388, 'learning_rate': 3.620689655172414e-05, 'epoch': 0.9}\n",
            "{'loss': 0.5513, 'learning_rate': 3.4482758620689657e-05, 'epoch': 1.0}\n",
            "{'loss': 0.4849, 'learning_rate': 3.275862068965517e-05, 'epoch': 1.1}\n",
            "{'loss': 0.5414, 'learning_rate': 3.103448275862069e-05, 'epoch': 1.2}\n",
            "{'loss': 0.5018, 'learning_rate': 2.9310344827586206e-05, 'epoch': 1.3}\n",
            "{'loss': 0.4902, 'learning_rate': 2.7586206896551727e-05, 'epoch': 1.4}\n",
            "{'loss': 0.4533, 'learning_rate': 2.5862068965517244e-05, 'epoch': 1.5}\n",
            "{'loss': 0.3816, 'learning_rate': 2.413793103448276e-05, 'epoch': 1.6}\n",
            "{'loss': 0.5369, 'learning_rate': 2.2413793103448276e-05, 'epoch': 1.7}\n",
            "{'loss': 0.5135, 'learning_rate': 2.0689655172413793e-05, 'epoch': 1.8}\n",
            "{'loss': 0.5102, 'learning_rate': 1.896551724137931e-05, 'epoch': 1.9}\n",
            "{'loss': 0.4877, 'learning_rate': 1.7241379310344828e-05, 'epoch': 2.0}\n",
            "{'loss': 0.4346, 'learning_rate': 1.5517241379310346e-05, 'epoch': 2.1}\n",
            "{'loss': 0.4327, 'learning_rate': 1.3793103448275863e-05, 'epoch': 2.2}\n",
            "{'loss': 0.3239, 'learning_rate': 1.206896551724138e-05, 'epoch': 2.3}\n",
            "{'loss': 0.4426, 'learning_rate': 1.0344827586206897e-05, 'epoch': 2.4}\n",
            "{'loss': 0.4232, 'learning_rate': 8.620689655172414e-06, 'epoch': 2.5}\n",
            "{'loss': 0.3812, 'learning_rate': 6.896551724137932e-06, 'epoch': 2.6}\n",
            "{'loss': 0.445, 'learning_rate': 5.172413793103448e-06, 'epoch': 2.7}\n",
            "{'loss': 0.4139, 'learning_rate': 3.448275862068966e-06, 'epoch': 2.8}\n",
            "{'loss': 0.4879, 'learning_rate': 1.724137931034483e-06, 'epoch': 2.9}\n",
            "{'loss': 0.4193, 'learning_rate': 0.0, 'epoch': 3.0}\n",
            "{'train_runtime': 256.2142, 'train_samples_per_second': 18.734, 'train_steps_per_second': 1.171, 'train_loss': 0.4954576206207275, 'epoch': 3.0}\n"
          ]
        },
        {
          "output_type": "execute_result",
          "data": {
            "text/plain": [
              "TrainOutput(global_step=300, training_loss=0.4954576206207275, metrics={'train_runtime': 256.2142, 'train_samples_per_second': 18.734, 'train_steps_per_second': 1.171, 'train_loss': 0.4954576206207275, 'epoch': 3.0})"
            ]
          },
          "metadata": {},
          "execution_count": 27
        },
        {
          "output_type": "stream",
          "name": "stdout",
          "text": [
            "time: 4min 16s (started: 2023-04-18 18:24:07 +00:00)\n"
          ]
        }
      ],
      "source": [
        "from transformers import DistilBertForSequenceClassification, Trainer, TrainingArguments\n",
        "\n",
        "training_args = TrainingArguments(\n",
        "    output_dir='results',          # output directory\n",
        "    num_train_epochs=3,              # total number of training epochs\n",
        "    per_device_train_batch_size=16,  # batch size per device during training\n",
        "    per_device_eval_batch_size=64,   # batch size for evaluation\n",
        "    warmup_steps=10,                # number of warmup steps for learning rate scheduler\n",
        "    weight_decay=0.1,               # strength of weight decay\n",
        "    logging_dir='logs',            # directory for storing logs\n",
        "    logging_steps=10,\n",
        ")\n",
        "\n",
        "model = DistilBertForSequenceClassification.from_pretrained(\"distilbert-base-uncased\")\n",
        "\n",
        "trainer = Trainer(\n",
        "    model=model,                         # the instantiated 🤗 Transformers model to be trained\n",
        "    args=training_args,                  # training arguments, defined above\n",
        "    train_dataset=train_dataset,         # training dataset\n",
        "    eval_dataset=val_dataset             # evaluation dataset\n",
        ")\n",
        "\n",
        "trainer.train()"
      ]
    },
    {
      "cell_type": "code",
      "execution_count": 28,
      "metadata": {
        "colab": {
          "base_uri": "https://localhost:8080/"
        },
        "id": "Xvt_6dEXkSNb",
        "outputId": "d3a7eb06-c0cc-4b80-8af3-89df5d03906a"
      },
      "outputs": [
        {
          "output_type": "stream",
          "name": "stdout",
          "text": [
            "                  precision    recall  f1-score   support\n",
            "\n",
            "non-conservative       0.71      0.72      0.71      1000\n",
            "    conservative       0.71      0.70      0.71      1000\n",
            "\n",
            "        accuracy                           0.71      2000\n",
            "       macro avg       0.71      0.71      0.71      2000\n",
            "    weighted avg       0.71      0.71      0.71      2000\n",
            "\n",
            "time: 1min 11s (started: 2023-04-18 18:28:24 +00:00)\n"
          ]
        }
      ],
      "source": [
        "predicted_labels = [model(**tokenizer(kmer, return_tensors=\"pt\")).logits.argmax().item() for kmer in test_texts]\n",
        "target_names = ['non-conservative', 'conservative']\n",
        "print(classification_report(test_labels, predicted_labels, target_names=target_names))"
      ]
    },
    {
      "cell_type": "code",
      "execution_count": 29,
      "metadata": {
        "colab": {
          "base_uri": "https://localhost:8080/"
        },
        "id": "dY-zpL-ukzTq",
        "outputId": "cd945341-de6a-4ea8-9c5e-1aeec79c9c7b"
      },
      "outputs": [
        {
          "output_type": "stream",
          "name": "stderr",
          "text": [
            "/usr/local/lib/python3.9/dist-packages/transformers/optimization.py:391: FutureWarning: This implementation of AdamW is deprecated and will be removed in a future version. Use the PyTorch implementation torch.optim.AdamW instead, or set `no_deprecation_warning=True` to disable this warning\n",
            "  warnings.warn(\n"
          ]
        },
        {
          "output_type": "stream",
          "name": "stdout",
          "text": [
            "{'loss': 0.6843, 'learning_rate': 5e-05, 'epoch': 0.2}\n",
            "{'loss': 0.5954, 'learning_rate': 4.642857142857143e-05, 'epoch': 0.4}\n",
            "{'loss': 0.5015, 'learning_rate': 4.2857142857142856e-05, 'epoch': 0.6}\n",
            "{'loss': 0.5663, 'learning_rate': 3.928571428571429e-05, 'epoch': 0.8}\n",
            "{'loss': 0.5658, 'learning_rate': 3.571428571428572e-05, 'epoch': 1.0}\n",
            "{'loss': 0.5469, 'learning_rate': 3.2142857142857144e-05, 'epoch': 1.2}\n",
            "{'loss': 0.5087, 'learning_rate': 2.857142857142857e-05, 'epoch': 1.4}\n",
            "{'loss': 0.4089, 'learning_rate': 2.5e-05, 'epoch': 1.6}\n",
            "{'loss': 0.5494, 'learning_rate': 2.1428571428571428e-05, 'epoch': 1.8}\n",
            "{'loss': 0.4936, 'learning_rate': 1.785714285714286e-05, 'epoch': 2.0}\n",
            "{'loss': 0.4766, 'learning_rate': 1.4285714285714285e-05, 'epoch': 2.2}\n",
            "{'loss': 0.4098, 'learning_rate': 1.0714285714285714e-05, 'epoch': 2.4}\n",
            "{'loss': 0.4168, 'learning_rate': 7.142857142857143e-06, 'epoch': 2.6}\n",
            "{'loss': 0.4477, 'learning_rate': 3.5714285714285714e-06, 'epoch': 2.8}\n",
            "{'loss': 0.4511, 'learning_rate': 0.0, 'epoch': 3.0}\n",
            "{'train_runtime': 185.7907, 'train_samples_per_second': 25.836, 'train_steps_per_second': 0.807, 'train_loss': 0.5081844520568848, 'epoch': 3.0}\n"
          ]
        },
        {
          "output_type": "execute_result",
          "data": {
            "text/plain": [
              "TrainOutput(global_step=150, training_loss=0.5081844520568848, metrics={'train_runtime': 185.7907, 'train_samples_per_second': 25.836, 'train_steps_per_second': 0.807, 'train_loss': 0.5081844520568848, 'epoch': 3.0})"
            ]
          },
          "metadata": {},
          "execution_count": 29
        },
        {
          "output_type": "stream",
          "name": "stdout",
          "text": [
            "time: 3min 6s (started: 2023-04-18 18:29:35 +00:00)\n"
          ]
        }
      ],
      "source": [
        "from transformers import DistilBertForSequenceClassification, Trainer, TrainingArguments\n",
        "\n",
        "training_args = TrainingArguments(\n",
        "    output_dir='results',          # output directory\n",
        "    num_train_epochs=3,              # total number of training epochs\n",
        "    per_device_train_batch_size=32,  # batch size per device during training\n",
        "    per_device_eval_batch_size=64,   # batch size for evaluation\n",
        "    warmup_steps=10,                # number of warmup steps for learning rate scheduler\n",
        "    weight_decay=0.1,               # strength of weight decay\n",
        "    logging_dir='logs',            # directory for storing logs\n",
        "    logging_steps=10,\n",
        ")\n",
        "\n",
        "model = DistilBertForSequenceClassification.from_pretrained(\"distilbert-base-uncased\")\n",
        "\n",
        "trainer = Trainer(\n",
        "    model=model,                         # the instantiated 🤗 Transformers model to be trained\n",
        "    args=training_args,                  # training arguments, defined above\n",
        "    train_dataset=train_dataset,         # training dataset\n",
        "    eval_dataset=val_dataset             # evaluation dataset\n",
        ")\n",
        "\n",
        "trainer.train()"
      ]
    },
    {
      "cell_type": "code",
      "execution_count": 30,
      "metadata": {
        "colab": {
          "base_uri": "https://localhost:8080/"
        },
        "id": "yFmZHBGSk0kj",
        "outputId": "48cc0a8c-5dad-42c5-c138-cfa11579cf0e"
      },
      "outputs": [
        {
          "output_type": "stream",
          "name": "stdout",
          "text": [
            "                  precision    recall  f1-score   support\n",
            "\n",
            "non-conservative       0.70      0.74      0.72      1000\n",
            "    conservative       0.72      0.69      0.71      1000\n",
            "\n",
            "        accuracy                           0.71      2000\n",
            "       macro avg       0.71      0.71      0.71      2000\n",
            "    weighted avg       0.71      0.71      0.71      2000\n",
            "\n",
            "time: 1min 11s (started: 2023-04-18 18:32:41 +00:00)\n"
          ]
        }
      ],
      "source": [
        "predicted_labels = [model(**tokenizer(kmer, return_tensors=\"pt\")).logits.argmax().item() for kmer in test_texts]\n",
        "target_names = ['non-conservative', 'conservative']\n",
        "print(classification_report(test_labels, predicted_labels, target_names=target_names))"
      ]
    },
    {
      "cell_type": "code",
      "execution_count": 31,
      "metadata": {
        "colab": {
          "base_uri": "https://localhost:8080/"
        },
        "id": "fdo3fy7zk3GE",
        "outputId": "65805202-da04-445d-f2e2-37b7ed38bf0e"
      },
      "outputs": [
        {
          "output_type": "stream",
          "name": "stderr",
          "text": [
            "/usr/local/lib/python3.9/dist-packages/transformers/optimization.py:391: FutureWarning: This implementation of AdamW is deprecated and will be removed in a future version. Use the PyTorch implementation torch.optim.AdamW instead, or set `no_deprecation_warning=True` to disable this warning\n",
            "  warnings.warn(\n"
          ]
        },
        {
          "output_type": "stream",
          "name": "stdout",
          "text": [
            "{'loss': 0.6895, 'learning_rate': 5e-05, 'epoch': 0.1}\n",
            "{'loss': 0.6465, 'learning_rate': 4.89795918367347e-05, 'epoch': 0.2}\n",
            "{'loss': 0.5652, 'learning_rate': 4.795918367346939e-05, 'epoch': 0.3}\n",
            "{'loss': 0.5972, 'learning_rate': 4.6938775510204086e-05, 'epoch': 0.4}\n",
            "{'loss': 0.558, 'learning_rate': 4.591836734693878e-05, 'epoch': 0.5}\n",
            "{'loss': 0.4867, 'learning_rate': 4.4897959183673474e-05, 'epoch': 0.6}\n",
            "{'loss': 0.57, 'learning_rate': 4.387755102040816e-05, 'epoch': 0.7}\n",
            "{'loss': 0.6171, 'learning_rate': 4.2857142857142856e-05, 'epoch': 0.8}\n",
            "{'loss': 0.6352, 'learning_rate': 4.183673469387756e-05, 'epoch': 0.9}\n",
            "{'loss': 0.5284, 'learning_rate': 4.0816326530612245e-05, 'epoch': 1.0}\n",
            "{'loss': 0.5405, 'learning_rate': 3.979591836734694e-05, 'epoch': 1.1}\n",
            "{'loss': 0.5432, 'learning_rate': 3.8775510204081634e-05, 'epoch': 1.2}\n",
            "{'loss': 0.5384, 'learning_rate': 3.775510204081633e-05, 'epoch': 1.3}\n",
            "{'loss': 0.5529, 'learning_rate': 3.673469387755102e-05, 'epoch': 1.4}\n",
            "{'loss': 0.4774, 'learning_rate': 3.571428571428572e-05, 'epoch': 1.5}\n",
            "{'loss': 0.3781, 'learning_rate': 3.469387755102041e-05, 'epoch': 1.6}\n",
            "{'loss': 0.5747, 'learning_rate': 3.36734693877551e-05, 'epoch': 1.7}\n",
            "{'loss': 0.5417, 'learning_rate': 3.265306122448979e-05, 'epoch': 1.8}\n",
            "{'loss': 0.5156, 'learning_rate': 3.1632653061224494e-05, 'epoch': 1.9}\n",
            "{'loss': 0.48, 'learning_rate': 3.061224489795919e-05, 'epoch': 2.0}\n",
            "{'loss': 0.4534, 'learning_rate': 2.959183673469388e-05, 'epoch': 2.1}\n",
            "{'loss': 0.4836, 'learning_rate': 2.857142857142857e-05, 'epoch': 2.2}\n",
            "{'loss': 0.3397, 'learning_rate': 2.7551020408163265e-05, 'epoch': 2.3}\n",
            "{'loss': 0.4118, 'learning_rate': 2.6530612244897963e-05, 'epoch': 2.4}\n",
            "{'loss': 0.4156, 'learning_rate': 2.5510204081632654e-05, 'epoch': 2.5}\n",
            "{'loss': 0.3617, 'learning_rate': 2.448979591836735e-05, 'epoch': 2.6}\n",
            "{'loss': 0.4192, 'learning_rate': 2.3469387755102043e-05, 'epoch': 2.7}\n",
            "{'loss': 0.4065, 'learning_rate': 2.2448979591836737e-05, 'epoch': 2.8}\n",
            "{'loss': 0.5034, 'learning_rate': 2.1428571428571428e-05, 'epoch': 2.9}\n",
            "{'loss': 0.4112, 'learning_rate': 2.0408163265306123e-05, 'epoch': 3.0}\n",
            "{'loss': 0.3189, 'learning_rate': 1.9387755102040817e-05, 'epoch': 3.1}\n",
            "{'loss': 0.3815, 'learning_rate': 1.836734693877551e-05, 'epoch': 3.2}\n",
            "{'loss': 0.3982, 'learning_rate': 1.7346938775510206e-05, 'epoch': 3.3}\n",
            "{'loss': 0.3571, 'learning_rate': 1.6326530612244897e-05, 'epoch': 3.4}\n",
            "{'loss': 0.322, 'learning_rate': 1.5306122448979594e-05, 'epoch': 3.5}\n",
            "{'loss': 0.3777, 'learning_rate': 1.4285714285714285e-05, 'epoch': 3.6}\n",
            "{'loss': 0.286, 'learning_rate': 1.3265306122448982e-05, 'epoch': 3.7}\n",
            "{'loss': 0.345, 'learning_rate': 1.2244897959183674e-05, 'epoch': 3.8}\n",
            "{'loss': 0.3066, 'learning_rate': 1.1224489795918369e-05, 'epoch': 3.9}\n",
            "{'loss': 0.2906, 'learning_rate': 1.0204081632653061e-05, 'epoch': 4.0}\n",
            "{'loss': 0.3352, 'learning_rate': 9.183673469387756e-06, 'epoch': 4.1}\n",
            "{'loss': 0.3078, 'learning_rate': 8.163265306122448e-06, 'epoch': 4.2}\n",
            "{'loss': 0.2844, 'learning_rate': 7.142857142857143e-06, 'epoch': 4.3}\n",
            "{'loss': 0.3261, 'learning_rate': 6.122448979591837e-06, 'epoch': 4.4}\n",
            "{'loss': 0.2064, 'learning_rate': 5.102040816326531e-06, 'epoch': 4.5}\n",
            "{'loss': 0.2552, 'learning_rate': 4.081632653061224e-06, 'epoch': 4.6}\n",
            "{'loss': 0.2489, 'learning_rate': 3.0612244897959185e-06, 'epoch': 4.7}\n",
            "{'loss': 0.287, 'learning_rate': 2.040816326530612e-06, 'epoch': 4.8}\n",
            "{'loss': 0.1968, 'learning_rate': 1.020408163265306e-06, 'epoch': 4.9}\n",
            "{'loss': 0.2306, 'learning_rate': 0.0, 'epoch': 5.0}\n",
            "{'train_runtime': 424.2447, 'train_samples_per_second': 18.857, 'train_steps_per_second': 1.179, 'train_loss': 0.42608152151107787, 'epoch': 5.0}\n"
          ]
        },
        {
          "output_type": "execute_result",
          "data": {
            "text/plain": [
              "TrainOutput(global_step=500, training_loss=0.42608152151107787, metrics={'train_runtime': 424.2447, 'train_samples_per_second': 18.857, 'train_steps_per_second': 1.179, 'train_loss': 0.42608152151107787, 'epoch': 5.0})"
            ]
          },
          "metadata": {},
          "execution_count": 31
        },
        {
          "output_type": "stream",
          "name": "stdout",
          "text": [
            "time: 7min 5s (started: 2023-04-18 18:33:53 +00:00)\n"
          ]
        }
      ],
      "source": [
        "from transformers import DistilBertForSequenceClassification, Trainer, TrainingArguments\n",
        "\n",
        "training_args = TrainingArguments(\n",
        "    output_dir='results',          # output directory\n",
        "    num_train_epochs=5,              # total number of training epochs\n",
        "    per_device_train_batch_size=16,  # batch size per device during training\n",
        "    per_device_eval_batch_size=64,   # batch size for evaluation\n",
        "    warmup_steps=10,                # number of warmup steps for learning rate scheduler\n",
        "    weight_decay=0.01,               # strength of weight decay\n",
        "    logging_dir='logs',            # directory for storing logs\n",
        "    logging_steps=10,\n",
        ")\n",
        "\n",
        "model = DistilBertForSequenceClassification.from_pretrained(\"distilbert-base-uncased\")\n",
        "\n",
        "trainer = Trainer(\n",
        "    model=model,                         # the instantiated 🤗 Transformers model to be trained\n",
        "    args=training_args,                  # training arguments, defined above\n",
        "    train_dataset=train_dataset,         # training dataset\n",
        "    eval_dataset=val_dataset             # evaluation dataset\n",
        ")\n",
        "\n",
        "trainer.train()"
      ]
    },
    {
      "cell_type": "code",
      "execution_count": 32,
      "metadata": {
        "colab": {
          "base_uri": "https://localhost:8080/"
        },
        "id": "pJ5AnK1ak1C9",
        "outputId": "50f70675-d851-4bb9-974e-28ba3ba32669"
      },
      "outputs": [
        {
          "output_type": "stream",
          "name": "stdout",
          "text": [
            "                  precision    recall  f1-score   support\n",
            "\n",
            "non-conservative       0.71      0.74      0.73      1000\n",
            "    conservative       0.73      0.70      0.72      1000\n",
            "\n",
            "        accuracy                           0.72      2000\n",
            "       macro avg       0.72      0.72      0.72      2000\n",
            "    weighted avg       0.72      0.72      0.72      2000\n",
            "\n",
            "time: 1min 13s (started: 2023-04-18 18:40:58 +00:00)\n"
          ]
        }
      ],
      "source": [
        "predicted_labels = [model(**tokenizer(kmer, return_tensors=\"pt\")).logits.argmax().item() for kmer in test_texts]\n",
        "target_names = ['non-conservative', 'conservative']\n",
        "print(classification_report(test_labels, predicted_labels, target_names=target_names))"
      ]
    },
    {
      "cell_type": "code",
      "execution_count": 33,
      "metadata": {
        "colab": {
          "base_uri": "https://localhost:8080/"
        },
        "id": "awyCs2z_k37D",
        "outputId": "f98511c6-cbd3-46ae-a51a-9eb6fd805c40"
      },
      "outputs": [
        {
          "output_type": "stream",
          "name": "stderr",
          "text": [
            "/usr/local/lib/python3.9/dist-packages/transformers/optimization.py:391: FutureWarning: This implementation of AdamW is deprecated and will be removed in a future version. Use the PyTorch implementation torch.optim.AdamW instead, or set `no_deprecation_warning=True` to disable this warning\n",
            "  warnings.warn(\n"
          ]
        },
        {
          "output_type": "stream",
          "name": "stdout",
          "text": [
            "{'loss': 0.6917, 'learning_rate': 5e-05, 'epoch': 0.1}\n",
            "{'loss': 0.624, 'learning_rate': 4.827586206896552e-05, 'epoch': 0.2}\n",
            "{'loss': 0.5604, 'learning_rate': 4.655172413793104e-05, 'epoch': 0.3}\n",
            "{'loss': 0.6063, 'learning_rate': 4.482758620689655e-05, 'epoch': 0.4}\n",
            "{'loss': 0.5146, 'learning_rate': 4.3103448275862066e-05, 'epoch': 0.5}\n",
            "{'loss': 0.4886, 'learning_rate': 4.1379310344827587e-05, 'epoch': 0.6}\n",
            "{'loss': 0.5358, 'learning_rate': 3.965517241379311e-05, 'epoch': 0.7}\n",
            "{'loss': 0.5449, 'learning_rate': 3.793103448275862e-05, 'epoch': 0.8}\n",
            "{'loss': 0.6241, 'learning_rate': 3.620689655172414e-05, 'epoch': 0.9}\n",
            "{'loss': 0.5385, 'learning_rate': 3.4482758620689657e-05, 'epoch': 1.0}\n",
            "{'loss': 0.4995, 'learning_rate': 3.275862068965517e-05, 'epoch': 1.1}\n",
            "{'loss': 0.5613, 'learning_rate': 3.103448275862069e-05, 'epoch': 1.2}\n",
            "{'loss': 0.5209, 'learning_rate': 2.9310344827586206e-05, 'epoch': 1.3}\n",
            "{'loss': 0.5237, 'learning_rate': 2.7586206896551727e-05, 'epoch': 1.4}\n",
            "{'loss': 0.4598, 'learning_rate': 2.5862068965517244e-05, 'epoch': 1.5}\n",
            "{'loss': 0.3764, 'learning_rate': 2.413793103448276e-05, 'epoch': 1.6}\n",
            "{'loss': 0.5547, 'learning_rate': 2.2413793103448276e-05, 'epoch': 1.7}\n",
            "{'loss': 0.5316, 'learning_rate': 2.0689655172413793e-05, 'epoch': 1.8}\n",
            "{'loss': 0.5247, 'learning_rate': 1.896551724137931e-05, 'epoch': 1.9}\n",
            "{'loss': 0.4866, 'learning_rate': 1.7241379310344828e-05, 'epoch': 2.0}\n",
            "{'loss': 0.4642, 'learning_rate': 1.5517241379310346e-05, 'epoch': 2.1}\n",
            "{'loss': 0.4759, 'learning_rate': 1.3793103448275863e-05, 'epoch': 2.2}\n",
            "{'loss': 0.3699, 'learning_rate': 1.206896551724138e-05, 'epoch': 2.3}\n",
            "{'loss': 0.4232, 'learning_rate': 1.0344827586206897e-05, 'epoch': 2.4}\n",
            "{'loss': 0.4109, 'learning_rate': 8.620689655172414e-06, 'epoch': 2.5}\n",
            "{'loss': 0.3848, 'learning_rate': 6.896551724137932e-06, 'epoch': 2.6}\n",
            "{'loss': 0.4244, 'learning_rate': 5.172413793103448e-06, 'epoch': 2.7}\n",
            "{'loss': 0.4551, 'learning_rate': 3.448275862068966e-06, 'epoch': 2.8}\n",
            "{'loss': 0.508, 'learning_rate': 1.724137931034483e-06, 'epoch': 2.9}\n",
            "{'loss': 0.4178, 'learning_rate': 0.0, 'epoch': 3.0}\n",
            "{'train_runtime': 237.6521, 'train_samples_per_second': 20.198, 'train_steps_per_second': 1.262, 'train_loss': 0.5034126869837443, 'epoch': 3.0}\n"
          ]
        },
        {
          "output_type": "execute_result",
          "data": {
            "text/plain": [
              "TrainOutput(global_step=300, training_loss=0.5034126869837443, metrics={'train_runtime': 237.6521, 'train_samples_per_second': 20.198, 'train_steps_per_second': 1.262, 'train_loss': 0.5034126869837443, 'epoch': 3.0})"
            ]
          },
          "metadata": {},
          "execution_count": 33
        },
        {
          "output_type": "stream",
          "name": "stdout",
          "text": [
            "time: 3min 58s (started: 2023-04-18 18:42:12 +00:00)\n"
          ]
        }
      ],
      "source": [
        "from transformers import DistilBertForSequenceClassification, Trainer, TrainingArguments\n",
        "\n",
        "training_args = TrainingArguments(\n",
        "    output_dir='results',          # output directory\n",
        "    num_train_epochs=3,              # total number of training epochs\n",
        "    per_device_train_batch_size=16,  # batch size per device during training\n",
        "    per_device_eval_batch_size=16,   # batch size for evaluation\n",
        "    warmup_steps=10,                # number of warmup steps for learning rate scheduler\n",
        "    weight_decay=0.01,               # strength of weight decay\n",
        "    logging_dir='logs',            # directory for storing logs\n",
        "    logging_steps=10,\n",
        ")\n",
        "\n",
        "model = DistilBertForSequenceClassification.from_pretrained(\"distilbert-base-uncased\")\n",
        "\n",
        "trainer = Trainer(\n",
        "    model=model,                         # the instantiated 🤗 Transformers model to be trained\n",
        "    args=training_args,                  # training arguments, defined above\n",
        "    train_dataset=train_dataset,         # training dataset\n",
        "    eval_dataset=val_dataset             # evaluation dataset\n",
        ")\n",
        "\n",
        "trainer.train()"
      ]
    },
    {
      "cell_type": "code",
      "execution_count": 34,
      "metadata": {
        "colab": {
          "base_uri": "https://localhost:8080/"
        },
        "id": "LFvKxHchk1jY",
        "outputId": "8e1b0a5c-5607-4eba-9c15-656c259d3afb"
      },
      "outputs": [
        {
          "output_type": "stream",
          "name": "stdout",
          "text": [
            "                  precision    recall  f1-score   support\n",
            "\n",
            "non-conservative       0.72      0.70      0.71      1000\n",
            "    conservative       0.71      0.72      0.72      1000\n",
            "\n",
            "        accuracy                           0.71      2000\n",
            "       macro avg       0.71      0.71      0.71      2000\n",
            "    weighted avg       0.71      0.71      0.71      2000\n",
            "\n",
            "time: 1min 9s (started: 2023-04-18 18:46:10 +00:00)\n"
          ]
        }
      ],
      "source": [
        "predicted_labels = [model(**tokenizer(kmer, return_tensors=\"pt\")).logits.argmax().item() for kmer in test_texts]\n",
        "target_names = ['non-conservative', 'conservative']\n",
        "print(classification_report(test_labels, predicted_labels, target_names=target_names))"
      ]
    },
    {
      "cell_type": "markdown",
      "source": [
        "Параметры не сильно повлияли на качество модели. Попробуем другие модели"
      ],
      "metadata": {
        "id": "pX7g8dDihEWl"
      }
    },
    {
      "cell_type": "code",
      "execution_count": 36,
      "metadata": {
        "colab": {
          "base_uri": "https://localhost:8080/",
          "height": 130,
          "referenced_widgets": [
            "6faaa52bc66841caa188e4297f2ce9e4",
            "bdd77d544cde4777b972282b6a64422f",
            "32a011b8b36743be826f3fe3cd7c55b6",
            "a3cc973f5c714f09ae241e0ecfb1c027",
            "fa240777ed33420ca86b903c02af22f7",
            "16d0c24a4a824524a33484835fe18103",
            "0671e7859ae74d1e8bc9e917cc916dd1",
            "9dfd6283cb1242d2acb6bf21a66a66f4",
            "43c81ae46c99417f8401b3e0e3316d65",
            "2e37df14b9a04765bde2452adf726d47",
            "d91e9e121aab4e68b43348d1b0f2dd53",
            "0fa43e28178e41b38bd0f72e57190528",
            "b247eecc43f44966afd825c1883a0839",
            "dc9d7d39087c42f5872cc9275ddc39db",
            "ff9a2af4af9f4d43b95c33a61b4e8d51",
            "ae4e5afcbf414309a477821ad08da3e1",
            "4feff5ed3eec45bc963c5cd707f36b0a",
            "37e6547214e64648bf71cba2a2c397de",
            "d678549f26be4b59b56b64076cc1051c",
            "13794ff404094685978f9e6def2ee4a5",
            "acf0eca68d154435aed541aa9abe0881",
            "735be09cd58f4886a98a56cc98e95397",
            "72a1be6455cc494f855377ef80822103",
            "dbcada3836cd4dd6a8c052efc075dd2d",
            "112c799dbbc04ca68dc69b1b287c8688",
            "c7ff5fc1c85b424f85a801066b58eedc",
            "735e0b17bb2a45618e6232189bab9a81",
            "d949c0afb23b4d5abaa2c66eaeac8fac",
            "414784120d7a4fefae72587e470b7dc5",
            "18c27c24cdd04779b470957ccaaa98ff",
            "9e15157bc2fe41959a2ee7de7293e3e9",
            "6c10ce9682b14a40ac418698b26e959b",
            "d8ec8319431348059a06e790165e51ce"
          ]
        },
        "id": "uqvDWWZjA6IU",
        "outputId": "14ab2e25-137d-453c-d901-02b8e7f70e87"
      },
      "outputs": [
        {
          "output_type": "display_data",
          "data": {
            "text/plain": [
              "Downloading (…)okenizer_config.json:   0%|          | 0.00/28.0 [00:00<?, ?B/s]"
            ],
            "application/vnd.jupyter.widget-view+json": {
              "version_major": 2,
              "version_minor": 0,
              "model_id": "6faaa52bc66841caa188e4297f2ce9e4"
            }
          },
          "metadata": {}
        },
        {
          "output_type": "display_data",
          "data": {
            "text/plain": [
              "Downloading (…)solve/main/vocab.txt:   0%|          | 0.00/232k [00:00<?, ?B/s]"
            ],
            "application/vnd.jupyter.widget-view+json": {
              "version_major": 2,
              "version_minor": 0,
              "model_id": "0fa43e28178e41b38bd0f72e57190528"
            }
          },
          "metadata": {}
        },
        {
          "output_type": "display_data",
          "data": {
            "text/plain": [
              "Downloading (…)/main/tokenizer.json:   0%|          | 0.00/466k [00:00<?, ?B/s]"
            ],
            "application/vnd.jupyter.widget-view+json": {
              "version_major": 2,
              "version_minor": 0,
              "model_id": "72a1be6455cc494f855377ef80822103"
            }
          },
          "metadata": {}
        },
        {
          "output_type": "stream",
          "name": "stdout",
          "text": [
            "time: 1.21 s (started: 2023-04-18 18:47:53 +00:00)\n"
          ]
        }
      ],
      "source": [
        "from transformers import AutoTokenizer\n",
        "tokenizer = AutoTokenizer.from_pretrained(\"bert-base-uncased\")\n",
        "train_encodings = tokenizer(train_texts, truncation=True, padding=True)\n",
        "val_encodings = tokenizer(val_texts, truncation=True, padding=True)\n",
        "train_dataset = IMDbDataset(train_encodings, train_labels)\n",
        "val_dataset = IMDbDataset(val_encodings, val_labels)"
      ]
    },
    {
      "cell_type": "code",
      "execution_count": 37,
      "metadata": {
        "colab": {
          "base_uri": "https://localhost:8080/"
        },
        "id": "PA7naruIsx5W",
        "outputId": "7637cb2e-ed32-49b2-eb22-d97709af097a"
      },
      "outputs": [
        {
          "output_type": "stream",
          "name": "stderr",
          "text": [
            "/usr/local/lib/python3.9/dist-packages/transformers/optimization.py:391: FutureWarning: This implementation of AdamW is deprecated and will be removed in a future version. Use the PyTorch implementation torch.optim.AdamW instead, or set `no_deprecation_warning=True` to disable this warning\n",
            "  warnings.warn(\n"
          ]
        },
        {
          "output_type": "stream",
          "name": "stdout",
          "text": [
            "{'loss': 0.6516, 'learning_rate': 5e-05, 'epoch': 0.1}\n",
            "{'loss': 0.6181, 'learning_rate': 4.827586206896552e-05, 'epoch': 0.2}\n",
            "{'loss': 0.5916, 'learning_rate': 4.655172413793104e-05, 'epoch': 0.3}\n",
            "{'loss': 0.6622, 'learning_rate': 4.482758620689655e-05, 'epoch': 0.4}\n",
            "{'loss': 0.5254, 'learning_rate': 4.3103448275862066e-05, 'epoch': 0.5}\n",
            "{'loss': 0.553, 'learning_rate': 4.1379310344827587e-05, 'epoch': 0.6}\n",
            "{'loss': 0.5537, 'learning_rate': 3.965517241379311e-05, 'epoch': 0.7}\n",
            "{'loss': 0.5554, 'learning_rate': 3.793103448275862e-05, 'epoch': 0.8}\n",
            "{'loss': 0.5994, 'learning_rate': 3.620689655172414e-05, 'epoch': 0.9}\n",
            "{'loss': 0.5704, 'learning_rate': 3.4482758620689657e-05, 'epoch': 1.0}\n",
            "{'loss': 0.4963, 'learning_rate': 3.275862068965517e-05, 'epoch': 1.1}\n",
            "{'loss': 0.5456, 'learning_rate': 3.103448275862069e-05, 'epoch': 1.2}\n",
            "{'loss': 0.5666, 'learning_rate': 2.9310344827586206e-05, 'epoch': 1.3}\n",
            "{'loss': 0.541, 'learning_rate': 2.7586206896551727e-05, 'epoch': 1.4}\n",
            "{'loss': 0.481, 'learning_rate': 2.5862068965517244e-05, 'epoch': 1.5}\n",
            "{'loss': 0.3937, 'learning_rate': 2.413793103448276e-05, 'epoch': 1.6}\n",
            "{'loss': 0.5581, 'learning_rate': 2.2413793103448276e-05, 'epoch': 1.7}\n",
            "{'loss': 0.5127, 'learning_rate': 2.0689655172413793e-05, 'epoch': 1.8}\n",
            "{'loss': 0.546, 'learning_rate': 1.896551724137931e-05, 'epoch': 1.9}\n",
            "{'loss': 0.4862, 'learning_rate': 1.7241379310344828e-05, 'epoch': 2.0}\n",
            "{'loss': 0.4635, 'learning_rate': 1.5517241379310346e-05, 'epoch': 2.1}\n",
            "{'loss': 0.478, 'learning_rate': 1.3793103448275863e-05, 'epoch': 2.2}\n",
            "{'loss': 0.3524, 'learning_rate': 1.206896551724138e-05, 'epoch': 2.3}\n",
            "{'loss': 0.4069, 'learning_rate': 1.0344827586206897e-05, 'epoch': 2.4}\n",
            "{'loss': 0.4508, 'learning_rate': 8.620689655172414e-06, 'epoch': 2.5}\n",
            "{'loss': 0.4024, 'learning_rate': 6.896551724137932e-06, 'epoch': 2.6}\n",
            "{'loss': 0.4157, 'learning_rate': 5.172413793103448e-06, 'epoch': 2.7}\n",
            "{'loss': 0.4733, 'learning_rate': 3.448275862068966e-06, 'epoch': 2.8}\n",
            "{'loss': 0.4909, 'learning_rate': 1.724137931034483e-06, 'epoch': 2.9}\n",
            "{'loss': 0.4289, 'learning_rate': 0.0, 'epoch': 3.0}\n",
            "{'train_runtime': 508.3799, 'train_samples_per_second': 9.442, 'train_steps_per_second': 0.59, 'train_loss': 0.5123630452156067, 'epoch': 3.0}\n"
          ]
        },
        {
          "output_type": "execute_result",
          "data": {
            "text/plain": [
              "TrainOutput(global_step=300, training_loss=0.5123630452156067, metrics={'train_runtime': 508.3799, 'train_samples_per_second': 9.442, 'train_steps_per_second': 0.59, 'train_loss': 0.5123630452156067, 'epoch': 3.0})"
            ]
          },
          "metadata": {},
          "execution_count": 37
        },
        {
          "output_type": "stream",
          "name": "stdout",
          "text": [
            "time: 8min 30s (started: 2023-04-18 18:47:57 +00:00)\n"
          ]
        }
      ],
      "source": [
        "from transformers import BertForSequenceClassification, Trainer, TrainingArguments\n",
        "\n",
        "training_args = TrainingArguments(\n",
        "    output_dir='results',          # output directory\n",
        "    num_train_epochs=3,              # total number of training epochs\n",
        "    per_device_train_batch_size=16,  # batch size per device during training\n",
        "    per_device_eval_batch_size=64,   # batch size for evaluation\n",
        "    warmup_steps=10,                # number of warmup steps for learning rate scheduler\n",
        "    weight_decay=0.01,               # strength of weight decay\n",
        "    logging_dir='logs',            # directory for storing logs\n",
        "    logging_steps=10,\n",
        ")\n",
        "\n",
        "model = BertForSequenceClassification.from_pretrained(\"bert-base-uncased\")\n",
        "\n",
        "trainer = Trainer(\n",
        "    model=model,                         # the instantiated 🤗 Transformers model to be trained\n",
        "    args=training_args,                  # training arguments, defined above\n",
        "    train_dataset=train_dataset,         # training dataset\n",
        "    eval_dataset=val_dataset             # evaluation dataset\n",
        ")\n",
        "\n",
        "trainer.train()"
      ]
    },
    {
      "cell_type": "code",
      "execution_count": 38,
      "metadata": {
        "colab": {
          "base_uri": "https://localhost:8080/"
        },
        "id": "0HrlR4r83EmK",
        "outputId": "b26d38a7-c638-4920-ecfd-f15e5552d591"
      },
      "outputs": [
        {
          "output_type": "stream",
          "name": "stdout",
          "text": [
            "                  precision    recall  f1-score   support\n",
            "\n",
            "non-conservative       0.71      0.68      0.70      1000\n",
            "    conservative       0.69      0.72      0.71      1000\n",
            "\n",
            "        accuracy                           0.70      2000\n",
            "       macro avg       0.70      0.70      0.70      2000\n",
            "    weighted avg       0.70      0.70      0.70      2000\n",
            "\n",
            "time: 2min 38s (started: 2023-04-18 18:56:27 +00:00)\n"
          ]
        }
      ],
      "source": [
        "from sklearn.metrics import classification_report\n",
        "\n",
        "predicted_labels = [model(**tokenizer(kmer, return_tensors=\"pt\")).logits.argmax().item() for kmer in test_texts]\n",
        "target_names = ['non-conservative', 'conservative']\n",
        "print(classification_report(test_labels, predicted_labels, target_names=target_names))"
      ]
    },
    {
      "cell_type": "code",
      "execution_count": 10,
      "metadata": {
        "colab": {
          "base_uri": "https://localhost:8080/"
        },
        "id": "y_6CH9il-RLz",
        "outputId": "02371db5-936e-4c7f-d367-973dd926a5ce"
      },
      "outputs": [
        {
          "output_type": "stream",
          "name": "stdout",
          "text": [
            "time: 778 ms (started: 2023-04-18 19:02:27 +00:00)\n"
          ]
        }
      ],
      "source": [
        "from transformers import AutoTokenizer\n",
        "tokenizer = AutoTokenizer.from_pretrained(\"bigscience/bloom-560m\")\n",
        "train_encodings = tokenizer(train_texts, truncation=True, padding=True)\n",
        "val_encodings = tokenizer(val_texts, truncation=True, padding=True)\n",
        "train_dataset = IMDbDataset(train_encodings, train_labels)\n",
        "val_dataset = IMDbDataset(val_encodings, val_labels)"
      ]
    },
    {
      "cell_type": "code",
      "execution_count": 11,
      "metadata": {
        "colab": {
          "base_uri": "https://localhost:8080/"
        },
        "id": "360S2ay474vh",
        "outputId": "51f4d2ef-36b0-43b9-c6d8-c85a13e991c5"
      },
      "outputs": [
        {
          "output_type": "stream",
          "name": "stderr",
          "text": [
            "/usr/local/lib/python3.9/dist-packages/transformers/optimization.py:391: FutureWarning: This implementation of AdamW is deprecated and will be removed in a future version. Use the PyTorch implementation torch.optim.AdamW instead, or set `no_deprecation_warning=True` to disable this warning\n",
            "  warnings.warn(\n"
          ]
        },
        {
          "output_type": "stream",
          "name": "stdout",
          "text": [
            "{'loss': 23.2242, 'learning_rate': 5e-05, 'epoch': 0.1}\n",
            "{'loss': 5.212, 'learning_rate': 4.827586206896552e-05, 'epoch': 0.2}\n",
            "{'loss': 2.7188, 'learning_rate': 4.655172413793104e-05, 'epoch': 0.3}\n",
            "{'loss': 2.7897, 'learning_rate': 4.482758620689655e-05, 'epoch': 0.4}\n",
            "{'loss': 1.2017, 'learning_rate': 4.3103448275862066e-05, 'epoch': 0.5}\n",
            "{'loss': 1.4802, 'learning_rate': 4.1379310344827587e-05, 'epoch': 0.6}\n",
            "{'loss': 2.3233, 'learning_rate': 3.965517241379311e-05, 'epoch': 0.7}\n",
            "{'loss': 0.8841, 'learning_rate': 3.793103448275862e-05, 'epoch': 0.8}\n",
            "{'loss': 0.9665, 'learning_rate': 3.620689655172414e-05, 'epoch': 0.9}\n",
            "{'loss': 0.9853, 'learning_rate': 3.4482758620689657e-05, 'epoch': 1.0}\n",
            "{'loss': 0.7398, 'learning_rate': 3.275862068965517e-05, 'epoch': 1.1}\n",
            "{'loss': 0.8139, 'learning_rate': 3.103448275862069e-05, 'epoch': 1.2}\n",
            "{'loss': 0.9034, 'learning_rate': 2.9310344827586206e-05, 'epoch': 1.3}\n",
            "{'loss': 0.8334, 'learning_rate': 2.7586206896551727e-05, 'epoch': 1.4}\n",
            "{'loss': 0.7221, 'learning_rate': 2.5862068965517244e-05, 'epoch': 1.5}\n",
            "{'loss': 0.7674, 'learning_rate': 2.413793103448276e-05, 'epoch': 1.6}\n",
            "{'loss': 1.0791, 'learning_rate': 2.2413793103448276e-05, 'epoch': 1.7}\n",
            "{'loss': 1.1515, 'learning_rate': 2.0689655172413793e-05, 'epoch': 1.8}\n",
            "{'loss': 0.8912, 'learning_rate': 1.896551724137931e-05, 'epoch': 1.9}\n",
            "{'loss': 0.7788, 'learning_rate': 1.7241379310344828e-05, 'epoch': 2.0}\n",
            "{'loss': 0.92, 'learning_rate': 1.5517241379310346e-05, 'epoch': 2.1}\n",
            "{'loss': 0.7027, 'learning_rate': 1.3793103448275863e-05, 'epoch': 2.2}\n",
            "{'loss': 0.6492, 'learning_rate': 1.206896551724138e-05, 'epoch': 2.3}\n",
            "{'loss': 0.8039, 'learning_rate': 1.0344827586206897e-05, 'epoch': 2.4}\n",
            "{'loss': 0.952, 'learning_rate': 8.620689655172414e-06, 'epoch': 2.5}\n",
            "{'loss': 0.9147, 'learning_rate': 6.896551724137932e-06, 'epoch': 2.6}\n",
            "{'loss': 0.6854, 'learning_rate': 5.172413793103448e-06, 'epoch': 2.7}\n",
            "{'loss': 0.6198, 'learning_rate': 3.448275862068966e-06, 'epoch': 2.8}\n",
            "{'loss': 0.645, 'learning_rate': 1.724137931034483e-06, 'epoch': 2.9}\n",
            "{'loss': 0.6593, 'learning_rate': 0.0, 'epoch': 3.0}\n",
            "{'train_runtime': 1969.879, 'train_samples_per_second': 2.437, 'train_steps_per_second': 0.152, 'train_loss': 1.9339380041758218, 'epoch': 3.0}\n"
          ]
        },
        {
          "output_type": "execute_result",
          "data": {
            "text/plain": [
              "TrainOutput(global_step=300, training_loss=1.9339380041758218, metrics={'train_runtime': 1969.879, 'train_samples_per_second': 2.437, 'train_steps_per_second': 0.152, 'train_loss': 1.9339380041758218, 'epoch': 3.0})"
            ]
          },
          "metadata": {},
          "execution_count": 11
        },
        {
          "output_type": "stream",
          "name": "stdout",
          "text": [
            "time: 33min 9s (started: 2023-04-18 19:02:31 +00:00)\n"
          ]
        }
      ],
      "source": [
        "from transformers import BloomForSequenceClassification, Trainer, TrainingArguments\n",
        "\n",
        "training_args = TrainingArguments(\n",
        "    output_dir='results',          # output directory\n",
        "    num_train_epochs=3,              # total number of training epochs\n",
        "    per_device_train_batch_size=16,  # batch size per device during training\n",
        "    per_device_eval_batch_size=64,   # batch size for evaluation\n",
        "    warmup_steps=10,                # number of warmup steps for learning rate scheduler\n",
        "    weight_decay=0.01,               # strength of weight decay\n",
        "    logging_dir='logs',            # directory for storing logs\n",
        "    logging_steps=10,\n",
        ")\n",
        "\n",
        "model = BloomForSequenceClassification.from_pretrained(\"bigscience/bloom-560m\")\n",
        "\n",
        "trainer = Trainer(\n",
        "    model=model,                         # the instantiated 🤗 Transformers model to be trained\n",
        "    args=training_args,                  # training arguments, defined above\n",
        "    train_dataset=train_dataset,         # training dataset\n",
        "    eval_dataset=val_dataset             # evaluation dataset\n",
        ")\n",
        "\n",
        "trainer.train()"
      ]
    },
    {
      "cell_type": "code",
      "execution_count": 13,
      "metadata": {
        "colab": {
          "base_uri": "https://localhost:8080/"
        },
        "id": "oViU80KY76NB",
        "outputId": "38377b56-cb7b-4de9-e431-e2a112b0e9a7"
      },
      "outputs": [
        {
          "output_type": "stream",
          "name": "stdout",
          "text": [
            "                  precision    recall  f1-score   support\n",
            "\n",
            "non-conservative       0.61      0.82      0.70      1000\n",
            "    conservative       0.73      0.47      0.57      1000\n",
            "\n",
            "        accuracy                           0.65      2000\n",
            "       macro avg       0.67      0.65      0.64      2000\n",
            "    weighted avg       0.67      0.65      0.64      2000\n",
            "\n",
            "time: 7min 22s (started: 2023-04-18 19:46:55 +00:00)\n"
          ]
        }
      ],
      "source": [
        "from sklearn.metrics import classification_report\n",
        "predicted_labels = [model(**tokenizer(kmer, return_tensors=\"pt\")).logits.argmax().item() for kmer in test_texts]\n",
        "target_names = ['non-conservative', 'conservative']\n",
        "print(classification_report(test_labels, predicted_labels, target_names=target_names))"
      ]
    },
    {
      "cell_type": "code",
      "execution_count": 14,
      "metadata": {
        "colab": {
          "base_uri": "https://localhost:8080/",
          "height": 162,
          "referenced_widgets": [
            "de37e62736544d0885f723d0270264c4",
            "5380c58ac0e1462b954e745863c1d224",
            "719516b91f9d4811bdc443a8547a017a",
            "55f6cbd9abf045c2a8fca85778e7add9",
            "8205481a8e7645af91484e8c2ab7a7d4",
            "1355f3cfa1bb4169bc5b30a13b91fd9c",
            "0a20b6d2dbad49ac8b17e27cd47fc5a1",
            "7a62becfe8b247789d62be1e4a723a87",
            "660d1c3f1a394abc937ff0a88f293e0f",
            "8bde43ec06af40a4bc30ee3ff6c745ee",
            "236e2f53cee64b388656c95735af3cdc",
            "92f64a80449545779498502abfad748a",
            "cbab7a9d8a2d443ea5a7994c8562b585",
            "95470627adc848abba6ba9ce227d4150",
            "042b849e5ad44893bcda3658a0f321da",
            "56c46b12c4ea40c597811027098a2db6",
            "75182c47948547b9aa9cb391efd4d81c",
            "99834fcaff184302b911a292e5084b12",
            "4cd465e33c414d1993f34d911c43c99d",
            "832cf5b323014335b11486c97778e1cf",
            "7044cdd460ab4969978d8595c30db18a",
            "b2228e23564945db9b189c33c5054fea",
            "5a005e0bfc244ae99279cfcbb55dbbf2",
            "44c60b736c034060b222e58c38a2631d",
            "5ab3fd8d1cd74d39be48d771c0d50b7d",
            "335663a5ab4645a4bd8a278e87baea4b",
            "0849bacee09a40a0a95a05f6c97124e1",
            "df7b05bf4ff74772b2d061a50eb46a81",
            "f6039d30da46444bae6bf62d821c49da",
            "5a70fdc55ffc470cb2dca26d5661c17b",
            "85d4545a409e43e7b8d71840a9744f12",
            "9b82898537fd4d95b2d7166c08017350",
            "fddf7b2d22b44781b5992a2847e006ae",
            "1e21375924d047f18eb515d447efd03b",
            "b853c662a134404096c2bd870b8342bc",
            "892b95d1ba6f4e3a9b8866a5324f5cec",
            "20661020b7ee40638aeff96f0c7db7fe",
            "d706503c50d64cdab68a4a096152171e",
            "0b480a61e8ca4e05b7e9dffee3f8171b",
            "d6d118dc7df343c08d107a7ad4e57dc6",
            "bddb6ba8cb2045599450d73c15e4444c",
            "064e09052f5b47699f3429376eadb89c",
            "b79a1c1816774f6fbed9a13b99194d29",
            "bac241d9b5a841289fcb8958287a452b"
          ]
        },
        "id": "0lS3zsjriR2-",
        "outputId": "fdcbca39-85ea-4ddb-8c06-76685c1d9781"
      },
      "outputs": [
        {
          "output_type": "display_data",
          "data": {
            "text/plain": [
              "Downloading (…)okenizer_config.json:   0%|          | 0.00/1.12k [00:00<?, ?B/s]"
            ],
            "application/vnd.jupyter.widget-view+json": {
              "version_major": 2,
              "version_minor": 0,
              "model_id": "de37e62736544d0885f723d0270264c4"
            }
          },
          "metadata": {}
        },
        {
          "output_type": "display_data",
          "data": {
            "text/plain": [
              "Downloading (…)olve/main/vocab.json:   0%|          | 0.00/899k [00:00<?, ?B/s]"
            ],
            "application/vnd.jupyter.widget-view+json": {
              "version_major": 2,
              "version_minor": 0,
              "model_id": "92f64a80449545779498502abfad748a"
            }
          },
          "metadata": {}
        },
        {
          "output_type": "display_data",
          "data": {
            "text/plain": [
              "Downloading (…)olve/main/merges.txt:   0%|          | 0.00/456k [00:00<?, ?B/s]"
            ],
            "application/vnd.jupyter.widget-view+json": {
              "version_major": 2,
              "version_minor": 0,
              "model_id": "5a005e0bfc244ae99279cfcbb55dbbf2"
            }
          },
          "metadata": {}
        },
        {
          "output_type": "display_data",
          "data": {
            "text/plain": [
              "Downloading (…)cial_tokens_map.json:   0%|          | 0.00/772 [00:00<?, ?B/s]"
            ],
            "application/vnd.jupyter.widget-view+json": {
              "version_major": 2,
              "version_minor": 0,
              "model_id": "1e21375924d047f18eb515d447efd03b"
            }
          },
          "metadata": {}
        },
        {
          "output_type": "stream",
          "name": "stdout",
          "text": [
            "time: 1.84 s (started: 2023-04-18 19:54:17 +00:00)\n"
          ]
        }
      ],
      "source": [
        "from transformers import AutoTokenizer\n",
        "tokenizer = AutoTokenizer.from_pretrained(\"valhalla/bart-large-sst2\")\n",
        "train_encodings = tokenizer(train_texts, truncation=True, padding=True)\n",
        "val_encodings = tokenizer(val_texts, truncation=True, padding=True)\n",
        "train_dataset = IMDbDataset(train_encodings, train_labels)\n",
        "val_dataset = IMDbDataset(val_encodings, val_labels)"
      ]
    },
    {
      "cell_type": "code",
      "execution_count": 15,
      "metadata": {
        "colab": {
          "base_uri": "https://localhost:8080/",
          "height": 708,
          "referenced_widgets": [
            "93744dda3d5c46e3bc9bec7218123a7a",
            "d5e9793c634441209435ff72101b75e7",
            "12cce93abbec4bdcacbcffd918a74ef7",
            "bafd0430a09f46bdb7477bf3be3de73d",
            "bb62736778c14508941535825b6967bf",
            "81cb2aa6493a4294b52c839de1f9e1e4",
            "31dec99e8c2345678010bf6fe5557b08",
            "b12c4c5c97f34af9bee2a491e1be7675",
            "60f90db9dd8c4f06b704a1decea0ecb6",
            "0b1a4bd1dc094cc6bcf7b8b525b134d3",
            "e03f2b6103bc426a8dc0f9b21f9d9b9f",
            "6acfe3e1a26c4852a744f984d30311b7",
            "06ee21d76de4420389da7595d289e49f",
            "1eed8bb0afa64f45992d00f9e09616ec",
            "3d4a4a7f33e646e4a7b295c9efbacbe8",
            "39a67d5a75744e43a2cee6b216b8fc3f",
            "f64ba841a6e54411bfce89dddbfe0f34",
            "baae0d52bf1d43b6be363067ece97f35",
            "533d188c38664af1a29b2d53b87bcab1",
            "56c1ab16232349598c3ca75531fbdd1e",
            "839cc9cc17e042cb82efdfcb152687c9",
            "f7df58cced8743429cc501c4336236ca"
          ]
        },
        "id": "k533jlczib_D",
        "outputId": "67d80a8b-deb8-4408-a8de-d1724b0d8bbe"
      },
      "outputs": [
        {
          "output_type": "display_data",
          "data": {
            "text/plain": [
              "Downloading (…)lve/main/config.json:   0%|          | 0.00/1.51k [00:00<?, ?B/s]"
            ],
            "application/vnd.jupyter.widget-view+json": {
              "version_major": 2,
              "version_minor": 0,
              "model_id": "93744dda3d5c46e3bc9bec7218123a7a"
            }
          },
          "metadata": {}
        },
        {
          "output_type": "display_data",
          "data": {
            "text/plain": [
              "Downloading pytorch_model.bin:   0%|          | 0.00/1.63G [00:00<?, ?B/s]"
            ],
            "application/vnd.jupyter.widget-view+json": {
              "version_major": 2,
              "version_minor": 0,
              "model_id": "6acfe3e1a26c4852a744f984d30311b7"
            }
          },
          "metadata": {}
        },
        {
          "output_type": "stream",
          "name": "stderr",
          "text": [
            "/usr/local/lib/python3.9/dist-packages/transformers/optimization.py:391: FutureWarning: This implementation of AdamW is deprecated and will be removed in a future version. Use the PyTorch implementation torch.optim.AdamW instead, or set `no_deprecation_warning=True` to disable this warning\n",
            "  warnings.warn(\n"
          ]
        },
        {
          "output_type": "stream",
          "name": "stdout",
          "text": [
            "{'loss': 0.8159, 'learning_rate': 5e-05, 'epoch': 0.1}\n",
            "{'loss': 0.639, 'learning_rate': 4.827586206896552e-05, 'epoch': 0.2}\n",
            "{'loss': 0.6435, 'learning_rate': 4.655172413793104e-05, 'epoch': 0.3}\n",
            "{'loss': 0.5861, 'learning_rate': 4.482758620689655e-05, 'epoch': 0.4}\n",
            "{'loss': 0.5578, 'learning_rate': 4.3103448275862066e-05, 'epoch': 0.5}\n",
            "{'loss': 0.529, 'learning_rate': 4.1379310344827587e-05, 'epoch': 0.6}\n",
            "{'loss': 0.5921, 'learning_rate': 3.965517241379311e-05, 'epoch': 0.7}\n",
            "{'loss': 0.5252, 'learning_rate': 3.793103448275862e-05, 'epoch': 0.8}\n",
            "{'loss': 0.6323, 'learning_rate': 3.620689655172414e-05, 'epoch': 0.9}\n",
            "{'loss': 0.5983, 'learning_rate': 3.4482758620689657e-05, 'epoch': 1.0}\n",
            "{'loss': 0.4616, 'learning_rate': 3.275862068965517e-05, 'epoch': 1.1}\n",
            "{'loss': 0.5031, 'learning_rate': 3.103448275862069e-05, 'epoch': 1.2}\n",
            "{'loss': 0.4335, 'learning_rate': 2.9310344827586206e-05, 'epoch': 1.3}\n",
            "{'loss': 0.3727, 'learning_rate': 2.7586206896551727e-05, 'epoch': 1.4}\n",
            "{'loss': 0.5288, 'learning_rate': 2.5862068965517244e-05, 'epoch': 1.5}\n",
            "{'loss': 0.5039, 'learning_rate': 2.413793103448276e-05, 'epoch': 1.6}\n",
            "{'loss': 0.5291, 'learning_rate': 2.2413793103448276e-05, 'epoch': 1.7}\n",
            "{'loss': 0.4885, 'learning_rate': 2.0689655172413793e-05, 'epoch': 1.8}\n",
            "{'loss': 0.4506, 'learning_rate': 1.896551724137931e-05, 'epoch': 1.9}\n",
            "{'loss': 0.6308, 'learning_rate': 1.7241379310344828e-05, 'epoch': 2.0}\n",
            "{'loss': 0.4298, 'learning_rate': 1.5517241379310346e-05, 'epoch': 2.1}\n",
            "{'loss': 0.4622, 'learning_rate': 1.3793103448275863e-05, 'epoch': 2.2}\n",
            "{'loss': 0.3872, 'learning_rate': 1.206896551724138e-05, 'epoch': 2.3}\n",
            "{'loss': 0.3635, 'learning_rate': 1.0344827586206897e-05, 'epoch': 2.4}\n",
            "{'loss': 0.4435, 'learning_rate': 8.620689655172414e-06, 'epoch': 2.5}\n",
            "{'loss': 0.3652, 'learning_rate': 6.896551724137932e-06, 'epoch': 2.6}\n",
            "{'loss': 0.3736, 'learning_rate': 5.172413793103448e-06, 'epoch': 2.7}\n",
            "{'loss': 0.4612, 'learning_rate': 3.448275862068966e-06, 'epoch': 2.8}\n",
            "{'loss': 0.4008, 'learning_rate': 1.724137931034483e-06, 'epoch': 2.9}\n",
            "{'loss': 0.4168, 'learning_rate': 0.0, 'epoch': 3.0}\n",
            "{'train_runtime': 1709.9256, 'train_samples_per_second': 2.807, 'train_steps_per_second': 0.175, 'train_loss': 0.504190403620402, 'epoch': 3.0}\n"
          ]
        },
        {
          "output_type": "execute_result",
          "data": {
            "text/plain": [
              "TrainOutput(global_step=300, training_loss=0.504190403620402, metrics={'train_runtime': 1709.9256, 'train_samples_per_second': 2.807, 'train_steps_per_second': 0.175, 'train_loss': 0.504190403620402, 'epoch': 3.0})"
            ]
          },
          "metadata": {},
          "execution_count": 15
        },
        {
          "output_type": "stream",
          "name": "stdout",
          "text": [
            "time: 28min 49s (started: 2023-04-18 19:54:19 +00:00)\n"
          ]
        }
      ],
      "source": [
        "from transformers import BartForSequenceClassification, Trainer, TrainingArguments\n",
        "\n",
        "training_args = TrainingArguments(\n",
        "    output_dir='results',          # output directory\n",
        "    num_train_epochs=3,              # total number of training epochs\n",
        "    per_device_train_batch_size=16,  # batch size per device during training\n",
        "    per_device_eval_batch_size=64,   # batch size for evaluation\n",
        "    warmup_steps=10,                # number of warmup steps for learning rate scheduler\n",
        "    weight_decay=0.01,               # strength of weight decay\n",
        "    logging_dir='logs',            # directory for storing logs\n",
        "    logging_steps=10,\n",
        ")\n",
        "\n",
        "model = BartForSequenceClassification.from_pretrained(\"valhalla/bart-large-sst2\")\n",
        "\n",
        "trainer = Trainer(\n",
        "    model=model,                         # the instantiated 🤗 Transformers model to be trained\n",
        "    args=training_args,                  # training arguments, defined above\n",
        "    train_dataset=train_dataset,         # training dataset\n",
        "    eval_dataset=val_dataset             # evaluation dataset\n",
        ")\n",
        "\n",
        "trainer.train()"
      ]
    },
    {
      "cell_type": "code",
      "execution_count": 16,
      "metadata": {
        "colab": {
          "base_uri": "https://localhost:8080/"
        },
        "id": "gnDC8MvHik4m",
        "outputId": "1f965214-6c36-4895-9e81-77187dd66964"
      },
      "outputs": [
        {
          "output_type": "stream",
          "name": "stdout",
          "text": [
            "                  precision    recall  f1-score   support\n",
            "\n",
            "non-conservative       0.72      0.69      0.70      1000\n",
            "    conservative       0.70      0.73      0.71      1000\n",
            "\n",
            "        accuracy                           0.71      2000\n",
            "       macro avg       0.71      0.71      0.71      2000\n",
            "    weighted avg       0.71      0.71      0.71      2000\n",
            "\n",
            "time: 9min 46s (started: 2023-04-18 20:23:08 +00:00)\n"
          ]
        }
      ],
      "source": [
        "predicted_labels = [model(**tokenizer(kmer, return_tensors=\"pt\")).logits.argmax().item() for kmer in test_texts]\n",
        "target_names = ['non-conservative', 'conservative']\n",
        "print(classification_report(test_labels, predicted_labels, target_names=target_names))"
      ]
    },
    {
      "cell_type": "code",
      "execution_count": 17,
      "metadata": {
        "id": "AhdM76-PrzNS",
        "colab": {
          "base_uri": "https://localhost:8080/",
          "height": 269,
          "referenced_widgets": [
            "f4263ca2cee74b648038c4fc2254c399",
            "efc329e65b1845a4ac38c6ba0ea4219c",
            "12602ea235da49659a5c77435fed3004",
            "5be93a8d76ca45c2bfa345caeb52337b",
            "0fa182ea1f534142b28a0776303d65b7",
            "39df09f82e8d479bb8c6a7855979577c",
            "20505865a6a34abd92b3c6e533d881c2",
            "99c850fd38954c8c816410dc0761c28f",
            "e4edcd90b8f24fc8bf0dc3fb152d4d41",
            "fe94cd0b17c24c85afce6569aca4bd64",
            "6e57d7fb2114425a8e3a10e778b8ffe8",
            "0add10ee1a37446bb33a9f67567d49d0",
            "4917bc0bcbd34a5590ee8f2b4ffefa59",
            "082e597c8eb84cc490cae96657d71fca",
            "d23489ea42734fa89453ddbb4ae8c778",
            "6c0b4c6aafd544d8a70a2807cf4eaac9",
            "56cf4febc6ce4abe97656e79006bd4f4",
            "ed6ad255f8ee43d28b4057c7ac7d2d42",
            "dfeddaeb1ad34ecab1e28867fc25f02f",
            "ebe719894d7949aa8a30bf0c0ea921c8",
            "e5d84711f0c24583944fb16017c748d7",
            "14f839ecc88f474f8531761a4f22cdcc",
            "bf3360181f004b7ca40f2d0b880612c2",
            "1659c496deef4687acc6e423d1484bce",
            "8181f585b53a478799be5ecfc18fb48f",
            "e18444823077445fbaa2c466ca589c93",
            "c9277228bc6a4b3e98ae88a9034e3b45",
            "b58f54f068d841d19b0d01b5e01b4d80",
            "93ea37465a61495b964c3f2e70811467",
            "0cafeaea2278476bbb29a1b0842b9abe",
            "01081d2a0b2f4cc9806714e533a56059",
            "8ee88a477e264c98b1f0fe8d47c290ca",
            "63a1dffff9f047e891d83675453aec28"
          ]
        },
        "outputId": "463e9c93-0171-40a5-b417-9d5d5522a4e4"
      },
      "outputs": [
        {
          "output_type": "display_data",
          "data": {
            "text/plain": [
              "Downloading (…)okenizer_config.json:   0%|          | 0.00/854 [00:00<?, ?B/s]"
            ],
            "application/vnd.jupyter.widget-view+json": {
              "version_major": 2,
              "version_minor": 0,
              "model_id": "f4263ca2cee74b648038c4fc2254c399"
            }
          },
          "metadata": {}
        },
        {
          "output_type": "display_data",
          "data": {
            "text/plain": [
              "Downloading (…)lve/main/config.json:   0%|          | 0.00/670 [00:00<?, ?B/s]"
            ],
            "application/vnd.jupyter.widget-view+json": {
              "version_major": 2,
              "version_minor": 0,
              "model_id": "0add10ee1a37446bb33a9f67567d49d0"
            }
          },
          "metadata": {}
        },
        {
          "output_type": "display_data",
          "data": {
            "text/plain": [
              "Downloading (…)cial_tokens_map.json:   0%|          | 0.00/657 [00:00<?, ?B/s]"
            ],
            "application/vnd.jupyter.widget-view+json": {
              "version_major": 2,
              "version_minor": 0,
              "model_id": "bf3360181f004b7ca40f2d0b880612c2"
            }
          },
          "metadata": {}
        },
        {
          "output_type": "stream",
          "name": "stderr",
          "text": [
            "Using unk_token, but it is not set yet.\n",
            "Using unk_token, but it is not set yet.\n",
            "Using unk_token, but it is not set yet.\n",
            "Using unk_token, but it is not set yet.\n",
            "Using unk_token, but it is not set yet.\n",
            "Using unk_token, but it is not set yet.\n",
            "Using unk_token, but it is not set yet.\n",
            "Using unk_token, but it is not set yet.\n"
          ]
        },
        {
          "output_type": "stream",
          "name": "stdout",
          "text": [
            "time: 1.17 s (started: 2023-04-18 20:32:55 +00:00)\n"
          ]
        }
      ],
      "source": [
        "from transformers import AutoTokenizer\n",
        "tokenizer = AutoTokenizer.from_pretrained(\"google/canine-s\")\n",
        "train_encodings = tokenizer(train_texts, truncation=True, padding=True)\n",
        "val_encodings = tokenizer(val_texts, truncation=True, padding=True)\n",
        "train_dataset = IMDbDataset(train_encodings, train_labels)\n",
        "val_dataset = IMDbDataset(val_encodings, val_labels)"
      ]
    },
    {
      "cell_type": "code",
      "execution_count": 18,
      "metadata": {
        "id": "HlDhIVhMrs1c",
        "colab": {
          "base_uri": "https://localhost:8080/",
          "height": 676,
          "referenced_widgets": [
            "d1d3f3dca04a4cfcab026dc8e6859feb",
            "55622fa3b075447490213cfd94670415",
            "4cb0b9429be9496fbc0084cc3e601028",
            "08c3e20de46a4b7a86344560120390a0",
            "1de3c0fed8e94388a84a5da214024e41",
            "a5a76580f5444b5c8b7b6e8da47b75c9",
            "8ef96aed78b64e5b9e1bab5dced6561d",
            "89475aca41594f71ba72a2c96cedc6c5",
            "3228a4986c18438bbea120bd277923b0",
            "e4b9273c96d14a84a0327bb9d3061d3a",
            "a2ee7912a9254ab2a70e8c705a2d1c65"
          ]
        },
        "outputId": "70d9a997-ecab-4737-c293-4c17bd444b77"
      },
      "outputs": [
        {
          "output_type": "display_data",
          "data": {
            "text/plain": [
              "Downloading pytorch_model.bin:   0%|          | 0.00/529M [00:00<?, ?B/s]"
            ],
            "application/vnd.jupyter.widget-view+json": {
              "version_major": 2,
              "version_minor": 0,
              "model_id": "d1d3f3dca04a4cfcab026dc8e6859feb"
            }
          },
          "metadata": {}
        },
        {
          "output_type": "stream",
          "name": "stderr",
          "text": [
            "/usr/local/lib/python3.9/dist-packages/transformers/optimization.py:391: FutureWarning: This implementation of AdamW is deprecated and will be removed in a future version. Use the PyTorch implementation torch.optim.AdamW instead, or set `no_deprecation_warning=True` to disable this warning\n",
            "  warnings.warn(\n"
          ]
        },
        {
          "output_type": "stream",
          "name": "stdout",
          "text": [
            "{'loss': 0.7, 'learning_rate': 5e-05, 'epoch': 0.1}\n",
            "{'loss': 0.7082, 'learning_rate': 4.827586206896552e-05, 'epoch': 0.2}\n",
            "{'loss': 0.6918, 'learning_rate': 4.655172413793104e-05, 'epoch': 0.3}\n",
            "{'loss': 0.7039, 'learning_rate': 4.482758620689655e-05, 'epoch': 0.4}\n",
            "{'loss': 0.6945, 'learning_rate': 4.3103448275862066e-05, 'epoch': 0.5}\n",
            "{'loss': 0.7048, 'learning_rate': 4.1379310344827587e-05, 'epoch': 0.6}\n",
            "{'loss': 0.7003, 'learning_rate': 3.965517241379311e-05, 'epoch': 0.7}\n",
            "{'loss': 0.6942, 'learning_rate': 3.793103448275862e-05, 'epoch': 0.8}\n",
            "{'loss': 0.6978, 'learning_rate': 3.620689655172414e-05, 'epoch': 0.9}\n",
            "{'loss': 0.694, 'learning_rate': 3.4482758620689657e-05, 'epoch': 1.0}\n",
            "{'loss': 0.6928, 'learning_rate': 3.275862068965517e-05, 'epoch': 1.1}\n",
            "{'loss': 0.6916, 'learning_rate': 3.103448275862069e-05, 'epoch': 1.2}\n",
            "{'loss': 0.6838, 'learning_rate': 2.9310344827586206e-05, 'epoch': 1.3}\n",
            "{'loss': 0.6759, 'learning_rate': 2.7586206896551727e-05, 'epoch': 1.4}\n",
            "{'loss': 0.7348, 'learning_rate': 2.5862068965517244e-05, 'epoch': 1.5}\n",
            "{'loss': 0.6848, 'learning_rate': 2.413793103448276e-05, 'epoch': 1.6}\n",
            "{'loss': 0.6838, 'learning_rate': 2.2413793103448276e-05, 'epoch': 1.7}\n",
            "{'loss': 0.6547, 'learning_rate': 2.0689655172413793e-05, 'epoch': 1.8}\n",
            "{'loss': 0.6756, 'learning_rate': 1.896551724137931e-05, 'epoch': 1.9}\n",
            "{'loss': 0.6673, 'learning_rate': 1.7241379310344828e-05, 'epoch': 2.0}\n",
            "{'loss': 0.6307, 'learning_rate': 1.5517241379310346e-05, 'epoch': 2.1}\n",
            "{'loss': 0.6561, 'learning_rate': 1.3793103448275863e-05, 'epoch': 2.2}\n",
            "{'loss': 0.6507, 'learning_rate': 1.206896551724138e-05, 'epoch': 2.3}\n",
            "{'loss': 0.6493, 'learning_rate': 1.0344827586206897e-05, 'epoch': 2.4}\n",
            "{'loss': 0.6773, 'learning_rate': 8.620689655172414e-06, 'epoch': 2.5}\n",
            "{'loss': 0.6347, 'learning_rate': 6.896551724137932e-06, 'epoch': 2.6}\n",
            "{'loss': 0.6262, 'learning_rate': 5.172413793103448e-06, 'epoch': 2.7}\n",
            "{'loss': 0.635, 'learning_rate': 3.448275862068966e-06, 'epoch': 2.8}\n",
            "{'loss': 0.6398, 'learning_rate': 1.724137931034483e-06, 'epoch': 2.9}\n",
            "{'loss': 0.6257, 'learning_rate': 0.0, 'epoch': 3.0}\n",
            "{'train_runtime': 323.4668, 'train_samples_per_second': 14.839, 'train_steps_per_second': 0.927, 'train_loss': 0.6753371127446492, 'epoch': 3.0}\n"
          ]
        },
        {
          "output_type": "execute_result",
          "data": {
            "text/plain": [
              "TrainOutput(global_step=300, training_loss=0.6753371127446492, metrics={'train_runtime': 323.4668, 'train_samples_per_second': 14.839, 'train_steps_per_second': 0.927, 'train_loss': 0.6753371127446492, 'epoch': 3.0})"
            ]
          },
          "metadata": {},
          "execution_count": 18
        },
        {
          "output_type": "stream",
          "name": "stdout",
          "text": [
            "time: 5min 27s (started: 2023-04-18 20:32:56 +00:00)\n"
          ]
        }
      ],
      "source": [
        "from transformers import CanineForSequenceClassification, Trainer, TrainingArguments\n",
        "\n",
        "training_args = TrainingArguments(\n",
        "    output_dir='results',          # output directory\n",
        "    num_train_epochs=3,              # total number of training epochs\n",
        "    per_device_train_batch_size=16,  # batch size per device during training\n",
        "    per_device_eval_batch_size=64,   # batch size for evaluation\n",
        "    warmup_steps=10,                # number of warmup steps for learning rate scheduler\n",
        "    weight_decay=0.01,               # strength of weight decay\n",
        "    logging_dir='logs',            # directory for storing logs\n",
        "    logging_steps=10,\n",
        ")\n",
        "\n",
        "model = CanineForSequenceClassification.from_pretrained(\"google/canine-s\")\n",
        "\n",
        "trainer = Trainer(\n",
        "    model=model,                         # the instantiated 🤗 Transformers model to be trained\n",
        "    args=training_args,                  # training arguments, defined above\n",
        "    train_dataset=train_dataset,         # training dataset\n",
        "    eval_dataset=val_dataset             # evaluation dataset\n",
        ")\n",
        "\n",
        "trainer.train()"
      ]
    },
    {
      "cell_type": "code",
      "execution_count": 19,
      "metadata": {
        "id": "Og9H2qdXrsNO",
        "colab": {
          "base_uri": "https://localhost:8080/"
        },
        "outputId": "c8130041-0ada-4e36-cf54-da7c17279eb2"
      },
      "outputs": [
        {
          "output_type": "stream",
          "name": "stdout",
          "text": [
            "                  precision    recall  f1-score   support\n",
            "\n",
            "non-conservative       0.61      0.67      0.64      1000\n",
            "    conservative       0.64      0.57      0.60      1000\n",
            "\n",
            "        accuracy                           0.62      2000\n",
            "       macro avg       0.63      0.62      0.62      2000\n",
            "    weighted avg       0.63      0.62      0.62      2000\n",
            "\n",
            "time: 2min 31s (started: 2023-04-18 20:38:23 +00:00)\n"
          ]
        }
      ],
      "source": [
        "predicted_labels = [model(**tokenizer(kmer, return_tensors=\"pt\")).logits.argmax().item() for kmer in test_texts]\n",
        "target_names = ['non-conservative', 'conservative']\n",
        "print(classification_report(test_labels, predicted_labels, target_names=target_names))"
      ]
    },
    {
      "cell_type": "code",
      "source": [
        "from transformers import AutoTokenizer\n",
        "tokenizer = AutoTokenizer.from_pretrained(\"facebook/esm2_t6_8M_UR50D\")\n",
        "train_encodings = tokenizer(train_texts, truncation=True, padding=True)\n",
        "val_encodings = tokenizer(val_texts, truncation=True, padding=True)\n",
        "train_dataset = IMDbDataset(train_encodings, train_labels)\n",
        "val_dataset = IMDbDataset(val_encodings, val_labels)"
      ],
      "metadata": {
        "colab": {
          "base_uri": "https://localhost:8080/",
          "height": 130,
          "referenced_widgets": [
            "080a07f5042a47c7a8c243aa5335bc7d",
            "214d9a4e2a894cd293c2ca23a040b803",
            "314f6e0266c14b1d98bb71657549a0d6",
            "cc9db8dd6ee04d1b9f3948d599b23c09",
            "acea6a4ed430487086e1bb1ca8d449fc",
            "44030ea5e0894ff29ff0bcf6f57bb2a6",
            "18ef10b6103b4873ba20e03750961fea",
            "48ba738037824dc0a5f643dc970c4e55",
            "a496ad850a624c3a85874e45790b7954",
            "38689e23c53f45f4a74e1acd1a696510",
            "f275d96a9d304407b0c70a7294c0899f",
            "ee2eee0d1be74187ad7caf3c9b4390fc",
            "c86d91e9c6e84c97a7c621647f99cbe9",
            "15fb927c364b42f8913527efc37d281a",
            "afb55080b3094b5fb20efd2008b62b46",
            "69717e4b1e10496ea41167b806440dea",
            "fb9c4c98e575446ca0a53ac0a5f6e728",
            "504b8388fc2642b08ad79428b467fdd2",
            "0c43e32f3d10471b8bd01937c5ba7135",
            "144cad1614494b69832f13b4e0b61b73",
            "eeb0518f11bc4214941fbb0b19b5e46d",
            "bc3a0fdfaf424db1aa3a7db8198c5fae",
            "65f2a627ac54455aa91994082a604236",
            "412bb3ea9a02494d8dad2636e12cc96c",
            "f1520e62d10b45cb8abf8ce1acc6fec8",
            "85e8b1a4b3474828834eef1f696c5aa9",
            "30a98e63dbc841dfa84a46a011a2562e",
            "dbe12bf8871d466bb199ea3b78c9ba3f",
            "f6d01f08d7f645f1add7371147799728",
            "6f59cc14c6ad4837bcc8c0109989e13e",
            "62cfd0a1479846a288f6c4e929107476",
            "de1f57741a2743f894b55292b507f7b7",
            "72d10306480841d5954b86bac0fbdf5f"
          ]
        },
        "id": "ZoMYw_4oztbB",
        "outputId": "047e6845-69db-467e-a748-3827695969fd"
      },
      "execution_count": 20,
      "outputs": [
        {
          "output_type": "display_data",
          "data": {
            "text/plain": [
              "Downloading (…)okenizer_config.json:   0%|          | 0.00/95.0 [00:00<?, ?B/s]"
            ],
            "application/vnd.jupyter.widget-view+json": {
              "version_major": 2,
              "version_minor": 0,
              "model_id": "080a07f5042a47c7a8c243aa5335bc7d"
            }
          },
          "metadata": {}
        },
        {
          "output_type": "display_data",
          "data": {
            "text/plain": [
              "Downloading (…)solve/main/vocab.txt:   0%|          | 0.00/93.0 [00:00<?, ?B/s]"
            ],
            "application/vnd.jupyter.widget-view+json": {
              "version_major": 2,
              "version_minor": 0,
              "model_id": "ee2eee0d1be74187ad7caf3c9b4390fc"
            }
          },
          "metadata": {}
        },
        {
          "output_type": "display_data",
          "data": {
            "text/plain": [
              "Downloading (…)cial_tokens_map.json:   0%|          | 0.00/125 [00:00<?, ?B/s]"
            ],
            "application/vnd.jupyter.widget-view+json": {
              "version_major": 2,
              "version_minor": 0,
              "model_id": "65f2a627ac54455aa91994082a604236"
            }
          },
          "metadata": {}
        },
        {
          "output_type": "stream",
          "name": "stdout",
          "text": [
            "time: 1.18 s (started: 2023-04-18 20:40:55 +00:00)\n"
          ]
        }
      ]
    },
    {
      "cell_type": "code",
      "source": [
        "from transformers import EsmForSequenceClassification, Trainer, TrainingArguments\n",
        "\n",
        "training_args = TrainingArguments(\n",
        "    output_dir='results',          # output directory\n",
        "    num_train_epochs=3,              # total number of training epochs\n",
        "    per_device_train_batch_size=16,  # batch size per device during training\n",
        "    per_device_eval_batch_size=64,   # batch size for evaluation\n",
        "    warmup_steps=10,                # number of warmup steps for learning rate scheduler\n",
        "    weight_decay=0.01,               # strength of weight decay\n",
        "    logging_dir='logs',            # directory for storing logs\n",
        "    logging_steps=10,\n",
        ")\n",
        "\n",
        "model = EsmForSequenceClassification.from_pretrained(\"facebook/esm2_t6_8M_UR50D\")\n",
        "\n",
        "trainer = Trainer(\n",
        "    model=model,                         # the instantiated 🤗 Transformers model to be trained\n",
        "    args=training_args,                  # training arguments, defined above\n",
        "    train_dataset=train_dataset,         # training dataset\n",
        "    eval_dataset=val_dataset             # evaluation dataset\n",
        ")\n",
        "\n",
        "trainer.train()"
      ],
      "metadata": {
        "colab": {
          "base_uri": "https://localhost:8080/",
          "height": 708,
          "referenced_widgets": [
            "ba22812c90f2462ea447acb6e81c04d7",
            "d74630cde8f347069252beb208e4b79e",
            "1dcefe5f1a5946d3ab6eb69ee592ec69",
            "2513a5d65c2d40ae9535ee04f11beac5",
            "cc571f80170a4eb599955ce8a5e31d8e",
            "d701a158e7e143f9988ddd6e7ccead8c",
            "eef3de52e34d4183b3a043a6b66ee3bb",
            "8e6c6a30d6a64404a7211da1217e7d67",
            "fc7eed80a9dc4138a22d85a3f2ba23e4",
            "d1f93f047f4b4fbf8cc4ce9453ce1c87",
            "a07933860f7749ca9278064bc6e5d00c",
            "41f8dfaa0c68440e8721dc3ea7b8aba1",
            "cbba136ce27443eebfdaa78a50fbab88",
            "68d10c0e900a4bacbc6cf8632ae6ceaf",
            "485ea1b27d404b1d8cee7caa3d5c4e21",
            "e75874ff58044007ad212f648d77345e",
            "446d9d31617f43ee86ed9e84dc4e8575",
            "89755fd1ca7d4a3ab7c2cf84ff4f086d",
            "096c0becd7e84b498848084c7a31a89a",
            "fc652e62bdbc406f9098c95f7eedf208",
            "8af3c9ed9e7149bfa0e01b21e8421e6a",
            "83e6c56eb9bc43bea3a7f2e17c22dc97"
          ]
        },
        "id": "K7obZ3RhzqUq",
        "outputId": "7c49ec84-097b-4c76-b7c9-394a5abc1876"
      },
      "execution_count": 21,
      "outputs": [
        {
          "output_type": "display_data",
          "data": {
            "text/plain": [
              "Downloading (…)lve/main/config.json:   0%|          | 0.00/775 [00:00<?, ?B/s]"
            ],
            "application/vnd.jupyter.widget-view+json": {
              "version_major": 2,
              "version_minor": 0,
              "model_id": "ba22812c90f2462ea447acb6e81c04d7"
            }
          },
          "metadata": {}
        },
        {
          "output_type": "display_data",
          "data": {
            "text/plain": [
              "Downloading pytorch_model.bin:   0%|          | 0.00/31.4M [00:00<?, ?B/s]"
            ],
            "application/vnd.jupyter.widget-view+json": {
              "version_major": 2,
              "version_minor": 0,
              "model_id": "41f8dfaa0c68440e8721dc3ea7b8aba1"
            }
          },
          "metadata": {}
        },
        {
          "output_type": "stream",
          "name": "stderr",
          "text": [
            "/usr/local/lib/python3.9/dist-packages/transformers/optimization.py:391: FutureWarning: This implementation of AdamW is deprecated and will be removed in a future version. Use the PyTorch implementation torch.optim.AdamW instead, or set `no_deprecation_warning=True` to disable this warning\n",
            "  warnings.warn(\n"
          ]
        },
        {
          "output_type": "stream",
          "name": "stdout",
          "text": [
            "{'loss': 0.6889, 'learning_rate': 5e-05, 'epoch': 0.1}\n",
            "{'loss': 0.6743, 'learning_rate': 4.827586206896552e-05, 'epoch': 0.2}\n",
            "{'loss': 0.6155, 'learning_rate': 4.655172413793104e-05, 'epoch': 0.3}\n",
            "{'loss': 0.5739, 'learning_rate': 4.482758620689655e-05, 'epoch': 0.4}\n",
            "{'loss': 0.5612, 'learning_rate': 4.3103448275862066e-05, 'epoch': 0.5}\n",
            "{'loss': 0.5225, 'learning_rate': 4.1379310344827587e-05, 'epoch': 0.6}\n",
            "{'loss': 0.5632, 'learning_rate': 3.965517241379311e-05, 'epoch': 0.7}\n",
            "{'loss': 0.5048, 'learning_rate': 3.793103448275862e-05, 'epoch': 0.8}\n",
            "{'loss': 0.6193, 'learning_rate': 3.620689655172414e-05, 'epoch': 0.9}\n",
            "{'loss': 0.5502, 'learning_rate': 3.4482758620689657e-05, 'epoch': 1.0}\n",
            "{'loss': 0.4917, 'learning_rate': 3.275862068965517e-05, 'epoch': 1.1}\n",
            "{'loss': 0.5791, 'learning_rate': 3.103448275862069e-05, 'epoch': 1.2}\n",
            "{'loss': 0.486, 'learning_rate': 2.9310344827586206e-05, 'epoch': 1.3}\n",
            "{'loss': 0.492, 'learning_rate': 2.7586206896551727e-05, 'epoch': 1.4}\n",
            "{'loss': 0.5604, 'learning_rate': 2.5862068965517244e-05, 'epoch': 1.5}\n",
            "{'loss': 0.5308, 'learning_rate': 2.413793103448276e-05, 'epoch': 1.6}\n",
            "{'loss': 0.5169, 'learning_rate': 2.2413793103448276e-05, 'epoch': 1.7}\n",
            "{'loss': 0.4948, 'learning_rate': 2.0689655172413793e-05, 'epoch': 1.8}\n",
            "{'loss': 0.4852, 'learning_rate': 1.896551724137931e-05, 'epoch': 1.9}\n",
            "{'loss': 0.6125, 'learning_rate': 1.7241379310344828e-05, 'epoch': 2.0}\n",
            "{'loss': 0.5126, 'learning_rate': 1.5517241379310346e-05, 'epoch': 2.1}\n",
            "{'loss': 0.4668, 'learning_rate': 1.3793103448275863e-05, 'epoch': 2.2}\n",
            "{'loss': 0.4757, 'learning_rate': 1.206896551724138e-05, 'epoch': 2.3}\n",
            "{'loss': 0.4474, 'learning_rate': 1.0344827586206897e-05, 'epoch': 2.4}\n",
            "{'loss': 0.5064, 'learning_rate': 8.620689655172414e-06, 'epoch': 2.5}\n",
            "{'loss': 0.4603, 'learning_rate': 6.896551724137932e-06, 'epoch': 2.6}\n",
            "{'loss': 0.4343, 'learning_rate': 5.172413793103448e-06, 'epoch': 2.7}\n",
            "{'loss': 0.4826, 'learning_rate': 3.448275862068966e-06, 'epoch': 2.8}\n",
            "{'loss': 0.4858, 'learning_rate': 1.724137931034483e-06, 'epoch': 2.9}\n",
            "{'loss': 0.4452, 'learning_rate': 0.0, 'epoch': 3.0}\n",
            "{'train_runtime': 53.3956, 'train_samples_per_second': 89.895, 'train_steps_per_second': 5.618, 'train_loss': 0.5280061499277751, 'epoch': 3.0}\n"
          ]
        },
        {
          "output_type": "execute_result",
          "data": {
            "text/plain": [
              "TrainOutput(global_step=300, training_loss=0.5280061499277751, metrics={'train_runtime': 53.3956, 'train_samples_per_second': 89.895, 'train_steps_per_second': 5.618, 'train_loss': 0.5280061499277751, 'epoch': 3.0})"
            ]
          },
          "metadata": {},
          "execution_count": 21
        },
        {
          "output_type": "stream",
          "name": "stdout",
          "text": [
            "time: 54.4 s (started: 2023-04-18 20:40:56 +00:00)\n"
          ]
        }
      ]
    },
    {
      "cell_type": "code",
      "source": [
        "predicted_labels = [model(**tokenizer(kmer, return_tensors=\"pt\")).logits.argmax().item() for kmer in test_texts]\n",
        "target_names = ['non-conservative', 'conservative']\n",
        "print(classification_report(test_labels, predicted_labels, target_names=target_names))"
      ],
      "metadata": {
        "colab": {
          "base_uri": "https://localhost:8080/"
        },
        "id": "js880wM0znTq",
        "outputId": "7eb5db24-0c45-4b0f-acaf-2166210e6d57"
      },
      "execution_count": 22,
      "outputs": [
        {
          "output_type": "stream",
          "name": "stdout",
          "text": [
            "                  precision    recall  f1-score   support\n",
            "\n",
            "non-conservative       0.71      0.69      0.70      1000\n",
            "    conservative       0.70      0.72      0.71      1000\n",
            "\n",
            "        accuracy                           0.70      2000\n",
            "       macro avg       0.71      0.70      0.70      2000\n",
            "    weighted avg       0.71      0.70      0.70      2000\n",
            "\n",
            "time: 28.4 s (started: 2023-04-18 20:41:50 +00:00)\n"
          ]
        }
      ]
    },
    {
      "cell_type": "code",
      "source": [
        "from transformers import EsmForSequenceClassification, Trainer, TrainingArguments\n",
        "\n",
        "training_args = TrainingArguments(\n",
        "    output_dir='results',          # output directory\n",
        "    num_train_epochs=5,              # total number of training epochs\n",
        "    per_device_train_batch_size=16,  # batch size per device during training\n",
        "    per_device_eval_batch_size=64,   # batch size for evaluation\n",
        "    warmup_steps=10,                # number of warmup steps for learning rate scheduler\n",
        "    weight_decay=0.01,               # strength of weight decay\n",
        "    logging_dir='logs',            # directory for storing logs\n",
        "    logging_steps=10,\n",
        ")\n",
        "\n",
        "model = EsmForSequenceClassification.from_pretrained(\"facebook/esm2_t6_8M_UR50D\")\n",
        "\n",
        "trainer = Trainer(\n",
        "    model=model,                         # the instantiated 🤗 Transformers model to be trained\n",
        "    args=training_args,                  # training arguments, defined above\n",
        "    train_dataset=train_dataset,         # training dataset\n",
        "    eval_dataset=val_dataset             # evaluation dataset\n",
        ")\n",
        "\n",
        "trainer.train()"
      ],
      "metadata": {
        "colab": {
          "base_uri": "https://localhost:8080/"
        },
        "id": "dRmwe8rd1zLl",
        "outputId": "1547d701-8002-48e9-c41c-f0fa968fcf2a"
      },
      "execution_count": 23,
      "outputs": [
        {
          "output_type": "stream",
          "name": "stderr",
          "text": [
            "/usr/local/lib/python3.9/dist-packages/transformers/optimization.py:391: FutureWarning: This implementation of AdamW is deprecated and will be removed in a future version. Use the PyTorch implementation torch.optim.AdamW instead, or set `no_deprecation_warning=True` to disable this warning\n",
            "  warnings.warn(\n"
          ]
        },
        {
          "output_type": "stream",
          "name": "stdout",
          "text": [
            "{'loss': 0.6879, 'learning_rate': 5e-05, 'epoch': 0.1}\n",
            "{'loss': 0.6552, 'learning_rate': 4.89795918367347e-05, 'epoch': 0.2}\n",
            "{'loss': 0.5907, 'learning_rate': 4.795918367346939e-05, 'epoch': 0.3}\n",
            "{'loss': 0.5678, 'learning_rate': 4.6938775510204086e-05, 'epoch': 0.4}\n",
            "{'loss': 0.5416, 'learning_rate': 4.591836734693878e-05, 'epoch': 0.5}\n",
            "{'loss': 0.5037, 'learning_rate': 4.4897959183673474e-05, 'epoch': 0.6}\n",
            "{'loss': 0.5411, 'learning_rate': 4.387755102040816e-05, 'epoch': 0.7}\n",
            "{'loss': 0.5048, 'learning_rate': 4.2857142857142856e-05, 'epoch': 0.8}\n",
            "{'loss': 0.6298, 'learning_rate': 4.183673469387756e-05, 'epoch': 0.9}\n",
            "{'loss': 0.5411, 'learning_rate': 4.0816326530612245e-05, 'epoch': 1.0}\n",
            "{'loss': 0.4885, 'learning_rate': 3.979591836734694e-05, 'epoch': 1.1}\n",
            "{'loss': 0.5655, 'learning_rate': 3.8775510204081634e-05, 'epoch': 1.2}\n",
            "{'loss': 0.4787, 'learning_rate': 3.775510204081633e-05, 'epoch': 1.3}\n",
            "{'loss': 0.497, 'learning_rate': 3.673469387755102e-05, 'epoch': 1.4}\n",
            "{'loss': 0.5357, 'learning_rate': 3.571428571428572e-05, 'epoch': 1.5}\n",
            "{'loss': 0.543, 'learning_rate': 3.469387755102041e-05, 'epoch': 1.6}\n",
            "{'loss': 0.5245, 'learning_rate': 3.36734693877551e-05, 'epoch': 1.7}\n",
            "{'loss': 0.473, 'learning_rate': 3.265306122448979e-05, 'epoch': 1.8}\n",
            "{'loss': 0.4888, 'learning_rate': 3.1632653061224494e-05, 'epoch': 1.9}\n",
            "{'loss': 0.6229, 'learning_rate': 3.061224489795919e-05, 'epoch': 2.0}\n",
            "{'loss': 0.498, 'learning_rate': 2.959183673469388e-05, 'epoch': 2.1}\n",
            "{'loss': 0.4692, 'learning_rate': 2.857142857142857e-05, 'epoch': 2.2}\n",
            "{'loss': 0.4819, 'learning_rate': 2.7551020408163265e-05, 'epoch': 2.3}\n",
            "{'loss': 0.4541, 'learning_rate': 2.6530612244897963e-05, 'epoch': 2.4}\n",
            "{'loss': 0.5349, 'learning_rate': 2.5510204081632654e-05, 'epoch': 2.5}\n",
            "{'loss': 0.4732, 'learning_rate': 2.448979591836735e-05, 'epoch': 2.6}\n",
            "{'loss': 0.4222, 'learning_rate': 2.3469387755102043e-05, 'epoch': 2.7}\n",
            "{'loss': 0.4989, 'learning_rate': 2.2448979591836737e-05, 'epoch': 2.8}\n",
            "{'loss': 0.4947, 'learning_rate': 2.1428571428571428e-05, 'epoch': 2.9}\n",
            "{'loss': 0.4719, 'learning_rate': 2.0408163265306123e-05, 'epoch': 3.0}\n",
            "{'loss': 0.512, 'learning_rate': 1.9387755102040817e-05, 'epoch': 3.1}\n",
            "{'loss': 0.459, 'learning_rate': 1.836734693877551e-05, 'epoch': 3.2}\n",
            "{'loss': 0.4195, 'learning_rate': 1.7346938775510206e-05, 'epoch': 3.3}\n",
            "{'loss': 0.4708, 'learning_rate': 1.6326530612244897e-05, 'epoch': 3.4}\n",
            "{'loss': 0.3909, 'learning_rate': 1.5306122448979594e-05, 'epoch': 3.5}\n",
            "{'loss': 0.4175, 'learning_rate': 1.4285714285714285e-05, 'epoch': 3.6}\n",
            "{'loss': 0.3721, 'learning_rate': 1.3265306122448982e-05, 'epoch': 3.7}\n",
            "{'loss': 0.4886, 'learning_rate': 1.2244897959183674e-05, 'epoch': 3.8}\n",
            "{'loss': 0.3489, 'learning_rate': 1.1224489795918369e-05, 'epoch': 3.9}\n",
            "{'loss': 0.4018, 'learning_rate': 1.0204081632653061e-05, 'epoch': 4.0}\n",
            "{'loss': 0.4054, 'learning_rate': 9.183673469387756e-06, 'epoch': 4.1}\n",
            "{'loss': 0.4014, 'learning_rate': 8.163265306122448e-06, 'epoch': 4.2}\n",
            "{'loss': 0.3394, 'learning_rate': 7.142857142857143e-06, 'epoch': 4.3}\n",
            "{'loss': 0.3843, 'learning_rate': 6.122448979591837e-06, 'epoch': 4.4}\n",
            "{'loss': 0.4119, 'learning_rate': 5.102040816326531e-06, 'epoch': 4.5}\n",
            "{'loss': 0.3241, 'learning_rate': 4.081632653061224e-06, 'epoch': 4.6}\n",
            "{'loss': 0.413, 'learning_rate': 3.0612244897959185e-06, 'epoch': 4.7}\n",
            "{'loss': 0.3924, 'learning_rate': 2.040816326530612e-06, 'epoch': 4.8}\n",
            "{'loss': 0.3247, 'learning_rate': 1.020408163265306e-06, 'epoch': 4.9}\n",
            "{'loss': 0.3505, 'learning_rate': 0.0, 'epoch': 5.0}\n",
            "{'train_runtime': 87.7082, 'train_samples_per_second': 91.212, 'train_steps_per_second': 5.701, 'train_loss': 0.47617480182647703, 'epoch': 5.0}\n"
          ]
        },
        {
          "output_type": "execute_result",
          "data": {
            "text/plain": [
              "TrainOutput(global_step=500, training_loss=0.47617480182647703, metrics={'train_runtime': 87.7082, 'train_samples_per_second': 91.212, 'train_steps_per_second': 5.701, 'train_loss': 0.47617480182647703, 'epoch': 5.0})"
            ]
          },
          "metadata": {},
          "execution_count": 23
        },
        {
          "output_type": "stream",
          "name": "stdout",
          "text": [
            "time: 1min 27s (started: 2023-04-18 20:42:45 +00:00)\n"
          ]
        }
      ]
    },
    {
      "cell_type": "code",
      "source": [
        "predicted_labels = [model(**tokenizer(kmer, return_tensors=\"pt\")).logits.argmax().item() for kmer in test_texts]\n",
        "target_names = ['non-conservative', 'conservative']\n",
        "print(classification_report(test_labels, predicted_labels, target_names=target_names))"
      ],
      "metadata": {
        "colab": {
          "base_uri": "https://localhost:8080/"
        },
        "id": "w8pT-tR118Fo",
        "outputId": "9f32b97d-5c1f-43f5-aa16-ac3f9690f80e"
      },
      "execution_count": 24,
      "outputs": [
        {
          "output_type": "stream",
          "name": "stdout",
          "text": [
            "                  precision    recall  f1-score   support\n",
            "\n",
            "non-conservative       0.71      0.74      0.72      1000\n",
            "    conservative       0.72      0.69      0.71      1000\n",
            "\n",
            "        accuracy                           0.71      2000\n",
            "       macro avg       0.71      0.71      0.71      2000\n",
            "    weighted avg       0.71      0.71      0.71      2000\n",
            "\n",
            "time: 28.2 s (started: 2023-04-18 20:44:13 +00:00)\n"
          ]
        }
      ]
    },
    {
      "cell_type": "code",
      "source": [
        "from transformers import EsmForSequenceClassification, Trainer, TrainingArguments\n",
        "\n",
        "training_args = TrainingArguments(\n",
        "    output_dir='results',          # output directory\n",
        "    num_train_epochs=7,              # total number of training epochs\n",
        "    per_device_train_batch_size=16,  # batch size per device during training\n",
        "    per_device_eval_batch_size=64,   # batch size for evaluation\n",
        "    warmup_steps=10,                # number of warmup steps for learning rate scheduler\n",
        "    weight_decay=0.1,               # strength of weight decay\n",
        "    logging_dir='logs',            # directory for storing logs\n",
        "    logging_steps=10,\n",
        ")\n",
        "\n",
        "model = EsmForSequenceClassification.from_pretrained(\"facebook/esm2_t6_8M_UR50D\")\n",
        "\n",
        "trainer = Trainer(\n",
        "    model=model,                         # the instantiated 🤗 Transformers model to be trained\n",
        "    args=training_args,                  # training arguments, defined above\n",
        "    train_dataset=train_dataset,         # training dataset\n",
        "    eval_dataset=val_dataset             # evaluation dataset\n",
        ")\n",
        "\n",
        "trainer.train()"
      ],
      "metadata": {
        "colab": {
          "base_uri": "https://localhost:8080/"
        },
        "id": "UIGFtFhp23jC",
        "outputId": "b962eed9-914b-42c7-f99a-6b1bd11343d4"
      },
      "execution_count": 25,
      "outputs": [
        {
          "output_type": "stream",
          "name": "stderr",
          "text": [
            "/usr/local/lib/python3.9/dist-packages/transformers/optimization.py:391: FutureWarning: This implementation of AdamW is deprecated and will be removed in a future version. Use the PyTorch implementation torch.optim.AdamW instead, or set `no_deprecation_warning=True` to disable this warning\n",
            "  warnings.warn(\n"
          ]
        },
        {
          "output_type": "stream",
          "name": "stdout",
          "text": [
            "{'loss': 0.6847, 'learning_rate': 5e-05, 'epoch': 0.1}\n",
            "{'loss': 0.6635, 'learning_rate': 4.9275362318840584e-05, 'epoch': 0.2}\n",
            "{'loss': 0.5995, 'learning_rate': 4.855072463768116e-05, 'epoch': 0.3}\n",
            "{'loss': 0.5647, 'learning_rate': 4.782608695652174e-05, 'epoch': 0.4}\n",
            "{'loss': 0.569, 'learning_rate': 4.710144927536232e-05, 'epoch': 0.5}\n",
            "{'loss': 0.5029, 'learning_rate': 4.63768115942029e-05, 'epoch': 0.6}\n",
            "{'loss': 0.5808, 'learning_rate': 4.565217391304348e-05, 'epoch': 0.7}\n",
            "{'loss': 0.5135, 'learning_rate': 4.492753623188406e-05, 'epoch': 0.8}\n",
            "{'loss': 0.6136, 'learning_rate': 4.4202898550724645e-05, 'epoch': 0.9}\n",
            "{'loss': 0.5284, 'learning_rate': 4.347826086956522e-05, 'epoch': 1.0}\n",
            "{'loss': 0.4989, 'learning_rate': 4.27536231884058e-05, 'epoch': 1.1}\n",
            "{'loss': 0.6092, 'learning_rate': 4.202898550724638e-05, 'epoch': 1.2}\n",
            "{'loss': 0.5242, 'learning_rate': 4.130434782608696e-05, 'epoch': 1.3}\n",
            "{'loss': 0.5023, 'learning_rate': 4.057971014492754e-05, 'epoch': 1.4}\n",
            "{'loss': 0.5565, 'learning_rate': 3.985507246376812e-05, 'epoch': 1.5}\n",
            "{'loss': 0.5157, 'learning_rate': 3.91304347826087e-05, 'epoch': 1.6}\n",
            "{'loss': 0.5233, 'learning_rate': 3.8405797101449274e-05, 'epoch': 1.7}\n",
            "{'loss': 0.4685, 'learning_rate': 3.7681159420289856e-05, 'epoch': 1.8}\n",
            "{'loss': 0.4964, 'learning_rate': 3.695652173913043e-05, 'epoch': 1.9}\n",
            "{'loss': 0.6187, 'learning_rate': 3.6231884057971014e-05, 'epoch': 2.0}\n",
            "{'loss': 0.5125, 'learning_rate': 3.5507246376811596e-05, 'epoch': 2.1}\n",
            "{'loss': 0.4698, 'learning_rate': 3.478260869565218e-05, 'epoch': 2.2}\n",
            "{'loss': 0.4764, 'learning_rate': 3.405797101449276e-05, 'epoch': 2.3}\n",
            "{'loss': 0.4521, 'learning_rate': 3.3333333333333335e-05, 'epoch': 2.4}\n",
            "{'loss': 0.5333, 'learning_rate': 3.260869565217392e-05, 'epoch': 2.5}\n",
            "{'loss': 0.4505, 'learning_rate': 3.188405797101449e-05, 'epoch': 2.6}\n",
            "{'loss': 0.4269, 'learning_rate': 3.1159420289855074e-05, 'epoch': 2.7}\n",
            "{'loss': 0.5028, 'learning_rate': 3.0434782608695656e-05, 'epoch': 2.8}\n",
            "{'loss': 0.4495, 'learning_rate': 2.971014492753623e-05, 'epoch': 2.9}\n",
            "{'loss': 0.4452, 'learning_rate': 2.8985507246376814e-05, 'epoch': 3.0}\n",
            "{'loss': 0.435, 'learning_rate': 2.826086956521739e-05, 'epoch': 3.1}\n",
            "{'loss': 0.475, 'learning_rate': 2.753623188405797e-05, 'epoch': 3.2}\n",
            "{'loss': 0.416, 'learning_rate': 2.6811594202898553e-05, 'epoch': 3.3}\n",
            "{'loss': 0.4302, 'learning_rate': 2.608695652173913e-05, 'epoch': 3.4}\n",
            "{'loss': 0.4227, 'learning_rate': 2.5362318840579714e-05, 'epoch': 3.5}\n",
            "{'loss': 0.3761, 'learning_rate': 2.4637681159420292e-05, 'epoch': 3.6}\n",
            "{'loss': 0.3544, 'learning_rate': 2.391304347826087e-05, 'epoch': 3.7}\n",
            "{'loss': 0.4559, 'learning_rate': 2.318840579710145e-05, 'epoch': 3.8}\n",
            "{'loss': 0.333, 'learning_rate': 2.246376811594203e-05, 'epoch': 3.9}\n",
            "{'loss': 0.3747, 'learning_rate': 2.173913043478261e-05, 'epoch': 4.0}\n",
            "{'loss': 0.3722, 'learning_rate': 2.101449275362319e-05, 'epoch': 4.1}\n",
            "{'loss': 0.3265, 'learning_rate': 2.028985507246377e-05, 'epoch': 4.2}\n",
            "{'loss': 0.264, 'learning_rate': 1.956521739130435e-05, 'epoch': 4.3}\n",
            "{'loss': 0.3063, 'learning_rate': 1.8840579710144928e-05, 'epoch': 4.4}\n",
            "{'loss': 0.396, 'learning_rate': 1.8115942028985507e-05, 'epoch': 4.5}\n",
            "{'loss': 0.2807, 'learning_rate': 1.739130434782609e-05, 'epoch': 4.6}\n",
            "{'loss': 0.3777, 'learning_rate': 1.6666666666666667e-05, 'epoch': 4.7}\n",
            "{'loss': 0.3592, 'learning_rate': 1.5942028985507246e-05, 'epoch': 4.8}\n",
            "{'loss': 0.3411, 'learning_rate': 1.5217391304347828e-05, 'epoch': 4.9}\n",
            "{'loss': 0.3009, 'learning_rate': 1.4492753623188407e-05, 'epoch': 5.0}\n",
            "{'loss': 0.2337, 'learning_rate': 1.3768115942028985e-05, 'epoch': 5.1}\n",
            "{'loss': 0.3538, 'learning_rate': 1.3043478260869566e-05, 'epoch': 5.2}\n",
            "{'loss': 0.2668, 'learning_rate': 1.2318840579710146e-05, 'epoch': 5.3}\n",
            "{'loss': 0.2243, 'learning_rate': 1.1594202898550725e-05, 'epoch': 5.4}\n",
            "{'loss': 0.228, 'learning_rate': 1.0869565217391305e-05, 'epoch': 5.5}\n",
            "{'loss': 0.2505, 'learning_rate': 1.0144927536231885e-05, 'epoch': 5.6}\n",
            "{'loss': 0.3019, 'learning_rate': 9.420289855072464e-06, 'epoch': 5.7}\n",
            "{'loss': 0.2349, 'learning_rate': 8.695652173913044e-06, 'epoch': 5.8}\n",
            "{'loss': 0.3417, 'learning_rate': 7.971014492753623e-06, 'epoch': 5.9}\n",
            "{'loss': 0.2363, 'learning_rate': 7.246376811594203e-06, 'epoch': 6.0}\n",
            "{'loss': 0.2257, 'learning_rate': 6.521739130434783e-06, 'epoch': 6.1}\n",
            "{'loss': 0.213, 'learning_rate': 5.797101449275362e-06, 'epoch': 6.2}\n",
            "{'loss': 0.2047, 'learning_rate': 5.072463768115943e-06, 'epoch': 6.3}\n",
            "{'loss': 0.1586, 'learning_rate': 4.347826086956522e-06, 'epoch': 6.4}\n",
            "{'loss': 0.2863, 'learning_rate': 3.6231884057971017e-06, 'epoch': 6.5}\n",
            "{'loss': 0.1821, 'learning_rate': 2.898550724637681e-06, 'epoch': 6.6}\n",
            "{'loss': 0.1975, 'learning_rate': 2.173913043478261e-06, 'epoch': 6.7}\n",
            "{'loss': 0.2134, 'learning_rate': 1.4492753623188406e-06, 'epoch': 6.8}\n",
            "{'loss': 0.1961, 'learning_rate': 7.246376811594203e-07, 'epoch': 6.9}\n",
            "{'loss': 0.214, 'learning_rate': 0.0, 'epoch': 7.0}\n",
            "{'train_runtime': 122.8147, 'train_samples_per_second': 91.194, 'train_steps_per_second': 5.7, 'train_loss': 0.4002031067439488, 'epoch': 7.0}\n"
          ]
        },
        {
          "output_type": "execute_result",
          "data": {
            "text/plain": [
              "TrainOutput(global_step=700, training_loss=0.4002031067439488, metrics={'train_runtime': 122.8147, 'train_samples_per_second': 91.194, 'train_steps_per_second': 5.7, 'train_loss': 0.4002031067439488, 'epoch': 7.0})"
            ]
          },
          "metadata": {},
          "execution_count": 25
        },
        {
          "output_type": "stream",
          "name": "stdout",
          "text": [
            "time: 2min 3s (started: 2023-04-18 20:44:41 +00:00)\n"
          ]
        }
      ]
    },
    {
      "cell_type": "code",
      "source": [
        "predicted_labels = [model(**tokenizer(kmer, return_tensors=\"pt\")).logits.argmax().item() for kmer in test_texts]\n",
        "target_names = ['non-conservative', 'conservative']\n",
        "print(classification_report(test_labels, predicted_labels, target_names=target_names))"
      ],
      "metadata": {
        "colab": {
          "base_uri": "https://localhost:8080/"
        },
        "id": "wvQzbN3o26Bv",
        "outputId": "356a3cc8-1d95-42ab-f43b-0754914738c8"
      },
      "execution_count": 26,
      "outputs": [
        {
          "output_type": "stream",
          "name": "stdout",
          "text": [
            "                  precision    recall  f1-score   support\n",
            "\n",
            "non-conservative       0.72      0.74      0.73      1000\n",
            "    conservative       0.73      0.70      0.72      1000\n",
            "\n",
            "        accuracy                           0.73      2000\n",
            "       macro avg       0.73      0.72      0.72      2000\n",
            "    weighted avg       0.73      0.72      0.72      2000\n",
            "\n",
            "time: 28.2 s (started: 2023-04-18 20:46:44 +00:00)\n"
          ]
        }
      ]
    },
    {
      "cell_type": "markdown",
      "source": [
        "Данные параметры выдают наилучший результат, так что будем использовать их"
      ],
      "metadata": {
        "id": "lPnn_ydcIG_x"
      }
    },
    {
      "cell_type": "code",
      "source": [
        "from transformers import EsmForSequenceClassification, Trainer, TrainingArguments\n",
        "\n",
        "training_args = TrainingArguments(\n",
        "    output_dir='results',          # output directory\n",
        "    num_train_epochs=3,              # total number of training epochs\n",
        "    per_device_train_batch_size=16,  # batch size per device during training\n",
        "    per_device_eval_batch_size=16,   # batch size for evaluation\n",
        "    warmup_steps=10,                # number of warmup steps for learning rate scheduler\n",
        "    weight_decay=0.1,               # strength of weight decay\n",
        "    logging_dir='logs',            # directory for storing logs\n",
        "    logging_steps=10,\n",
        ")\n",
        "\n",
        "model = EsmForSequenceClassification.from_pretrained(\"facebook/esm2_t6_8M_UR50D\")\n",
        "\n",
        "trainer = Trainer(\n",
        "    model=model,                         # the instantiated 🤗 Transformers model to be trained\n",
        "    args=training_args,                  # training arguments, defined above\n",
        "    train_dataset=train_dataset,         # training dataset\n",
        "    eval_dataset=val_dataset             # evaluation dataset\n",
        ")\n",
        "\n",
        "trainer.train()"
      ],
      "metadata": {
        "colab": {
          "base_uri": "https://localhost:8080/"
        },
        "id": "VljRm4De4NqN",
        "outputId": "112a6d07-cae2-4089-e903-8f4cb54f6d9d"
      },
      "execution_count": 27,
      "outputs": [
        {
          "output_type": "stream",
          "name": "stderr",
          "text": [
            "/usr/local/lib/python3.9/dist-packages/transformers/optimization.py:391: FutureWarning: This implementation of AdamW is deprecated and will be removed in a future version. Use the PyTorch implementation torch.optim.AdamW instead, or set `no_deprecation_warning=True` to disable this warning\n",
            "  warnings.warn(\n"
          ]
        },
        {
          "output_type": "stream",
          "name": "stdout",
          "text": [
            "{'loss': 0.6846, 'learning_rate': 5e-05, 'epoch': 0.1}\n",
            "{'loss': 0.6569, 'learning_rate': 4.827586206896552e-05, 'epoch': 0.2}\n",
            "{'loss': 0.59, 'learning_rate': 4.655172413793104e-05, 'epoch': 0.3}\n",
            "{'loss': 0.5794, 'learning_rate': 4.482758620689655e-05, 'epoch': 0.4}\n",
            "{'loss': 0.5568, 'learning_rate': 4.3103448275862066e-05, 'epoch': 0.5}\n",
            "{'loss': 0.5319, 'learning_rate': 4.1379310344827587e-05, 'epoch': 0.6}\n",
            "{'loss': 0.5407, 'learning_rate': 3.965517241379311e-05, 'epoch': 0.7}\n",
            "{'loss': 0.5083, 'learning_rate': 3.793103448275862e-05, 'epoch': 0.8}\n",
            "{'loss': 0.6158, 'learning_rate': 3.620689655172414e-05, 'epoch': 0.9}\n",
            "{'loss': 0.5418, 'learning_rate': 3.4482758620689657e-05, 'epoch': 1.0}\n",
            "{'loss': 0.5017, 'learning_rate': 3.275862068965517e-05, 'epoch': 1.1}\n",
            "{'loss': 0.5769, 'learning_rate': 3.103448275862069e-05, 'epoch': 1.2}\n",
            "{'loss': 0.4835, 'learning_rate': 2.9310344827586206e-05, 'epoch': 1.3}\n",
            "{'loss': 0.4856, 'learning_rate': 2.7586206896551727e-05, 'epoch': 1.4}\n",
            "{'loss': 0.5309, 'learning_rate': 2.5862068965517244e-05, 'epoch': 1.5}\n",
            "{'loss': 0.5193, 'learning_rate': 2.413793103448276e-05, 'epoch': 1.6}\n",
            "{'loss': 0.5152, 'learning_rate': 2.2413793103448276e-05, 'epoch': 1.7}\n",
            "{'loss': 0.4716, 'learning_rate': 2.0689655172413793e-05, 'epoch': 1.8}\n",
            "{'loss': 0.4831, 'learning_rate': 1.896551724137931e-05, 'epoch': 1.9}\n",
            "{'loss': 0.6229, 'learning_rate': 1.7241379310344828e-05, 'epoch': 2.0}\n",
            "{'loss': 0.5123, 'learning_rate': 1.5517241379310346e-05, 'epoch': 2.1}\n",
            "{'loss': 0.4575, 'learning_rate': 1.3793103448275863e-05, 'epoch': 2.2}\n",
            "{'loss': 0.4827, 'learning_rate': 1.206896551724138e-05, 'epoch': 2.3}\n",
            "{'loss': 0.4562, 'learning_rate': 1.0344827586206897e-05, 'epoch': 2.4}\n",
            "{'loss': 0.5082, 'learning_rate': 8.620689655172414e-06, 'epoch': 2.5}\n",
            "{'loss': 0.4605, 'learning_rate': 6.896551724137932e-06, 'epoch': 2.6}\n",
            "{'loss': 0.4386, 'learning_rate': 5.172413793103448e-06, 'epoch': 2.7}\n",
            "{'loss': 0.488, 'learning_rate': 3.448275862068966e-06, 'epoch': 2.8}\n",
            "{'loss': 0.4709, 'learning_rate': 1.724137931034483e-06, 'epoch': 2.9}\n",
            "{'loss': 0.476, 'learning_rate': 0.0, 'epoch': 3.0}\n",
            "{'train_runtime': 52.2834, 'train_samples_per_second': 91.807, 'train_steps_per_second': 5.738, 'train_loss': 0.5249180555343628, 'epoch': 3.0}\n"
          ]
        },
        {
          "output_type": "execute_result",
          "data": {
            "text/plain": [
              "TrainOutput(global_step=300, training_loss=0.5249180555343628, metrics={'train_runtime': 52.2834, 'train_samples_per_second': 91.807, 'train_steps_per_second': 5.738, 'train_loss': 0.5249180555343628, 'epoch': 3.0})"
            ]
          },
          "metadata": {},
          "execution_count": 27
        },
        {
          "output_type": "stream",
          "name": "stdout",
          "text": [
            "time: 52.5 s (started: 2023-04-18 20:47:12 +00:00)\n"
          ]
        }
      ]
    },
    {
      "cell_type": "code",
      "source": [
        "predicted_labels = [model(**tokenizer(kmer, return_tensors=\"pt\")).logits.argmax().item() for kmer in test_texts]\n",
        "target_names = ['non-conservative', 'conservative']\n",
        "print(classification_report(test_labels, predicted_labels, target_names=target_names))"
      ],
      "metadata": {
        "colab": {
          "base_uri": "https://localhost:8080/"
        },
        "id": "gvilPR1H4RVz",
        "outputId": "eb7ac443-1635-4fa3-c149-a45e97ec7069"
      },
      "execution_count": 28,
      "outputs": [
        {
          "output_type": "stream",
          "name": "stdout",
          "text": [
            "                  precision    recall  f1-score   support\n",
            "\n",
            "non-conservative       0.71      0.69      0.70      1000\n",
            "    conservative       0.70      0.72      0.71      1000\n",
            "\n",
            "        accuracy                           0.70      2000\n",
            "       macro avg       0.70      0.70      0.70      2000\n",
            "    weighted avg       0.70      0.70      0.70      2000\n",
            "\n",
            "time: 28.5 s (started: 2023-04-18 20:48:05 +00:00)\n"
          ]
        }
      ]
    },
    {
      "cell_type": "markdown",
      "source": [
        "В нашем случае генерацию последовательности можно свести к задаче классификации на 4 класса, где каждый класс - это следующий нуклеотид"
      ],
      "metadata": {
        "id": "u9F5UWpDiFJ2"
      }
    },
    {
      "cell_type": "code",
      "source": [
        "id2label = {0: \"A\", 1: \"C\", 2: \"G\", 3: \"T\"}\n",
        "label2id = {\"A\": 0, \"C\": 1, \"G\": 2, \"T\": 3}"
      ],
      "metadata": {
        "colab": {
          "base_uri": "https://localhost:8080/"
        },
        "id": "l_7YFmlciZTC",
        "outputId": "ec147f4f-a48d-4805-80d9-99a87228f292"
      },
      "execution_count": 29,
      "outputs": [
        {
          "output_type": "stream",
          "name": "stdout",
          "text": [
            "time: 663 µs (started: 2023-04-18 20:49:16 +00:00)\n"
          ]
        }
      ]
    },
    {
      "cell_type": "code",
      "source": [
        "train_texts, val_texts, train_labels, val_labels = train_test_split(generation_texts, generation_labels, test_size=.2)"
      ],
      "metadata": {
        "colab": {
          "base_uri": "https://localhost:8080/"
        },
        "id": "1sq_ZCuPuIsZ",
        "outputId": "75d48955-f6d2-44c8-f208-d37cc2c53d9e"
      },
      "execution_count": 30,
      "outputs": [
        {
          "output_type": "stream",
          "name": "stdout",
          "text": [
            "time: 6.17 ms (started: 2023-04-18 20:49:20 +00:00)\n"
          ]
        }
      ]
    },
    {
      "cell_type": "code",
      "source": [
        "test_texts, test_labels = add_mismatches(generation_texts), generation_labels"
      ],
      "metadata": {
        "colab": {
          "base_uri": "https://localhost:8080/"
        },
        "id": "AB_KFMpUtxo0",
        "outputId": "c1083ef8-5309-49d4-cbb0-32cbfe26f4fd"
      },
      "execution_count": 31,
      "outputs": [
        {
          "output_type": "stream",
          "name": "stdout",
          "text": [
            "time: 13.4 ms (started: 2023-04-18 20:49:22 +00:00)\n"
          ]
        }
      ]
    },
    {
      "cell_type": "code",
      "source": [
        "from transformers import AutoTokenizer\n",
        "tokenizer = AutoTokenizer.from_pretrained(\"facebook/esm2_t6_8M_UR50D\")\n",
        "train_encodings = tokenizer(train_texts, truncation=True, padding=True)\n",
        "val_encodings = tokenizer(val_texts, truncation=True, padding=True)\n",
        "train_dataset = IMDbDataset(train_encodings, train_labels)\n",
        "val_dataset = IMDbDataset(val_encodings, val_labels)"
      ],
      "metadata": {
        "colab": {
          "base_uri": "https://localhost:8080/"
        },
        "id": "jOK-rHCluZcy",
        "outputId": "c5d7e576-ffb7-4dab-e947-c2d1e568ab2b"
      },
      "execution_count": 32,
      "outputs": [
        {
          "output_type": "stream",
          "name": "stdout",
          "text": [
            "time: 236 ms (started: 2023-04-18 20:49:25 +00:00)\n"
          ]
        }
      ]
    },
    {
      "cell_type": "code",
      "source": [
        "from transformers import EsmForSequenceClassification, AutoModelForSequenceClassification, Trainer, TrainingArguments\n",
        "\n",
        "training_args = TrainingArguments(\n",
        "    output_dir='results',          # output directory\n",
        "    num_train_epochs=7,              # total number of training epochs\n",
        "    per_device_train_batch_size=16,  # batch size per device during training\n",
        "    per_device_eval_batch_size=64,   # batch size for evaluation\n",
        "    warmup_steps=10,                # number of warmup steps for learning rate scheduler\n",
        "    weight_decay=0.1,               # strength of weight decay\n",
        "    logging_dir='logs',            # directory for storing logs\n",
        "    logging_steps=10,\n",
        ")\n",
        "\n",
        "#model = EsmForSequenceClassification.from_pretrained(\"facebook/esm2_t6_8M_UR50D\", num_labels=4, id2label=id2label, label2id=label2id)\n",
        "model = AutoModelForSequenceClassification.from_pretrained(\n",
        "    \"distilbert-base-uncased\", num_labels=4, id2label=id2label, label2id=label2id\n",
        ")\n",
        "\n",
        "trainer = Trainer(\n",
        "    model=model,                         # the instantiated 🤗 Transformers model to be trained\n",
        "    args=training_args,                  # training arguments, defined above\n",
        "    train_dataset=train_dataset,         # training dataset\n",
        "    eval_dataset=val_dataset             # evaluation dataset\n",
        ")\n",
        "\n",
        "trainer.train()"
      ],
      "metadata": {
        "colab": {
          "base_uri": "https://localhost:8080/",
          "height": 362
        },
        "id": "VHg58Q8MtYFD",
        "outputId": "1770fb99-cf77-4359-b6a6-7539ef9731a3"
      },
      "execution_count": 35,
      "outputs": [
        {
          "output_type": "error",
          "ename": "TypeError",
          "evalue": "ignored",
          "traceback": [
            "\u001b[0;31m---------------------------------------------------------------------------\u001b[0m",
            "\u001b[0;31mTypeError\u001b[0m                                 Traceback (most recent call last)",
            "\u001b[0;32m<ipython-input-35-1c9ed6f4f437>\u001b[0m in \u001b[0;36m<cell line: 26>\u001b[0;34m()\u001b[0m\n\u001b[1;32m     24\u001b[0m )\n\u001b[1;32m     25\u001b[0m \u001b[0;34m\u001b[0m\u001b[0m\n\u001b[0;32m---> 26\u001b[0;31m \u001b[0mtrainer\u001b[0m\u001b[0;34m.\u001b[0m\u001b[0mtrain\u001b[0m\u001b[0;34m(\u001b[0m\u001b[0;34m)\u001b[0m\u001b[0;34m\u001b[0m\u001b[0;34m\u001b[0m\u001b[0m\n\u001b[0m",
            "\u001b[0;32m/usr/local/lib/python3.9/dist-packages/transformers/trainer.py\u001b[0m in \u001b[0;36mtrain\u001b[0;34m(self, resume_from_checkpoint, trial, ignore_keys_for_eval, **kwargs)\u001b[0m\n\u001b[1;32m   1660\u001b[0m             \u001b[0mself\u001b[0m\u001b[0;34m.\u001b[0m\u001b[0m_inner_training_loop\u001b[0m\u001b[0;34m,\u001b[0m \u001b[0mself\u001b[0m\u001b[0;34m.\u001b[0m\u001b[0m_train_batch_size\u001b[0m\u001b[0;34m,\u001b[0m \u001b[0margs\u001b[0m\u001b[0;34m.\u001b[0m\u001b[0mauto_find_batch_size\u001b[0m\u001b[0;34m\u001b[0m\u001b[0;34m\u001b[0m\u001b[0m\n\u001b[1;32m   1661\u001b[0m         )\n\u001b[0;32m-> 1662\u001b[0;31m         return inner_training_loop(\n\u001b[0m\u001b[1;32m   1663\u001b[0m             \u001b[0margs\u001b[0m\u001b[0;34m=\u001b[0m\u001b[0margs\u001b[0m\u001b[0;34m,\u001b[0m\u001b[0;34m\u001b[0m\u001b[0;34m\u001b[0m\u001b[0m\n\u001b[1;32m   1664\u001b[0m             \u001b[0mresume_from_checkpoint\u001b[0m\u001b[0;34m=\u001b[0m\u001b[0mresume_from_checkpoint\u001b[0m\u001b[0;34m,\u001b[0m\u001b[0;34m\u001b[0m\u001b[0;34m\u001b[0m\u001b[0m\n",
            "\u001b[0;32m/usr/local/lib/python3.9/dist-packages/transformers/trainer.py\u001b[0m in \u001b[0;36m_inner_training_loop\u001b[0;34m(self, batch_size, args, resume_from_checkpoint, trial, ignore_keys_for_eval)\u001b[0m\n\u001b[1;32m   1897\u001b[0m \u001b[0;34m\u001b[0m\u001b[0m\n\u001b[1;32m   1898\u001b[0m             \u001b[0mstep\u001b[0m \u001b[0;34m=\u001b[0m \u001b[0;34m-\u001b[0m\u001b[0;36m1\u001b[0m\u001b[0;34m\u001b[0m\u001b[0;34m\u001b[0m\u001b[0m\n\u001b[0;32m-> 1899\u001b[0;31m             \u001b[0;32mfor\u001b[0m \u001b[0mstep\u001b[0m\u001b[0;34m,\u001b[0m \u001b[0minputs\u001b[0m \u001b[0;32min\u001b[0m \u001b[0menumerate\u001b[0m\u001b[0;34m(\u001b[0m\u001b[0mepoch_iterator\u001b[0m\u001b[0;34m)\u001b[0m\u001b[0;34m:\u001b[0m\u001b[0;34m\u001b[0m\u001b[0;34m\u001b[0m\u001b[0m\n\u001b[0m\u001b[1;32m   1900\u001b[0m                 \u001b[0mtotal_batched_samples\u001b[0m \u001b[0;34m+=\u001b[0m \u001b[0;36m1\u001b[0m\u001b[0;34m\u001b[0m\u001b[0;34m\u001b[0m\u001b[0m\n\u001b[1;32m   1901\u001b[0m                 \u001b[0;32mif\u001b[0m \u001b[0mrng_to_sync\u001b[0m\u001b[0;34m:\u001b[0m\u001b[0;34m\u001b[0m\u001b[0;34m\u001b[0m\u001b[0m\n",
            "\u001b[0;32m/usr/local/lib/python3.9/dist-packages/torch/utils/data/dataloader.py\u001b[0m in \u001b[0;36m__next__\u001b[0;34m(self)\u001b[0m\n\u001b[1;32m    632\u001b[0m                 \u001b[0;31m# TODO(https://github.com/pytorch/pytorch/issues/76750)\u001b[0m\u001b[0;34m\u001b[0m\u001b[0;34m\u001b[0m\u001b[0m\n\u001b[1;32m    633\u001b[0m                 \u001b[0mself\u001b[0m\u001b[0;34m.\u001b[0m\u001b[0m_reset\u001b[0m\u001b[0;34m(\u001b[0m\u001b[0;34m)\u001b[0m  \u001b[0;31m# type: ignore[call-arg]\u001b[0m\u001b[0;34m\u001b[0m\u001b[0;34m\u001b[0m\u001b[0m\n\u001b[0;32m--> 634\u001b[0;31m             \u001b[0mdata\u001b[0m \u001b[0;34m=\u001b[0m \u001b[0mself\u001b[0m\u001b[0;34m.\u001b[0m\u001b[0m_next_data\u001b[0m\u001b[0;34m(\u001b[0m\u001b[0;34m)\u001b[0m\u001b[0;34m\u001b[0m\u001b[0;34m\u001b[0m\u001b[0m\n\u001b[0m\u001b[1;32m    635\u001b[0m             \u001b[0mself\u001b[0m\u001b[0;34m.\u001b[0m\u001b[0m_num_yielded\u001b[0m \u001b[0;34m+=\u001b[0m \u001b[0;36m1\u001b[0m\u001b[0;34m\u001b[0m\u001b[0;34m\u001b[0m\u001b[0m\n\u001b[1;32m    636\u001b[0m             \u001b[0;32mif\u001b[0m \u001b[0mself\u001b[0m\u001b[0;34m.\u001b[0m\u001b[0m_dataset_kind\u001b[0m \u001b[0;34m==\u001b[0m \u001b[0m_DatasetKind\u001b[0m\u001b[0;34m.\u001b[0m\u001b[0mIterable\u001b[0m \u001b[0;32mand\u001b[0m\u001b[0;31m \u001b[0m\u001b[0;31m\\\u001b[0m\u001b[0;34m\u001b[0m\u001b[0;34m\u001b[0m\u001b[0m\n",
            "\u001b[0;32m/usr/local/lib/python3.9/dist-packages/torch/utils/data/dataloader.py\u001b[0m in \u001b[0;36m_next_data\u001b[0;34m(self)\u001b[0m\n\u001b[1;32m    676\u001b[0m     \u001b[0;32mdef\u001b[0m \u001b[0m_next_data\u001b[0m\u001b[0;34m(\u001b[0m\u001b[0mself\u001b[0m\u001b[0;34m)\u001b[0m\u001b[0;34m:\u001b[0m\u001b[0;34m\u001b[0m\u001b[0;34m\u001b[0m\u001b[0m\n\u001b[1;32m    677\u001b[0m         \u001b[0mindex\u001b[0m \u001b[0;34m=\u001b[0m \u001b[0mself\u001b[0m\u001b[0;34m.\u001b[0m\u001b[0m_next_index\u001b[0m\u001b[0;34m(\u001b[0m\u001b[0;34m)\u001b[0m  \u001b[0;31m# may raise StopIteration\u001b[0m\u001b[0;34m\u001b[0m\u001b[0;34m\u001b[0m\u001b[0m\n\u001b[0;32m--> 678\u001b[0;31m         \u001b[0mdata\u001b[0m \u001b[0;34m=\u001b[0m \u001b[0mself\u001b[0m\u001b[0;34m.\u001b[0m\u001b[0m_dataset_fetcher\u001b[0m\u001b[0;34m.\u001b[0m\u001b[0mfetch\u001b[0m\u001b[0;34m(\u001b[0m\u001b[0mindex\u001b[0m\u001b[0;34m)\u001b[0m  \u001b[0;31m# may raise StopIteration\u001b[0m\u001b[0;34m\u001b[0m\u001b[0;34m\u001b[0m\u001b[0m\n\u001b[0m\u001b[1;32m    679\u001b[0m         \u001b[0;32mif\u001b[0m \u001b[0mself\u001b[0m\u001b[0;34m.\u001b[0m\u001b[0m_pin_memory\u001b[0m\u001b[0;34m:\u001b[0m\u001b[0;34m\u001b[0m\u001b[0;34m\u001b[0m\u001b[0m\n\u001b[1;32m    680\u001b[0m             \u001b[0mdata\u001b[0m \u001b[0;34m=\u001b[0m \u001b[0m_utils\u001b[0m\u001b[0;34m.\u001b[0m\u001b[0mpin_memory\u001b[0m\u001b[0;34m.\u001b[0m\u001b[0mpin_memory\u001b[0m\u001b[0;34m(\u001b[0m\u001b[0mdata\u001b[0m\u001b[0;34m,\u001b[0m \u001b[0mself\u001b[0m\u001b[0;34m.\u001b[0m\u001b[0m_pin_memory_device\u001b[0m\u001b[0;34m)\u001b[0m\u001b[0;34m\u001b[0m\u001b[0;34m\u001b[0m\u001b[0m\n",
            "\u001b[0;32m/usr/local/lib/python3.9/dist-packages/torch/utils/data/_utils/fetch.py\u001b[0m in \u001b[0;36mfetch\u001b[0;34m(self, possibly_batched_index)\u001b[0m\n\u001b[1;32m     49\u001b[0m                 \u001b[0mdata\u001b[0m \u001b[0;34m=\u001b[0m \u001b[0mself\u001b[0m\u001b[0;34m.\u001b[0m\u001b[0mdataset\u001b[0m\u001b[0;34m.\u001b[0m\u001b[0m__getitems__\u001b[0m\u001b[0;34m(\u001b[0m\u001b[0mpossibly_batched_index\u001b[0m\u001b[0;34m)\u001b[0m\u001b[0;34m\u001b[0m\u001b[0;34m\u001b[0m\u001b[0m\n\u001b[1;32m     50\u001b[0m             \u001b[0;32melse\u001b[0m\u001b[0;34m:\u001b[0m\u001b[0;34m\u001b[0m\u001b[0;34m\u001b[0m\u001b[0m\n\u001b[0;32m---> 51\u001b[0;31m                 \u001b[0mdata\u001b[0m \u001b[0;34m=\u001b[0m \u001b[0;34m[\u001b[0m\u001b[0mself\u001b[0m\u001b[0;34m.\u001b[0m\u001b[0mdataset\u001b[0m\u001b[0;34m[\u001b[0m\u001b[0midx\u001b[0m\u001b[0;34m]\u001b[0m \u001b[0;32mfor\u001b[0m \u001b[0midx\u001b[0m \u001b[0;32min\u001b[0m \u001b[0mpossibly_batched_index\u001b[0m\u001b[0;34m]\u001b[0m\u001b[0;34m\u001b[0m\u001b[0;34m\u001b[0m\u001b[0m\n\u001b[0m\u001b[1;32m     52\u001b[0m         \u001b[0;32melse\u001b[0m\u001b[0;34m:\u001b[0m\u001b[0;34m\u001b[0m\u001b[0;34m\u001b[0m\u001b[0m\n\u001b[1;32m     53\u001b[0m             \u001b[0mdata\u001b[0m \u001b[0;34m=\u001b[0m \u001b[0mself\u001b[0m\u001b[0;34m.\u001b[0m\u001b[0mdataset\u001b[0m\u001b[0;34m[\u001b[0m\u001b[0mpossibly_batched_index\u001b[0m\u001b[0;34m]\u001b[0m\u001b[0;34m\u001b[0m\u001b[0;34m\u001b[0m\u001b[0m\n",
            "\u001b[0;32m/usr/local/lib/python3.9/dist-packages/torch/utils/data/_utils/fetch.py\u001b[0m in \u001b[0;36m<listcomp>\u001b[0;34m(.0)\u001b[0m\n\u001b[1;32m     49\u001b[0m                 \u001b[0mdata\u001b[0m \u001b[0;34m=\u001b[0m \u001b[0mself\u001b[0m\u001b[0;34m.\u001b[0m\u001b[0mdataset\u001b[0m\u001b[0;34m.\u001b[0m\u001b[0m__getitems__\u001b[0m\u001b[0;34m(\u001b[0m\u001b[0mpossibly_batched_index\u001b[0m\u001b[0;34m)\u001b[0m\u001b[0;34m\u001b[0m\u001b[0;34m\u001b[0m\u001b[0m\n\u001b[1;32m     50\u001b[0m             \u001b[0;32melse\u001b[0m\u001b[0;34m:\u001b[0m\u001b[0;34m\u001b[0m\u001b[0;34m\u001b[0m\u001b[0m\n\u001b[0;32m---> 51\u001b[0;31m                 \u001b[0mdata\u001b[0m \u001b[0;34m=\u001b[0m \u001b[0;34m[\u001b[0m\u001b[0mself\u001b[0m\u001b[0;34m.\u001b[0m\u001b[0mdataset\u001b[0m\u001b[0;34m[\u001b[0m\u001b[0midx\u001b[0m\u001b[0;34m]\u001b[0m \u001b[0;32mfor\u001b[0m \u001b[0midx\u001b[0m \u001b[0;32min\u001b[0m \u001b[0mpossibly_batched_index\u001b[0m\u001b[0;34m]\u001b[0m\u001b[0;34m\u001b[0m\u001b[0;34m\u001b[0m\u001b[0m\n\u001b[0m\u001b[1;32m     52\u001b[0m         \u001b[0;32melse\u001b[0m\u001b[0;34m:\u001b[0m\u001b[0;34m\u001b[0m\u001b[0;34m\u001b[0m\u001b[0m\n\u001b[1;32m     53\u001b[0m             \u001b[0mdata\u001b[0m \u001b[0;34m=\u001b[0m \u001b[0mself\u001b[0m\u001b[0;34m.\u001b[0m\u001b[0mdataset\u001b[0m\u001b[0;34m[\u001b[0m\u001b[0mpossibly_batched_index\u001b[0m\u001b[0;34m]\u001b[0m\u001b[0;34m\u001b[0m\u001b[0;34m\u001b[0m\u001b[0m\n",
            "\u001b[0;32m<ipython-input-8-f89645c30031>\u001b[0m in \u001b[0;36m__getitem__\u001b[0;34m(self, idx)\u001b[0m\n\u001b[1;32m      6\u001b[0m     \u001b[0;32mdef\u001b[0m \u001b[0m__getitem__\u001b[0m\u001b[0;34m(\u001b[0m\u001b[0mself\u001b[0m\u001b[0;34m,\u001b[0m \u001b[0midx\u001b[0m\u001b[0;34m)\u001b[0m\u001b[0;34m:\u001b[0m\u001b[0;34m\u001b[0m\u001b[0;34m\u001b[0m\u001b[0m\n\u001b[1;32m      7\u001b[0m         \u001b[0mitem\u001b[0m \u001b[0;34m=\u001b[0m \u001b[0;34m{\u001b[0m\u001b[0mkey\u001b[0m\u001b[0;34m:\u001b[0m \u001b[0mtorch\u001b[0m\u001b[0;34m.\u001b[0m\u001b[0mtensor\u001b[0m\u001b[0;34m(\u001b[0m\u001b[0mval\u001b[0m\u001b[0;34m[\u001b[0m\u001b[0midx\u001b[0m\u001b[0;34m]\u001b[0m\u001b[0;34m)\u001b[0m \u001b[0;32mfor\u001b[0m \u001b[0mkey\u001b[0m\u001b[0;34m,\u001b[0m \u001b[0mval\u001b[0m \u001b[0;32min\u001b[0m \u001b[0mself\u001b[0m\u001b[0;34m.\u001b[0m\u001b[0mencodings\u001b[0m\u001b[0;34m.\u001b[0m\u001b[0mitems\u001b[0m\u001b[0;34m(\u001b[0m\u001b[0;34m)\u001b[0m\u001b[0;34m}\u001b[0m\u001b[0;34m\u001b[0m\u001b[0;34m\u001b[0m\u001b[0m\n\u001b[0;32m----> 8\u001b[0;31m         \u001b[0mitem\u001b[0m\u001b[0;34m[\u001b[0m\u001b[0;34m'labels'\u001b[0m\u001b[0;34m]\u001b[0m \u001b[0;34m=\u001b[0m \u001b[0mtorch\u001b[0m\u001b[0;34m.\u001b[0m\u001b[0mtensor\u001b[0m\u001b[0;34m(\u001b[0m\u001b[0mself\u001b[0m\u001b[0;34m.\u001b[0m\u001b[0mlabels\u001b[0m\u001b[0;34m[\u001b[0m\u001b[0midx\u001b[0m\u001b[0;34m]\u001b[0m\u001b[0;34m)\u001b[0m\u001b[0;34m\u001b[0m\u001b[0;34m\u001b[0m\u001b[0m\n\u001b[0m\u001b[1;32m      9\u001b[0m         \u001b[0;32mreturn\u001b[0m \u001b[0mitem\u001b[0m\u001b[0;34m\u001b[0m\u001b[0;34m\u001b[0m\u001b[0m\n\u001b[1;32m     10\u001b[0m \u001b[0;34m\u001b[0m\u001b[0m\n",
            "\u001b[0;31mTypeError\u001b[0m: new(): invalid data type 'str'"
          ]
        },
        {
          "output_type": "stream",
          "name": "stdout",
          "text": [
            "time: 3.56 s (started: 2023-04-18 20:50:24 +00:00)\n"
          ]
        }
      ]
    },
    {
      "cell_type": "code",
      "source": [
        "predicted_labels = [model(**tokenizer(kmer, return_tensors=\"pt\")).logits.argmax().item() for kmer in test_texts]\n",
        "target_names = ['non-conservative', 'conservative']\n",
        "print(classification_report(test_labels, predicted_labels, target_names=target_names))"
      ],
      "metadata": {
        "id": "l8Rix6xeutZx"
      },
      "execution_count": null,
      "outputs": []
    },
    {
      "cell_type": "code",
      "source": [
        "from transformers import AutoModelForSequenceClassification, TrainingArguments, Trainer\n",
        "\n",
        "model = AutoModelForSequenceClassification.from_pretrained(\n",
        "    \"distilbert-base-uncased\", num_labels=4, id2label=id2label, label2id=label2id\n",
        ")"
      ],
      "metadata": {
        "id": "tSiTZaO1jFHT"
      },
      "execution_count": null,
      "outputs": []
    }
  ],
  "metadata": {
    "colab": {
      "provenance": []
    },
    "kernelspec": {
      "display_name": "Python 3",
      "name": "python3"
    },
    "language_info": {
      "name": "python"
    },
    "widgets": {
      "application/vnd.jupyter.widget-state+json": {
        "e99ef7c9278948db9de710304a99dd36": {
          "model_module": "@jupyter-widgets/controls",
          "model_name": "HBoxModel",
          "model_module_version": "1.5.0",
          "state": {
            "_dom_classes": [],
            "_model_module": "@jupyter-widgets/controls",
            "_model_module_version": "1.5.0",
            "_model_name": "HBoxModel",
            "_view_count": null,
            "_view_module": "@jupyter-widgets/controls",
            "_view_module_version": "1.5.0",
            "_view_name": "HBoxView",
            "box_style": "",
            "children": [
              "IPY_MODEL_c782031e584b45bf859138e4b87e928f",
              "IPY_MODEL_dfc3b5bf7ccd40a5b5830070d5780f91",
              "IPY_MODEL_700ada8e5fd64b728e152ad9050e0416"
            ],
            "layout": "IPY_MODEL_ca5e30666b8240dabd8647883a562603"
          }
        },
        "c782031e584b45bf859138e4b87e928f": {
          "model_module": "@jupyter-widgets/controls",
          "model_name": "HTMLModel",
          "model_module_version": "1.5.0",
          "state": {
            "_dom_classes": [],
            "_model_module": "@jupyter-widgets/controls",
            "_model_module_version": "1.5.0",
            "_model_name": "HTMLModel",
            "_view_count": null,
            "_view_module": "@jupyter-widgets/controls",
            "_view_module_version": "1.5.0",
            "_view_name": "HTMLView",
            "description": "",
            "description_tooltip": null,
            "layout": "IPY_MODEL_6ea6516a4af54997a300862d31b1a48b",
            "placeholder": "​",
            "style": "IPY_MODEL_7e37f0e31d1346da9652053e6e58f57d",
            "value": "Downloading (…)okenizer_config.json: 100%"
          }
        },
        "dfc3b5bf7ccd40a5b5830070d5780f91": {
          "model_module": "@jupyter-widgets/controls",
          "model_name": "FloatProgressModel",
          "model_module_version": "1.5.0",
          "state": {
            "_dom_classes": [],
            "_model_module": "@jupyter-widgets/controls",
            "_model_module_version": "1.5.0",
            "_model_name": "FloatProgressModel",
            "_view_count": null,
            "_view_module": "@jupyter-widgets/controls",
            "_view_module_version": "1.5.0",
            "_view_name": "ProgressView",
            "bar_style": "success",
            "description": "",
            "description_tooltip": null,
            "layout": "IPY_MODEL_59e1471de117456ba48deff7e85de4db",
            "max": 28,
            "min": 0,
            "orientation": "horizontal",
            "style": "IPY_MODEL_7561f4623adf4e8a9e4ebaa9e7410cd9",
            "value": 28
          }
        },
        "700ada8e5fd64b728e152ad9050e0416": {
          "model_module": "@jupyter-widgets/controls",
          "model_name": "HTMLModel",
          "model_module_version": "1.5.0",
          "state": {
            "_dom_classes": [],
            "_model_module": "@jupyter-widgets/controls",
            "_model_module_version": "1.5.0",
            "_model_name": "HTMLModel",
            "_view_count": null,
            "_view_module": "@jupyter-widgets/controls",
            "_view_module_version": "1.5.0",
            "_view_name": "HTMLView",
            "description": "",
            "description_tooltip": null,
            "layout": "IPY_MODEL_401324fd13f94adcb357ed0804458b46",
            "placeholder": "​",
            "style": "IPY_MODEL_8a10ec9295004d7ba2e5c5f622af187d",
            "value": " 28.0/28.0 [00:00&lt;00:00, 884B/s]"
          }
        },
        "ca5e30666b8240dabd8647883a562603": {
          "model_module": "@jupyter-widgets/base",
          "model_name": "LayoutModel",
          "model_module_version": "1.2.0",
          "state": {
            "_model_module": "@jupyter-widgets/base",
            "_model_module_version": "1.2.0",
            "_model_name": "LayoutModel",
            "_view_count": null,
            "_view_module": "@jupyter-widgets/base",
            "_view_module_version": "1.2.0",
            "_view_name": "LayoutView",
            "align_content": null,
            "align_items": null,
            "align_self": null,
            "border": null,
            "bottom": null,
            "display": null,
            "flex": null,
            "flex_flow": null,
            "grid_area": null,
            "grid_auto_columns": null,
            "grid_auto_flow": null,
            "grid_auto_rows": null,
            "grid_column": null,
            "grid_gap": null,
            "grid_row": null,
            "grid_template_areas": null,
            "grid_template_columns": null,
            "grid_template_rows": null,
            "height": null,
            "justify_content": null,
            "justify_items": null,
            "left": null,
            "margin": null,
            "max_height": null,
            "max_width": null,
            "min_height": null,
            "min_width": null,
            "object_fit": null,
            "object_position": null,
            "order": null,
            "overflow": null,
            "overflow_x": null,
            "overflow_y": null,
            "padding": null,
            "right": null,
            "top": null,
            "visibility": null,
            "width": null
          }
        },
        "6ea6516a4af54997a300862d31b1a48b": {
          "model_module": "@jupyter-widgets/base",
          "model_name": "LayoutModel",
          "model_module_version": "1.2.0",
          "state": {
            "_model_module": "@jupyter-widgets/base",
            "_model_module_version": "1.2.0",
            "_model_name": "LayoutModel",
            "_view_count": null,
            "_view_module": "@jupyter-widgets/base",
            "_view_module_version": "1.2.0",
            "_view_name": "LayoutView",
            "align_content": null,
            "align_items": null,
            "align_self": null,
            "border": null,
            "bottom": null,
            "display": null,
            "flex": null,
            "flex_flow": null,
            "grid_area": null,
            "grid_auto_columns": null,
            "grid_auto_flow": null,
            "grid_auto_rows": null,
            "grid_column": null,
            "grid_gap": null,
            "grid_row": null,
            "grid_template_areas": null,
            "grid_template_columns": null,
            "grid_template_rows": null,
            "height": null,
            "justify_content": null,
            "justify_items": null,
            "left": null,
            "margin": null,
            "max_height": null,
            "max_width": null,
            "min_height": null,
            "min_width": null,
            "object_fit": null,
            "object_position": null,
            "order": null,
            "overflow": null,
            "overflow_x": null,
            "overflow_y": null,
            "padding": null,
            "right": null,
            "top": null,
            "visibility": null,
            "width": null
          }
        },
        "7e37f0e31d1346da9652053e6e58f57d": {
          "model_module": "@jupyter-widgets/controls",
          "model_name": "DescriptionStyleModel",
          "model_module_version": "1.5.0",
          "state": {
            "_model_module": "@jupyter-widgets/controls",
            "_model_module_version": "1.5.0",
            "_model_name": "DescriptionStyleModel",
            "_view_count": null,
            "_view_module": "@jupyter-widgets/base",
            "_view_module_version": "1.2.0",
            "_view_name": "StyleView",
            "description_width": ""
          }
        },
        "59e1471de117456ba48deff7e85de4db": {
          "model_module": "@jupyter-widgets/base",
          "model_name": "LayoutModel",
          "model_module_version": "1.2.0",
          "state": {
            "_model_module": "@jupyter-widgets/base",
            "_model_module_version": "1.2.0",
            "_model_name": "LayoutModel",
            "_view_count": null,
            "_view_module": "@jupyter-widgets/base",
            "_view_module_version": "1.2.0",
            "_view_name": "LayoutView",
            "align_content": null,
            "align_items": null,
            "align_self": null,
            "border": null,
            "bottom": null,
            "display": null,
            "flex": null,
            "flex_flow": null,
            "grid_area": null,
            "grid_auto_columns": null,
            "grid_auto_flow": null,
            "grid_auto_rows": null,
            "grid_column": null,
            "grid_gap": null,
            "grid_row": null,
            "grid_template_areas": null,
            "grid_template_columns": null,
            "grid_template_rows": null,
            "height": null,
            "justify_content": null,
            "justify_items": null,
            "left": null,
            "margin": null,
            "max_height": null,
            "max_width": null,
            "min_height": null,
            "min_width": null,
            "object_fit": null,
            "object_position": null,
            "order": null,
            "overflow": null,
            "overflow_x": null,
            "overflow_y": null,
            "padding": null,
            "right": null,
            "top": null,
            "visibility": null,
            "width": null
          }
        },
        "7561f4623adf4e8a9e4ebaa9e7410cd9": {
          "model_module": "@jupyter-widgets/controls",
          "model_name": "ProgressStyleModel",
          "model_module_version": "1.5.0",
          "state": {
            "_model_module": "@jupyter-widgets/controls",
            "_model_module_version": "1.5.0",
            "_model_name": "ProgressStyleModel",
            "_view_count": null,
            "_view_module": "@jupyter-widgets/base",
            "_view_module_version": "1.2.0",
            "_view_name": "StyleView",
            "bar_color": null,
            "description_width": ""
          }
        },
        "401324fd13f94adcb357ed0804458b46": {
          "model_module": "@jupyter-widgets/base",
          "model_name": "LayoutModel",
          "model_module_version": "1.2.0",
          "state": {
            "_model_module": "@jupyter-widgets/base",
            "_model_module_version": "1.2.0",
            "_model_name": "LayoutModel",
            "_view_count": null,
            "_view_module": "@jupyter-widgets/base",
            "_view_module_version": "1.2.0",
            "_view_name": "LayoutView",
            "align_content": null,
            "align_items": null,
            "align_self": null,
            "border": null,
            "bottom": null,
            "display": null,
            "flex": null,
            "flex_flow": null,
            "grid_area": null,
            "grid_auto_columns": null,
            "grid_auto_flow": null,
            "grid_auto_rows": null,
            "grid_column": null,
            "grid_gap": null,
            "grid_row": null,
            "grid_template_areas": null,
            "grid_template_columns": null,
            "grid_template_rows": null,
            "height": null,
            "justify_content": null,
            "justify_items": null,
            "left": null,
            "margin": null,
            "max_height": null,
            "max_width": null,
            "min_height": null,
            "min_width": null,
            "object_fit": null,
            "object_position": null,
            "order": null,
            "overflow": null,
            "overflow_x": null,
            "overflow_y": null,
            "padding": null,
            "right": null,
            "top": null,
            "visibility": null,
            "width": null
          }
        },
        "8a10ec9295004d7ba2e5c5f622af187d": {
          "model_module": "@jupyter-widgets/controls",
          "model_name": "DescriptionStyleModel",
          "model_module_version": "1.5.0",
          "state": {
            "_model_module": "@jupyter-widgets/controls",
            "_model_module_version": "1.5.0",
            "_model_name": "DescriptionStyleModel",
            "_view_count": null,
            "_view_module": "@jupyter-widgets/base",
            "_view_module_version": "1.2.0",
            "_view_name": "StyleView",
            "description_width": ""
          }
        },
        "e062f4e010224e9087c1fc18753846b4": {
          "model_module": "@jupyter-widgets/controls",
          "model_name": "HBoxModel",
          "model_module_version": "1.5.0",
          "state": {
            "_dom_classes": [],
            "_model_module": "@jupyter-widgets/controls",
            "_model_module_version": "1.5.0",
            "_model_name": "HBoxModel",
            "_view_count": null,
            "_view_module": "@jupyter-widgets/controls",
            "_view_module_version": "1.5.0",
            "_view_name": "HBoxView",
            "box_style": "",
            "children": [
              "IPY_MODEL_5f9fdb861887458eaccda7c4fd298545",
              "IPY_MODEL_97cdc74a0dc64868bec098c86d1c8451",
              "IPY_MODEL_67564e31eeb841c786f7a2635b624063"
            ],
            "layout": "IPY_MODEL_280b5abfdad74dadad990861b43fbf8a"
          }
        },
        "5f9fdb861887458eaccda7c4fd298545": {
          "model_module": "@jupyter-widgets/controls",
          "model_name": "HTMLModel",
          "model_module_version": "1.5.0",
          "state": {
            "_dom_classes": [],
            "_model_module": "@jupyter-widgets/controls",
            "_model_module_version": "1.5.0",
            "_model_name": "HTMLModel",
            "_view_count": null,
            "_view_module": "@jupyter-widgets/controls",
            "_view_module_version": "1.5.0",
            "_view_name": "HTMLView",
            "description": "",
            "description_tooltip": null,
            "layout": "IPY_MODEL_f3b5573a84964b3c8898c2eaf268bc94",
            "placeholder": "​",
            "style": "IPY_MODEL_49b8e33d47b543b182d3bafe5451a1ea",
            "value": "Downloading (…)solve/main/vocab.txt: 100%"
          }
        },
        "97cdc74a0dc64868bec098c86d1c8451": {
          "model_module": "@jupyter-widgets/controls",
          "model_name": "FloatProgressModel",
          "model_module_version": "1.5.0",
          "state": {
            "_dom_classes": [],
            "_model_module": "@jupyter-widgets/controls",
            "_model_module_version": "1.5.0",
            "_model_name": "FloatProgressModel",
            "_view_count": null,
            "_view_module": "@jupyter-widgets/controls",
            "_view_module_version": "1.5.0",
            "_view_name": "ProgressView",
            "bar_style": "success",
            "description": "",
            "description_tooltip": null,
            "layout": "IPY_MODEL_3741068955064e63a503c8b2867b7ed5",
            "max": 231508,
            "min": 0,
            "orientation": "horizontal",
            "style": "IPY_MODEL_4cbdeb1a95474b918435afd81991db0d",
            "value": 231508
          }
        },
        "67564e31eeb841c786f7a2635b624063": {
          "model_module": "@jupyter-widgets/controls",
          "model_name": "HTMLModel",
          "model_module_version": "1.5.0",
          "state": {
            "_dom_classes": [],
            "_model_module": "@jupyter-widgets/controls",
            "_model_module_version": "1.5.0",
            "_model_name": "HTMLModel",
            "_view_count": null,
            "_view_module": "@jupyter-widgets/controls",
            "_view_module_version": "1.5.0",
            "_view_name": "HTMLView",
            "description": "",
            "description_tooltip": null,
            "layout": "IPY_MODEL_18bc97eb58ef49d7ac3ff3fd27a12e37",
            "placeholder": "​",
            "style": "IPY_MODEL_db1cb8f58fae426588d8d842217ec872",
            "value": " 232k/232k [00:00&lt;00:00, 1.93MB/s]"
          }
        },
        "280b5abfdad74dadad990861b43fbf8a": {
          "model_module": "@jupyter-widgets/base",
          "model_name": "LayoutModel",
          "model_module_version": "1.2.0",
          "state": {
            "_model_module": "@jupyter-widgets/base",
            "_model_module_version": "1.2.0",
            "_model_name": "LayoutModel",
            "_view_count": null,
            "_view_module": "@jupyter-widgets/base",
            "_view_module_version": "1.2.0",
            "_view_name": "LayoutView",
            "align_content": null,
            "align_items": null,
            "align_self": null,
            "border": null,
            "bottom": null,
            "display": null,
            "flex": null,
            "flex_flow": null,
            "grid_area": null,
            "grid_auto_columns": null,
            "grid_auto_flow": null,
            "grid_auto_rows": null,
            "grid_column": null,
            "grid_gap": null,
            "grid_row": null,
            "grid_template_areas": null,
            "grid_template_columns": null,
            "grid_template_rows": null,
            "height": null,
            "justify_content": null,
            "justify_items": null,
            "left": null,
            "margin": null,
            "max_height": null,
            "max_width": null,
            "min_height": null,
            "min_width": null,
            "object_fit": null,
            "object_position": null,
            "order": null,
            "overflow": null,
            "overflow_x": null,
            "overflow_y": null,
            "padding": null,
            "right": null,
            "top": null,
            "visibility": null,
            "width": null
          }
        },
        "f3b5573a84964b3c8898c2eaf268bc94": {
          "model_module": "@jupyter-widgets/base",
          "model_name": "LayoutModel",
          "model_module_version": "1.2.0",
          "state": {
            "_model_module": "@jupyter-widgets/base",
            "_model_module_version": "1.2.0",
            "_model_name": "LayoutModel",
            "_view_count": null,
            "_view_module": "@jupyter-widgets/base",
            "_view_module_version": "1.2.0",
            "_view_name": "LayoutView",
            "align_content": null,
            "align_items": null,
            "align_self": null,
            "border": null,
            "bottom": null,
            "display": null,
            "flex": null,
            "flex_flow": null,
            "grid_area": null,
            "grid_auto_columns": null,
            "grid_auto_flow": null,
            "grid_auto_rows": null,
            "grid_column": null,
            "grid_gap": null,
            "grid_row": null,
            "grid_template_areas": null,
            "grid_template_columns": null,
            "grid_template_rows": null,
            "height": null,
            "justify_content": null,
            "justify_items": null,
            "left": null,
            "margin": null,
            "max_height": null,
            "max_width": null,
            "min_height": null,
            "min_width": null,
            "object_fit": null,
            "object_position": null,
            "order": null,
            "overflow": null,
            "overflow_x": null,
            "overflow_y": null,
            "padding": null,
            "right": null,
            "top": null,
            "visibility": null,
            "width": null
          }
        },
        "49b8e33d47b543b182d3bafe5451a1ea": {
          "model_module": "@jupyter-widgets/controls",
          "model_name": "DescriptionStyleModel",
          "model_module_version": "1.5.0",
          "state": {
            "_model_module": "@jupyter-widgets/controls",
            "_model_module_version": "1.5.0",
            "_model_name": "DescriptionStyleModel",
            "_view_count": null,
            "_view_module": "@jupyter-widgets/base",
            "_view_module_version": "1.2.0",
            "_view_name": "StyleView",
            "description_width": ""
          }
        },
        "3741068955064e63a503c8b2867b7ed5": {
          "model_module": "@jupyter-widgets/base",
          "model_name": "LayoutModel",
          "model_module_version": "1.2.0",
          "state": {
            "_model_module": "@jupyter-widgets/base",
            "_model_module_version": "1.2.0",
            "_model_name": "LayoutModel",
            "_view_count": null,
            "_view_module": "@jupyter-widgets/base",
            "_view_module_version": "1.2.0",
            "_view_name": "LayoutView",
            "align_content": null,
            "align_items": null,
            "align_self": null,
            "border": null,
            "bottom": null,
            "display": null,
            "flex": null,
            "flex_flow": null,
            "grid_area": null,
            "grid_auto_columns": null,
            "grid_auto_flow": null,
            "grid_auto_rows": null,
            "grid_column": null,
            "grid_gap": null,
            "grid_row": null,
            "grid_template_areas": null,
            "grid_template_columns": null,
            "grid_template_rows": null,
            "height": null,
            "justify_content": null,
            "justify_items": null,
            "left": null,
            "margin": null,
            "max_height": null,
            "max_width": null,
            "min_height": null,
            "min_width": null,
            "object_fit": null,
            "object_position": null,
            "order": null,
            "overflow": null,
            "overflow_x": null,
            "overflow_y": null,
            "padding": null,
            "right": null,
            "top": null,
            "visibility": null,
            "width": null
          }
        },
        "4cbdeb1a95474b918435afd81991db0d": {
          "model_module": "@jupyter-widgets/controls",
          "model_name": "ProgressStyleModel",
          "model_module_version": "1.5.0",
          "state": {
            "_model_module": "@jupyter-widgets/controls",
            "_model_module_version": "1.5.0",
            "_model_name": "ProgressStyleModel",
            "_view_count": null,
            "_view_module": "@jupyter-widgets/base",
            "_view_module_version": "1.2.0",
            "_view_name": "StyleView",
            "bar_color": null,
            "description_width": ""
          }
        },
        "18bc97eb58ef49d7ac3ff3fd27a12e37": {
          "model_module": "@jupyter-widgets/base",
          "model_name": "LayoutModel",
          "model_module_version": "1.2.0",
          "state": {
            "_model_module": "@jupyter-widgets/base",
            "_model_module_version": "1.2.0",
            "_model_name": "LayoutModel",
            "_view_count": null,
            "_view_module": "@jupyter-widgets/base",
            "_view_module_version": "1.2.0",
            "_view_name": "LayoutView",
            "align_content": null,
            "align_items": null,
            "align_self": null,
            "border": null,
            "bottom": null,
            "display": null,
            "flex": null,
            "flex_flow": null,
            "grid_area": null,
            "grid_auto_columns": null,
            "grid_auto_flow": null,
            "grid_auto_rows": null,
            "grid_column": null,
            "grid_gap": null,
            "grid_row": null,
            "grid_template_areas": null,
            "grid_template_columns": null,
            "grid_template_rows": null,
            "height": null,
            "justify_content": null,
            "justify_items": null,
            "left": null,
            "margin": null,
            "max_height": null,
            "max_width": null,
            "min_height": null,
            "min_width": null,
            "object_fit": null,
            "object_position": null,
            "order": null,
            "overflow": null,
            "overflow_x": null,
            "overflow_y": null,
            "padding": null,
            "right": null,
            "top": null,
            "visibility": null,
            "width": null
          }
        },
        "db1cb8f58fae426588d8d842217ec872": {
          "model_module": "@jupyter-widgets/controls",
          "model_name": "DescriptionStyleModel",
          "model_module_version": "1.5.0",
          "state": {
            "_model_module": "@jupyter-widgets/controls",
            "_model_module_version": "1.5.0",
            "_model_name": "DescriptionStyleModel",
            "_view_count": null,
            "_view_module": "@jupyter-widgets/base",
            "_view_module_version": "1.2.0",
            "_view_name": "StyleView",
            "description_width": ""
          }
        },
        "ef6fdd95e5204abd984e8ad82ade5263": {
          "model_module": "@jupyter-widgets/controls",
          "model_name": "HBoxModel",
          "model_module_version": "1.5.0",
          "state": {
            "_dom_classes": [],
            "_model_module": "@jupyter-widgets/controls",
            "_model_module_version": "1.5.0",
            "_model_name": "HBoxModel",
            "_view_count": null,
            "_view_module": "@jupyter-widgets/controls",
            "_view_module_version": "1.5.0",
            "_view_name": "HBoxView",
            "box_style": "",
            "children": [
              "IPY_MODEL_02d089070c674c79a5cf0f352bddf2a8",
              "IPY_MODEL_40932a227ffe4662b15becc156ce5b21",
              "IPY_MODEL_275d4f961a8349cc9c00f92ebaac4a74"
            ],
            "layout": "IPY_MODEL_4bfdca9c3be943bc8c13467f17c4055f"
          }
        },
        "02d089070c674c79a5cf0f352bddf2a8": {
          "model_module": "@jupyter-widgets/controls",
          "model_name": "HTMLModel",
          "model_module_version": "1.5.0",
          "state": {
            "_dom_classes": [],
            "_model_module": "@jupyter-widgets/controls",
            "_model_module_version": "1.5.0",
            "_model_name": "HTMLModel",
            "_view_count": null,
            "_view_module": "@jupyter-widgets/controls",
            "_view_module_version": "1.5.0",
            "_view_name": "HTMLView",
            "description": "",
            "description_tooltip": null,
            "layout": "IPY_MODEL_882909e8223e49c38cb0954b15e0c0f3",
            "placeholder": "​",
            "style": "IPY_MODEL_8c0df32f6f764d34bf2c537f9a4f414f",
            "value": "Downloading (…)/main/tokenizer.json: 100%"
          }
        },
        "40932a227ffe4662b15becc156ce5b21": {
          "model_module": "@jupyter-widgets/controls",
          "model_name": "FloatProgressModel",
          "model_module_version": "1.5.0",
          "state": {
            "_dom_classes": [],
            "_model_module": "@jupyter-widgets/controls",
            "_model_module_version": "1.5.0",
            "_model_name": "FloatProgressModel",
            "_view_count": null,
            "_view_module": "@jupyter-widgets/controls",
            "_view_module_version": "1.5.0",
            "_view_name": "ProgressView",
            "bar_style": "success",
            "description": "",
            "description_tooltip": null,
            "layout": "IPY_MODEL_98a1e1d7f20b45a99384cc054773c1aa",
            "max": 466062,
            "min": 0,
            "orientation": "horizontal",
            "style": "IPY_MODEL_7f7180e96c5140ad9f269246f4e9e5d8",
            "value": 466062
          }
        },
        "275d4f961a8349cc9c00f92ebaac4a74": {
          "model_module": "@jupyter-widgets/controls",
          "model_name": "HTMLModel",
          "model_module_version": "1.5.0",
          "state": {
            "_dom_classes": [],
            "_model_module": "@jupyter-widgets/controls",
            "_model_module_version": "1.5.0",
            "_model_name": "HTMLModel",
            "_view_count": null,
            "_view_module": "@jupyter-widgets/controls",
            "_view_module_version": "1.5.0",
            "_view_name": "HTMLView",
            "description": "",
            "description_tooltip": null,
            "layout": "IPY_MODEL_c4aacd6eb1a84871ad3fb6d37e100701",
            "placeholder": "​",
            "style": "IPY_MODEL_2b977b37582347e2ba94b2eaa89a76d0",
            "value": " 466k/466k [00:00&lt;00:00, 7.54MB/s]"
          }
        },
        "4bfdca9c3be943bc8c13467f17c4055f": {
          "model_module": "@jupyter-widgets/base",
          "model_name": "LayoutModel",
          "model_module_version": "1.2.0",
          "state": {
            "_model_module": "@jupyter-widgets/base",
            "_model_module_version": "1.2.0",
            "_model_name": "LayoutModel",
            "_view_count": null,
            "_view_module": "@jupyter-widgets/base",
            "_view_module_version": "1.2.0",
            "_view_name": "LayoutView",
            "align_content": null,
            "align_items": null,
            "align_self": null,
            "border": null,
            "bottom": null,
            "display": null,
            "flex": null,
            "flex_flow": null,
            "grid_area": null,
            "grid_auto_columns": null,
            "grid_auto_flow": null,
            "grid_auto_rows": null,
            "grid_column": null,
            "grid_gap": null,
            "grid_row": null,
            "grid_template_areas": null,
            "grid_template_columns": null,
            "grid_template_rows": null,
            "height": null,
            "justify_content": null,
            "justify_items": null,
            "left": null,
            "margin": null,
            "max_height": null,
            "max_width": null,
            "min_height": null,
            "min_width": null,
            "object_fit": null,
            "object_position": null,
            "order": null,
            "overflow": null,
            "overflow_x": null,
            "overflow_y": null,
            "padding": null,
            "right": null,
            "top": null,
            "visibility": null,
            "width": null
          }
        },
        "882909e8223e49c38cb0954b15e0c0f3": {
          "model_module": "@jupyter-widgets/base",
          "model_name": "LayoutModel",
          "model_module_version": "1.2.0",
          "state": {
            "_model_module": "@jupyter-widgets/base",
            "_model_module_version": "1.2.0",
            "_model_name": "LayoutModel",
            "_view_count": null,
            "_view_module": "@jupyter-widgets/base",
            "_view_module_version": "1.2.0",
            "_view_name": "LayoutView",
            "align_content": null,
            "align_items": null,
            "align_self": null,
            "border": null,
            "bottom": null,
            "display": null,
            "flex": null,
            "flex_flow": null,
            "grid_area": null,
            "grid_auto_columns": null,
            "grid_auto_flow": null,
            "grid_auto_rows": null,
            "grid_column": null,
            "grid_gap": null,
            "grid_row": null,
            "grid_template_areas": null,
            "grid_template_columns": null,
            "grid_template_rows": null,
            "height": null,
            "justify_content": null,
            "justify_items": null,
            "left": null,
            "margin": null,
            "max_height": null,
            "max_width": null,
            "min_height": null,
            "min_width": null,
            "object_fit": null,
            "object_position": null,
            "order": null,
            "overflow": null,
            "overflow_x": null,
            "overflow_y": null,
            "padding": null,
            "right": null,
            "top": null,
            "visibility": null,
            "width": null
          }
        },
        "8c0df32f6f764d34bf2c537f9a4f414f": {
          "model_module": "@jupyter-widgets/controls",
          "model_name": "DescriptionStyleModel",
          "model_module_version": "1.5.0",
          "state": {
            "_model_module": "@jupyter-widgets/controls",
            "_model_module_version": "1.5.0",
            "_model_name": "DescriptionStyleModel",
            "_view_count": null,
            "_view_module": "@jupyter-widgets/base",
            "_view_module_version": "1.2.0",
            "_view_name": "StyleView",
            "description_width": ""
          }
        },
        "98a1e1d7f20b45a99384cc054773c1aa": {
          "model_module": "@jupyter-widgets/base",
          "model_name": "LayoutModel",
          "model_module_version": "1.2.0",
          "state": {
            "_model_module": "@jupyter-widgets/base",
            "_model_module_version": "1.2.0",
            "_model_name": "LayoutModel",
            "_view_count": null,
            "_view_module": "@jupyter-widgets/base",
            "_view_module_version": "1.2.0",
            "_view_name": "LayoutView",
            "align_content": null,
            "align_items": null,
            "align_self": null,
            "border": null,
            "bottom": null,
            "display": null,
            "flex": null,
            "flex_flow": null,
            "grid_area": null,
            "grid_auto_columns": null,
            "grid_auto_flow": null,
            "grid_auto_rows": null,
            "grid_column": null,
            "grid_gap": null,
            "grid_row": null,
            "grid_template_areas": null,
            "grid_template_columns": null,
            "grid_template_rows": null,
            "height": null,
            "justify_content": null,
            "justify_items": null,
            "left": null,
            "margin": null,
            "max_height": null,
            "max_width": null,
            "min_height": null,
            "min_width": null,
            "object_fit": null,
            "object_position": null,
            "order": null,
            "overflow": null,
            "overflow_x": null,
            "overflow_y": null,
            "padding": null,
            "right": null,
            "top": null,
            "visibility": null,
            "width": null
          }
        },
        "7f7180e96c5140ad9f269246f4e9e5d8": {
          "model_module": "@jupyter-widgets/controls",
          "model_name": "ProgressStyleModel",
          "model_module_version": "1.5.0",
          "state": {
            "_model_module": "@jupyter-widgets/controls",
            "_model_module_version": "1.5.0",
            "_model_name": "ProgressStyleModel",
            "_view_count": null,
            "_view_module": "@jupyter-widgets/base",
            "_view_module_version": "1.2.0",
            "_view_name": "StyleView",
            "bar_color": null,
            "description_width": ""
          }
        },
        "c4aacd6eb1a84871ad3fb6d37e100701": {
          "model_module": "@jupyter-widgets/base",
          "model_name": "LayoutModel",
          "model_module_version": "1.2.0",
          "state": {
            "_model_module": "@jupyter-widgets/base",
            "_model_module_version": "1.2.0",
            "_model_name": "LayoutModel",
            "_view_count": null,
            "_view_module": "@jupyter-widgets/base",
            "_view_module_version": "1.2.0",
            "_view_name": "LayoutView",
            "align_content": null,
            "align_items": null,
            "align_self": null,
            "border": null,
            "bottom": null,
            "display": null,
            "flex": null,
            "flex_flow": null,
            "grid_area": null,
            "grid_auto_columns": null,
            "grid_auto_flow": null,
            "grid_auto_rows": null,
            "grid_column": null,
            "grid_gap": null,
            "grid_row": null,
            "grid_template_areas": null,
            "grid_template_columns": null,
            "grid_template_rows": null,
            "height": null,
            "justify_content": null,
            "justify_items": null,
            "left": null,
            "margin": null,
            "max_height": null,
            "max_width": null,
            "min_height": null,
            "min_width": null,
            "object_fit": null,
            "object_position": null,
            "order": null,
            "overflow": null,
            "overflow_x": null,
            "overflow_y": null,
            "padding": null,
            "right": null,
            "top": null,
            "visibility": null,
            "width": null
          }
        },
        "2b977b37582347e2ba94b2eaa89a76d0": {
          "model_module": "@jupyter-widgets/controls",
          "model_name": "DescriptionStyleModel",
          "model_module_version": "1.5.0",
          "state": {
            "_model_module": "@jupyter-widgets/controls",
            "_model_module_version": "1.5.0",
            "_model_name": "DescriptionStyleModel",
            "_view_count": null,
            "_view_module": "@jupyter-widgets/base",
            "_view_module_version": "1.2.0",
            "_view_name": "StyleView",
            "description_width": ""
          }
        },
        "5bbeb352cae44eb28f64e73c2560a84a": {
          "model_module": "@jupyter-widgets/controls",
          "model_name": "HBoxModel",
          "model_module_version": "1.5.0",
          "state": {
            "_dom_classes": [],
            "_model_module": "@jupyter-widgets/controls",
            "_model_module_version": "1.5.0",
            "_model_name": "HBoxModel",
            "_view_count": null,
            "_view_module": "@jupyter-widgets/controls",
            "_view_module_version": "1.5.0",
            "_view_name": "HBoxView",
            "box_style": "",
            "children": [
              "IPY_MODEL_77fea2226a08427a8e9b72e825c002a6",
              "IPY_MODEL_846272b04dd049dea4628874b8dc9966",
              "IPY_MODEL_82b5e7b6aaff4baea55f323a501ac9f7"
            ],
            "layout": "IPY_MODEL_c9fd488e47984aefbed7c7536b8c63fb"
          }
        },
        "77fea2226a08427a8e9b72e825c002a6": {
          "model_module": "@jupyter-widgets/controls",
          "model_name": "HTMLModel",
          "model_module_version": "1.5.0",
          "state": {
            "_dom_classes": [],
            "_model_module": "@jupyter-widgets/controls",
            "_model_module_version": "1.5.0",
            "_model_name": "HTMLModel",
            "_view_count": null,
            "_view_module": "@jupyter-widgets/controls",
            "_view_module_version": "1.5.0",
            "_view_name": "HTMLView",
            "description": "",
            "description_tooltip": null,
            "layout": "IPY_MODEL_5dcbddaad84c4bdbaaef7abf97ed6010",
            "placeholder": "​",
            "style": "IPY_MODEL_2413bd05da854123a2fc732b0ae55172",
            "value": "Downloading (…)lve/main/config.json: 100%"
          }
        },
        "846272b04dd049dea4628874b8dc9966": {
          "model_module": "@jupyter-widgets/controls",
          "model_name": "FloatProgressModel",
          "model_module_version": "1.5.0",
          "state": {
            "_dom_classes": [],
            "_model_module": "@jupyter-widgets/controls",
            "_model_module_version": "1.5.0",
            "_model_name": "FloatProgressModel",
            "_view_count": null,
            "_view_module": "@jupyter-widgets/controls",
            "_view_module_version": "1.5.0",
            "_view_name": "ProgressView",
            "bar_style": "success",
            "description": "",
            "description_tooltip": null,
            "layout": "IPY_MODEL_8cfff9c66b7144f295859ed0349ed155",
            "max": 483,
            "min": 0,
            "orientation": "horizontal",
            "style": "IPY_MODEL_d979c987a6a44dd68fe457776f6b42ec",
            "value": 483
          }
        },
        "82b5e7b6aaff4baea55f323a501ac9f7": {
          "model_module": "@jupyter-widgets/controls",
          "model_name": "HTMLModel",
          "model_module_version": "1.5.0",
          "state": {
            "_dom_classes": [],
            "_model_module": "@jupyter-widgets/controls",
            "_model_module_version": "1.5.0",
            "_model_name": "HTMLModel",
            "_view_count": null,
            "_view_module": "@jupyter-widgets/controls",
            "_view_module_version": "1.5.0",
            "_view_name": "HTMLView",
            "description": "",
            "description_tooltip": null,
            "layout": "IPY_MODEL_101c21fa6e324a55945cc3f1cbcf28ee",
            "placeholder": "​",
            "style": "IPY_MODEL_eb83a73c316e43908f9ba50a62cff683",
            "value": " 483/483 [00:00&lt;00:00, 22.0kB/s]"
          }
        },
        "c9fd488e47984aefbed7c7536b8c63fb": {
          "model_module": "@jupyter-widgets/base",
          "model_name": "LayoutModel",
          "model_module_version": "1.2.0",
          "state": {
            "_model_module": "@jupyter-widgets/base",
            "_model_module_version": "1.2.0",
            "_model_name": "LayoutModel",
            "_view_count": null,
            "_view_module": "@jupyter-widgets/base",
            "_view_module_version": "1.2.0",
            "_view_name": "LayoutView",
            "align_content": null,
            "align_items": null,
            "align_self": null,
            "border": null,
            "bottom": null,
            "display": null,
            "flex": null,
            "flex_flow": null,
            "grid_area": null,
            "grid_auto_columns": null,
            "grid_auto_flow": null,
            "grid_auto_rows": null,
            "grid_column": null,
            "grid_gap": null,
            "grid_row": null,
            "grid_template_areas": null,
            "grid_template_columns": null,
            "grid_template_rows": null,
            "height": null,
            "justify_content": null,
            "justify_items": null,
            "left": null,
            "margin": null,
            "max_height": null,
            "max_width": null,
            "min_height": null,
            "min_width": null,
            "object_fit": null,
            "object_position": null,
            "order": null,
            "overflow": null,
            "overflow_x": null,
            "overflow_y": null,
            "padding": null,
            "right": null,
            "top": null,
            "visibility": null,
            "width": null
          }
        },
        "5dcbddaad84c4bdbaaef7abf97ed6010": {
          "model_module": "@jupyter-widgets/base",
          "model_name": "LayoutModel",
          "model_module_version": "1.2.0",
          "state": {
            "_model_module": "@jupyter-widgets/base",
            "_model_module_version": "1.2.0",
            "_model_name": "LayoutModel",
            "_view_count": null,
            "_view_module": "@jupyter-widgets/base",
            "_view_module_version": "1.2.0",
            "_view_name": "LayoutView",
            "align_content": null,
            "align_items": null,
            "align_self": null,
            "border": null,
            "bottom": null,
            "display": null,
            "flex": null,
            "flex_flow": null,
            "grid_area": null,
            "grid_auto_columns": null,
            "grid_auto_flow": null,
            "grid_auto_rows": null,
            "grid_column": null,
            "grid_gap": null,
            "grid_row": null,
            "grid_template_areas": null,
            "grid_template_columns": null,
            "grid_template_rows": null,
            "height": null,
            "justify_content": null,
            "justify_items": null,
            "left": null,
            "margin": null,
            "max_height": null,
            "max_width": null,
            "min_height": null,
            "min_width": null,
            "object_fit": null,
            "object_position": null,
            "order": null,
            "overflow": null,
            "overflow_x": null,
            "overflow_y": null,
            "padding": null,
            "right": null,
            "top": null,
            "visibility": null,
            "width": null
          }
        },
        "2413bd05da854123a2fc732b0ae55172": {
          "model_module": "@jupyter-widgets/controls",
          "model_name": "DescriptionStyleModel",
          "model_module_version": "1.5.0",
          "state": {
            "_model_module": "@jupyter-widgets/controls",
            "_model_module_version": "1.5.0",
            "_model_name": "DescriptionStyleModel",
            "_view_count": null,
            "_view_module": "@jupyter-widgets/base",
            "_view_module_version": "1.2.0",
            "_view_name": "StyleView",
            "description_width": ""
          }
        },
        "8cfff9c66b7144f295859ed0349ed155": {
          "model_module": "@jupyter-widgets/base",
          "model_name": "LayoutModel",
          "model_module_version": "1.2.0",
          "state": {
            "_model_module": "@jupyter-widgets/base",
            "_model_module_version": "1.2.0",
            "_model_name": "LayoutModel",
            "_view_count": null,
            "_view_module": "@jupyter-widgets/base",
            "_view_module_version": "1.2.0",
            "_view_name": "LayoutView",
            "align_content": null,
            "align_items": null,
            "align_self": null,
            "border": null,
            "bottom": null,
            "display": null,
            "flex": null,
            "flex_flow": null,
            "grid_area": null,
            "grid_auto_columns": null,
            "grid_auto_flow": null,
            "grid_auto_rows": null,
            "grid_column": null,
            "grid_gap": null,
            "grid_row": null,
            "grid_template_areas": null,
            "grid_template_columns": null,
            "grid_template_rows": null,
            "height": null,
            "justify_content": null,
            "justify_items": null,
            "left": null,
            "margin": null,
            "max_height": null,
            "max_width": null,
            "min_height": null,
            "min_width": null,
            "object_fit": null,
            "object_position": null,
            "order": null,
            "overflow": null,
            "overflow_x": null,
            "overflow_y": null,
            "padding": null,
            "right": null,
            "top": null,
            "visibility": null,
            "width": null
          }
        },
        "d979c987a6a44dd68fe457776f6b42ec": {
          "model_module": "@jupyter-widgets/controls",
          "model_name": "ProgressStyleModel",
          "model_module_version": "1.5.0",
          "state": {
            "_model_module": "@jupyter-widgets/controls",
            "_model_module_version": "1.5.0",
            "_model_name": "ProgressStyleModel",
            "_view_count": null,
            "_view_module": "@jupyter-widgets/base",
            "_view_module_version": "1.2.0",
            "_view_name": "StyleView",
            "bar_color": null,
            "description_width": ""
          }
        },
        "101c21fa6e324a55945cc3f1cbcf28ee": {
          "model_module": "@jupyter-widgets/base",
          "model_name": "LayoutModel",
          "model_module_version": "1.2.0",
          "state": {
            "_model_module": "@jupyter-widgets/base",
            "_model_module_version": "1.2.0",
            "_model_name": "LayoutModel",
            "_view_count": null,
            "_view_module": "@jupyter-widgets/base",
            "_view_module_version": "1.2.0",
            "_view_name": "LayoutView",
            "align_content": null,
            "align_items": null,
            "align_self": null,
            "border": null,
            "bottom": null,
            "display": null,
            "flex": null,
            "flex_flow": null,
            "grid_area": null,
            "grid_auto_columns": null,
            "grid_auto_flow": null,
            "grid_auto_rows": null,
            "grid_column": null,
            "grid_gap": null,
            "grid_row": null,
            "grid_template_areas": null,
            "grid_template_columns": null,
            "grid_template_rows": null,
            "height": null,
            "justify_content": null,
            "justify_items": null,
            "left": null,
            "margin": null,
            "max_height": null,
            "max_width": null,
            "min_height": null,
            "min_width": null,
            "object_fit": null,
            "object_position": null,
            "order": null,
            "overflow": null,
            "overflow_x": null,
            "overflow_y": null,
            "padding": null,
            "right": null,
            "top": null,
            "visibility": null,
            "width": null
          }
        },
        "eb83a73c316e43908f9ba50a62cff683": {
          "model_module": "@jupyter-widgets/controls",
          "model_name": "DescriptionStyleModel",
          "model_module_version": "1.5.0",
          "state": {
            "_model_module": "@jupyter-widgets/controls",
            "_model_module_version": "1.5.0",
            "_model_name": "DescriptionStyleModel",
            "_view_count": null,
            "_view_module": "@jupyter-widgets/base",
            "_view_module_version": "1.2.0",
            "_view_name": "StyleView",
            "description_width": ""
          }
        },
        "c7294fa67e2443d2addf48b92f2cefdb": {
          "model_module": "@jupyter-widgets/controls",
          "model_name": "HBoxModel",
          "model_module_version": "1.5.0",
          "state": {
            "_dom_classes": [],
            "_model_module": "@jupyter-widgets/controls",
            "_model_module_version": "1.5.0",
            "_model_name": "HBoxModel",
            "_view_count": null,
            "_view_module": "@jupyter-widgets/controls",
            "_view_module_version": "1.5.0",
            "_view_name": "HBoxView",
            "box_style": "",
            "children": [
              "IPY_MODEL_9e1241b3a8284282825f205ed27e7ce4",
              "IPY_MODEL_0ce4179c352a471b8958bae3887d9758",
              "IPY_MODEL_ff6a41f0531844409aecd5695963804c"
            ],
            "layout": "IPY_MODEL_c01cb83619f341d3a77d2af0c48fd862"
          }
        },
        "9e1241b3a8284282825f205ed27e7ce4": {
          "model_module": "@jupyter-widgets/controls",
          "model_name": "HTMLModel",
          "model_module_version": "1.5.0",
          "state": {
            "_dom_classes": [],
            "_model_module": "@jupyter-widgets/controls",
            "_model_module_version": "1.5.0",
            "_model_name": "HTMLModel",
            "_view_count": null,
            "_view_module": "@jupyter-widgets/controls",
            "_view_module_version": "1.5.0",
            "_view_name": "HTMLView",
            "description": "",
            "description_tooltip": null,
            "layout": "IPY_MODEL_0acffbdb081c4abd95fa5ac36998ea18",
            "placeholder": "​",
            "style": "IPY_MODEL_5803df78172d4ca3a9ffe9f92182897d",
            "value": "Downloading pytorch_model.bin: 100%"
          }
        },
        "0ce4179c352a471b8958bae3887d9758": {
          "model_module": "@jupyter-widgets/controls",
          "model_name": "FloatProgressModel",
          "model_module_version": "1.5.0",
          "state": {
            "_dom_classes": [],
            "_model_module": "@jupyter-widgets/controls",
            "_model_module_version": "1.5.0",
            "_model_name": "FloatProgressModel",
            "_view_count": null,
            "_view_module": "@jupyter-widgets/controls",
            "_view_module_version": "1.5.0",
            "_view_name": "ProgressView",
            "bar_style": "success",
            "description": "",
            "description_tooltip": null,
            "layout": "IPY_MODEL_1ed982930c9647cf916a05cc0233a9fd",
            "max": 267967963,
            "min": 0,
            "orientation": "horizontal",
            "style": "IPY_MODEL_7db4415f6a0744bb82de425230498bd1",
            "value": 267967963
          }
        },
        "ff6a41f0531844409aecd5695963804c": {
          "model_module": "@jupyter-widgets/controls",
          "model_name": "HTMLModel",
          "model_module_version": "1.5.0",
          "state": {
            "_dom_classes": [],
            "_model_module": "@jupyter-widgets/controls",
            "_model_module_version": "1.5.0",
            "_model_name": "HTMLModel",
            "_view_count": null,
            "_view_module": "@jupyter-widgets/controls",
            "_view_module_version": "1.5.0",
            "_view_name": "HTMLView",
            "description": "",
            "description_tooltip": null,
            "layout": "IPY_MODEL_fae212d3517544df8b866916a13cc7e5",
            "placeholder": "​",
            "style": "IPY_MODEL_3afa151309b64d8f8b5da82edd78a707",
            "value": " 268M/268M [00:01&lt;00:00, 196MB/s]"
          }
        },
        "c01cb83619f341d3a77d2af0c48fd862": {
          "model_module": "@jupyter-widgets/base",
          "model_name": "LayoutModel",
          "model_module_version": "1.2.0",
          "state": {
            "_model_module": "@jupyter-widgets/base",
            "_model_module_version": "1.2.0",
            "_model_name": "LayoutModel",
            "_view_count": null,
            "_view_module": "@jupyter-widgets/base",
            "_view_module_version": "1.2.0",
            "_view_name": "LayoutView",
            "align_content": null,
            "align_items": null,
            "align_self": null,
            "border": null,
            "bottom": null,
            "display": null,
            "flex": null,
            "flex_flow": null,
            "grid_area": null,
            "grid_auto_columns": null,
            "grid_auto_flow": null,
            "grid_auto_rows": null,
            "grid_column": null,
            "grid_gap": null,
            "grid_row": null,
            "grid_template_areas": null,
            "grid_template_columns": null,
            "grid_template_rows": null,
            "height": null,
            "justify_content": null,
            "justify_items": null,
            "left": null,
            "margin": null,
            "max_height": null,
            "max_width": null,
            "min_height": null,
            "min_width": null,
            "object_fit": null,
            "object_position": null,
            "order": null,
            "overflow": null,
            "overflow_x": null,
            "overflow_y": null,
            "padding": null,
            "right": null,
            "top": null,
            "visibility": null,
            "width": null
          }
        },
        "0acffbdb081c4abd95fa5ac36998ea18": {
          "model_module": "@jupyter-widgets/base",
          "model_name": "LayoutModel",
          "model_module_version": "1.2.0",
          "state": {
            "_model_module": "@jupyter-widgets/base",
            "_model_module_version": "1.2.0",
            "_model_name": "LayoutModel",
            "_view_count": null,
            "_view_module": "@jupyter-widgets/base",
            "_view_module_version": "1.2.0",
            "_view_name": "LayoutView",
            "align_content": null,
            "align_items": null,
            "align_self": null,
            "border": null,
            "bottom": null,
            "display": null,
            "flex": null,
            "flex_flow": null,
            "grid_area": null,
            "grid_auto_columns": null,
            "grid_auto_flow": null,
            "grid_auto_rows": null,
            "grid_column": null,
            "grid_gap": null,
            "grid_row": null,
            "grid_template_areas": null,
            "grid_template_columns": null,
            "grid_template_rows": null,
            "height": null,
            "justify_content": null,
            "justify_items": null,
            "left": null,
            "margin": null,
            "max_height": null,
            "max_width": null,
            "min_height": null,
            "min_width": null,
            "object_fit": null,
            "object_position": null,
            "order": null,
            "overflow": null,
            "overflow_x": null,
            "overflow_y": null,
            "padding": null,
            "right": null,
            "top": null,
            "visibility": null,
            "width": null
          }
        },
        "5803df78172d4ca3a9ffe9f92182897d": {
          "model_module": "@jupyter-widgets/controls",
          "model_name": "DescriptionStyleModel",
          "model_module_version": "1.5.0",
          "state": {
            "_model_module": "@jupyter-widgets/controls",
            "_model_module_version": "1.5.0",
            "_model_name": "DescriptionStyleModel",
            "_view_count": null,
            "_view_module": "@jupyter-widgets/base",
            "_view_module_version": "1.2.0",
            "_view_name": "StyleView",
            "description_width": ""
          }
        },
        "1ed982930c9647cf916a05cc0233a9fd": {
          "model_module": "@jupyter-widgets/base",
          "model_name": "LayoutModel",
          "model_module_version": "1.2.0",
          "state": {
            "_model_module": "@jupyter-widgets/base",
            "_model_module_version": "1.2.0",
            "_model_name": "LayoutModel",
            "_view_count": null,
            "_view_module": "@jupyter-widgets/base",
            "_view_module_version": "1.2.0",
            "_view_name": "LayoutView",
            "align_content": null,
            "align_items": null,
            "align_self": null,
            "border": null,
            "bottom": null,
            "display": null,
            "flex": null,
            "flex_flow": null,
            "grid_area": null,
            "grid_auto_columns": null,
            "grid_auto_flow": null,
            "grid_auto_rows": null,
            "grid_column": null,
            "grid_gap": null,
            "grid_row": null,
            "grid_template_areas": null,
            "grid_template_columns": null,
            "grid_template_rows": null,
            "height": null,
            "justify_content": null,
            "justify_items": null,
            "left": null,
            "margin": null,
            "max_height": null,
            "max_width": null,
            "min_height": null,
            "min_width": null,
            "object_fit": null,
            "object_position": null,
            "order": null,
            "overflow": null,
            "overflow_x": null,
            "overflow_y": null,
            "padding": null,
            "right": null,
            "top": null,
            "visibility": null,
            "width": null
          }
        },
        "7db4415f6a0744bb82de425230498bd1": {
          "model_module": "@jupyter-widgets/controls",
          "model_name": "ProgressStyleModel",
          "model_module_version": "1.5.0",
          "state": {
            "_model_module": "@jupyter-widgets/controls",
            "_model_module_version": "1.5.0",
            "_model_name": "ProgressStyleModel",
            "_view_count": null,
            "_view_module": "@jupyter-widgets/base",
            "_view_module_version": "1.2.0",
            "_view_name": "StyleView",
            "bar_color": null,
            "description_width": ""
          }
        },
        "fae212d3517544df8b866916a13cc7e5": {
          "model_module": "@jupyter-widgets/base",
          "model_name": "LayoutModel",
          "model_module_version": "1.2.0",
          "state": {
            "_model_module": "@jupyter-widgets/base",
            "_model_module_version": "1.2.0",
            "_model_name": "LayoutModel",
            "_view_count": null,
            "_view_module": "@jupyter-widgets/base",
            "_view_module_version": "1.2.0",
            "_view_name": "LayoutView",
            "align_content": null,
            "align_items": null,
            "align_self": null,
            "border": null,
            "bottom": null,
            "display": null,
            "flex": null,
            "flex_flow": null,
            "grid_area": null,
            "grid_auto_columns": null,
            "grid_auto_flow": null,
            "grid_auto_rows": null,
            "grid_column": null,
            "grid_gap": null,
            "grid_row": null,
            "grid_template_areas": null,
            "grid_template_columns": null,
            "grid_template_rows": null,
            "height": null,
            "justify_content": null,
            "justify_items": null,
            "left": null,
            "margin": null,
            "max_height": null,
            "max_width": null,
            "min_height": null,
            "min_width": null,
            "object_fit": null,
            "object_position": null,
            "order": null,
            "overflow": null,
            "overflow_x": null,
            "overflow_y": null,
            "padding": null,
            "right": null,
            "top": null,
            "visibility": null,
            "width": null
          }
        },
        "3afa151309b64d8f8b5da82edd78a707": {
          "model_module": "@jupyter-widgets/controls",
          "model_name": "DescriptionStyleModel",
          "model_module_version": "1.5.0",
          "state": {
            "_model_module": "@jupyter-widgets/controls",
            "_model_module_version": "1.5.0",
            "_model_name": "DescriptionStyleModel",
            "_view_count": null,
            "_view_module": "@jupyter-widgets/base",
            "_view_module_version": "1.2.0",
            "_view_name": "StyleView",
            "description_width": ""
          }
        },
        "6faaa52bc66841caa188e4297f2ce9e4": {
          "model_module": "@jupyter-widgets/controls",
          "model_name": "HBoxModel",
          "model_module_version": "1.5.0",
          "state": {
            "_dom_classes": [],
            "_model_module": "@jupyter-widgets/controls",
            "_model_module_version": "1.5.0",
            "_model_name": "HBoxModel",
            "_view_count": null,
            "_view_module": "@jupyter-widgets/controls",
            "_view_module_version": "1.5.0",
            "_view_name": "HBoxView",
            "box_style": "",
            "children": [
              "IPY_MODEL_bdd77d544cde4777b972282b6a64422f",
              "IPY_MODEL_32a011b8b36743be826f3fe3cd7c55b6",
              "IPY_MODEL_a3cc973f5c714f09ae241e0ecfb1c027"
            ],
            "layout": "IPY_MODEL_fa240777ed33420ca86b903c02af22f7"
          }
        },
        "bdd77d544cde4777b972282b6a64422f": {
          "model_module": "@jupyter-widgets/controls",
          "model_name": "HTMLModel",
          "model_module_version": "1.5.0",
          "state": {
            "_dom_classes": [],
            "_model_module": "@jupyter-widgets/controls",
            "_model_module_version": "1.5.0",
            "_model_name": "HTMLModel",
            "_view_count": null,
            "_view_module": "@jupyter-widgets/controls",
            "_view_module_version": "1.5.0",
            "_view_name": "HTMLView",
            "description": "",
            "description_tooltip": null,
            "layout": "IPY_MODEL_16d0c24a4a824524a33484835fe18103",
            "placeholder": "​",
            "style": "IPY_MODEL_0671e7859ae74d1e8bc9e917cc916dd1",
            "value": "Downloading (…)okenizer_config.json: 100%"
          }
        },
        "32a011b8b36743be826f3fe3cd7c55b6": {
          "model_module": "@jupyter-widgets/controls",
          "model_name": "FloatProgressModel",
          "model_module_version": "1.5.0",
          "state": {
            "_dom_classes": [],
            "_model_module": "@jupyter-widgets/controls",
            "_model_module_version": "1.5.0",
            "_model_name": "FloatProgressModel",
            "_view_count": null,
            "_view_module": "@jupyter-widgets/controls",
            "_view_module_version": "1.5.0",
            "_view_name": "ProgressView",
            "bar_style": "success",
            "description": "",
            "description_tooltip": null,
            "layout": "IPY_MODEL_9dfd6283cb1242d2acb6bf21a66a66f4",
            "max": 28,
            "min": 0,
            "orientation": "horizontal",
            "style": "IPY_MODEL_43c81ae46c99417f8401b3e0e3316d65",
            "value": 28
          }
        },
        "a3cc973f5c714f09ae241e0ecfb1c027": {
          "model_module": "@jupyter-widgets/controls",
          "model_name": "HTMLModel",
          "model_module_version": "1.5.0",
          "state": {
            "_dom_classes": [],
            "_model_module": "@jupyter-widgets/controls",
            "_model_module_version": "1.5.0",
            "_model_name": "HTMLModel",
            "_view_count": null,
            "_view_module": "@jupyter-widgets/controls",
            "_view_module_version": "1.5.0",
            "_view_name": "HTMLView",
            "description": "",
            "description_tooltip": null,
            "layout": "IPY_MODEL_2e37df14b9a04765bde2452adf726d47",
            "placeholder": "​",
            "style": "IPY_MODEL_d91e9e121aab4e68b43348d1b0f2dd53",
            "value": " 28.0/28.0 [00:00&lt;00:00, 1.60kB/s]"
          }
        },
        "fa240777ed33420ca86b903c02af22f7": {
          "model_module": "@jupyter-widgets/base",
          "model_name": "LayoutModel",
          "model_module_version": "1.2.0",
          "state": {
            "_model_module": "@jupyter-widgets/base",
            "_model_module_version": "1.2.0",
            "_model_name": "LayoutModel",
            "_view_count": null,
            "_view_module": "@jupyter-widgets/base",
            "_view_module_version": "1.2.0",
            "_view_name": "LayoutView",
            "align_content": null,
            "align_items": null,
            "align_self": null,
            "border": null,
            "bottom": null,
            "display": null,
            "flex": null,
            "flex_flow": null,
            "grid_area": null,
            "grid_auto_columns": null,
            "grid_auto_flow": null,
            "grid_auto_rows": null,
            "grid_column": null,
            "grid_gap": null,
            "grid_row": null,
            "grid_template_areas": null,
            "grid_template_columns": null,
            "grid_template_rows": null,
            "height": null,
            "justify_content": null,
            "justify_items": null,
            "left": null,
            "margin": null,
            "max_height": null,
            "max_width": null,
            "min_height": null,
            "min_width": null,
            "object_fit": null,
            "object_position": null,
            "order": null,
            "overflow": null,
            "overflow_x": null,
            "overflow_y": null,
            "padding": null,
            "right": null,
            "top": null,
            "visibility": null,
            "width": null
          }
        },
        "16d0c24a4a824524a33484835fe18103": {
          "model_module": "@jupyter-widgets/base",
          "model_name": "LayoutModel",
          "model_module_version": "1.2.0",
          "state": {
            "_model_module": "@jupyter-widgets/base",
            "_model_module_version": "1.2.0",
            "_model_name": "LayoutModel",
            "_view_count": null,
            "_view_module": "@jupyter-widgets/base",
            "_view_module_version": "1.2.0",
            "_view_name": "LayoutView",
            "align_content": null,
            "align_items": null,
            "align_self": null,
            "border": null,
            "bottom": null,
            "display": null,
            "flex": null,
            "flex_flow": null,
            "grid_area": null,
            "grid_auto_columns": null,
            "grid_auto_flow": null,
            "grid_auto_rows": null,
            "grid_column": null,
            "grid_gap": null,
            "grid_row": null,
            "grid_template_areas": null,
            "grid_template_columns": null,
            "grid_template_rows": null,
            "height": null,
            "justify_content": null,
            "justify_items": null,
            "left": null,
            "margin": null,
            "max_height": null,
            "max_width": null,
            "min_height": null,
            "min_width": null,
            "object_fit": null,
            "object_position": null,
            "order": null,
            "overflow": null,
            "overflow_x": null,
            "overflow_y": null,
            "padding": null,
            "right": null,
            "top": null,
            "visibility": null,
            "width": null
          }
        },
        "0671e7859ae74d1e8bc9e917cc916dd1": {
          "model_module": "@jupyter-widgets/controls",
          "model_name": "DescriptionStyleModel",
          "model_module_version": "1.5.0",
          "state": {
            "_model_module": "@jupyter-widgets/controls",
            "_model_module_version": "1.5.0",
            "_model_name": "DescriptionStyleModel",
            "_view_count": null,
            "_view_module": "@jupyter-widgets/base",
            "_view_module_version": "1.2.0",
            "_view_name": "StyleView",
            "description_width": ""
          }
        },
        "9dfd6283cb1242d2acb6bf21a66a66f4": {
          "model_module": "@jupyter-widgets/base",
          "model_name": "LayoutModel",
          "model_module_version": "1.2.0",
          "state": {
            "_model_module": "@jupyter-widgets/base",
            "_model_module_version": "1.2.0",
            "_model_name": "LayoutModel",
            "_view_count": null,
            "_view_module": "@jupyter-widgets/base",
            "_view_module_version": "1.2.0",
            "_view_name": "LayoutView",
            "align_content": null,
            "align_items": null,
            "align_self": null,
            "border": null,
            "bottom": null,
            "display": null,
            "flex": null,
            "flex_flow": null,
            "grid_area": null,
            "grid_auto_columns": null,
            "grid_auto_flow": null,
            "grid_auto_rows": null,
            "grid_column": null,
            "grid_gap": null,
            "grid_row": null,
            "grid_template_areas": null,
            "grid_template_columns": null,
            "grid_template_rows": null,
            "height": null,
            "justify_content": null,
            "justify_items": null,
            "left": null,
            "margin": null,
            "max_height": null,
            "max_width": null,
            "min_height": null,
            "min_width": null,
            "object_fit": null,
            "object_position": null,
            "order": null,
            "overflow": null,
            "overflow_x": null,
            "overflow_y": null,
            "padding": null,
            "right": null,
            "top": null,
            "visibility": null,
            "width": null
          }
        },
        "43c81ae46c99417f8401b3e0e3316d65": {
          "model_module": "@jupyter-widgets/controls",
          "model_name": "ProgressStyleModel",
          "model_module_version": "1.5.0",
          "state": {
            "_model_module": "@jupyter-widgets/controls",
            "_model_module_version": "1.5.0",
            "_model_name": "ProgressStyleModel",
            "_view_count": null,
            "_view_module": "@jupyter-widgets/base",
            "_view_module_version": "1.2.0",
            "_view_name": "StyleView",
            "bar_color": null,
            "description_width": ""
          }
        },
        "2e37df14b9a04765bde2452adf726d47": {
          "model_module": "@jupyter-widgets/base",
          "model_name": "LayoutModel",
          "model_module_version": "1.2.0",
          "state": {
            "_model_module": "@jupyter-widgets/base",
            "_model_module_version": "1.2.0",
            "_model_name": "LayoutModel",
            "_view_count": null,
            "_view_module": "@jupyter-widgets/base",
            "_view_module_version": "1.2.0",
            "_view_name": "LayoutView",
            "align_content": null,
            "align_items": null,
            "align_self": null,
            "border": null,
            "bottom": null,
            "display": null,
            "flex": null,
            "flex_flow": null,
            "grid_area": null,
            "grid_auto_columns": null,
            "grid_auto_flow": null,
            "grid_auto_rows": null,
            "grid_column": null,
            "grid_gap": null,
            "grid_row": null,
            "grid_template_areas": null,
            "grid_template_columns": null,
            "grid_template_rows": null,
            "height": null,
            "justify_content": null,
            "justify_items": null,
            "left": null,
            "margin": null,
            "max_height": null,
            "max_width": null,
            "min_height": null,
            "min_width": null,
            "object_fit": null,
            "object_position": null,
            "order": null,
            "overflow": null,
            "overflow_x": null,
            "overflow_y": null,
            "padding": null,
            "right": null,
            "top": null,
            "visibility": null,
            "width": null
          }
        },
        "d91e9e121aab4e68b43348d1b0f2dd53": {
          "model_module": "@jupyter-widgets/controls",
          "model_name": "DescriptionStyleModel",
          "model_module_version": "1.5.0",
          "state": {
            "_model_module": "@jupyter-widgets/controls",
            "_model_module_version": "1.5.0",
            "_model_name": "DescriptionStyleModel",
            "_view_count": null,
            "_view_module": "@jupyter-widgets/base",
            "_view_module_version": "1.2.0",
            "_view_name": "StyleView",
            "description_width": ""
          }
        },
        "0fa43e28178e41b38bd0f72e57190528": {
          "model_module": "@jupyter-widgets/controls",
          "model_name": "HBoxModel",
          "model_module_version": "1.5.0",
          "state": {
            "_dom_classes": [],
            "_model_module": "@jupyter-widgets/controls",
            "_model_module_version": "1.5.0",
            "_model_name": "HBoxModel",
            "_view_count": null,
            "_view_module": "@jupyter-widgets/controls",
            "_view_module_version": "1.5.0",
            "_view_name": "HBoxView",
            "box_style": "",
            "children": [
              "IPY_MODEL_b247eecc43f44966afd825c1883a0839",
              "IPY_MODEL_dc9d7d39087c42f5872cc9275ddc39db",
              "IPY_MODEL_ff9a2af4af9f4d43b95c33a61b4e8d51"
            ],
            "layout": "IPY_MODEL_ae4e5afcbf414309a477821ad08da3e1"
          }
        },
        "b247eecc43f44966afd825c1883a0839": {
          "model_module": "@jupyter-widgets/controls",
          "model_name": "HTMLModel",
          "model_module_version": "1.5.0",
          "state": {
            "_dom_classes": [],
            "_model_module": "@jupyter-widgets/controls",
            "_model_module_version": "1.5.0",
            "_model_name": "HTMLModel",
            "_view_count": null,
            "_view_module": "@jupyter-widgets/controls",
            "_view_module_version": "1.5.0",
            "_view_name": "HTMLView",
            "description": "",
            "description_tooltip": null,
            "layout": "IPY_MODEL_4feff5ed3eec45bc963c5cd707f36b0a",
            "placeholder": "​",
            "style": "IPY_MODEL_37e6547214e64648bf71cba2a2c397de",
            "value": "Downloading (…)solve/main/vocab.txt: 100%"
          }
        },
        "dc9d7d39087c42f5872cc9275ddc39db": {
          "model_module": "@jupyter-widgets/controls",
          "model_name": "FloatProgressModel",
          "model_module_version": "1.5.0",
          "state": {
            "_dom_classes": [],
            "_model_module": "@jupyter-widgets/controls",
            "_model_module_version": "1.5.0",
            "_model_name": "FloatProgressModel",
            "_view_count": null,
            "_view_module": "@jupyter-widgets/controls",
            "_view_module_version": "1.5.0",
            "_view_name": "ProgressView",
            "bar_style": "success",
            "description": "",
            "description_tooltip": null,
            "layout": "IPY_MODEL_d678549f26be4b59b56b64076cc1051c",
            "max": 231508,
            "min": 0,
            "orientation": "horizontal",
            "style": "IPY_MODEL_13794ff404094685978f9e6def2ee4a5",
            "value": 231508
          }
        },
        "ff9a2af4af9f4d43b95c33a61b4e8d51": {
          "model_module": "@jupyter-widgets/controls",
          "model_name": "HTMLModel",
          "model_module_version": "1.5.0",
          "state": {
            "_dom_classes": [],
            "_model_module": "@jupyter-widgets/controls",
            "_model_module_version": "1.5.0",
            "_model_name": "HTMLModel",
            "_view_count": null,
            "_view_module": "@jupyter-widgets/controls",
            "_view_module_version": "1.5.0",
            "_view_name": "HTMLView",
            "description": "",
            "description_tooltip": null,
            "layout": "IPY_MODEL_acf0eca68d154435aed541aa9abe0881",
            "placeholder": "​",
            "style": "IPY_MODEL_735be09cd58f4886a98a56cc98e95397",
            "value": " 232k/232k [00:00&lt;00:00, 3.63MB/s]"
          }
        },
        "ae4e5afcbf414309a477821ad08da3e1": {
          "model_module": "@jupyter-widgets/base",
          "model_name": "LayoutModel",
          "model_module_version": "1.2.0",
          "state": {
            "_model_module": "@jupyter-widgets/base",
            "_model_module_version": "1.2.0",
            "_model_name": "LayoutModel",
            "_view_count": null,
            "_view_module": "@jupyter-widgets/base",
            "_view_module_version": "1.2.0",
            "_view_name": "LayoutView",
            "align_content": null,
            "align_items": null,
            "align_self": null,
            "border": null,
            "bottom": null,
            "display": null,
            "flex": null,
            "flex_flow": null,
            "grid_area": null,
            "grid_auto_columns": null,
            "grid_auto_flow": null,
            "grid_auto_rows": null,
            "grid_column": null,
            "grid_gap": null,
            "grid_row": null,
            "grid_template_areas": null,
            "grid_template_columns": null,
            "grid_template_rows": null,
            "height": null,
            "justify_content": null,
            "justify_items": null,
            "left": null,
            "margin": null,
            "max_height": null,
            "max_width": null,
            "min_height": null,
            "min_width": null,
            "object_fit": null,
            "object_position": null,
            "order": null,
            "overflow": null,
            "overflow_x": null,
            "overflow_y": null,
            "padding": null,
            "right": null,
            "top": null,
            "visibility": null,
            "width": null
          }
        },
        "4feff5ed3eec45bc963c5cd707f36b0a": {
          "model_module": "@jupyter-widgets/base",
          "model_name": "LayoutModel",
          "model_module_version": "1.2.0",
          "state": {
            "_model_module": "@jupyter-widgets/base",
            "_model_module_version": "1.2.0",
            "_model_name": "LayoutModel",
            "_view_count": null,
            "_view_module": "@jupyter-widgets/base",
            "_view_module_version": "1.2.0",
            "_view_name": "LayoutView",
            "align_content": null,
            "align_items": null,
            "align_self": null,
            "border": null,
            "bottom": null,
            "display": null,
            "flex": null,
            "flex_flow": null,
            "grid_area": null,
            "grid_auto_columns": null,
            "grid_auto_flow": null,
            "grid_auto_rows": null,
            "grid_column": null,
            "grid_gap": null,
            "grid_row": null,
            "grid_template_areas": null,
            "grid_template_columns": null,
            "grid_template_rows": null,
            "height": null,
            "justify_content": null,
            "justify_items": null,
            "left": null,
            "margin": null,
            "max_height": null,
            "max_width": null,
            "min_height": null,
            "min_width": null,
            "object_fit": null,
            "object_position": null,
            "order": null,
            "overflow": null,
            "overflow_x": null,
            "overflow_y": null,
            "padding": null,
            "right": null,
            "top": null,
            "visibility": null,
            "width": null
          }
        },
        "37e6547214e64648bf71cba2a2c397de": {
          "model_module": "@jupyter-widgets/controls",
          "model_name": "DescriptionStyleModel",
          "model_module_version": "1.5.0",
          "state": {
            "_model_module": "@jupyter-widgets/controls",
            "_model_module_version": "1.5.0",
            "_model_name": "DescriptionStyleModel",
            "_view_count": null,
            "_view_module": "@jupyter-widgets/base",
            "_view_module_version": "1.2.0",
            "_view_name": "StyleView",
            "description_width": ""
          }
        },
        "d678549f26be4b59b56b64076cc1051c": {
          "model_module": "@jupyter-widgets/base",
          "model_name": "LayoutModel",
          "model_module_version": "1.2.0",
          "state": {
            "_model_module": "@jupyter-widgets/base",
            "_model_module_version": "1.2.0",
            "_model_name": "LayoutModel",
            "_view_count": null,
            "_view_module": "@jupyter-widgets/base",
            "_view_module_version": "1.2.0",
            "_view_name": "LayoutView",
            "align_content": null,
            "align_items": null,
            "align_self": null,
            "border": null,
            "bottom": null,
            "display": null,
            "flex": null,
            "flex_flow": null,
            "grid_area": null,
            "grid_auto_columns": null,
            "grid_auto_flow": null,
            "grid_auto_rows": null,
            "grid_column": null,
            "grid_gap": null,
            "grid_row": null,
            "grid_template_areas": null,
            "grid_template_columns": null,
            "grid_template_rows": null,
            "height": null,
            "justify_content": null,
            "justify_items": null,
            "left": null,
            "margin": null,
            "max_height": null,
            "max_width": null,
            "min_height": null,
            "min_width": null,
            "object_fit": null,
            "object_position": null,
            "order": null,
            "overflow": null,
            "overflow_x": null,
            "overflow_y": null,
            "padding": null,
            "right": null,
            "top": null,
            "visibility": null,
            "width": null
          }
        },
        "13794ff404094685978f9e6def2ee4a5": {
          "model_module": "@jupyter-widgets/controls",
          "model_name": "ProgressStyleModel",
          "model_module_version": "1.5.0",
          "state": {
            "_model_module": "@jupyter-widgets/controls",
            "_model_module_version": "1.5.0",
            "_model_name": "ProgressStyleModel",
            "_view_count": null,
            "_view_module": "@jupyter-widgets/base",
            "_view_module_version": "1.2.0",
            "_view_name": "StyleView",
            "bar_color": null,
            "description_width": ""
          }
        },
        "acf0eca68d154435aed541aa9abe0881": {
          "model_module": "@jupyter-widgets/base",
          "model_name": "LayoutModel",
          "model_module_version": "1.2.0",
          "state": {
            "_model_module": "@jupyter-widgets/base",
            "_model_module_version": "1.2.0",
            "_model_name": "LayoutModel",
            "_view_count": null,
            "_view_module": "@jupyter-widgets/base",
            "_view_module_version": "1.2.0",
            "_view_name": "LayoutView",
            "align_content": null,
            "align_items": null,
            "align_self": null,
            "border": null,
            "bottom": null,
            "display": null,
            "flex": null,
            "flex_flow": null,
            "grid_area": null,
            "grid_auto_columns": null,
            "grid_auto_flow": null,
            "grid_auto_rows": null,
            "grid_column": null,
            "grid_gap": null,
            "grid_row": null,
            "grid_template_areas": null,
            "grid_template_columns": null,
            "grid_template_rows": null,
            "height": null,
            "justify_content": null,
            "justify_items": null,
            "left": null,
            "margin": null,
            "max_height": null,
            "max_width": null,
            "min_height": null,
            "min_width": null,
            "object_fit": null,
            "object_position": null,
            "order": null,
            "overflow": null,
            "overflow_x": null,
            "overflow_y": null,
            "padding": null,
            "right": null,
            "top": null,
            "visibility": null,
            "width": null
          }
        },
        "735be09cd58f4886a98a56cc98e95397": {
          "model_module": "@jupyter-widgets/controls",
          "model_name": "DescriptionStyleModel",
          "model_module_version": "1.5.0",
          "state": {
            "_model_module": "@jupyter-widgets/controls",
            "_model_module_version": "1.5.0",
            "_model_name": "DescriptionStyleModel",
            "_view_count": null,
            "_view_module": "@jupyter-widgets/base",
            "_view_module_version": "1.2.0",
            "_view_name": "StyleView",
            "description_width": ""
          }
        },
        "72a1be6455cc494f855377ef80822103": {
          "model_module": "@jupyter-widgets/controls",
          "model_name": "HBoxModel",
          "model_module_version": "1.5.0",
          "state": {
            "_dom_classes": [],
            "_model_module": "@jupyter-widgets/controls",
            "_model_module_version": "1.5.0",
            "_model_name": "HBoxModel",
            "_view_count": null,
            "_view_module": "@jupyter-widgets/controls",
            "_view_module_version": "1.5.0",
            "_view_name": "HBoxView",
            "box_style": "",
            "children": [
              "IPY_MODEL_dbcada3836cd4dd6a8c052efc075dd2d",
              "IPY_MODEL_112c799dbbc04ca68dc69b1b287c8688",
              "IPY_MODEL_c7ff5fc1c85b424f85a801066b58eedc"
            ],
            "layout": "IPY_MODEL_735e0b17bb2a45618e6232189bab9a81"
          }
        },
        "dbcada3836cd4dd6a8c052efc075dd2d": {
          "model_module": "@jupyter-widgets/controls",
          "model_name": "HTMLModel",
          "model_module_version": "1.5.0",
          "state": {
            "_dom_classes": [],
            "_model_module": "@jupyter-widgets/controls",
            "_model_module_version": "1.5.0",
            "_model_name": "HTMLModel",
            "_view_count": null,
            "_view_module": "@jupyter-widgets/controls",
            "_view_module_version": "1.5.0",
            "_view_name": "HTMLView",
            "description": "",
            "description_tooltip": null,
            "layout": "IPY_MODEL_d949c0afb23b4d5abaa2c66eaeac8fac",
            "placeholder": "​",
            "style": "IPY_MODEL_414784120d7a4fefae72587e470b7dc5",
            "value": "Downloading (…)/main/tokenizer.json: 100%"
          }
        },
        "112c799dbbc04ca68dc69b1b287c8688": {
          "model_module": "@jupyter-widgets/controls",
          "model_name": "FloatProgressModel",
          "model_module_version": "1.5.0",
          "state": {
            "_dom_classes": [],
            "_model_module": "@jupyter-widgets/controls",
            "_model_module_version": "1.5.0",
            "_model_name": "FloatProgressModel",
            "_view_count": null,
            "_view_module": "@jupyter-widgets/controls",
            "_view_module_version": "1.5.0",
            "_view_name": "ProgressView",
            "bar_style": "success",
            "description": "",
            "description_tooltip": null,
            "layout": "IPY_MODEL_18c27c24cdd04779b470957ccaaa98ff",
            "max": 466062,
            "min": 0,
            "orientation": "horizontal",
            "style": "IPY_MODEL_9e15157bc2fe41959a2ee7de7293e3e9",
            "value": 466062
          }
        },
        "c7ff5fc1c85b424f85a801066b58eedc": {
          "model_module": "@jupyter-widgets/controls",
          "model_name": "HTMLModel",
          "model_module_version": "1.5.0",
          "state": {
            "_dom_classes": [],
            "_model_module": "@jupyter-widgets/controls",
            "_model_module_version": "1.5.0",
            "_model_name": "HTMLModel",
            "_view_count": null,
            "_view_module": "@jupyter-widgets/controls",
            "_view_module_version": "1.5.0",
            "_view_name": "HTMLView",
            "description": "",
            "description_tooltip": null,
            "layout": "IPY_MODEL_6c10ce9682b14a40ac418698b26e959b",
            "placeholder": "​",
            "style": "IPY_MODEL_d8ec8319431348059a06e790165e51ce",
            "value": " 466k/466k [00:00&lt;00:00, 6.09MB/s]"
          }
        },
        "735e0b17bb2a45618e6232189bab9a81": {
          "model_module": "@jupyter-widgets/base",
          "model_name": "LayoutModel",
          "model_module_version": "1.2.0",
          "state": {
            "_model_module": "@jupyter-widgets/base",
            "_model_module_version": "1.2.0",
            "_model_name": "LayoutModel",
            "_view_count": null,
            "_view_module": "@jupyter-widgets/base",
            "_view_module_version": "1.2.0",
            "_view_name": "LayoutView",
            "align_content": null,
            "align_items": null,
            "align_self": null,
            "border": null,
            "bottom": null,
            "display": null,
            "flex": null,
            "flex_flow": null,
            "grid_area": null,
            "grid_auto_columns": null,
            "grid_auto_flow": null,
            "grid_auto_rows": null,
            "grid_column": null,
            "grid_gap": null,
            "grid_row": null,
            "grid_template_areas": null,
            "grid_template_columns": null,
            "grid_template_rows": null,
            "height": null,
            "justify_content": null,
            "justify_items": null,
            "left": null,
            "margin": null,
            "max_height": null,
            "max_width": null,
            "min_height": null,
            "min_width": null,
            "object_fit": null,
            "object_position": null,
            "order": null,
            "overflow": null,
            "overflow_x": null,
            "overflow_y": null,
            "padding": null,
            "right": null,
            "top": null,
            "visibility": null,
            "width": null
          }
        },
        "d949c0afb23b4d5abaa2c66eaeac8fac": {
          "model_module": "@jupyter-widgets/base",
          "model_name": "LayoutModel",
          "model_module_version": "1.2.0",
          "state": {
            "_model_module": "@jupyter-widgets/base",
            "_model_module_version": "1.2.0",
            "_model_name": "LayoutModel",
            "_view_count": null,
            "_view_module": "@jupyter-widgets/base",
            "_view_module_version": "1.2.0",
            "_view_name": "LayoutView",
            "align_content": null,
            "align_items": null,
            "align_self": null,
            "border": null,
            "bottom": null,
            "display": null,
            "flex": null,
            "flex_flow": null,
            "grid_area": null,
            "grid_auto_columns": null,
            "grid_auto_flow": null,
            "grid_auto_rows": null,
            "grid_column": null,
            "grid_gap": null,
            "grid_row": null,
            "grid_template_areas": null,
            "grid_template_columns": null,
            "grid_template_rows": null,
            "height": null,
            "justify_content": null,
            "justify_items": null,
            "left": null,
            "margin": null,
            "max_height": null,
            "max_width": null,
            "min_height": null,
            "min_width": null,
            "object_fit": null,
            "object_position": null,
            "order": null,
            "overflow": null,
            "overflow_x": null,
            "overflow_y": null,
            "padding": null,
            "right": null,
            "top": null,
            "visibility": null,
            "width": null
          }
        },
        "414784120d7a4fefae72587e470b7dc5": {
          "model_module": "@jupyter-widgets/controls",
          "model_name": "DescriptionStyleModel",
          "model_module_version": "1.5.0",
          "state": {
            "_model_module": "@jupyter-widgets/controls",
            "_model_module_version": "1.5.0",
            "_model_name": "DescriptionStyleModel",
            "_view_count": null,
            "_view_module": "@jupyter-widgets/base",
            "_view_module_version": "1.2.0",
            "_view_name": "StyleView",
            "description_width": ""
          }
        },
        "18c27c24cdd04779b470957ccaaa98ff": {
          "model_module": "@jupyter-widgets/base",
          "model_name": "LayoutModel",
          "model_module_version": "1.2.0",
          "state": {
            "_model_module": "@jupyter-widgets/base",
            "_model_module_version": "1.2.0",
            "_model_name": "LayoutModel",
            "_view_count": null,
            "_view_module": "@jupyter-widgets/base",
            "_view_module_version": "1.2.0",
            "_view_name": "LayoutView",
            "align_content": null,
            "align_items": null,
            "align_self": null,
            "border": null,
            "bottom": null,
            "display": null,
            "flex": null,
            "flex_flow": null,
            "grid_area": null,
            "grid_auto_columns": null,
            "grid_auto_flow": null,
            "grid_auto_rows": null,
            "grid_column": null,
            "grid_gap": null,
            "grid_row": null,
            "grid_template_areas": null,
            "grid_template_columns": null,
            "grid_template_rows": null,
            "height": null,
            "justify_content": null,
            "justify_items": null,
            "left": null,
            "margin": null,
            "max_height": null,
            "max_width": null,
            "min_height": null,
            "min_width": null,
            "object_fit": null,
            "object_position": null,
            "order": null,
            "overflow": null,
            "overflow_x": null,
            "overflow_y": null,
            "padding": null,
            "right": null,
            "top": null,
            "visibility": null,
            "width": null
          }
        },
        "9e15157bc2fe41959a2ee7de7293e3e9": {
          "model_module": "@jupyter-widgets/controls",
          "model_name": "ProgressStyleModel",
          "model_module_version": "1.5.0",
          "state": {
            "_model_module": "@jupyter-widgets/controls",
            "_model_module_version": "1.5.0",
            "_model_name": "ProgressStyleModel",
            "_view_count": null,
            "_view_module": "@jupyter-widgets/base",
            "_view_module_version": "1.2.0",
            "_view_name": "StyleView",
            "bar_color": null,
            "description_width": ""
          }
        },
        "6c10ce9682b14a40ac418698b26e959b": {
          "model_module": "@jupyter-widgets/base",
          "model_name": "LayoutModel",
          "model_module_version": "1.2.0",
          "state": {
            "_model_module": "@jupyter-widgets/base",
            "_model_module_version": "1.2.0",
            "_model_name": "LayoutModel",
            "_view_count": null,
            "_view_module": "@jupyter-widgets/base",
            "_view_module_version": "1.2.0",
            "_view_name": "LayoutView",
            "align_content": null,
            "align_items": null,
            "align_self": null,
            "border": null,
            "bottom": null,
            "display": null,
            "flex": null,
            "flex_flow": null,
            "grid_area": null,
            "grid_auto_columns": null,
            "grid_auto_flow": null,
            "grid_auto_rows": null,
            "grid_column": null,
            "grid_gap": null,
            "grid_row": null,
            "grid_template_areas": null,
            "grid_template_columns": null,
            "grid_template_rows": null,
            "height": null,
            "justify_content": null,
            "justify_items": null,
            "left": null,
            "margin": null,
            "max_height": null,
            "max_width": null,
            "min_height": null,
            "min_width": null,
            "object_fit": null,
            "object_position": null,
            "order": null,
            "overflow": null,
            "overflow_x": null,
            "overflow_y": null,
            "padding": null,
            "right": null,
            "top": null,
            "visibility": null,
            "width": null
          }
        },
        "d8ec8319431348059a06e790165e51ce": {
          "model_module": "@jupyter-widgets/controls",
          "model_name": "DescriptionStyleModel",
          "model_module_version": "1.5.0",
          "state": {
            "_model_module": "@jupyter-widgets/controls",
            "_model_module_version": "1.5.0",
            "_model_name": "DescriptionStyleModel",
            "_view_count": null,
            "_view_module": "@jupyter-widgets/base",
            "_view_module_version": "1.2.0",
            "_view_name": "StyleView",
            "description_width": ""
          }
        },
        "de37e62736544d0885f723d0270264c4": {
          "model_module": "@jupyter-widgets/controls",
          "model_name": "HBoxModel",
          "model_module_version": "1.5.0",
          "state": {
            "_dom_classes": [],
            "_model_module": "@jupyter-widgets/controls",
            "_model_module_version": "1.5.0",
            "_model_name": "HBoxModel",
            "_view_count": null,
            "_view_module": "@jupyter-widgets/controls",
            "_view_module_version": "1.5.0",
            "_view_name": "HBoxView",
            "box_style": "",
            "children": [
              "IPY_MODEL_5380c58ac0e1462b954e745863c1d224",
              "IPY_MODEL_719516b91f9d4811bdc443a8547a017a",
              "IPY_MODEL_55f6cbd9abf045c2a8fca85778e7add9"
            ],
            "layout": "IPY_MODEL_8205481a8e7645af91484e8c2ab7a7d4"
          }
        },
        "5380c58ac0e1462b954e745863c1d224": {
          "model_module": "@jupyter-widgets/controls",
          "model_name": "HTMLModel",
          "model_module_version": "1.5.0",
          "state": {
            "_dom_classes": [],
            "_model_module": "@jupyter-widgets/controls",
            "_model_module_version": "1.5.0",
            "_model_name": "HTMLModel",
            "_view_count": null,
            "_view_module": "@jupyter-widgets/controls",
            "_view_module_version": "1.5.0",
            "_view_name": "HTMLView",
            "description": "",
            "description_tooltip": null,
            "layout": "IPY_MODEL_1355f3cfa1bb4169bc5b30a13b91fd9c",
            "placeholder": "​",
            "style": "IPY_MODEL_0a20b6d2dbad49ac8b17e27cd47fc5a1",
            "value": "Downloading (…)okenizer_config.json: 100%"
          }
        },
        "719516b91f9d4811bdc443a8547a017a": {
          "model_module": "@jupyter-widgets/controls",
          "model_name": "FloatProgressModel",
          "model_module_version": "1.5.0",
          "state": {
            "_dom_classes": [],
            "_model_module": "@jupyter-widgets/controls",
            "_model_module_version": "1.5.0",
            "_model_name": "FloatProgressModel",
            "_view_count": null,
            "_view_module": "@jupyter-widgets/controls",
            "_view_module_version": "1.5.0",
            "_view_name": "ProgressView",
            "bar_style": "success",
            "description": "",
            "description_tooltip": null,
            "layout": "IPY_MODEL_7a62becfe8b247789d62be1e4a723a87",
            "max": 1122,
            "min": 0,
            "orientation": "horizontal",
            "style": "IPY_MODEL_660d1c3f1a394abc937ff0a88f293e0f",
            "value": 1122
          }
        },
        "55f6cbd9abf045c2a8fca85778e7add9": {
          "model_module": "@jupyter-widgets/controls",
          "model_name": "HTMLModel",
          "model_module_version": "1.5.0",
          "state": {
            "_dom_classes": [],
            "_model_module": "@jupyter-widgets/controls",
            "_model_module_version": "1.5.0",
            "_model_name": "HTMLModel",
            "_view_count": null,
            "_view_module": "@jupyter-widgets/controls",
            "_view_module_version": "1.5.0",
            "_view_name": "HTMLView",
            "description": "",
            "description_tooltip": null,
            "layout": "IPY_MODEL_8bde43ec06af40a4bc30ee3ff6c745ee",
            "placeholder": "​",
            "style": "IPY_MODEL_236e2f53cee64b388656c95735af3cdc",
            "value": " 1.12k/1.12k [00:00&lt;00:00, 52.9kB/s]"
          }
        },
        "8205481a8e7645af91484e8c2ab7a7d4": {
          "model_module": "@jupyter-widgets/base",
          "model_name": "LayoutModel",
          "model_module_version": "1.2.0",
          "state": {
            "_model_module": "@jupyter-widgets/base",
            "_model_module_version": "1.2.0",
            "_model_name": "LayoutModel",
            "_view_count": null,
            "_view_module": "@jupyter-widgets/base",
            "_view_module_version": "1.2.0",
            "_view_name": "LayoutView",
            "align_content": null,
            "align_items": null,
            "align_self": null,
            "border": null,
            "bottom": null,
            "display": null,
            "flex": null,
            "flex_flow": null,
            "grid_area": null,
            "grid_auto_columns": null,
            "grid_auto_flow": null,
            "grid_auto_rows": null,
            "grid_column": null,
            "grid_gap": null,
            "grid_row": null,
            "grid_template_areas": null,
            "grid_template_columns": null,
            "grid_template_rows": null,
            "height": null,
            "justify_content": null,
            "justify_items": null,
            "left": null,
            "margin": null,
            "max_height": null,
            "max_width": null,
            "min_height": null,
            "min_width": null,
            "object_fit": null,
            "object_position": null,
            "order": null,
            "overflow": null,
            "overflow_x": null,
            "overflow_y": null,
            "padding": null,
            "right": null,
            "top": null,
            "visibility": null,
            "width": null
          }
        },
        "1355f3cfa1bb4169bc5b30a13b91fd9c": {
          "model_module": "@jupyter-widgets/base",
          "model_name": "LayoutModel",
          "model_module_version": "1.2.0",
          "state": {
            "_model_module": "@jupyter-widgets/base",
            "_model_module_version": "1.2.0",
            "_model_name": "LayoutModel",
            "_view_count": null,
            "_view_module": "@jupyter-widgets/base",
            "_view_module_version": "1.2.0",
            "_view_name": "LayoutView",
            "align_content": null,
            "align_items": null,
            "align_self": null,
            "border": null,
            "bottom": null,
            "display": null,
            "flex": null,
            "flex_flow": null,
            "grid_area": null,
            "grid_auto_columns": null,
            "grid_auto_flow": null,
            "grid_auto_rows": null,
            "grid_column": null,
            "grid_gap": null,
            "grid_row": null,
            "grid_template_areas": null,
            "grid_template_columns": null,
            "grid_template_rows": null,
            "height": null,
            "justify_content": null,
            "justify_items": null,
            "left": null,
            "margin": null,
            "max_height": null,
            "max_width": null,
            "min_height": null,
            "min_width": null,
            "object_fit": null,
            "object_position": null,
            "order": null,
            "overflow": null,
            "overflow_x": null,
            "overflow_y": null,
            "padding": null,
            "right": null,
            "top": null,
            "visibility": null,
            "width": null
          }
        },
        "0a20b6d2dbad49ac8b17e27cd47fc5a1": {
          "model_module": "@jupyter-widgets/controls",
          "model_name": "DescriptionStyleModel",
          "model_module_version": "1.5.0",
          "state": {
            "_model_module": "@jupyter-widgets/controls",
            "_model_module_version": "1.5.0",
            "_model_name": "DescriptionStyleModel",
            "_view_count": null,
            "_view_module": "@jupyter-widgets/base",
            "_view_module_version": "1.2.0",
            "_view_name": "StyleView",
            "description_width": ""
          }
        },
        "7a62becfe8b247789d62be1e4a723a87": {
          "model_module": "@jupyter-widgets/base",
          "model_name": "LayoutModel",
          "model_module_version": "1.2.0",
          "state": {
            "_model_module": "@jupyter-widgets/base",
            "_model_module_version": "1.2.0",
            "_model_name": "LayoutModel",
            "_view_count": null,
            "_view_module": "@jupyter-widgets/base",
            "_view_module_version": "1.2.0",
            "_view_name": "LayoutView",
            "align_content": null,
            "align_items": null,
            "align_self": null,
            "border": null,
            "bottom": null,
            "display": null,
            "flex": null,
            "flex_flow": null,
            "grid_area": null,
            "grid_auto_columns": null,
            "grid_auto_flow": null,
            "grid_auto_rows": null,
            "grid_column": null,
            "grid_gap": null,
            "grid_row": null,
            "grid_template_areas": null,
            "grid_template_columns": null,
            "grid_template_rows": null,
            "height": null,
            "justify_content": null,
            "justify_items": null,
            "left": null,
            "margin": null,
            "max_height": null,
            "max_width": null,
            "min_height": null,
            "min_width": null,
            "object_fit": null,
            "object_position": null,
            "order": null,
            "overflow": null,
            "overflow_x": null,
            "overflow_y": null,
            "padding": null,
            "right": null,
            "top": null,
            "visibility": null,
            "width": null
          }
        },
        "660d1c3f1a394abc937ff0a88f293e0f": {
          "model_module": "@jupyter-widgets/controls",
          "model_name": "ProgressStyleModel",
          "model_module_version": "1.5.0",
          "state": {
            "_model_module": "@jupyter-widgets/controls",
            "_model_module_version": "1.5.0",
            "_model_name": "ProgressStyleModel",
            "_view_count": null,
            "_view_module": "@jupyter-widgets/base",
            "_view_module_version": "1.2.0",
            "_view_name": "StyleView",
            "bar_color": null,
            "description_width": ""
          }
        },
        "8bde43ec06af40a4bc30ee3ff6c745ee": {
          "model_module": "@jupyter-widgets/base",
          "model_name": "LayoutModel",
          "model_module_version": "1.2.0",
          "state": {
            "_model_module": "@jupyter-widgets/base",
            "_model_module_version": "1.2.0",
            "_model_name": "LayoutModel",
            "_view_count": null,
            "_view_module": "@jupyter-widgets/base",
            "_view_module_version": "1.2.0",
            "_view_name": "LayoutView",
            "align_content": null,
            "align_items": null,
            "align_self": null,
            "border": null,
            "bottom": null,
            "display": null,
            "flex": null,
            "flex_flow": null,
            "grid_area": null,
            "grid_auto_columns": null,
            "grid_auto_flow": null,
            "grid_auto_rows": null,
            "grid_column": null,
            "grid_gap": null,
            "grid_row": null,
            "grid_template_areas": null,
            "grid_template_columns": null,
            "grid_template_rows": null,
            "height": null,
            "justify_content": null,
            "justify_items": null,
            "left": null,
            "margin": null,
            "max_height": null,
            "max_width": null,
            "min_height": null,
            "min_width": null,
            "object_fit": null,
            "object_position": null,
            "order": null,
            "overflow": null,
            "overflow_x": null,
            "overflow_y": null,
            "padding": null,
            "right": null,
            "top": null,
            "visibility": null,
            "width": null
          }
        },
        "236e2f53cee64b388656c95735af3cdc": {
          "model_module": "@jupyter-widgets/controls",
          "model_name": "DescriptionStyleModel",
          "model_module_version": "1.5.0",
          "state": {
            "_model_module": "@jupyter-widgets/controls",
            "_model_module_version": "1.5.0",
            "_model_name": "DescriptionStyleModel",
            "_view_count": null,
            "_view_module": "@jupyter-widgets/base",
            "_view_module_version": "1.2.0",
            "_view_name": "StyleView",
            "description_width": ""
          }
        },
        "92f64a80449545779498502abfad748a": {
          "model_module": "@jupyter-widgets/controls",
          "model_name": "HBoxModel",
          "model_module_version": "1.5.0",
          "state": {
            "_dom_classes": [],
            "_model_module": "@jupyter-widgets/controls",
            "_model_module_version": "1.5.0",
            "_model_name": "HBoxModel",
            "_view_count": null,
            "_view_module": "@jupyter-widgets/controls",
            "_view_module_version": "1.5.0",
            "_view_name": "HBoxView",
            "box_style": "",
            "children": [
              "IPY_MODEL_cbab7a9d8a2d443ea5a7994c8562b585",
              "IPY_MODEL_95470627adc848abba6ba9ce227d4150",
              "IPY_MODEL_042b849e5ad44893bcda3658a0f321da"
            ],
            "layout": "IPY_MODEL_56c46b12c4ea40c597811027098a2db6"
          }
        },
        "cbab7a9d8a2d443ea5a7994c8562b585": {
          "model_module": "@jupyter-widgets/controls",
          "model_name": "HTMLModel",
          "model_module_version": "1.5.0",
          "state": {
            "_dom_classes": [],
            "_model_module": "@jupyter-widgets/controls",
            "_model_module_version": "1.5.0",
            "_model_name": "HTMLModel",
            "_view_count": null,
            "_view_module": "@jupyter-widgets/controls",
            "_view_module_version": "1.5.0",
            "_view_name": "HTMLView",
            "description": "",
            "description_tooltip": null,
            "layout": "IPY_MODEL_75182c47948547b9aa9cb391efd4d81c",
            "placeholder": "​",
            "style": "IPY_MODEL_99834fcaff184302b911a292e5084b12",
            "value": "Downloading (…)olve/main/vocab.json: 100%"
          }
        },
        "95470627adc848abba6ba9ce227d4150": {
          "model_module": "@jupyter-widgets/controls",
          "model_name": "FloatProgressModel",
          "model_module_version": "1.5.0",
          "state": {
            "_dom_classes": [],
            "_model_module": "@jupyter-widgets/controls",
            "_model_module_version": "1.5.0",
            "_model_name": "FloatProgressModel",
            "_view_count": null,
            "_view_module": "@jupyter-widgets/controls",
            "_view_module_version": "1.5.0",
            "_view_name": "ProgressView",
            "bar_style": "success",
            "description": "",
            "description_tooltip": null,
            "layout": "IPY_MODEL_4cd465e33c414d1993f34d911c43c99d",
            "max": 898822,
            "min": 0,
            "orientation": "horizontal",
            "style": "IPY_MODEL_832cf5b323014335b11486c97778e1cf",
            "value": 898822
          }
        },
        "042b849e5ad44893bcda3658a0f321da": {
          "model_module": "@jupyter-widgets/controls",
          "model_name": "HTMLModel",
          "model_module_version": "1.5.0",
          "state": {
            "_dom_classes": [],
            "_model_module": "@jupyter-widgets/controls",
            "_model_module_version": "1.5.0",
            "_model_name": "HTMLModel",
            "_view_count": null,
            "_view_module": "@jupyter-widgets/controls",
            "_view_module_version": "1.5.0",
            "_view_name": "HTMLView",
            "description": "",
            "description_tooltip": null,
            "layout": "IPY_MODEL_7044cdd460ab4969978d8595c30db18a",
            "placeholder": "​",
            "style": "IPY_MODEL_b2228e23564945db9b189c33c5054fea",
            "value": " 899k/899k [00:00&lt;00:00, 4.34MB/s]"
          }
        },
        "56c46b12c4ea40c597811027098a2db6": {
          "model_module": "@jupyter-widgets/base",
          "model_name": "LayoutModel",
          "model_module_version": "1.2.0",
          "state": {
            "_model_module": "@jupyter-widgets/base",
            "_model_module_version": "1.2.0",
            "_model_name": "LayoutModel",
            "_view_count": null,
            "_view_module": "@jupyter-widgets/base",
            "_view_module_version": "1.2.0",
            "_view_name": "LayoutView",
            "align_content": null,
            "align_items": null,
            "align_self": null,
            "border": null,
            "bottom": null,
            "display": null,
            "flex": null,
            "flex_flow": null,
            "grid_area": null,
            "grid_auto_columns": null,
            "grid_auto_flow": null,
            "grid_auto_rows": null,
            "grid_column": null,
            "grid_gap": null,
            "grid_row": null,
            "grid_template_areas": null,
            "grid_template_columns": null,
            "grid_template_rows": null,
            "height": null,
            "justify_content": null,
            "justify_items": null,
            "left": null,
            "margin": null,
            "max_height": null,
            "max_width": null,
            "min_height": null,
            "min_width": null,
            "object_fit": null,
            "object_position": null,
            "order": null,
            "overflow": null,
            "overflow_x": null,
            "overflow_y": null,
            "padding": null,
            "right": null,
            "top": null,
            "visibility": null,
            "width": null
          }
        },
        "75182c47948547b9aa9cb391efd4d81c": {
          "model_module": "@jupyter-widgets/base",
          "model_name": "LayoutModel",
          "model_module_version": "1.2.0",
          "state": {
            "_model_module": "@jupyter-widgets/base",
            "_model_module_version": "1.2.0",
            "_model_name": "LayoutModel",
            "_view_count": null,
            "_view_module": "@jupyter-widgets/base",
            "_view_module_version": "1.2.0",
            "_view_name": "LayoutView",
            "align_content": null,
            "align_items": null,
            "align_self": null,
            "border": null,
            "bottom": null,
            "display": null,
            "flex": null,
            "flex_flow": null,
            "grid_area": null,
            "grid_auto_columns": null,
            "grid_auto_flow": null,
            "grid_auto_rows": null,
            "grid_column": null,
            "grid_gap": null,
            "grid_row": null,
            "grid_template_areas": null,
            "grid_template_columns": null,
            "grid_template_rows": null,
            "height": null,
            "justify_content": null,
            "justify_items": null,
            "left": null,
            "margin": null,
            "max_height": null,
            "max_width": null,
            "min_height": null,
            "min_width": null,
            "object_fit": null,
            "object_position": null,
            "order": null,
            "overflow": null,
            "overflow_x": null,
            "overflow_y": null,
            "padding": null,
            "right": null,
            "top": null,
            "visibility": null,
            "width": null
          }
        },
        "99834fcaff184302b911a292e5084b12": {
          "model_module": "@jupyter-widgets/controls",
          "model_name": "DescriptionStyleModel",
          "model_module_version": "1.5.0",
          "state": {
            "_model_module": "@jupyter-widgets/controls",
            "_model_module_version": "1.5.0",
            "_model_name": "DescriptionStyleModel",
            "_view_count": null,
            "_view_module": "@jupyter-widgets/base",
            "_view_module_version": "1.2.0",
            "_view_name": "StyleView",
            "description_width": ""
          }
        },
        "4cd465e33c414d1993f34d911c43c99d": {
          "model_module": "@jupyter-widgets/base",
          "model_name": "LayoutModel",
          "model_module_version": "1.2.0",
          "state": {
            "_model_module": "@jupyter-widgets/base",
            "_model_module_version": "1.2.0",
            "_model_name": "LayoutModel",
            "_view_count": null,
            "_view_module": "@jupyter-widgets/base",
            "_view_module_version": "1.2.0",
            "_view_name": "LayoutView",
            "align_content": null,
            "align_items": null,
            "align_self": null,
            "border": null,
            "bottom": null,
            "display": null,
            "flex": null,
            "flex_flow": null,
            "grid_area": null,
            "grid_auto_columns": null,
            "grid_auto_flow": null,
            "grid_auto_rows": null,
            "grid_column": null,
            "grid_gap": null,
            "grid_row": null,
            "grid_template_areas": null,
            "grid_template_columns": null,
            "grid_template_rows": null,
            "height": null,
            "justify_content": null,
            "justify_items": null,
            "left": null,
            "margin": null,
            "max_height": null,
            "max_width": null,
            "min_height": null,
            "min_width": null,
            "object_fit": null,
            "object_position": null,
            "order": null,
            "overflow": null,
            "overflow_x": null,
            "overflow_y": null,
            "padding": null,
            "right": null,
            "top": null,
            "visibility": null,
            "width": null
          }
        },
        "832cf5b323014335b11486c97778e1cf": {
          "model_module": "@jupyter-widgets/controls",
          "model_name": "ProgressStyleModel",
          "model_module_version": "1.5.0",
          "state": {
            "_model_module": "@jupyter-widgets/controls",
            "_model_module_version": "1.5.0",
            "_model_name": "ProgressStyleModel",
            "_view_count": null,
            "_view_module": "@jupyter-widgets/base",
            "_view_module_version": "1.2.0",
            "_view_name": "StyleView",
            "bar_color": null,
            "description_width": ""
          }
        },
        "7044cdd460ab4969978d8595c30db18a": {
          "model_module": "@jupyter-widgets/base",
          "model_name": "LayoutModel",
          "model_module_version": "1.2.0",
          "state": {
            "_model_module": "@jupyter-widgets/base",
            "_model_module_version": "1.2.0",
            "_model_name": "LayoutModel",
            "_view_count": null,
            "_view_module": "@jupyter-widgets/base",
            "_view_module_version": "1.2.0",
            "_view_name": "LayoutView",
            "align_content": null,
            "align_items": null,
            "align_self": null,
            "border": null,
            "bottom": null,
            "display": null,
            "flex": null,
            "flex_flow": null,
            "grid_area": null,
            "grid_auto_columns": null,
            "grid_auto_flow": null,
            "grid_auto_rows": null,
            "grid_column": null,
            "grid_gap": null,
            "grid_row": null,
            "grid_template_areas": null,
            "grid_template_columns": null,
            "grid_template_rows": null,
            "height": null,
            "justify_content": null,
            "justify_items": null,
            "left": null,
            "margin": null,
            "max_height": null,
            "max_width": null,
            "min_height": null,
            "min_width": null,
            "object_fit": null,
            "object_position": null,
            "order": null,
            "overflow": null,
            "overflow_x": null,
            "overflow_y": null,
            "padding": null,
            "right": null,
            "top": null,
            "visibility": null,
            "width": null
          }
        },
        "b2228e23564945db9b189c33c5054fea": {
          "model_module": "@jupyter-widgets/controls",
          "model_name": "DescriptionStyleModel",
          "model_module_version": "1.5.0",
          "state": {
            "_model_module": "@jupyter-widgets/controls",
            "_model_module_version": "1.5.0",
            "_model_name": "DescriptionStyleModel",
            "_view_count": null,
            "_view_module": "@jupyter-widgets/base",
            "_view_module_version": "1.2.0",
            "_view_name": "StyleView",
            "description_width": ""
          }
        },
        "5a005e0bfc244ae99279cfcbb55dbbf2": {
          "model_module": "@jupyter-widgets/controls",
          "model_name": "HBoxModel",
          "model_module_version": "1.5.0",
          "state": {
            "_dom_classes": [],
            "_model_module": "@jupyter-widgets/controls",
            "_model_module_version": "1.5.0",
            "_model_name": "HBoxModel",
            "_view_count": null,
            "_view_module": "@jupyter-widgets/controls",
            "_view_module_version": "1.5.0",
            "_view_name": "HBoxView",
            "box_style": "",
            "children": [
              "IPY_MODEL_44c60b736c034060b222e58c38a2631d",
              "IPY_MODEL_5ab3fd8d1cd74d39be48d771c0d50b7d",
              "IPY_MODEL_335663a5ab4645a4bd8a278e87baea4b"
            ],
            "layout": "IPY_MODEL_0849bacee09a40a0a95a05f6c97124e1"
          }
        },
        "44c60b736c034060b222e58c38a2631d": {
          "model_module": "@jupyter-widgets/controls",
          "model_name": "HTMLModel",
          "model_module_version": "1.5.0",
          "state": {
            "_dom_classes": [],
            "_model_module": "@jupyter-widgets/controls",
            "_model_module_version": "1.5.0",
            "_model_name": "HTMLModel",
            "_view_count": null,
            "_view_module": "@jupyter-widgets/controls",
            "_view_module_version": "1.5.0",
            "_view_name": "HTMLView",
            "description": "",
            "description_tooltip": null,
            "layout": "IPY_MODEL_df7b05bf4ff74772b2d061a50eb46a81",
            "placeholder": "​",
            "style": "IPY_MODEL_f6039d30da46444bae6bf62d821c49da",
            "value": "Downloading (…)olve/main/merges.txt: 100%"
          }
        },
        "5ab3fd8d1cd74d39be48d771c0d50b7d": {
          "model_module": "@jupyter-widgets/controls",
          "model_name": "FloatProgressModel",
          "model_module_version": "1.5.0",
          "state": {
            "_dom_classes": [],
            "_model_module": "@jupyter-widgets/controls",
            "_model_module_version": "1.5.0",
            "_model_name": "FloatProgressModel",
            "_view_count": null,
            "_view_module": "@jupyter-widgets/controls",
            "_view_module_version": "1.5.0",
            "_view_name": "ProgressView",
            "bar_style": "success",
            "description": "",
            "description_tooltip": null,
            "layout": "IPY_MODEL_5a70fdc55ffc470cb2dca26d5661c17b",
            "max": 456318,
            "min": 0,
            "orientation": "horizontal",
            "style": "IPY_MODEL_85d4545a409e43e7b8d71840a9744f12",
            "value": 456318
          }
        },
        "335663a5ab4645a4bd8a278e87baea4b": {
          "model_module": "@jupyter-widgets/controls",
          "model_name": "HTMLModel",
          "model_module_version": "1.5.0",
          "state": {
            "_dom_classes": [],
            "_model_module": "@jupyter-widgets/controls",
            "_model_module_version": "1.5.0",
            "_model_name": "HTMLModel",
            "_view_count": null,
            "_view_module": "@jupyter-widgets/controls",
            "_view_module_version": "1.5.0",
            "_view_name": "HTMLView",
            "description": "",
            "description_tooltip": null,
            "layout": "IPY_MODEL_9b82898537fd4d95b2d7166c08017350",
            "placeholder": "​",
            "style": "IPY_MODEL_fddf7b2d22b44781b5992a2847e006ae",
            "value": " 456k/456k [00:00&lt;00:00, 7.31MB/s]"
          }
        },
        "0849bacee09a40a0a95a05f6c97124e1": {
          "model_module": "@jupyter-widgets/base",
          "model_name": "LayoutModel",
          "model_module_version": "1.2.0",
          "state": {
            "_model_module": "@jupyter-widgets/base",
            "_model_module_version": "1.2.0",
            "_model_name": "LayoutModel",
            "_view_count": null,
            "_view_module": "@jupyter-widgets/base",
            "_view_module_version": "1.2.0",
            "_view_name": "LayoutView",
            "align_content": null,
            "align_items": null,
            "align_self": null,
            "border": null,
            "bottom": null,
            "display": null,
            "flex": null,
            "flex_flow": null,
            "grid_area": null,
            "grid_auto_columns": null,
            "grid_auto_flow": null,
            "grid_auto_rows": null,
            "grid_column": null,
            "grid_gap": null,
            "grid_row": null,
            "grid_template_areas": null,
            "grid_template_columns": null,
            "grid_template_rows": null,
            "height": null,
            "justify_content": null,
            "justify_items": null,
            "left": null,
            "margin": null,
            "max_height": null,
            "max_width": null,
            "min_height": null,
            "min_width": null,
            "object_fit": null,
            "object_position": null,
            "order": null,
            "overflow": null,
            "overflow_x": null,
            "overflow_y": null,
            "padding": null,
            "right": null,
            "top": null,
            "visibility": null,
            "width": null
          }
        },
        "df7b05bf4ff74772b2d061a50eb46a81": {
          "model_module": "@jupyter-widgets/base",
          "model_name": "LayoutModel",
          "model_module_version": "1.2.0",
          "state": {
            "_model_module": "@jupyter-widgets/base",
            "_model_module_version": "1.2.0",
            "_model_name": "LayoutModel",
            "_view_count": null,
            "_view_module": "@jupyter-widgets/base",
            "_view_module_version": "1.2.0",
            "_view_name": "LayoutView",
            "align_content": null,
            "align_items": null,
            "align_self": null,
            "border": null,
            "bottom": null,
            "display": null,
            "flex": null,
            "flex_flow": null,
            "grid_area": null,
            "grid_auto_columns": null,
            "grid_auto_flow": null,
            "grid_auto_rows": null,
            "grid_column": null,
            "grid_gap": null,
            "grid_row": null,
            "grid_template_areas": null,
            "grid_template_columns": null,
            "grid_template_rows": null,
            "height": null,
            "justify_content": null,
            "justify_items": null,
            "left": null,
            "margin": null,
            "max_height": null,
            "max_width": null,
            "min_height": null,
            "min_width": null,
            "object_fit": null,
            "object_position": null,
            "order": null,
            "overflow": null,
            "overflow_x": null,
            "overflow_y": null,
            "padding": null,
            "right": null,
            "top": null,
            "visibility": null,
            "width": null
          }
        },
        "f6039d30da46444bae6bf62d821c49da": {
          "model_module": "@jupyter-widgets/controls",
          "model_name": "DescriptionStyleModel",
          "model_module_version": "1.5.0",
          "state": {
            "_model_module": "@jupyter-widgets/controls",
            "_model_module_version": "1.5.0",
            "_model_name": "DescriptionStyleModel",
            "_view_count": null,
            "_view_module": "@jupyter-widgets/base",
            "_view_module_version": "1.2.0",
            "_view_name": "StyleView",
            "description_width": ""
          }
        },
        "5a70fdc55ffc470cb2dca26d5661c17b": {
          "model_module": "@jupyter-widgets/base",
          "model_name": "LayoutModel",
          "model_module_version": "1.2.0",
          "state": {
            "_model_module": "@jupyter-widgets/base",
            "_model_module_version": "1.2.0",
            "_model_name": "LayoutModel",
            "_view_count": null,
            "_view_module": "@jupyter-widgets/base",
            "_view_module_version": "1.2.0",
            "_view_name": "LayoutView",
            "align_content": null,
            "align_items": null,
            "align_self": null,
            "border": null,
            "bottom": null,
            "display": null,
            "flex": null,
            "flex_flow": null,
            "grid_area": null,
            "grid_auto_columns": null,
            "grid_auto_flow": null,
            "grid_auto_rows": null,
            "grid_column": null,
            "grid_gap": null,
            "grid_row": null,
            "grid_template_areas": null,
            "grid_template_columns": null,
            "grid_template_rows": null,
            "height": null,
            "justify_content": null,
            "justify_items": null,
            "left": null,
            "margin": null,
            "max_height": null,
            "max_width": null,
            "min_height": null,
            "min_width": null,
            "object_fit": null,
            "object_position": null,
            "order": null,
            "overflow": null,
            "overflow_x": null,
            "overflow_y": null,
            "padding": null,
            "right": null,
            "top": null,
            "visibility": null,
            "width": null
          }
        },
        "85d4545a409e43e7b8d71840a9744f12": {
          "model_module": "@jupyter-widgets/controls",
          "model_name": "ProgressStyleModel",
          "model_module_version": "1.5.0",
          "state": {
            "_model_module": "@jupyter-widgets/controls",
            "_model_module_version": "1.5.0",
            "_model_name": "ProgressStyleModel",
            "_view_count": null,
            "_view_module": "@jupyter-widgets/base",
            "_view_module_version": "1.2.0",
            "_view_name": "StyleView",
            "bar_color": null,
            "description_width": ""
          }
        },
        "9b82898537fd4d95b2d7166c08017350": {
          "model_module": "@jupyter-widgets/base",
          "model_name": "LayoutModel",
          "model_module_version": "1.2.0",
          "state": {
            "_model_module": "@jupyter-widgets/base",
            "_model_module_version": "1.2.0",
            "_model_name": "LayoutModel",
            "_view_count": null,
            "_view_module": "@jupyter-widgets/base",
            "_view_module_version": "1.2.0",
            "_view_name": "LayoutView",
            "align_content": null,
            "align_items": null,
            "align_self": null,
            "border": null,
            "bottom": null,
            "display": null,
            "flex": null,
            "flex_flow": null,
            "grid_area": null,
            "grid_auto_columns": null,
            "grid_auto_flow": null,
            "grid_auto_rows": null,
            "grid_column": null,
            "grid_gap": null,
            "grid_row": null,
            "grid_template_areas": null,
            "grid_template_columns": null,
            "grid_template_rows": null,
            "height": null,
            "justify_content": null,
            "justify_items": null,
            "left": null,
            "margin": null,
            "max_height": null,
            "max_width": null,
            "min_height": null,
            "min_width": null,
            "object_fit": null,
            "object_position": null,
            "order": null,
            "overflow": null,
            "overflow_x": null,
            "overflow_y": null,
            "padding": null,
            "right": null,
            "top": null,
            "visibility": null,
            "width": null
          }
        },
        "fddf7b2d22b44781b5992a2847e006ae": {
          "model_module": "@jupyter-widgets/controls",
          "model_name": "DescriptionStyleModel",
          "model_module_version": "1.5.0",
          "state": {
            "_model_module": "@jupyter-widgets/controls",
            "_model_module_version": "1.5.0",
            "_model_name": "DescriptionStyleModel",
            "_view_count": null,
            "_view_module": "@jupyter-widgets/base",
            "_view_module_version": "1.2.0",
            "_view_name": "StyleView",
            "description_width": ""
          }
        },
        "1e21375924d047f18eb515d447efd03b": {
          "model_module": "@jupyter-widgets/controls",
          "model_name": "HBoxModel",
          "model_module_version": "1.5.0",
          "state": {
            "_dom_classes": [],
            "_model_module": "@jupyter-widgets/controls",
            "_model_module_version": "1.5.0",
            "_model_name": "HBoxModel",
            "_view_count": null,
            "_view_module": "@jupyter-widgets/controls",
            "_view_module_version": "1.5.0",
            "_view_name": "HBoxView",
            "box_style": "",
            "children": [
              "IPY_MODEL_b853c662a134404096c2bd870b8342bc",
              "IPY_MODEL_892b95d1ba6f4e3a9b8866a5324f5cec",
              "IPY_MODEL_20661020b7ee40638aeff96f0c7db7fe"
            ],
            "layout": "IPY_MODEL_d706503c50d64cdab68a4a096152171e"
          }
        },
        "b853c662a134404096c2bd870b8342bc": {
          "model_module": "@jupyter-widgets/controls",
          "model_name": "HTMLModel",
          "model_module_version": "1.5.0",
          "state": {
            "_dom_classes": [],
            "_model_module": "@jupyter-widgets/controls",
            "_model_module_version": "1.5.0",
            "_model_name": "HTMLModel",
            "_view_count": null,
            "_view_module": "@jupyter-widgets/controls",
            "_view_module_version": "1.5.0",
            "_view_name": "HTMLView",
            "description": "",
            "description_tooltip": null,
            "layout": "IPY_MODEL_0b480a61e8ca4e05b7e9dffee3f8171b",
            "placeholder": "​",
            "style": "IPY_MODEL_d6d118dc7df343c08d107a7ad4e57dc6",
            "value": "Downloading (…)cial_tokens_map.json: 100%"
          }
        },
        "892b95d1ba6f4e3a9b8866a5324f5cec": {
          "model_module": "@jupyter-widgets/controls",
          "model_name": "FloatProgressModel",
          "model_module_version": "1.5.0",
          "state": {
            "_dom_classes": [],
            "_model_module": "@jupyter-widgets/controls",
            "_model_module_version": "1.5.0",
            "_model_name": "FloatProgressModel",
            "_view_count": null,
            "_view_module": "@jupyter-widgets/controls",
            "_view_module_version": "1.5.0",
            "_view_name": "ProgressView",
            "bar_style": "success",
            "description": "",
            "description_tooltip": null,
            "layout": "IPY_MODEL_bddb6ba8cb2045599450d73c15e4444c",
            "max": 772,
            "min": 0,
            "orientation": "horizontal",
            "style": "IPY_MODEL_064e09052f5b47699f3429376eadb89c",
            "value": 772
          }
        },
        "20661020b7ee40638aeff96f0c7db7fe": {
          "model_module": "@jupyter-widgets/controls",
          "model_name": "HTMLModel",
          "model_module_version": "1.5.0",
          "state": {
            "_dom_classes": [],
            "_model_module": "@jupyter-widgets/controls",
            "_model_module_version": "1.5.0",
            "_model_name": "HTMLModel",
            "_view_count": null,
            "_view_module": "@jupyter-widgets/controls",
            "_view_module_version": "1.5.0",
            "_view_name": "HTMLView",
            "description": "",
            "description_tooltip": null,
            "layout": "IPY_MODEL_b79a1c1816774f6fbed9a13b99194d29",
            "placeholder": "​",
            "style": "IPY_MODEL_bac241d9b5a841289fcb8958287a452b",
            "value": " 772/772 [00:00&lt;00:00, 34.3kB/s]"
          }
        },
        "d706503c50d64cdab68a4a096152171e": {
          "model_module": "@jupyter-widgets/base",
          "model_name": "LayoutModel",
          "model_module_version": "1.2.0",
          "state": {
            "_model_module": "@jupyter-widgets/base",
            "_model_module_version": "1.2.0",
            "_model_name": "LayoutModel",
            "_view_count": null,
            "_view_module": "@jupyter-widgets/base",
            "_view_module_version": "1.2.0",
            "_view_name": "LayoutView",
            "align_content": null,
            "align_items": null,
            "align_self": null,
            "border": null,
            "bottom": null,
            "display": null,
            "flex": null,
            "flex_flow": null,
            "grid_area": null,
            "grid_auto_columns": null,
            "grid_auto_flow": null,
            "grid_auto_rows": null,
            "grid_column": null,
            "grid_gap": null,
            "grid_row": null,
            "grid_template_areas": null,
            "grid_template_columns": null,
            "grid_template_rows": null,
            "height": null,
            "justify_content": null,
            "justify_items": null,
            "left": null,
            "margin": null,
            "max_height": null,
            "max_width": null,
            "min_height": null,
            "min_width": null,
            "object_fit": null,
            "object_position": null,
            "order": null,
            "overflow": null,
            "overflow_x": null,
            "overflow_y": null,
            "padding": null,
            "right": null,
            "top": null,
            "visibility": null,
            "width": null
          }
        },
        "0b480a61e8ca4e05b7e9dffee3f8171b": {
          "model_module": "@jupyter-widgets/base",
          "model_name": "LayoutModel",
          "model_module_version": "1.2.0",
          "state": {
            "_model_module": "@jupyter-widgets/base",
            "_model_module_version": "1.2.0",
            "_model_name": "LayoutModel",
            "_view_count": null,
            "_view_module": "@jupyter-widgets/base",
            "_view_module_version": "1.2.0",
            "_view_name": "LayoutView",
            "align_content": null,
            "align_items": null,
            "align_self": null,
            "border": null,
            "bottom": null,
            "display": null,
            "flex": null,
            "flex_flow": null,
            "grid_area": null,
            "grid_auto_columns": null,
            "grid_auto_flow": null,
            "grid_auto_rows": null,
            "grid_column": null,
            "grid_gap": null,
            "grid_row": null,
            "grid_template_areas": null,
            "grid_template_columns": null,
            "grid_template_rows": null,
            "height": null,
            "justify_content": null,
            "justify_items": null,
            "left": null,
            "margin": null,
            "max_height": null,
            "max_width": null,
            "min_height": null,
            "min_width": null,
            "object_fit": null,
            "object_position": null,
            "order": null,
            "overflow": null,
            "overflow_x": null,
            "overflow_y": null,
            "padding": null,
            "right": null,
            "top": null,
            "visibility": null,
            "width": null
          }
        },
        "d6d118dc7df343c08d107a7ad4e57dc6": {
          "model_module": "@jupyter-widgets/controls",
          "model_name": "DescriptionStyleModel",
          "model_module_version": "1.5.0",
          "state": {
            "_model_module": "@jupyter-widgets/controls",
            "_model_module_version": "1.5.0",
            "_model_name": "DescriptionStyleModel",
            "_view_count": null,
            "_view_module": "@jupyter-widgets/base",
            "_view_module_version": "1.2.0",
            "_view_name": "StyleView",
            "description_width": ""
          }
        },
        "bddb6ba8cb2045599450d73c15e4444c": {
          "model_module": "@jupyter-widgets/base",
          "model_name": "LayoutModel",
          "model_module_version": "1.2.0",
          "state": {
            "_model_module": "@jupyter-widgets/base",
            "_model_module_version": "1.2.0",
            "_model_name": "LayoutModel",
            "_view_count": null,
            "_view_module": "@jupyter-widgets/base",
            "_view_module_version": "1.2.0",
            "_view_name": "LayoutView",
            "align_content": null,
            "align_items": null,
            "align_self": null,
            "border": null,
            "bottom": null,
            "display": null,
            "flex": null,
            "flex_flow": null,
            "grid_area": null,
            "grid_auto_columns": null,
            "grid_auto_flow": null,
            "grid_auto_rows": null,
            "grid_column": null,
            "grid_gap": null,
            "grid_row": null,
            "grid_template_areas": null,
            "grid_template_columns": null,
            "grid_template_rows": null,
            "height": null,
            "justify_content": null,
            "justify_items": null,
            "left": null,
            "margin": null,
            "max_height": null,
            "max_width": null,
            "min_height": null,
            "min_width": null,
            "object_fit": null,
            "object_position": null,
            "order": null,
            "overflow": null,
            "overflow_x": null,
            "overflow_y": null,
            "padding": null,
            "right": null,
            "top": null,
            "visibility": null,
            "width": null
          }
        },
        "064e09052f5b47699f3429376eadb89c": {
          "model_module": "@jupyter-widgets/controls",
          "model_name": "ProgressStyleModel",
          "model_module_version": "1.5.0",
          "state": {
            "_model_module": "@jupyter-widgets/controls",
            "_model_module_version": "1.5.0",
            "_model_name": "ProgressStyleModel",
            "_view_count": null,
            "_view_module": "@jupyter-widgets/base",
            "_view_module_version": "1.2.0",
            "_view_name": "StyleView",
            "bar_color": null,
            "description_width": ""
          }
        },
        "b79a1c1816774f6fbed9a13b99194d29": {
          "model_module": "@jupyter-widgets/base",
          "model_name": "LayoutModel",
          "model_module_version": "1.2.0",
          "state": {
            "_model_module": "@jupyter-widgets/base",
            "_model_module_version": "1.2.0",
            "_model_name": "LayoutModel",
            "_view_count": null,
            "_view_module": "@jupyter-widgets/base",
            "_view_module_version": "1.2.0",
            "_view_name": "LayoutView",
            "align_content": null,
            "align_items": null,
            "align_self": null,
            "border": null,
            "bottom": null,
            "display": null,
            "flex": null,
            "flex_flow": null,
            "grid_area": null,
            "grid_auto_columns": null,
            "grid_auto_flow": null,
            "grid_auto_rows": null,
            "grid_column": null,
            "grid_gap": null,
            "grid_row": null,
            "grid_template_areas": null,
            "grid_template_columns": null,
            "grid_template_rows": null,
            "height": null,
            "justify_content": null,
            "justify_items": null,
            "left": null,
            "margin": null,
            "max_height": null,
            "max_width": null,
            "min_height": null,
            "min_width": null,
            "object_fit": null,
            "object_position": null,
            "order": null,
            "overflow": null,
            "overflow_x": null,
            "overflow_y": null,
            "padding": null,
            "right": null,
            "top": null,
            "visibility": null,
            "width": null
          }
        },
        "bac241d9b5a841289fcb8958287a452b": {
          "model_module": "@jupyter-widgets/controls",
          "model_name": "DescriptionStyleModel",
          "model_module_version": "1.5.0",
          "state": {
            "_model_module": "@jupyter-widgets/controls",
            "_model_module_version": "1.5.0",
            "_model_name": "DescriptionStyleModel",
            "_view_count": null,
            "_view_module": "@jupyter-widgets/base",
            "_view_module_version": "1.2.0",
            "_view_name": "StyleView",
            "description_width": ""
          }
        },
        "93744dda3d5c46e3bc9bec7218123a7a": {
          "model_module": "@jupyter-widgets/controls",
          "model_name": "HBoxModel",
          "model_module_version": "1.5.0",
          "state": {
            "_dom_classes": [],
            "_model_module": "@jupyter-widgets/controls",
            "_model_module_version": "1.5.0",
            "_model_name": "HBoxModel",
            "_view_count": null,
            "_view_module": "@jupyter-widgets/controls",
            "_view_module_version": "1.5.0",
            "_view_name": "HBoxView",
            "box_style": "",
            "children": [
              "IPY_MODEL_d5e9793c634441209435ff72101b75e7",
              "IPY_MODEL_12cce93abbec4bdcacbcffd918a74ef7",
              "IPY_MODEL_bafd0430a09f46bdb7477bf3be3de73d"
            ],
            "layout": "IPY_MODEL_bb62736778c14508941535825b6967bf"
          }
        },
        "d5e9793c634441209435ff72101b75e7": {
          "model_module": "@jupyter-widgets/controls",
          "model_name": "HTMLModel",
          "model_module_version": "1.5.0",
          "state": {
            "_dom_classes": [],
            "_model_module": "@jupyter-widgets/controls",
            "_model_module_version": "1.5.0",
            "_model_name": "HTMLModel",
            "_view_count": null,
            "_view_module": "@jupyter-widgets/controls",
            "_view_module_version": "1.5.0",
            "_view_name": "HTMLView",
            "description": "",
            "description_tooltip": null,
            "layout": "IPY_MODEL_81cb2aa6493a4294b52c839de1f9e1e4",
            "placeholder": "​",
            "style": "IPY_MODEL_31dec99e8c2345678010bf6fe5557b08",
            "value": "Downloading (…)lve/main/config.json: 100%"
          }
        },
        "12cce93abbec4bdcacbcffd918a74ef7": {
          "model_module": "@jupyter-widgets/controls",
          "model_name": "FloatProgressModel",
          "model_module_version": "1.5.0",
          "state": {
            "_dom_classes": [],
            "_model_module": "@jupyter-widgets/controls",
            "_model_module_version": "1.5.0",
            "_model_name": "FloatProgressModel",
            "_view_count": null,
            "_view_module": "@jupyter-widgets/controls",
            "_view_module_version": "1.5.0",
            "_view_name": "ProgressView",
            "bar_style": "success",
            "description": "",
            "description_tooltip": null,
            "layout": "IPY_MODEL_b12c4c5c97f34af9bee2a491e1be7675",
            "max": 1514,
            "min": 0,
            "orientation": "horizontal",
            "style": "IPY_MODEL_60f90db9dd8c4f06b704a1decea0ecb6",
            "value": 1514
          }
        },
        "bafd0430a09f46bdb7477bf3be3de73d": {
          "model_module": "@jupyter-widgets/controls",
          "model_name": "HTMLModel",
          "model_module_version": "1.5.0",
          "state": {
            "_dom_classes": [],
            "_model_module": "@jupyter-widgets/controls",
            "_model_module_version": "1.5.0",
            "_model_name": "HTMLModel",
            "_view_count": null,
            "_view_module": "@jupyter-widgets/controls",
            "_view_module_version": "1.5.0",
            "_view_name": "HTMLView",
            "description": "",
            "description_tooltip": null,
            "layout": "IPY_MODEL_0b1a4bd1dc094cc6bcf7b8b525b134d3",
            "placeholder": "​",
            "style": "IPY_MODEL_e03f2b6103bc426a8dc0f9b21f9d9b9f",
            "value": " 1.51k/1.51k [00:00&lt;00:00, 56.7kB/s]"
          }
        },
        "bb62736778c14508941535825b6967bf": {
          "model_module": "@jupyter-widgets/base",
          "model_name": "LayoutModel",
          "model_module_version": "1.2.0",
          "state": {
            "_model_module": "@jupyter-widgets/base",
            "_model_module_version": "1.2.0",
            "_model_name": "LayoutModel",
            "_view_count": null,
            "_view_module": "@jupyter-widgets/base",
            "_view_module_version": "1.2.0",
            "_view_name": "LayoutView",
            "align_content": null,
            "align_items": null,
            "align_self": null,
            "border": null,
            "bottom": null,
            "display": null,
            "flex": null,
            "flex_flow": null,
            "grid_area": null,
            "grid_auto_columns": null,
            "grid_auto_flow": null,
            "grid_auto_rows": null,
            "grid_column": null,
            "grid_gap": null,
            "grid_row": null,
            "grid_template_areas": null,
            "grid_template_columns": null,
            "grid_template_rows": null,
            "height": null,
            "justify_content": null,
            "justify_items": null,
            "left": null,
            "margin": null,
            "max_height": null,
            "max_width": null,
            "min_height": null,
            "min_width": null,
            "object_fit": null,
            "object_position": null,
            "order": null,
            "overflow": null,
            "overflow_x": null,
            "overflow_y": null,
            "padding": null,
            "right": null,
            "top": null,
            "visibility": null,
            "width": null
          }
        },
        "81cb2aa6493a4294b52c839de1f9e1e4": {
          "model_module": "@jupyter-widgets/base",
          "model_name": "LayoutModel",
          "model_module_version": "1.2.0",
          "state": {
            "_model_module": "@jupyter-widgets/base",
            "_model_module_version": "1.2.0",
            "_model_name": "LayoutModel",
            "_view_count": null,
            "_view_module": "@jupyter-widgets/base",
            "_view_module_version": "1.2.0",
            "_view_name": "LayoutView",
            "align_content": null,
            "align_items": null,
            "align_self": null,
            "border": null,
            "bottom": null,
            "display": null,
            "flex": null,
            "flex_flow": null,
            "grid_area": null,
            "grid_auto_columns": null,
            "grid_auto_flow": null,
            "grid_auto_rows": null,
            "grid_column": null,
            "grid_gap": null,
            "grid_row": null,
            "grid_template_areas": null,
            "grid_template_columns": null,
            "grid_template_rows": null,
            "height": null,
            "justify_content": null,
            "justify_items": null,
            "left": null,
            "margin": null,
            "max_height": null,
            "max_width": null,
            "min_height": null,
            "min_width": null,
            "object_fit": null,
            "object_position": null,
            "order": null,
            "overflow": null,
            "overflow_x": null,
            "overflow_y": null,
            "padding": null,
            "right": null,
            "top": null,
            "visibility": null,
            "width": null
          }
        },
        "31dec99e8c2345678010bf6fe5557b08": {
          "model_module": "@jupyter-widgets/controls",
          "model_name": "DescriptionStyleModel",
          "model_module_version": "1.5.0",
          "state": {
            "_model_module": "@jupyter-widgets/controls",
            "_model_module_version": "1.5.0",
            "_model_name": "DescriptionStyleModel",
            "_view_count": null,
            "_view_module": "@jupyter-widgets/base",
            "_view_module_version": "1.2.0",
            "_view_name": "StyleView",
            "description_width": ""
          }
        },
        "b12c4c5c97f34af9bee2a491e1be7675": {
          "model_module": "@jupyter-widgets/base",
          "model_name": "LayoutModel",
          "model_module_version": "1.2.0",
          "state": {
            "_model_module": "@jupyter-widgets/base",
            "_model_module_version": "1.2.0",
            "_model_name": "LayoutModel",
            "_view_count": null,
            "_view_module": "@jupyter-widgets/base",
            "_view_module_version": "1.2.0",
            "_view_name": "LayoutView",
            "align_content": null,
            "align_items": null,
            "align_self": null,
            "border": null,
            "bottom": null,
            "display": null,
            "flex": null,
            "flex_flow": null,
            "grid_area": null,
            "grid_auto_columns": null,
            "grid_auto_flow": null,
            "grid_auto_rows": null,
            "grid_column": null,
            "grid_gap": null,
            "grid_row": null,
            "grid_template_areas": null,
            "grid_template_columns": null,
            "grid_template_rows": null,
            "height": null,
            "justify_content": null,
            "justify_items": null,
            "left": null,
            "margin": null,
            "max_height": null,
            "max_width": null,
            "min_height": null,
            "min_width": null,
            "object_fit": null,
            "object_position": null,
            "order": null,
            "overflow": null,
            "overflow_x": null,
            "overflow_y": null,
            "padding": null,
            "right": null,
            "top": null,
            "visibility": null,
            "width": null
          }
        },
        "60f90db9dd8c4f06b704a1decea0ecb6": {
          "model_module": "@jupyter-widgets/controls",
          "model_name": "ProgressStyleModel",
          "model_module_version": "1.5.0",
          "state": {
            "_model_module": "@jupyter-widgets/controls",
            "_model_module_version": "1.5.0",
            "_model_name": "ProgressStyleModel",
            "_view_count": null,
            "_view_module": "@jupyter-widgets/base",
            "_view_module_version": "1.2.0",
            "_view_name": "StyleView",
            "bar_color": null,
            "description_width": ""
          }
        },
        "0b1a4bd1dc094cc6bcf7b8b525b134d3": {
          "model_module": "@jupyter-widgets/base",
          "model_name": "LayoutModel",
          "model_module_version": "1.2.0",
          "state": {
            "_model_module": "@jupyter-widgets/base",
            "_model_module_version": "1.2.0",
            "_model_name": "LayoutModel",
            "_view_count": null,
            "_view_module": "@jupyter-widgets/base",
            "_view_module_version": "1.2.0",
            "_view_name": "LayoutView",
            "align_content": null,
            "align_items": null,
            "align_self": null,
            "border": null,
            "bottom": null,
            "display": null,
            "flex": null,
            "flex_flow": null,
            "grid_area": null,
            "grid_auto_columns": null,
            "grid_auto_flow": null,
            "grid_auto_rows": null,
            "grid_column": null,
            "grid_gap": null,
            "grid_row": null,
            "grid_template_areas": null,
            "grid_template_columns": null,
            "grid_template_rows": null,
            "height": null,
            "justify_content": null,
            "justify_items": null,
            "left": null,
            "margin": null,
            "max_height": null,
            "max_width": null,
            "min_height": null,
            "min_width": null,
            "object_fit": null,
            "object_position": null,
            "order": null,
            "overflow": null,
            "overflow_x": null,
            "overflow_y": null,
            "padding": null,
            "right": null,
            "top": null,
            "visibility": null,
            "width": null
          }
        },
        "e03f2b6103bc426a8dc0f9b21f9d9b9f": {
          "model_module": "@jupyter-widgets/controls",
          "model_name": "DescriptionStyleModel",
          "model_module_version": "1.5.0",
          "state": {
            "_model_module": "@jupyter-widgets/controls",
            "_model_module_version": "1.5.0",
            "_model_name": "DescriptionStyleModel",
            "_view_count": null,
            "_view_module": "@jupyter-widgets/base",
            "_view_module_version": "1.2.0",
            "_view_name": "StyleView",
            "description_width": ""
          }
        },
        "6acfe3e1a26c4852a744f984d30311b7": {
          "model_module": "@jupyter-widgets/controls",
          "model_name": "HBoxModel",
          "model_module_version": "1.5.0",
          "state": {
            "_dom_classes": [],
            "_model_module": "@jupyter-widgets/controls",
            "_model_module_version": "1.5.0",
            "_model_name": "HBoxModel",
            "_view_count": null,
            "_view_module": "@jupyter-widgets/controls",
            "_view_module_version": "1.5.0",
            "_view_name": "HBoxView",
            "box_style": "",
            "children": [
              "IPY_MODEL_06ee21d76de4420389da7595d289e49f",
              "IPY_MODEL_1eed8bb0afa64f45992d00f9e09616ec",
              "IPY_MODEL_3d4a4a7f33e646e4a7b295c9efbacbe8"
            ],
            "layout": "IPY_MODEL_39a67d5a75744e43a2cee6b216b8fc3f"
          }
        },
        "06ee21d76de4420389da7595d289e49f": {
          "model_module": "@jupyter-widgets/controls",
          "model_name": "HTMLModel",
          "model_module_version": "1.5.0",
          "state": {
            "_dom_classes": [],
            "_model_module": "@jupyter-widgets/controls",
            "_model_module_version": "1.5.0",
            "_model_name": "HTMLModel",
            "_view_count": null,
            "_view_module": "@jupyter-widgets/controls",
            "_view_module_version": "1.5.0",
            "_view_name": "HTMLView",
            "description": "",
            "description_tooltip": null,
            "layout": "IPY_MODEL_f64ba841a6e54411bfce89dddbfe0f34",
            "placeholder": "​",
            "style": "IPY_MODEL_baae0d52bf1d43b6be363067ece97f35",
            "value": "Downloading pytorch_model.bin: 100%"
          }
        },
        "1eed8bb0afa64f45992d00f9e09616ec": {
          "model_module": "@jupyter-widgets/controls",
          "model_name": "FloatProgressModel",
          "model_module_version": "1.5.0",
          "state": {
            "_dom_classes": [],
            "_model_module": "@jupyter-widgets/controls",
            "_model_module_version": "1.5.0",
            "_model_name": "FloatProgressModel",
            "_view_count": null,
            "_view_module": "@jupyter-widgets/controls",
            "_view_module_version": "1.5.0",
            "_view_name": "ProgressView",
            "bar_style": "success",
            "description": "",
            "description_tooltip": null,
            "layout": "IPY_MODEL_533d188c38664af1a29b2d53b87bcab1",
            "max": 1629536955,
            "min": 0,
            "orientation": "horizontal",
            "style": "IPY_MODEL_56c1ab16232349598c3ca75531fbdd1e",
            "value": 1629536955
          }
        },
        "3d4a4a7f33e646e4a7b295c9efbacbe8": {
          "model_module": "@jupyter-widgets/controls",
          "model_name": "HTMLModel",
          "model_module_version": "1.5.0",
          "state": {
            "_dom_classes": [],
            "_model_module": "@jupyter-widgets/controls",
            "_model_module_version": "1.5.0",
            "_model_name": "HTMLModel",
            "_view_count": null,
            "_view_module": "@jupyter-widgets/controls",
            "_view_module_version": "1.5.0",
            "_view_name": "HTMLView",
            "description": "",
            "description_tooltip": null,
            "layout": "IPY_MODEL_839cc9cc17e042cb82efdfcb152687c9",
            "placeholder": "​",
            "style": "IPY_MODEL_f7df58cced8743429cc501c4336236ca",
            "value": " 1.63G/1.63G [00:09&lt;00:00, 224MB/s]"
          }
        },
        "39a67d5a75744e43a2cee6b216b8fc3f": {
          "model_module": "@jupyter-widgets/base",
          "model_name": "LayoutModel",
          "model_module_version": "1.2.0",
          "state": {
            "_model_module": "@jupyter-widgets/base",
            "_model_module_version": "1.2.0",
            "_model_name": "LayoutModel",
            "_view_count": null,
            "_view_module": "@jupyter-widgets/base",
            "_view_module_version": "1.2.0",
            "_view_name": "LayoutView",
            "align_content": null,
            "align_items": null,
            "align_self": null,
            "border": null,
            "bottom": null,
            "display": null,
            "flex": null,
            "flex_flow": null,
            "grid_area": null,
            "grid_auto_columns": null,
            "grid_auto_flow": null,
            "grid_auto_rows": null,
            "grid_column": null,
            "grid_gap": null,
            "grid_row": null,
            "grid_template_areas": null,
            "grid_template_columns": null,
            "grid_template_rows": null,
            "height": null,
            "justify_content": null,
            "justify_items": null,
            "left": null,
            "margin": null,
            "max_height": null,
            "max_width": null,
            "min_height": null,
            "min_width": null,
            "object_fit": null,
            "object_position": null,
            "order": null,
            "overflow": null,
            "overflow_x": null,
            "overflow_y": null,
            "padding": null,
            "right": null,
            "top": null,
            "visibility": null,
            "width": null
          }
        },
        "f64ba841a6e54411bfce89dddbfe0f34": {
          "model_module": "@jupyter-widgets/base",
          "model_name": "LayoutModel",
          "model_module_version": "1.2.0",
          "state": {
            "_model_module": "@jupyter-widgets/base",
            "_model_module_version": "1.2.0",
            "_model_name": "LayoutModel",
            "_view_count": null,
            "_view_module": "@jupyter-widgets/base",
            "_view_module_version": "1.2.0",
            "_view_name": "LayoutView",
            "align_content": null,
            "align_items": null,
            "align_self": null,
            "border": null,
            "bottom": null,
            "display": null,
            "flex": null,
            "flex_flow": null,
            "grid_area": null,
            "grid_auto_columns": null,
            "grid_auto_flow": null,
            "grid_auto_rows": null,
            "grid_column": null,
            "grid_gap": null,
            "grid_row": null,
            "grid_template_areas": null,
            "grid_template_columns": null,
            "grid_template_rows": null,
            "height": null,
            "justify_content": null,
            "justify_items": null,
            "left": null,
            "margin": null,
            "max_height": null,
            "max_width": null,
            "min_height": null,
            "min_width": null,
            "object_fit": null,
            "object_position": null,
            "order": null,
            "overflow": null,
            "overflow_x": null,
            "overflow_y": null,
            "padding": null,
            "right": null,
            "top": null,
            "visibility": null,
            "width": null
          }
        },
        "baae0d52bf1d43b6be363067ece97f35": {
          "model_module": "@jupyter-widgets/controls",
          "model_name": "DescriptionStyleModel",
          "model_module_version": "1.5.0",
          "state": {
            "_model_module": "@jupyter-widgets/controls",
            "_model_module_version": "1.5.0",
            "_model_name": "DescriptionStyleModel",
            "_view_count": null,
            "_view_module": "@jupyter-widgets/base",
            "_view_module_version": "1.2.0",
            "_view_name": "StyleView",
            "description_width": ""
          }
        },
        "533d188c38664af1a29b2d53b87bcab1": {
          "model_module": "@jupyter-widgets/base",
          "model_name": "LayoutModel",
          "model_module_version": "1.2.0",
          "state": {
            "_model_module": "@jupyter-widgets/base",
            "_model_module_version": "1.2.0",
            "_model_name": "LayoutModel",
            "_view_count": null,
            "_view_module": "@jupyter-widgets/base",
            "_view_module_version": "1.2.0",
            "_view_name": "LayoutView",
            "align_content": null,
            "align_items": null,
            "align_self": null,
            "border": null,
            "bottom": null,
            "display": null,
            "flex": null,
            "flex_flow": null,
            "grid_area": null,
            "grid_auto_columns": null,
            "grid_auto_flow": null,
            "grid_auto_rows": null,
            "grid_column": null,
            "grid_gap": null,
            "grid_row": null,
            "grid_template_areas": null,
            "grid_template_columns": null,
            "grid_template_rows": null,
            "height": null,
            "justify_content": null,
            "justify_items": null,
            "left": null,
            "margin": null,
            "max_height": null,
            "max_width": null,
            "min_height": null,
            "min_width": null,
            "object_fit": null,
            "object_position": null,
            "order": null,
            "overflow": null,
            "overflow_x": null,
            "overflow_y": null,
            "padding": null,
            "right": null,
            "top": null,
            "visibility": null,
            "width": null
          }
        },
        "56c1ab16232349598c3ca75531fbdd1e": {
          "model_module": "@jupyter-widgets/controls",
          "model_name": "ProgressStyleModel",
          "model_module_version": "1.5.0",
          "state": {
            "_model_module": "@jupyter-widgets/controls",
            "_model_module_version": "1.5.0",
            "_model_name": "ProgressStyleModel",
            "_view_count": null,
            "_view_module": "@jupyter-widgets/base",
            "_view_module_version": "1.2.0",
            "_view_name": "StyleView",
            "bar_color": null,
            "description_width": ""
          }
        },
        "839cc9cc17e042cb82efdfcb152687c9": {
          "model_module": "@jupyter-widgets/base",
          "model_name": "LayoutModel",
          "model_module_version": "1.2.0",
          "state": {
            "_model_module": "@jupyter-widgets/base",
            "_model_module_version": "1.2.0",
            "_model_name": "LayoutModel",
            "_view_count": null,
            "_view_module": "@jupyter-widgets/base",
            "_view_module_version": "1.2.0",
            "_view_name": "LayoutView",
            "align_content": null,
            "align_items": null,
            "align_self": null,
            "border": null,
            "bottom": null,
            "display": null,
            "flex": null,
            "flex_flow": null,
            "grid_area": null,
            "grid_auto_columns": null,
            "grid_auto_flow": null,
            "grid_auto_rows": null,
            "grid_column": null,
            "grid_gap": null,
            "grid_row": null,
            "grid_template_areas": null,
            "grid_template_columns": null,
            "grid_template_rows": null,
            "height": null,
            "justify_content": null,
            "justify_items": null,
            "left": null,
            "margin": null,
            "max_height": null,
            "max_width": null,
            "min_height": null,
            "min_width": null,
            "object_fit": null,
            "object_position": null,
            "order": null,
            "overflow": null,
            "overflow_x": null,
            "overflow_y": null,
            "padding": null,
            "right": null,
            "top": null,
            "visibility": null,
            "width": null
          }
        },
        "f7df58cced8743429cc501c4336236ca": {
          "model_module": "@jupyter-widgets/controls",
          "model_name": "DescriptionStyleModel",
          "model_module_version": "1.5.0",
          "state": {
            "_model_module": "@jupyter-widgets/controls",
            "_model_module_version": "1.5.0",
            "_model_name": "DescriptionStyleModel",
            "_view_count": null,
            "_view_module": "@jupyter-widgets/base",
            "_view_module_version": "1.2.0",
            "_view_name": "StyleView",
            "description_width": ""
          }
        },
        "f4263ca2cee74b648038c4fc2254c399": {
          "model_module": "@jupyter-widgets/controls",
          "model_name": "HBoxModel",
          "model_module_version": "1.5.0",
          "state": {
            "_dom_classes": [],
            "_model_module": "@jupyter-widgets/controls",
            "_model_module_version": "1.5.0",
            "_model_name": "HBoxModel",
            "_view_count": null,
            "_view_module": "@jupyter-widgets/controls",
            "_view_module_version": "1.5.0",
            "_view_name": "HBoxView",
            "box_style": "",
            "children": [
              "IPY_MODEL_efc329e65b1845a4ac38c6ba0ea4219c",
              "IPY_MODEL_12602ea235da49659a5c77435fed3004",
              "IPY_MODEL_5be93a8d76ca45c2bfa345caeb52337b"
            ],
            "layout": "IPY_MODEL_0fa182ea1f534142b28a0776303d65b7"
          }
        },
        "efc329e65b1845a4ac38c6ba0ea4219c": {
          "model_module": "@jupyter-widgets/controls",
          "model_name": "HTMLModel",
          "model_module_version": "1.5.0",
          "state": {
            "_dom_classes": [],
            "_model_module": "@jupyter-widgets/controls",
            "_model_module_version": "1.5.0",
            "_model_name": "HTMLModel",
            "_view_count": null,
            "_view_module": "@jupyter-widgets/controls",
            "_view_module_version": "1.5.0",
            "_view_name": "HTMLView",
            "description": "",
            "description_tooltip": null,
            "layout": "IPY_MODEL_39df09f82e8d479bb8c6a7855979577c",
            "placeholder": "​",
            "style": "IPY_MODEL_20505865a6a34abd92b3c6e533d881c2",
            "value": "Downloading (…)okenizer_config.json: 100%"
          }
        },
        "12602ea235da49659a5c77435fed3004": {
          "model_module": "@jupyter-widgets/controls",
          "model_name": "FloatProgressModel",
          "model_module_version": "1.5.0",
          "state": {
            "_dom_classes": [],
            "_model_module": "@jupyter-widgets/controls",
            "_model_module_version": "1.5.0",
            "_model_name": "FloatProgressModel",
            "_view_count": null,
            "_view_module": "@jupyter-widgets/controls",
            "_view_module_version": "1.5.0",
            "_view_name": "ProgressView",
            "bar_style": "success",
            "description": "",
            "description_tooltip": null,
            "layout": "IPY_MODEL_99c850fd38954c8c816410dc0761c28f",
            "max": 854,
            "min": 0,
            "orientation": "horizontal",
            "style": "IPY_MODEL_e4edcd90b8f24fc8bf0dc3fb152d4d41",
            "value": 854
          }
        },
        "5be93a8d76ca45c2bfa345caeb52337b": {
          "model_module": "@jupyter-widgets/controls",
          "model_name": "HTMLModel",
          "model_module_version": "1.5.0",
          "state": {
            "_dom_classes": [],
            "_model_module": "@jupyter-widgets/controls",
            "_model_module_version": "1.5.0",
            "_model_name": "HTMLModel",
            "_view_count": null,
            "_view_module": "@jupyter-widgets/controls",
            "_view_module_version": "1.5.0",
            "_view_name": "HTMLView",
            "description": "",
            "description_tooltip": null,
            "layout": "IPY_MODEL_fe94cd0b17c24c85afce6569aca4bd64",
            "placeholder": "​",
            "style": "IPY_MODEL_6e57d7fb2114425a8e3a10e778b8ffe8",
            "value": " 854/854 [00:00&lt;00:00, 27.1kB/s]"
          }
        },
        "0fa182ea1f534142b28a0776303d65b7": {
          "model_module": "@jupyter-widgets/base",
          "model_name": "LayoutModel",
          "model_module_version": "1.2.0",
          "state": {
            "_model_module": "@jupyter-widgets/base",
            "_model_module_version": "1.2.0",
            "_model_name": "LayoutModel",
            "_view_count": null,
            "_view_module": "@jupyter-widgets/base",
            "_view_module_version": "1.2.0",
            "_view_name": "LayoutView",
            "align_content": null,
            "align_items": null,
            "align_self": null,
            "border": null,
            "bottom": null,
            "display": null,
            "flex": null,
            "flex_flow": null,
            "grid_area": null,
            "grid_auto_columns": null,
            "grid_auto_flow": null,
            "grid_auto_rows": null,
            "grid_column": null,
            "grid_gap": null,
            "grid_row": null,
            "grid_template_areas": null,
            "grid_template_columns": null,
            "grid_template_rows": null,
            "height": null,
            "justify_content": null,
            "justify_items": null,
            "left": null,
            "margin": null,
            "max_height": null,
            "max_width": null,
            "min_height": null,
            "min_width": null,
            "object_fit": null,
            "object_position": null,
            "order": null,
            "overflow": null,
            "overflow_x": null,
            "overflow_y": null,
            "padding": null,
            "right": null,
            "top": null,
            "visibility": null,
            "width": null
          }
        },
        "39df09f82e8d479bb8c6a7855979577c": {
          "model_module": "@jupyter-widgets/base",
          "model_name": "LayoutModel",
          "model_module_version": "1.2.0",
          "state": {
            "_model_module": "@jupyter-widgets/base",
            "_model_module_version": "1.2.0",
            "_model_name": "LayoutModel",
            "_view_count": null,
            "_view_module": "@jupyter-widgets/base",
            "_view_module_version": "1.2.0",
            "_view_name": "LayoutView",
            "align_content": null,
            "align_items": null,
            "align_self": null,
            "border": null,
            "bottom": null,
            "display": null,
            "flex": null,
            "flex_flow": null,
            "grid_area": null,
            "grid_auto_columns": null,
            "grid_auto_flow": null,
            "grid_auto_rows": null,
            "grid_column": null,
            "grid_gap": null,
            "grid_row": null,
            "grid_template_areas": null,
            "grid_template_columns": null,
            "grid_template_rows": null,
            "height": null,
            "justify_content": null,
            "justify_items": null,
            "left": null,
            "margin": null,
            "max_height": null,
            "max_width": null,
            "min_height": null,
            "min_width": null,
            "object_fit": null,
            "object_position": null,
            "order": null,
            "overflow": null,
            "overflow_x": null,
            "overflow_y": null,
            "padding": null,
            "right": null,
            "top": null,
            "visibility": null,
            "width": null
          }
        },
        "20505865a6a34abd92b3c6e533d881c2": {
          "model_module": "@jupyter-widgets/controls",
          "model_name": "DescriptionStyleModel",
          "model_module_version": "1.5.0",
          "state": {
            "_model_module": "@jupyter-widgets/controls",
            "_model_module_version": "1.5.0",
            "_model_name": "DescriptionStyleModel",
            "_view_count": null,
            "_view_module": "@jupyter-widgets/base",
            "_view_module_version": "1.2.0",
            "_view_name": "StyleView",
            "description_width": ""
          }
        },
        "99c850fd38954c8c816410dc0761c28f": {
          "model_module": "@jupyter-widgets/base",
          "model_name": "LayoutModel",
          "model_module_version": "1.2.0",
          "state": {
            "_model_module": "@jupyter-widgets/base",
            "_model_module_version": "1.2.0",
            "_model_name": "LayoutModel",
            "_view_count": null,
            "_view_module": "@jupyter-widgets/base",
            "_view_module_version": "1.2.0",
            "_view_name": "LayoutView",
            "align_content": null,
            "align_items": null,
            "align_self": null,
            "border": null,
            "bottom": null,
            "display": null,
            "flex": null,
            "flex_flow": null,
            "grid_area": null,
            "grid_auto_columns": null,
            "grid_auto_flow": null,
            "grid_auto_rows": null,
            "grid_column": null,
            "grid_gap": null,
            "grid_row": null,
            "grid_template_areas": null,
            "grid_template_columns": null,
            "grid_template_rows": null,
            "height": null,
            "justify_content": null,
            "justify_items": null,
            "left": null,
            "margin": null,
            "max_height": null,
            "max_width": null,
            "min_height": null,
            "min_width": null,
            "object_fit": null,
            "object_position": null,
            "order": null,
            "overflow": null,
            "overflow_x": null,
            "overflow_y": null,
            "padding": null,
            "right": null,
            "top": null,
            "visibility": null,
            "width": null
          }
        },
        "e4edcd90b8f24fc8bf0dc3fb152d4d41": {
          "model_module": "@jupyter-widgets/controls",
          "model_name": "ProgressStyleModel",
          "model_module_version": "1.5.0",
          "state": {
            "_model_module": "@jupyter-widgets/controls",
            "_model_module_version": "1.5.0",
            "_model_name": "ProgressStyleModel",
            "_view_count": null,
            "_view_module": "@jupyter-widgets/base",
            "_view_module_version": "1.2.0",
            "_view_name": "StyleView",
            "bar_color": null,
            "description_width": ""
          }
        },
        "fe94cd0b17c24c85afce6569aca4bd64": {
          "model_module": "@jupyter-widgets/base",
          "model_name": "LayoutModel",
          "model_module_version": "1.2.0",
          "state": {
            "_model_module": "@jupyter-widgets/base",
            "_model_module_version": "1.2.0",
            "_model_name": "LayoutModel",
            "_view_count": null,
            "_view_module": "@jupyter-widgets/base",
            "_view_module_version": "1.2.0",
            "_view_name": "LayoutView",
            "align_content": null,
            "align_items": null,
            "align_self": null,
            "border": null,
            "bottom": null,
            "display": null,
            "flex": null,
            "flex_flow": null,
            "grid_area": null,
            "grid_auto_columns": null,
            "grid_auto_flow": null,
            "grid_auto_rows": null,
            "grid_column": null,
            "grid_gap": null,
            "grid_row": null,
            "grid_template_areas": null,
            "grid_template_columns": null,
            "grid_template_rows": null,
            "height": null,
            "justify_content": null,
            "justify_items": null,
            "left": null,
            "margin": null,
            "max_height": null,
            "max_width": null,
            "min_height": null,
            "min_width": null,
            "object_fit": null,
            "object_position": null,
            "order": null,
            "overflow": null,
            "overflow_x": null,
            "overflow_y": null,
            "padding": null,
            "right": null,
            "top": null,
            "visibility": null,
            "width": null
          }
        },
        "6e57d7fb2114425a8e3a10e778b8ffe8": {
          "model_module": "@jupyter-widgets/controls",
          "model_name": "DescriptionStyleModel",
          "model_module_version": "1.5.0",
          "state": {
            "_model_module": "@jupyter-widgets/controls",
            "_model_module_version": "1.5.0",
            "_model_name": "DescriptionStyleModel",
            "_view_count": null,
            "_view_module": "@jupyter-widgets/base",
            "_view_module_version": "1.2.0",
            "_view_name": "StyleView",
            "description_width": ""
          }
        },
        "0add10ee1a37446bb33a9f67567d49d0": {
          "model_module": "@jupyter-widgets/controls",
          "model_name": "HBoxModel",
          "model_module_version": "1.5.0",
          "state": {
            "_dom_classes": [],
            "_model_module": "@jupyter-widgets/controls",
            "_model_module_version": "1.5.0",
            "_model_name": "HBoxModel",
            "_view_count": null,
            "_view_module": "@jupyter-widgets/controls",
            "_view_module_version": "1.5.0",
            "_view_name": "HBoxView",
            "box_style": "",
            "children": [
              "IPY_MODEL_4917bc0bcbd34a5590ee8f2b4ffefa59",
              "IPY_MODEL_082e597c8eb84cc490cae96657d71fca",
              "IPY_MODEL_d23489ea42734fa89453ddbb4ae8c778"
            ],
            "layout": "IPY_MODEL_6c0b4c6aafd544d8a70a2807cf4eaac9"
          }
        },
        "4917bc0bcbd34a5590ee8f2b4ffefa59": {
          "model_module": "@jupyter-widgets/controls",
          "model_name": "HTMLModel",
          "model_module_version": "1.5.0",
          "state": {
            "_dom_classes": [],
            "_model_module": "@jupyter-widgets/controls",
            "_model_module_version": "1.5.0",
            "_model_name": "HTMLModel",
            "_view_count": null,
            "_view_module": "@jupyter-widgets/controls",
            "_view_module_version": "1.5.0",
            "_view_name": "HTMLView",
            "description": "",
            "description_tooltip": null,
            "layout": "IPY_MODEL_56cf4febc6ce4abe97656e79006bd4f4",
            "placeholder": "​",
            "style": "IPY_MODEL_ed6ad255f8ee43d28b4057c7ac7d2d42",
            "value": "Downloading (…)lve/main/config.json: 100%"
          }
        },
        "082e597c8eb84cc490cae96657d71fca": {
          "model_module": "@jupyter-widgets/controls",
          "model_name": "FloatProgressModel",
          "model_module_version": "1.5.0",
          "state": {
            "_dom_classes": [],
            "_model_module": "@jupyter-widgets/controls",
            "_model_module_version": "1.5.0",
            "_model_name": "FloatProgressModel",
            "_view_count": null,
            "_view_module": "@jupyter-widgets/controls",
            "_view_module_version": "1.5.0",
            "_view_name": "ProgressView",
            "bar_style": "success",
            "description": "",
            "description_tooltip": null,
            "layout": "IPY_MODEL_dfeddaeb1ad34ecab1e28867fc25f02f",
            "max": 670,
            "min": 0,
            "orientation": "horizontal",
            "style": "IPY_MODEL_ebe719894d7949aa8a30bf0c0ea921c8",
            "value": 670
          }
        },
        "d23489ea42734fa89453ddbb4ae8c778": {
          "model_module": "@jupyter-widgets/controls",
          "model_name": "HTMLModel",
          "model_module_version": "1.5.0",
          "state": {
            "_dom_classes": [],
            "_model_module": "@jupyter-widgets/controls",
            "_model_module_version": "1.5.0",
            "_model_name": "HTMLModel",
            "_view_count": null,
            "_view_module": "@jupyter-widgets/controls",
            "_view_module_version": "1.5.0",
            "_view_name": "HTMLView",
            "description": "",
            "description_tooltip": null,
            "layout": "IPY_MODEL_e5d84711f0c24583944fb16017c748d7",
            "placeholder": "​",
            "style": "IPY_MODEL_14f839ecc88f474f8531761a4f22cdcc",
            "value": " 670/670 [00:00&lt;00:00, 27.5kB/s]"
          }
        },
        "6c0b4c6aafd544d8a70a2807cf4eaac9": {
          "model_module": "@jupyter-widgets/base",
          "model_name": "LayoutModel",
          "model_module_version": "1.2.0",
          "state": {
            "_model_module": "@jupyter-widgets/base",
            "_model_module_version": "1.2.0",
            "_model_name": "LayoutModel",
            "_view_count": null,
            "_view_module": "@jupyter-widgets/base",
            "_view_module_version": "1.2.0",
            "_view_name": "LayoutView",
            "align_content": null,
            "align_items": null,
            "align_self": null,
            "border": null,
            "bottom": null,
            "display": null,
            "flex": null,
            "flex_flow": null,
            "grid_area": null,
            "grid_auto_columns": null,
            "grid_auto_flow": null,
            "grid_auto_rows": null,
            "grid_column": null,
            "grid_gap": null,
            "grid_row": null,
            "grid_template_areas": null,
            "grid_template_columns": null,
            "grid_template_rows": null,
            "height": null,
            "justify_content": null,
            "justify_items": null,
            "left": null,
            "margin": null,
            "max_height": null,
            "max_width": null,
            "min_height": null,
            "min_width": null,
            "object_fit": null,
            "object_position": null,
            "order": null,
            "overflow": null,
            "overflow_x": null,
            "overflow_y": null,
            "padding": null,
            "right": null,
            "top": null,
            "visibility": null,
            "width": null
          }
        },
        "56cf4febc6ce4abe97656e79006bd4f4": {
          "model_module": "@jupyter-widgets/base",
          "model_name": "LayoutModel",
          "model_module_version": "1.2.0",
          "state": {
            "_model_module": "@jupyter-widgets/base",
            "_model_module_version": "1.2.0",
            "_model_name": "LayoutModel",
            "_view_count": null,
            "_view_module": "@jupyter-widgets/base",
            "_view_module_version": "1.2.0",
            "_view_name": "LayoutView",
            "align_content": null,
            "align_items": null,
            "align_self": null,
            "border": null,
            "bottom": null,
            "display": null,
            "flex": null,
            "flex_flow": null,
            "grid_area": null,
            "grid_auto_columns": null,
            "grid_auto_flow": null,
            "grid_auto_rows": null,
            "grid_column": null,
            "grid_gap": null,
            "grid_row": null,
            "grid_template_areas": null,
            "grid_template_columns": null,
            "grid_template_rows": null,
            "height": null,
            "justify_content": null,
            "justify_items": null,
            "left": null,
            "margin": null,
            "max_height": null,
            "max_width": null,
            "min_height": null,
            "min_width": null,
            "object_fit": null,
            "object_position": null,
            "order": null,
            "overflow": null,
            "overflow_x": null,
            "overflow_y": null,
            "padding": null,
            "right": null,
            "top": null,
            "visibility": null,
            "width": null
          }
        },
        "ed6ad255f8ee43d28b4057c7ac7d2d42": {
          "model_module": "@jupyter-widgets/controls",
          "model_name": "DescriptionStyleModel",
          "model_module_version": "1.5.0",
          "state": {
            "_model_module": "@jupyter-widgets/controls",
            "_model_module_version": "1.5.0",
            "_model_name": "DescriptionStyleModel",
            "_view_count": null,
            "_view_module": "@jupyter-widgets/base",
            "_view_module_version": "1.2.0",
            "_view_name": "StyleView",
            "description_width": ""
          }
        },
        "dfeddaeb1ad34ecab1e28867fc25f02f": {
          "model_module": "@jupyter-widgets/base",
          "model_name": "LayoutModel",
          "model_module_version": "1.2.0",
          "state": {
            "_model_module": "@jupyter-widgets/base",
            "_model_module_version": "1.2.0",
            "_model_name": "LayoutModel",
            "_view_count": null,
            "_view_module": "@jupyter-widgets/base",
            "_view_module_version": "1.2.0",
            "_view_name": "LayoutView",
            "align_content": null,
            "align_items": null,
            "align_self": null,
            "border": null,
            "bottom": null,
            "display": null,
            "flex": null,
            "flex_flow": null,
            "grid_area": null,
            "grid_auto_columns": null,
            "grid_auto_flow": null,
            "grid_auto_rows": null,
            "grid_column": null,
            "grid_gap": null,
            "grid_row": null,
            "grid_template_areas": null,
            "grid_template_columns": null,
            "grid_template_rows": null,
            "height": null,
            "justify_content": null,
            "justify_items": null,
            "left": null,
            "margin": null,
            "max_height": null,
            "max_width": null,
            "min_height": null,
            "min_width": null,
            "object_fit": null,
            "object_position": null,
            "order": null,
            "overflow": null,
            "overflow_x": null,
            "overflow_y": null,
            "padding": null,
            "right": null,
            "top": null,
            "visibility": null,
            "width": null
          }
        },
        "ebe719894d7949aa8a30bf0c0ea921c8": {
          "model_module": "@jupyter-widgets/controls",
          "model_name": "ProgressStyleModel",
          "model_module_version": "1.5.0",
          "state": {
            "_model_module": "@jupyter-widgets/controls",
            "_model_module_version": "1.5.0",
            "_model_name": "ProgressStyleModel",
            "_view_count": null,
            "_view_module": "@jupyter-widgets/base",
            "_view_module_version": "1.2.0",
            "_view_name": "StyleView",
            "bar_color": null,
            "description_width": ""
          }
        },
        "e5d84711f0c24583944fb16017c748d7": {
          "model_module": "@jupyter-widgets/base",
          "model_name": "LayoutModel",
          "model_module_version": "1.2.0",
          "state": {
            "_model_module": "@jupyter-widgets/base",
            "_model_module_version": "1.2.0",
            "_model_name": "LayoutModel",
            "_view_count": null,
            "_view_module": "@jupyter-widgets/base",
            "_view_module_version": "1.2.0",
            "_view_name": "LayoutView",
            "align_content": null,
            "align_items": null,
            "align_self": null,
            "border": null,
            "bottom": null,
            "display": null,
            "flex": null,
            "flex_flow": null,
            "grid_area": null,
            "grid_auto_columns": null,
            "grid_auto_flow": null,
            "grid_auto_rows": null,
            "grid_column": null,
            "grid_gap": null,
            "grid_row": null,
            "grid_template_areas": null,
            "grid_template_columns": null,
            "grid_template_rows": null,
            "height": null,
            "justify_content": null,
            "justify_items": null,
            "left": null,
            "margin": null,
            "max_height": null,
            "max_width": null,
            "min_height": null,
            "min_width": null,
            "object_fit": null,
            "object_position": null,
            "order": null,
            "overflow": null,
            "overflow_x": null,
            "overflow_y": null,
            "padding": null,
            "right": null,
            "top": null,
            "visibility": null,
            "width": null
          }
        },
        "14f839ecc88f474f8531761a4f22cdcc": {
          "model_module": "@jupyter-widgets/controls",
          "model_name": "DescriptionStyleModel",
          "model_module_version": "1.5.0",
          "state": {
            "_model_module": "@jupyter-widgets/controls",
            "_model_module_version": "1.5.0",
            "_model_name": "DescriptionStyleModel",
            "_view_count": null,
            "_view_module": "@jupyter-widgets/base",
            "_view_module_version": "1.2.0",
            "_view_name": "StyleView",
            "description_width": ""
          }
        },
        "bf3360181f004b7ca40f2d0b880612c2": {
          "model_module": "@jupyter-widgets/controls",
          "model_name": "HBoxModel",
          "model_module_version": "1.5.0",
          "state": {
            "_dom_classes": [],
            "_model_module": "@jupyter-widgets/controls",
            "_model_module_version": "1.5.0",
            "_model_name": "HBoxModel",
            "_view_count": null,
            "_view_module": "@jupyter-widgets/controls",
            "_view_module_version": "1.5.0",
            "_view_name": "HBoxView",
            "box_style": "",
            "children": [
              "IPY_MODEL_1659c496deef4687acc6e423d1484bce",
              "IPY_MODEL_8181f585b53a478799be5ecfc18fb48f",
              "IPY_MODEL_e18444823077445fbaa2c466ca589c93"
            ],
            "layout": "IPY_MODEL_c9277228bc6a4b3e98ae88a9034e3b45"
          }
        },
        "1659c496deef4687acc6e423d1484bce": {
          "model_module": "@jupyter-widgets/controls",
          "model_name": "HTMLModel",
          "model_module_version": "1.5.0",
          "state": {
            "_dom_classes": [],
            "_model_module": "@jupyter-widgets/controls",
            "_model_module_version": "1.5.0",
            "_model_name": "HTMLModel",
            "_view_count": null,
            "_view_module": "@jupyter-widgets/controls",
            "_view_module_version": "1.5.0",
            "_view_name": "HTMLView",
            "description": "",
            "description_tooltip": null,
            "layout": "IPY_MODEL_b58f54f068d841d19b0d01b5e01b4d80",
            "placeholder": "​",
            "style": "IPY_MODEL_93ea37465a61495b964c3f2e70811467",
            "value": "Downloading (…)cial_tokens_map.json: 100%"
          }
        },
        "8181f585b53a478799be5ecfc18fb48f": {
          "model_module": "@jupyter-widgets/controls",
          "model_name": "FloatProgressModel",
          "model_module_version": "1.5.0",
          "state": {
            "_dom_classes": [],
            "_model_module": "@jupyter-widgets/controls",
            "_model_module_version": "1.5.0",
            "_model_name": "FloatProgressModel",
            "_view_count": null,
            "_view_module": "@jupyter-widgets/controls",
            "_view_module_version": "1.5.0",
            "_view_name": "ProgressView",
            "bar_style": "success",
            "description": "",
            "description_tooltip": null,
            "layout": "IPY_MODEL_0cafeaea2278476bbb29a1b0842b9abe",
            "max": 657,
            "min": 0,
            "orientation": "horizontal",
            "style": "IPY_MODEL_01081d2a0b2f4cc9806714e533a56059",
            "value": 657
          }
        },
        "e18444823077445fbaa2c466ca589c93": {
          "model_module": "@jupyter-widgets/controls",
          "model_name": "HTMLModel",
          "model_module_version": "1.5.0",
          "state": {
            "_dom_classes": [],
            "_model_module": "@jupyter-widgets/controls",
            "_model_module_version": "1.5.0",
            "_model_name": "HTMLModel",
            "_view_count": null,
            "_view_module": "@jupyter-widgets/controls",
            "_view_module_version": "1.5.0",
            "_view_name": "HTMLView",
            "description": "",
            "description_tooltip": null,
            "layout": "IPY_MODEL_8ee88a477e264c98b1f0fe8d47c290ca",
            "placeholder": "​",
            "style": "IPY_MODEL_63a1dffff9f047e891d83675453aec28",
            "value": " 657/657 [00:00&lt;00:00, 28.6kB/s]"
          }
        },
        "c9277228bc6a4b3e98ae88a9034e3b45": {
          "model_module": "@jupyter-widgets/base",
          "model_name": "LayoutModel",
          "model_module_version": "1.2.0",
          "state": {
            "_model_module": "@jupyter-widgets/base",
            "_model_module_version": "1.2.0",
            "_model_name": "LayoutModel",
            "_view_count": null,
            "_view_module": "@jupyter-widgets/base",
            "_view_module_version": "1.2.0",
            "_view_name": "LayoutView",
            "align_content": null,
            "align_items": null,
            "align_self": null,
            "border": null,
            "bottom": null,
            "display": null,
            "flex": null,
            "flex_flow": null,
            "grid_area": null,
            "grid_auto_columns": null,
            "grid_auto_flow": null,
            "grid_auto_rows": null,
            "grid_column": null,
            "grid_gap": null,
            "grid_row": null,
            "grid_template_areas": null,
            "grid_template_columns": null,
            "grid_template_rows": null,
            "height": null,
            "justify_content": null,
            "justify_items": null,
            "left": null,
            "margin": null,
            "max_height": null,
            "max_width": null,
            "min_height": null,
            "min_width": null,
            "object_fit": null,
            "object_position": null,
            "order": null,
            "overflow": null,
            "overflow_x": null,
            "overflow_y": null,
            "padding": null,
            "right": null,
            "top": null,
            "visibility": null,
            "width": null
          }
        },
        "b58f54f068d841d19b0d01b5e01b4d80": {
          "model_module": "@jupyter-widgets/base",
          "model_name": "LayoutModel",
          "model_module_version": "1.2.0",
          "state": {
            "_model_module": "@jupyter-widgets/base",
            "_model_module_version": "1.2.0",
            "_model_name": "LayoutModel",
            "_view_count": null,
            "_view_module": "@jupyter-widgets/base",
            "_view_module_version": "1.2.0",
            "_view_name": "LayoutView",
            "align_content": null,
            "align_items": null,
            "align_self": null,
            "border": null,
            "bottom": null,
            "display": null,
            "flex": null,
            "flex_flow": null,
            "grid_area": null,
            "grid_auto_columns": null,
            "grid_auto_flow": null,
            "grid_auto_rows": null,
            "grid_column": null,
            "grid_gap": null,
            "grid_row": null,
            "grid_template_areas": null,
            "grid_template_columns": null,
            "grid_template_rows": null,
            "height": null,
            "justify_content": null,
            "justify_items": null,
            "left": null,
            "margin": null,
            "max_height": null,
            "max_width": null,
            "min_height": null,
            "min_width": null,
            "object_fit": null,
            "object_position": null,
            "order": null,
            "overflow": null,
            "overflow_x": null,
            "overflow_y": null,
            "padding": null,
            "right": null,
            "top": null,
            "visibility": null,
            "width": null
          }
        },
        "93ea37465a61495b964c3f2e70811467": {
          "model_module": "@jupyter-widgets/controls",
          "model_name": "DescriptionStyleModel",
          "model_module_version": "1.5.0",
          "state": {
            "_model_module": "@jupyter-widgets/controls",
            "_model_module_version": "1.5.0",
            "_model_name": "DescriptionStyleModel",
            "_view_count": null,
            "_view_module": "@jupyter-widgets/base",
            "_view_module_version": "1.2.0",
            "_view_name": "StyleView",
            "description_width": ""
          }
        },
        "0cafeaea2278476bbb29a1b0842b9abe": {
          "model_module": "@jupyter-widgets/base",
          "model_name": "LayoutModel",
          "model_module_version": "1.2.0",
          "state": {
            "_model_module": "@jupyter-widgets/base",
            "_model_module_version": "1.2.0",
            "_model_name": "LayoutModel",
            "_view_count": null,
            "_view_module": "@jupyter-widgets/base",
            "_view_module_version": "1.2.0",
            "_view_name": "LayoutView",
            "align_content": null,
            "align_items": null,
            "align_self": null,
            "border": null,
            "bottom": null,
            "display": null,
            "flex": null,
            "flex_flow": null,
            "grid_area": null,
            "grid_auto_columns": null,
            "grid_auto_flow": null,
            "grid_auto_rows": null,
            "grid_column": null,
            "grid_gap": null,
            "grid_row": null,
            "grid_template_areas": null,
            "grid_template_columns": null,
            "grid_template_rows": null,
            "height": null,
            "justify_content": null,
            "justify_items": null,
            "left": null,
            "margin": null,
            "max_height": null,
            "max_width": null,
            "min_height": null,
            "min_width": null,
            "object_fit": null,
            "object_position": null,
            "order": null,
            "overflow": null,
            "overflow_x": null,
            "overflow_y": null,
            "padding": null,
            "right": null,
            "top": null,
            "visibility": null,
            "width": null
          }
        },
        "01081d2a0b2f4cc9806714e533a56059": {
          "model_module": "@jupyter-widgets/controls",
          "model_name": "ProgressStyleModel",
          "model_module_version": "1.5.0",
          "state": {
            "_model_module": "@jupyter-widgets/controls",
            "_model_module_version": "1.5.0",
            "_model_name": "ProgressStyleModel",
            "_view_count": null,
            "_view_module": "@jupyter-widgets/base",
            "_view_module_version": "1.2.0",
            "_view_name": "StyleView",
            "bar_color": null,
            "description_width": ""
          }
        },
        "8ee88a477e264c98b1f0fe8d47c290ca": {
          "model_module": "@jupyter-widgets/base",
          "model_name": "LayoutModel",
          "model_module_version": "1.2.0",
          "state": {
            "_model_module": "@jupyter-widgets/base",
            "_model_module_version": "1.2.0",
            "_model_name": "LayoutModel",
            "_view_count": null,
            "_view_module": "@jupyter-widgets/base",
            "_view_module_version": "1.2.0",
            "_view_name": "LayoutView",
            "align_content": null,
            "align_items": null,
            "align_self": null,
            "border": null,
            "bottom": null,
            "display": null,
            "flex": null,
            "flex_flow": null,
            "grid_area": null,
            "grid_auto_columns": null,
            "grid_auto_flow": null,
            "grid_auto_rows": null,
            "grid_column": null,
            "grid_gap": null,
            "grid_row": null,
            "grid_template_areas": null,
            "grid_template_columns": null,
            "grid_template_rows": null,
            "height": null,
            "justify_content": null,
            "justify_items": null,
            "left": null,
            "margin": null,
            "max_height": null,
            "max_width": null,
            "min_height": null,
            "min_width": null,
            "object_fit": null,
            "object_position": null,
            "order": null,
            "overflow": null,
            "overflow_x": null,
            "overflow_y": null,
            "padding": null,
            "right": null,
            "top": null,
            "visibility": null,
            "width": null
          }
        },
        "63a1dffff9f047e891d83675453aec28": {
          "model_module": "@jupyter-widgets/controls",
          "model_name": "DescriptionStyleModel",
          "model_module_version": "1.5.0",
          "state": {
            "_model_module": "@jupyter-widgets/controls",
            "_model_module_version": "1.5.0",
            "_model_name": "DescriptionStyleModel",
            "_view_count": null,
            "_view_module": "@jupyter-widgets/base",
            "_view_module_version": "1.2.0",
            "_view_name": "StyleView",
            "description_width": ""
          }
        },
        "d1d3f3dca04a4cfcab026dc8e6859feb": {
          "model_module": "@jupyter-widgets/controls",
          "model_name": "HBoxModel",
          "model_module_version": "1.5.0",
          "state": {
            "_dom_classes": [],
            "_model_module": "@jupyter-widgets/controls",
            "_model_module_version": "1.5.0",
            "_model_name": "HBoxModel",
            "_view_count": null,
            "_view_module": "@jupyter-widgets/controls",
            "_view_module_version": "1.5.0",
            "_view_name": "HBoxView",
            "box_style": "",
            "children": [
              "IPY_MODEL_55622fa3b075447490213cfd94670415",
              "IPY_MODEL_4cb0b9429be9496fbc0084cc3e601028",
              "IPY_MODEL_08c3e20de46a4b7a86344560120390a0"
            ],
            "layout": "IPY_MODEL_1de3c0fed8e94388a84a5da214024e41"
          }
        },
        "55622fa3b075447490213cfd94670415": {
          "model_module": "@jupyter-widgets/controls",
          "model_name": "HTMLModel",
          "model_module_version": "1.5.0",
          "state": {
            "_dom_classes": [],
            "_model_module": "@jupyter-widgets/controls",
            "_model_module_version": "1.5.0",
            "_model_name": "HTMLModel",
            "_view_count": null,
            "_view_module": "@jupyter-widgets/controls",
            "_view_module_version": "1.5.0",
            "_view_name": "HTMLView",
            "description": "",
            "description_tooltip": null,
            "layout": "IPY_MODEL_a5a76580f5444b5c8b7b6e8da47b75c9",
            "placeholder": "​",
            "style": "IPY_MODEL_8ef96aed78b64e5b9e1bab5dced6561d",
            "value": "Downloading pytorch_model.bin: 100%"
          }
        },
        "4cb0b9429be9496fbc0084cc3e601028": {
          "model_module": "@jupyter-widgets/controls",
          "model_name": "FloatProgressModel",
          "model_module_version": "1.5.0",
          "state": {
            "_dom_classes": [],
            "_model_module": "@jupyter-widgets/controls",
            "_model_module_version": "1.5.0",
            "_model_name": "FloatProgressModel",
            "_view_count": null,
            "_view_module": "@jupyter-widgets/controls",
            "_view_module_version": "1.5.0",
            "_view_name": "ProgressView",
            "bar_style": "success",
            "description": "",
            "description_tooltip": null,
            "layout": "IPY_MODEL_89475aca41594f71ba72a2c96cedc6c5",
            "max": 528561767,
            "min": 0,
            "orientation": "horizontal",
            "style": "IPY_MODEL_3228a4986c18438bbea120bd277923b0",
            "value": 528561767
          }
        },
        "08c3e20de46a4b7a86344560120390a0": {
          "model_module": "@jupyter-widgets/controls",
          "model_name": "HTMLModel",
          "model_module_version": "1.5.0",
          "state": {
            "_dom_classes": [],
            "_model_module": "@jupyter-widgets/controls",
            "_model_module_version": "1.5.0",
            "_model_name": "HTMLModel",
            "_view_count": null,
            "_view_module": "@jupyter-widgets/controls",
            "_view_module_version": "1.5.0",
            "_view_name": "HTMLView",
            "description": "",
            "description_tooltip": null,
            "layout": "IPY_MODEL_e4b9273c96d14a84a0327bb9d3061d3a",
            "placeholder": "​",
            "style": "IPY_MODEL_a2ee7912a9254ab2a70e8c705a2d1c65",
            "value": " 529M/529M [00:02&lt;00:00, 204MB/s]"
          }
        },
        "1de3c0fed8e94388a84a5da214024e41": {
          "model_module": "@jupyter-widgets/base",
          "model_name": "LayoutModel",
          "model_module_version": "1.2.0",
          "state": {
            "_model_module": "@jupyter-widgets/base",
            "_model_module_version": "1.2.0",
            "_model_name": "LayoutModel",
            "_view_count": null,
            "_view_module": "@jupyter-widgets/base",
            "_view_module_version": "1.2.0",
            "_view_name": "LayoutView",
            "align_content": null,
            "align_items": null,
            "align_self": null,
            "border": null,
            "bottom": null,
            "display": null,
            "flex": null,
            "flex_flow": null,
            "grid_area": null,
            "grid_auto_columns": null,
            "grid_auto_flow": null,
            "grid_auto_rows": null,
            "grid_column": null,
            "grid_gap": null,
            "grid_row": null,
            "grid_template_areas": null,
            "grid_template_columns": null,
            "grid_template_rows": null,
            "height": null,
            "justify_content": null,
            "justify_items": null,
            "left": null,
            "margin": null,
            "max_height": null,
            "max_width": null,
            "min_height": null,
            "min_width": null,
            "object_fit": null,
            "object_position": null,
            "order": null,
            "overflow": null,
            "overflow_x": null,
            "overflow_y": null,
            "padding": null,
            "right": null,
            "top": null,
            "visibility": null,
            "width": null
          }
        },
        "a5a76580f5444b5c8b7b6e8da47b75c9": {
          "model_module": "@jupyter-widgets/base",
          "model_name": "LayoutModel",
          "model_module_version": "1.2.0",
          "state": {
            "_model_module": "@jupyter-widgets/base",
            "_model_module_version": "1.2.0",
            "_model_name": "LayoutModel",
            "_view_count": null,
            "_view_module": "@jupyter-widgets/base",
            "_view_module_version": "1.2.0",
            "_view_name": "LayoutView",
            "align_content": null,
            "align_items": null,
            "align_self": null,
            "border": null,
            "bottom": null,
            "display": null,
            "flex": null,
            "flex_flow": null,
            "grid_area": null,
            "grid_auto_columns": null,
            "grid_auto_flow": null,
            "grid_auto_rows": null,
            "grid_column": null,
            "grid_gap": null,
            "grid_row": null,
            "grid_template_areas": null,
            "grid_template_columns": null,
            "grid_template_rows": null,
            "height": null,
            "justify_content": null,
            "justify_items": null,
            "left": null,
            "margin": null,
            "max_height": null,
            "max_width": null,
            "min_height": null,
            "min_width": null,
            "object_fit": null,
            "object_position": null,
            "order": null,
            "overflow": null,
            "overflow_x": null,
            "overflow_y": null,
            "padding": null,
            "right": null,
            "top": null,
            "visibility": null,
            "width": null
          }
        },
        "8ef96aed78b64e5b9e1bab5dced6561d": {
          "model_module": "@jupyter-widgets/controls",
          "model_name": "DescriptionStyleModel",
          "model_module_version": "1.5.0",
          "state": {
            "_model_module": "@jupyter-widgets/controls",
            "_model_module_version": "1.5.0",
            "_model_name": "DescriptionStyleModel",
            "_view_count": null,
            "_view_module": "@jupyter-widgets/base",
            "_view_module_version": "1.2.0",
            "_view_name": "StyleView",
            "description_width": ""
          }
        },
        "89475aca41594f71ba72a2c96cedc6c5": {
          "model_module": "@jupyter-widgets/base",
          "model_name": "LayoutModel",
          "model_module_version": "1.2.0",
          "state": {
            "_model_module": "@jupyter-widgets/base",
            "_model_module_version": "1.2.0",
            "_model_name": "LayoutModel",
            "_view_count": null,
            "_view_module": "@jupyter-widgets/base",
            "_view_module_version": "1.2.0",
            "_view_name": "LayoutView",
            "align_content": null,
            "align_items": null,
            "align_self": null,
            "border": null,
            "bottom": null,
            "display": null,
            "flex": null,
            "flex_flow": null,
            "grid_area": null,
            "grid_auto_columns": null,
            "grid_auto_flow": null,
            "grid_auto_rows": null,
            "grid_column": null,
            "grid_gap": null,
            "grid_row": null,
            "grid_template_areas": null,
            "grid_template_columns": null,
            "grid_template_rows": null,
            "height": null,
            "justify_content": null,
            "justify_items": null,
            "left": null,
            "margin": null,
            "max_height": null,
            "max_width": null,
            "min_height": null,
            "min_width": null,
            "object_fit": null,
            "object_position": null,
            "order": null,
            "overflow": null,
            "overflow_x": null,
            "overflow_y": null,
            "padding": null,
            "right": null,
            "top": null,
            "visibility": null,
            "width": null
          }
        },
        "3228a4986c18438bbea120bd277923b0": {
          "model_module": "@jupyter-widgets/controls",
          "model_name": "ProgressStyleModel",
          "model_module_version": "1.5.0",
          "state": {
            "_model_module": "@jupyter-widgets/controls",
            "_model_module_version": "1.5.0",
            "_model_name": "ProgressStyleModel",
            "_view_count": null,
            "_view_module": "@jupyter-widgets/base",
            "_view_module_version": "1.2.0",
            "_view_name": "StyleView",
            "bar_color": null,
            "description_width": ""
          }
        },
        "e4b9273c96d14a84a0327bb9d3061d3a": {
          "model_module": "@jupyter-widgets/base",
          "model_name": "LayoutModel",
          "model_module_version": "1.2.0",
          "state": {
            "_model_module": "@jupyter-widgets/base",
            "_model_module_version": "1.2.0",
            "_model_name": "LayoutModel",
            "_view_count": null,
            "_view_module": "@jupyter-widgets/base",
            "_view_module_version": "1.2.0",
            "_view_name": "LayoutView",
            "align_content": null,
            "align_items": null,
            "align_self": null,
            "border": null,
            "bottom": null,
            "display": null,
            "flex": null,
            "flex_flow": null,
            "grid_area": null,
            "grid_auto_columns": null,
            "grid_auto_flow": null,
            "grid_auto_rows": null,
            "grid_column": null,
            "grid_gap": null,
            "grid_row": null,
            "grid_template_areas": null,
            "grid_template_columns": null,
            "grid_template_rows": null,
            "height": null,
            "justify_content": null,
            "justify_items": null,
            "left": null,
            "margin": null,
            "max_height": null,
            "max_width": null,
            "min_height": null,
            "min_width": null,
            "object_fit": null,
            "object_position": null,
            "order": null,
            "overflow": null,
            "overflow_x": null,
            "overflow_y": null,
            "padding": null,
            "right": null,
            "top": null,
            "visibility": null,
            "width": null
          }
        },
        "a2ee7912a9254ab2a70e8c705a2d1c65": {
          "model_module": "@jupyter-widgets/controls",
          "model_name": "DescriptionStyleModel",
          "model_module_version": "1.5.0",
          "state": {
            "_model_module": "@jupyter-widgets/controls",
            "_model_module_version": "1.5.0",
            "_model_name": "DescriptionStyleModel",
            "_view_count": null,
            "_view_module": "@jupyter-widgets/base",
            "_view_module_version": "1.2.0",
            "_view_name": "StyleView",
            "description_width": ""
          }
        },
        "080a07f5042a47c7a8c243aa5335bc7d": {
          "model_module": "@jupyter-widgets/controls",
          "model_name": "HBoxModel",
          "model_module_version": "1.5.0",
          "state": {
            "_dom_classes": [],
            "_model_module": "@jupyter-widgets/controls",
            "_model_module_version": "1.5.0",
            "_model_name": "HBoxModel",
            "_view_count": null,
            "_view_module": "@jupyter-widgets/controls",
            "_view_module_version": "1.5.0",
            "_view_name": "HBoxView",
            "box_style": "",
            "children": [
              "IPY_MODEL_214d9a4e2a894cd293c2ca23a040b803",
              "IPY_MODEL_314f6e0266c14b1d98bb71657549a0d6",
              "IPY_MODEL_cc9db8dd6ee04d1b9f3948d599b23c09"
            ],
            "layout": "IPY_MODEL_acea6a4ed430487086e1bb1ca8d449fc"
          }
        },
        "214d9a4e2a894cd293c2ca23a040b803": {
          "model_module": "@jupyter-widgets/controls",
          "model_name": "HTMLModel",
          "model_module_version": "1.5.0",
          "state": {
            "_dom_classes": [],
            "_model_module": "@jupyter-widgets/controls",
            "_model_module_version": "1.5.0",
            "_model_name": "HTMLModel",
            "_view_count": null,
            "_view_module": "@jupyter-widgets/controls",
            "_view_module_version": "1.5.0",
            "_view_name": "HTMLView",
            "description": "",
            "description_tooltip": null,
            "layout": "IPY_MODEL_44030ea5e0894ff29ff0bcf6f57bb2a6",
            "placeholder": "​",
            "style": "IPY_MODEL_18ef10b6103b4873ba20e03750961fea",
            "value": "Downloading (…)okenizer_config.json: 100%"
          }
        },
        "314f6e0266c14b1d98bb71657549a0d6": {
          "model_module": "@jupyter-widgets/controls",
          "model_name": "FloatProgressModel",
          "model_module_version": "1.5.0",
          "state": {
            "_dom_classes": [],
            "_model_module": "@jupyter-widgets/controls",
            "_model_module_version": "1.5.0",
            "_model_name": "FloatProgressModel",
            "_view_count": null,
            "_view_module": "@jupyter-widgets/controls",
            "_view_module_version": "1.5.0",
            "_view_name": "ProgressView",
            "bar_style": "success",
            "description": "",
            "description_tooltip": null,
            "layout": "IPY_MODEL_48ba738037824dc0a5f643dc970c4e55",
            "max": 95,
            "min": 0,
            "orientation": "horizontal",
            "style": "IPY_MODEL_a496ad850a624c3a85874e45790b7954",
            "value": 95
          }
        },
        "cc9db8dd6ee04d1b9f3948d599b23c09": {
          "model_module": "@jupyter-widgets/controls",
          "model_name": "HTMLModel",
          "model_module_version": "1.5.0",
          "state": {
            "_dom_classes": [],
            "_model_module": "@jupyter-widgets/controls",
            "_model_module_version": "1.5.0",
            "_model_name": "HTMLModel",
            "_view_count": null,
            "_view_module": "@jupyter-widgets/controls",
            "_view_module_version": "1.5.0",
            "_view_name": "HTMLView",
            "description": "",
            "description_tooltip": null,
            "layout": "IPY_MODEL_38689e23c53f45f4a74e1acd1a696510",
            "placeholder": "​",
            "style": "IPY_MODEL_f275d96a9d304407b0c70a7294c0899f",
            "value": " 95.0/95.0 [00:00&lt;00:00, 3.74kB/s]"
          }
        },
        "acea6a4ed430487086e1bb1ca8d449fc": {
          "model_module": "@jupyter-widgets/base",
          "model_name": "LayoutModel",
          "model_module_version": "1.2.0",
          "state": {
            "_model_module": "@jupyter-widgets/base",
            "_model_module_version": "1.2.0",
            "_model_name": "LayoutModel",
            "_view_count": null,
            "_view_module": "@jupyter-widgets/base",
            "_view_module_version": "1.2.0",
            "_view_name": "LayoutView",
            "align_content": null,
            "align_items": null,
            "align_self": null,
            "border": null,
            "bottom": null,
            "display": null,
            "flex": null,
            "flex_flow": null,
            "grid_area": null,
            "grid_auto_columns": null,
            "grid_auto_flow": null,
            "grid_auto_rows": null,
            "grid_column": null,
            "grid_gap": null,
            "grid_row": null,
            "grid_template_areas": null,
            "grid_template_columns": null,
            "grid_template_rows": null,
            "height": null,
            "justify_content": null,
            "justify_items": null,
            "left": null,
            "margin": null,
            "max_height": null,
            "max_width": null,
            "min_height": null,
            "min_width": null,
            "object_fit": null,
            "object_position": null,
            "order": null,
            "overflow": null,
            "overflow_x": null,
            "overflow_y": null,
            "padding": null,
            "right": null,
            "top": null,
            "visibility": null,
            "width": null
          }
        },
        "44030ea5e0894ff29ff0bcf6f57bb2a6": {
          "model_module": "@jupyter-widgets/base",
          "model_name": "LayoutModel",
          "model_module_version": "1.2.0",
          "state": {
            "_model_module": "@jupyter-widgets/base",
            "_model_module_version": "1.2.0",
            "_model_name": "LayoutModel",
            "_view_count": null,
            "_view_module": "@jupyter-widgets/base",
            "_view_module_version": "1.2.0",
            "_view_name": "LayoutView",
            "align_content": null,
            "align_items": null,
            "align_self": null,
            "border": null,
            "bottom": null,
            "display": null,
            "flex": null,
            "flex_flow": null,
            "grid_area": null,
            "grid_auto_columns": null,
            "grid_auto_flow": null,
            "grid_auto_rows": null,
            "grid_column": null,
            "grid_gap": null,
            "grid_row": null,
            "grid_template_areas": null,
            "grid_template_columns": null,
            "grid_template_rows": null,
            "height": null,
            "justify_content": null,
            "justify_items": null,
            "left": null,
            "margin": null,
            "max_height": null,
            "max_width": null,
            "min_height": null,
            "min_width": null,
            "object_fit": null,
            "object_position": null,
            "order": null,
            "overflow": null,
            "overflow_x": null,
            "overflow_y": null,
            "padding": null,
            "right": null,
            "top": null,
            "visibility": null,
            "width": null
          }
        },
        "18ef10b6103b4873ba20e03750961fea": {
          "model_module": "@jupyter-widgets/controls",
          "model_name": "DescriptionStyleModel",
          "model_module_version": "1.5.0",
          "state": {
            "_model_module": "@jupyter-widgets/controls",
            "_model_module_version": "1.5.0",
            "_model_name": "DescriptionStyleModel",
            "_view_count": null,
            "_view_module": "@jupyter-widgets/base",
            "_view_module_version": "1.2.0",
            "_view_name": "StyleView",
            "description_width": ""
          }
        },
        "48ba738037824dc0a5f643dc970c4e55": {
          "model_module": "@jupyter-widgets/base",
          "model_name": "LayoutModel",
          "model_module_version": "1.2.0",
          "state": {
            "_model_module": "@jupyter-widgets/base",
            "_model_module_version": "1.2.0",
            "_model_name": "LayoutModel",
            "_view_count": null,
            "_view_module": "@jupyter-widgets/base",
            "_view_module_version": "1.2.0",
            "_view_name": "LayoutView",
            "align_content": null,
            "align_items": null,
            "align_self": null,
            "border": null,
            "bottom": null,
            "display": null,
            "flex": null,
            "flex_flow": null,
            "grid_area": null,
            "grid_auto_columns": null,
            "grid_auto_flow": null,
            "grid_auto_rows": null,
            "grid_column": null,
            "grid_gap": null,
            "grid_row": null,
            "grid_template_areas": null,
            "grid_template_columns": null,
            "grid_template_rows": null,
            "height": null,
            "justify_content": null,
            "justify_items": null,
            "left": null,
            "margin": null,
            "max_height": null,
            "max_width": null,
            "min_height": null,
            "min_width": null,
            "object_fit": null,
            "object_position": null,
            "order": null,
            "overflow": null,
            "overflow_x": null,
            "overflow_y": null,
            "padding": null,
            "right": null,
            "top": null,
            "visibility": null,
            "width": null
          }
        },
        "a496ad850a624c3a85874e45790b7954": {
          "model_module": "@jupyter-widgets/controls",
          "model_name": "ProgressStyleModel",
          "model_module_version": "1.5.0",
          "state": {
            "_model_module": "@jupyter-widgets/controls",
            "_model_module_version": "1.5.0",
            "_model_name": "ProgressStyleModel",
            "_view_count": null,
            "_view_module": "@jupyter-widgets/base",
            "_view_module_version": "1.2.0",
            "_view_name": "StyleView",
            "bar_color": null,
            "description_width": ""
          }
        },
        "38689e23c53f45f4a74e1acd1a696510": {
          "model_module": "@jupyter-widgets/base",
          "model_name": "LayoutModel",
          "model_module_version": "1.2.0",
          "state": {
            "_model_module": "@jupyter-widgets/base",
            "_model_module_version": "1.2.0",
            "_model_name": "LayoutModel",
            "_view_count": null,
            "_view_module": "@jupyter-widgets/base",
            "_view_module_version": "1.2.0",
            "_view_name": "LayoutView",
            "align_content": null,
            "align_items": null,
            "align_self": null,
            "border": null,
            "bottom": null,
            "display": null,
            "flex": null,
            "flex_flow": null,
            "grid_area": null,
            "grid_auto_columns": null,
            "grid_auto_flow": null,
            "grid_auto_rows": null,
            "grid_column": null,
            "grid_gap": null,
            "grid_row": null,
            "grid_template_areas": null,
            "grid_template_columns": null,
            "grid_template_rows": null,
            "height": null,
            "justify_content": null,
            "justify_items": null,
            "left": null,
            "margin": null,
            "max_height": null,
            "max_width": null,
            "min_height": null,
            "min_width": null,
            "object_fit": null,
            "object_position": null,
            "order": null,
            "overflow": null,
            "overflow_x": null,
            "overflow_y": null,
            "padding": null,
            "right": null,
            "top": null,
            "visibility": null,
            "width": null
          }
        },
        "f275d96a9d304407b0c70a7294c0899f": {
          "model_module": "@jupyter-widgets/controls",
          "model_name": "DescriptionStyleModel",
          "model_module_version": "1.5.0",
          "state": {
            "_model_module": "@jupyter-widgets/controls",
            "_model_module_version": "1.5.0",
            "_model_name": "DescriptionStyleModel",
            "_view_count": null,
            "_view_module": "@jupyter-widgets/base",
            "_view_module_version": "1.2.0",
            "_view_name": "StyleView",
            "description_width": ""
          }
        },
        "ee2eee0d1be74187ad7caf3c9b4390fc": {
          "model_module": "@jupyter-widgets/controls",
          "model_name": "HBoxModel",
          "model_module_version": "1.5.0",
          "state": {
            "_dom_classes": [],
            "_model_module": "@jupyter-widgets/controls",
            "_model_module_version": "1.5.0",
            "_model_name": "HBoxModel",
            "_view_count": null,
            "_view_module": "@jupyter-widgets/controls",
            "_view_module_version": "1.5.0",
            "_view_name": "HBoxView",
            "box_style": "",
            "children": [
              "IPY_MODEL_c86d91e9c6e84c97a7c621647f99cbe9",
              "IPY_MODEL_15fb927c364b42f8913527efc37d281a",
              "IPY_MODEL_afb55080b3094b5fb20efd2008b62b46"
            ],
            "layout": "IPY_MODEL_69717e4b1e10496ea41167b806440dea"
          }
        },
        "c86d91e9c6e84c97a7c621647f99cbe9": {
          "model_module": "@jupyter-widgets/controls",
          "model_name": "HTMLModel",
          "model_module_version": "1.5.0",
          "state": {
            "_dom_classes": [],
            "_model_module": "@jupyter-widgets/controls",
            "_model_module_version": "1.5.0",
            "_model_name": "HTMLModel",
            "_view_count": null,
            "_view_module": "@jupyter-widgets/controls",
            "_view_module_version": "1.5.0",
            "_view_name": "HTMLView",
            "description": "",
            "description_tooltip": null,
            "layout": "IPY_MODEL_fb9c4c98e575446ca0a53ac0a5f6e728",
            "placeholder": "​",
            "style": "IPY_MODEL_504b8388fc2642b08ad79428b467fdd2",
            "value": "Downloading (…)solve/main/vocab.txt: 100%"
          }
        },
        "15fb927c364b42f8913527efc37d281a": {
          "model_module": "@jupyter-widgets/controls",
          "model_name": "FloatProgressModel",
          "model_module_version": "1.5.0",
          "state": {
            "_dom_classes": [],
            "_model_module": "@jupyter-widgets/controls",
            "_model_module_version": "1.5.0",
            "_model_name": "FloatProgressModel",
            "_view_count": null,
            "_view_module": "@jupyter-widgets/controls",
            "_view_module_version": "1.5.0",
            "_view_name": "ProgressView",
            "bar_style": "success",
            "description": "",
            "description_tooltip": null,
            "layout": "IPY_MODEL_0c43e32f3d10471b8bd01937c5ba7135",
            "max": 93,
            "min": 0,
            "orientation": "horizontal",
            "style": "IPY_MODEL_144cad1614494b69832f13b4e0b61b73",
            "value": 93
          }
        },
        "afb55080b3094b5fb20efd2008b62b46": {
          "model_module": "@jupyter-widgets/controls",
          "model_name": "HTMLModel",
          "model_module_version": "1.5.0",
          "state": {
            "_dom_classes": [],
            "_model_module": "@jupyter-widgets/controls",
            "_model_module_version": "1.5.0",
            "_model_name": "HTMLModel",
            "_view_count": null,
            "_view_module": "@jupyter-widgets/controls",
            "_view_module_version": "1.5.0",
            "_view_name": "HTMLView",
            "description": "",
            "description_tooltip": null,
            "layout": "IPY_MODEL_eeb0518f11bc4214941fbb0b19b5e46d",
            "placeholder": "​",
            "style": "IPY_MODEL_bc3a0fdfaf424db1aa3a7db8198c5fae",
            "value": " 93.0/93.0 [00:00&lt;00:00, 3.67kB/s]"
          }
        },
        "69717e4b1e10496ea41167b806440dea": {
          "model_module": "@jupyter-widgets/base",
          "model_name": "LayoutModel",
          "model_module_version": "1.2.0",
          "state": {
            "_model_module": "@jupyter-widgets/base",
            "_model_module_version": "1.2.0",
            "_model_name": "LayoutModel",
            "_view_count": null,
            "_view_module": "@jupyter-widgets/base",
            "_view_module_version": "1.2.0",
            "_view_name": "LayoutView",
            "align_content": null,
            "align_items": null,
            "align_self": null,
            "border": null,
            "bottom": null,
            "display": null,
            "flex": null,
            "flex_flow": null,
            "grid_area": null,
            "grid_auto_columns": null,
            "grid_auto_flow": null,
            "grid_auto_rows": null,
            "grid_column": null,
            "grid_gap": null,
            "grid_row": null,
            "grid_template_areas": null,
            "grid_template_columns": null,
            "grid_template_rows": null,
            "height": null,
            "justify_content": null,
            "justify_items": null,
            "left": null,
            "margin": null,
            "max_height": null,
            "max_width": null,
            "min_height": null,
            "min_width": null,
            "object_fit": null,
            "object_position": null,
            "order": null,
            "overflow": null,
            "overflow_x": null,
            "overflow_y": null,
            "padding": null,
            "right": null,
            "top": null,
            "visibility": null,
            "width": null
          }
        },
        "fb9c4c98e575446ca0a53ac0a5f6e728": {
          "model_module": "@jupyter-widgets/base",
          "model_name": "LayoutModel",
          "model_module_version": "1.2.0",
          "state": {
            "_model_module": "@jupyter-widgets/base",
            "_model_module_version": "1.2.0",
            "_model_name": "LayoutModel",
            "_view_count": null,
            "_view_module": "@jupyter-widgets/base",
            "_view_module_version": "1.2.0",
            "_view_name": "LayoutView",
            "align_content": null,
            "align_items": null,
            "align_self": null,
            "border": null,
            "bottom": null,
            "display": null,
            "flex": null,
            "flex_flow": null,
            "grid_area": null,
            "grid_auto_columns": null,
            "grid_auto_flow": null,
            "grid_auto_rows": null,
            "grid_column": null,
            "grid_gap": null,
            "grid_row": null,
            "grid_template_areas": null,
            "grid_template_columns": null,
            "grid_template_rows": null,
            "height": null,
            "justify_content": null,
            "justify_items": null,
            "left": null,
            "margin": null,
            "max_height": null,
            "max_width": null,
            "min_height": null,
            "min_width": null,
            "object_fit": null,
            "object_position": null,
            "order": null,
            "overflow": null,
            "overflow_x": null,
            "overflow_y": null,
            "padding": null,
            "right": null,
            "top": null,
            "visibility": null,
            "width": null
          }
        },
        "504b8388fc2642b08ad79428b467fdd2": {
          "model_module": "@jupyter-widgets/controls",
          "model_name": "DescriptionStyleModel",
          "model_module_version": "1.5.0",
          "state": {
            "_model_module": "@jupyter-widgets/controls",
            "_model_module_version": "1.5.0",
            "_model_name": "DescriptionStyleModel",
            "_view_count": null,
            "_view_module": "@jupyter-widgets/base",
            "_view_module_version": "1.2.0",
            "_view_name": "StyleView",
            "description_width": ""
          }
        },
        "0c43e32f3d10471b8bd01937c5ba7135": {
          "model_module": "@jupyter-widgets/base",
          "model_name": "LayoutModel",
          "model_module_version": "1.2.0",
          "state": {
            "_model_module": "@jupyter-widgets/base",
            "_model_module_version": "1.2.0",
            "_model_name": "LayoutModel",
            "_view_count": null,
            "_view_module": "@jupyter-widgets/base",
            "_view_module_version": "1.2.0",
            "_view_name": "LayoutView",
            "align_content": null,
            "align_items": null,
            "align_self": null,
            "border": null,
            "bottom": null,
            "display": null,
            "flex": null,
            "flex_flow": null,
            "grid_area": null,
            "grid_auto_columns": null,
            "grid_auto_flow": null,
            "grid_auto_rows": null,
            "grid_column": null,
            "grid_gap": null,
            "grid_row": null,
            "grid_template_areas": null,
            "grid_template_columns": null,
            "grid_template_rows": null,
            "height": null,
            "justify_content": null,
            "justify_items": null,
            "left": null,
            "margin": null,
            "max_height": null,
            "max_width": null,
            "min_height": null,
            "min_width": null,
            "object_fit": null,
            "object_position": null,
            "order": null,
            "overflow": null,
            "overflow_x": null,
            "overflow_y": null,
            "padding": null,
            "right": null,
            "top": null,
            "visibility": null,
            "width": null
          }
        },
        "144cad1614494b69832f13b4e0b61b73": {
          "model_module": "@jupyter-widgets/controls",
          "model_name": "ProgressStyleModel",
          "model_module_version": "1.5.0",
          "state": {
            "_model_module": "@jupyter-widgets/controls",
            "_model_module_version": "1.5.0",
            "_model_name": "ProgressStyleModel",
            "_view_count": null,
            "_view_module": "@jupyter-widgets/base",
            "_view_module_version": "1.2.0",
            "_view_name": "StyleView",
            "bar_color": null,
            "description_width": ""
          }
        },
        "eeb0518f11bc4214941fbb0b19b5e46d": {
          "model_module": "@jupyter-widgets/base",
          "model_name": "LayoutModel",
          "model_module_version": "1.2.0",
          "state": {
            "_model_module": "@jupyter-widgets/base",
            "_model_module_version": "1.2.0",
            "_model_name": "LayoutModel",
            "_view_count": null,
            "_view_module": "@jupyter-widgets/base",
            "_view_module_version": "1.2.0",
            "_view_name": "LayoutView",
            "align_content": null,
            "align_items": null,
            "align_self": null,
            "border": null,
            "bottom": null,
            "display": null,
            "flex": null,
            "flex_flow": null,
            "grid_area": null,
            "grid_auto_columns": null,
            "grid_auto_flow": null,
            "grid_auto_rows": null,
            "grid_column": null,
            "grid_gap": null,
            "grid_row": null,
            "grid_template_areas": null,
            "grid_template_columns": null,
            "grid_template_rows": null,
            "height": null,
            "justify_content": null,
            "justify_items": null,
            "left": null,
            "margin": null,
            "max_height": null,
            "max_width": null,
            "min_height": null,
            "min_width": null,
            "object_fit": null,
            "object_position": null,
            "order": null,
            "overflow": null,
            "overflow_x": null,
            "overflow_y": null,
            "padding": null,
            "right": null,
            "top": null,
            "visibility": null,
            "width": null
          }
        },
        "bc3a0fdfaf424db1aa3a7db8198c5fae": {
          "model_module": "@jupyter-widgets/controls",
          "model_name": "DescriptionStyleModel",
          "model_module_version": "1.5.0",
          "state": {
            "_model_module": "@jupyter-widgets/controls",
            "_model_module_version": "1.5.0",
            "_model_name": "DescriptionStyleModel",
            "_view_count": null,
            "_view_module": "@jupyter-widgets/base",
            "_view_module_version": "1.2.0",
            "_view_name": "StyleView",
            "description_width": ""
          }
        },
        "65f2a627ac54455aa91994082a604236": {
          "model_module": "@jupyter-widgets/controls",
          "model_name": "HBoxModel",
          "model_module_version": "1.5.0",
          "state": {
            "_dom_classes": [],
            "_model_module": "@jupyter-widgets/controls",
            "_model_module_version": "1.5.0",
            "_model_name": "HBoxModel",
            "_view_count": null,
            "_view_module": "@jupyter-widgets/controls",
            "_view_module_version": "1.5.0",
            "_view_name": "HBoxView",
            "box_style": "",
            "children": [
              "IPY_MODEL_412bb3ea9a02494d8dad2636e12cc96c",
              "IPY_MODEL_f1520e62d10b45cb8abf8ce1acc6fec8",
              "IPY_MODEL_85e8b1a4b3474828834eef1f696c5aa9"
            ],
            "layout": "IPY_MODEL_30a98e63dbc841dfa84a46a011a2562e"
          }
        },
        "412bb3ea9a02494d8dad2636e12cc96c": {
          "model_module": "@jupyter-widgets/controls",
          "model_name": "HTMLModel",
          "model_module_version": "1.5.0",
          "state": {
            "_dom_classes": [],
            "_model_module": "@jupyter-widgets/controls",
            "_model_module_version": "1.5.0",
            "_model_name": "HTMLModel",
            "_view_count": null,
            "_view_module": "@jupyter-widgets/controls",
            "_view_module_version": "1.5.0",
            "_view_name": "HTMLView",
            "description": "",
            "description_tooltip": null,
            "layout": "IPY_MODEL_dbe12bf8871d466bb199ea3b78c9ba3f",
            "placeholder": "​",
            "style": "IPY_MODEL_f6d01f08d7f645f1add7371147799728",
            "value": "Downloading (…)cial_tokens_map.json: 100%"
          }
        },
        "f1520e62d10b45cb8abf8ce1acc6fec8": {
          "model_module": "@jupyter-widgets/controls",
          "model_name": "FloatProgressModel",
          "model_module_version": "1.5.0",
          "state": {
            "_dom_classes": [],
            "_model_module": "@jupyter-widgets/controls",
            "_model_module_version": "1.5.0",
            "_model_name": "FloatProgressModel",
            "_view_count": null,
            "_view_module": "@jupyter-widgets/controls",
            "_view_module_version": "1.5.0",
            "_view_name": "ProgressView",
            "bar_style": "success",
            "description": "",
            "description_tooltip": null,
            "layout": "IPY_MODEL_6f59cc14c6ad4837bcc8c0109989e13e",
            "max": 125,
            "min": 0,
            "orientation": "horizontal",
            "style": "IPY_MODEL_62cfd0a1479846a288f6c4e929107476",
            "value": 125
          }
        },
        "85e8b1a4b3474828834eef1f696c5aa9": {
          "model_module": "@jupyter-widgets/controls",
          "model_name": "HTMLModel",
          "model_module_version": "1.5.0",
          "state": {
            "_dom_classes": [],
            "_model_module": "@jupyter-widgets/controls",
            "_model_module_version": "1.5.0",
            "_model_name": "HTMLModel",
            "_view_count": null,
            "_view_module": "@jupyter-widgets/controls",
            "_view_module_version": "1.5.0",
            "_view_name": "HTMLView",
            "description": "",
            "description_tooltip": null,
            "layout": "IPY_MODEL_de1f57741a2743f894b55292b507f7b7",
            "placeholder": "​",
            "style": "IPY_MODEL_72d10306480841d5954b86bac0fbdf5f",
            "value": " 125/125 [00:00&lt;00:00, 6.95kB/s]"
          }
        },
        "30a98e63dbc841dfa84a46a011a2562e": {
          "model_module": "@jupyter-widgets/base",
          "model_name": "LayoutModel",
          "model_module_version": "1.2.0",
          "state": {
            "_model_module": "@jupyter-widgets/base",
            "_model_module_version": "1.2.0",
            "_model_name": "LayoutModel",
            "_view_count": null,
            "_view_module": "@jupyter-widgets/base",
            "_view_module_version": "1.2.0",
            "_view_name": "LayoutView",
            "align_content": null,
            "align_items": null,
            "align_self": null,
            "border": null,
            "bottom": null,
            "display": null,
            "flex": null,
            "flex_flow": null,
            "grid_area": null,
            "grid_auto_columns": null,
            "grid_auto_flow": null,
            "grid_auto_rows": null,
            "grid_column": null,
            "grid_gap": null,
            "grid_row": null,
            "grid_template_areas": null,
            "grid_template_columns": null,
            "grid_template_rows": null,
            "height": null,
            "justify_content": null,
            "justify_items": null,
            "left": null,
            "margin": null,
            "max_height": null,
            "max_width": null,
            "min_height": null,
            "min_width": null,
            "object_fit": null,
            "object_position": null,
            "order": null,
            "overflow": null,
            "overflow_x": null,
            "overflow_y": null,
            "padding": null,
            "right": null,
            "top": null,
            "visibility": null,
            "width": null
          }
        },
        "dbe12bf8871d466bb199ea3b78c9ba3f": {
          "model_module": "@jupyter-widgets/base",
          "model_name": "LayoutModel",
          "model_module_version": "1.2.0",
          "state": {
            "_model_module": "@jupyter-widgets/base",
            "_model_module_version": "1.2.0",
            "_model_name": "LayoutModel",
            "_view_count": null,
            "_view_module": "@jupyter-widgets/base",
            "_view_module_version": "1.2.0",
            "_view_name": "LayoutView",
            "align_content": null,
            "align_items": null,
            "align_self": null,
            "border": null,
            "bottom": null,
            "display": null,
            "flex": null,
            "flex_flow": null,
            "grid_area": null,
            "grid_auto_columns": null,
            "grid_auto_flow": null,
            "grid_auto_rows": null,
            "grid_column": null,
            "grid_gap": null,
            "grid_row": null,
            "grid_template_areas": null,
            "grid_template_columns": null,
            "grid_template_rows": null,
            "height": null,
            "justify_content": null,
            "justify_items": null,
            "left": null,
            "margin": null,
            "max_height": null,
            "max_width": null,
            "min_height": null,
            "min_width": null,
            "object_fit": null,
            "object_position": null,
            "order": null,
            "overflow": null,
            "overflow_x": null,
            "overflow_y": null,
            "padding": null,
            "right": null,
            "top": null,
            "visibility": null,
            "width": null
          }
        },
        "f6d01f08d7f645f1add7371147799728": {
          "model_module": "@jupyter-widgets/controls",
          "model_name": "DescriptionStyleModel",
          "model_module_version": "1.5.0",
          "state": {
            "_model_module": "@jupyter-widgets/controls",
            "_model_module_version": "1.5.0",
            "_model_name": "DescriptionStyleModel",
            "_view_count": null,
            "_view_module": "@jupyter-widgets/base",
            "_view_module_version": "1.2.0",
            "_view_name": "StyleView",
            "description_width": ""
          }
        },
        "6f59cc14c6ad4837bcc8c0109989e13e": {
          "model_module": "@jupyter-widgets/base",
          "model_name": "LayoutModel",
          "model_module_version": "1.2.0",
          "state": {
            "_model_module": "@jupyter-widgets/base",
            "_model_module_version": "1.2.0",
            "_model_name": "LayoutModel",
            "_view_count": null,
            "_view_module": "@jupyter-widgets/base",
            "_view_module_version": "1.2.0",
            "_view_name": "LayoutView",
            "align_content": null,
            "align_items": null,
            "align_self": null,
            "border": null,
            "bottom": null,
            "display": null,
            "flex": null,
            "flex_flow": null,
            "grid_area": null,
            "grid_auto_columns": null,
            "grid_auto_flow": null,
            "grid_auto_rows": null,
            "grid_column": null,
            "grid_gap": null,
            "grid_row": null,
            "grid_template_areas": null,
            "grid_template_columns": null,
            "grid_template_rows": null,
            "height": null,
            "justify_content": null,
            "justify_items": null,
            "left": null,
            "margin": null,
            "max_height": null,
            "max_width": null,
            "min_height": null,
            "min_width": null,
            "object_fit": null,
            "object_position": null,
            "order": null,
            "overflow": null,
            "overflow_x": null,
            "overflow_y": null,
            "padding": null,
            "right": null,
            "top": null,
            "visibility": null,
            "width": null
          }
        },
        "62cfd0a1479846a288f6c4e929107476": {
          "model_module": "@jupyter-widgets/controls",
          "model_name": "ProgressStyleModel",
          "model_module_version": "1.5.0",
          "state": {
            "_model_module": "@jupyter-widgets/controls",
            "_model_module_version": "1.5.0",
            "_model_name": "ProgressStyleModel",
            "_view_count": null,
            "_view_module": "@jupyter-widgets/base",
            "_view_module_version": "1.2.0",
            "_view_name": "StyleView",
            "bar_color": null,
            "description_width": ""
          }
        },
        "de1f57741a2743f894b55292b507f7b7": {
          "model_module": "@jupyter-widgets/base",
          "model_name": "LayoutModel",
          "model_module_version": "1.2.0",
          "state": {
            "_model_module": "@jupyter-widgets/base",
            "_model_module_version": "1.2.0",
            "_model_name": "LayoutModel",
            "_view_count": null,
            "_view_module": "@jupyter-widgets/base",
            "_view_module_version": "1.2.0",
            "_view_name": "LayoutView",
            "align_content": null,
            "align_items": null,
            "align_self": null,
            "border": null,
            "bottom": null,
            "display": null,
            "flex": null,
            "flex_flow": null,
            "grid_area": null,
            "grid_auto_columns": null,
            "grid_auto_flow": null,
            "grid_auto_rows": null,
            "grid_column": null,
            "grid_gap": null,
            "grid_row": null,
            "grid_template_areas": null,
            "grid_template_columns": null,
            "grid_template_rows": null,
            "height": null,
            "justify_content": null,
            "justify_items": null,
            "left": null,
            "margin": null,
            "max_height": null,
            "max_width": null,
            "min_height": null,
            "min_width": null,
            "object_fit": null,
            "object_position": null,
            "order": null,
            "overflow": null,
            "overflow_x": null,
            "overflow_y": null,
            "padding": null,
            "right": null,
            "top": null,
            "visibility": null,
            "width": null
          }
        },
        "72d10306480841d5954b86bac0fbdf5f": {
          "model_module": "@jupyter-widgets/controls",
          "model_name": "DescriptionStyleModel",
          "model_module_version": "1.5.0",
          "state": {
            "_model_module": "@jupyter-widgets/controls",
            "_model_module_version": "1.5.0",
            "_model_name": "DescriptionStyleModel",
            "_view_count": null,
            "_view_module": "@jupyter-widgets/base",
            "_view_module_version": "1.2.0",
            "_view_name": "StyleView",
            "description_width": ""
          }
        },
        "ba22812c90f2462ea447acb6e81c04d7": {
          "model_module": "@jupyter-widgets/controls",
          "model_name": "HBoxModel",
          "model_module_version": "1.5.0",
          "state": {
            "_dom_classes": [],
            "_model_module": "@jupyter-widgets/controls",
            "_model_module_version": "1.5.0",
            "_model_name": "HBoxModel",
            "_view_count": null,
            "_view_module": "@jupyter-widgets/controls",
            "_view_module_version": "1.5.0",
            "_view_name": "HBoxView",
            "box_style": "",
            "children": [
              "IPY_MODEL_d74630cde8f347069252beb208e4b79e",
              "IPY_MODEL_1dcefe5f1a5946d3ab6eb69ee592ec69",
              "IPY_MODEL_2513a5d65c2d40ae9535ee04f11beac5"
            ],
            "layout": "IPY_MODEL_cc571f80170a4eb599955ce8a5e31d8e"
          }
        },
        "d74630cde8f347069252beb208e4b79e": {
          "model_module": "@jupyter-widgets/controls",
          "model_name": "HTMLModel",
          "model_module_version": "1.5.0",
          "state": {
            "_dom_classes": [],
            "_model_module": "@jupyter-widgets/controls",
            "_model_module_version": "1.5.0",
            "_model_name": "HTMLModel",
            "_view_count": null,
            "_view_module": "@jupyter-widgets/controls",
            "_view_module_version": "1.5.0",
            "_view_name": "HTMLView",
            "description": "",
            "description_tooltip": null,
            "layout": "IPY_MODEL_d701a158e7e143f9988ddd6e7ccead8c",
            "placeholder": "​",
            "style": "IPY_MODEL_eef3de52e34d4183b3a043a6b66ee3bb",
            "value": "Downloading (…)lve/main/config.json: 100%"
          }
        },
        "1dcefe5f1a5946d3ab6eb69ee592ec69": {
          "model_module": "@jupyter-widgets/controls",
          "model_name": "FloatProgressModel",
          "model_module_version": "1.5.0",
          "state": {
            "_dom_classes": [],
            "_model_module": "@jupyter-widgets/controls",
            "_model_module_version": "1.5.0",
            "_model_name": "FloatProgressModel",
            "_view_count": null,
            "_view_module": "@jupyter-widgets/controls",
            "_view_module_version": "1.5.0",
            "_view_name": "ProgressView",
            "bar_style": "success",
            "description": "",
            "description_tooltip": null,
            "layout": "IPY_MODEL_8e6c6a30d6a64404a7211da1217e7d67",
            "max": 775,
            "min": 0,
            "orientation": "horizontal",
            "style": "IPY_MODEL_fc7eed80a9dc4138a22d85a3f2ba23e4",
            "value": 775
          }
        },
        "2513a5d65c2d40ae9535ee04f11beac5": {
          "model_module": "@jupyter-widgets/controls",
          "model_name": "HTMLModel",
          "model_module_version": "1.5.0",
          "state": {
            "_dom_classes": [],
            "_model_module": "@jupyter-widgets/controls",
            "_model_module_version": "1.5.0",
            "_model_name": "HTMLModel",
            "_view_count": null,
            "_view_module": "@jupyter-widgets/controls",
            "_view_module_version": "1.5.0",
            "_view_name": "HTMLView",
            "description": "",
            "description_tooltip": null,
            "layout": "IPY_MODEL_d1f93f047f4b4fbf8cc4ce9453ce1c87",
            "placeholder": "​",
            "style": "IPY_MODEL_a07933860f7749ca9278064bc6e5d00c",
            "value": " 775/775 [00:00&lt;00:00, 30.9kB/s]"
          }
        },
        "cc571f80170a4eb599955ce8a5e31d8e": {
          "model_module": "@jupyter-widgets/base",
          "model_name": "LayoutModel",
          "model_module_version": "1.2.0",
          "state": {
            "_model_module": "@jupyter-widgets/base",
            "_model_module_version": "1.2.0",
            "_model_name": "LayoutModel",
            "_view_count": null,
            "_view_module": "@jupyter-widgets/base",
            "_view_module_version": "1.2.0",
            "_view_name": "LayoutView",
            "align_content": null,
            "align_items": null,
            "align_self": null,
            "border": null,
            "bottom": null,
            "display": null,
            "flex": null,
            "flex_flow": null,
            "grid_area": null,
            "grid_auto_columns": null,
            "grid_auto_flow": null,
            "grid_auto_rows": null,
            "grid_column": null,
            "grid_gap": null,
            "grid_row": null,
            "grid_template_areas": null,
            "grid_template_columns": null,
            "grid_template_rows": null,
            "height": null,
            "justify_content": null,
            "justify_items": null,
            "left": null,
            "margin": null,
            "max_height": null,
            "max_width": null,
            "min_height": null,
            "min_width": null,
            "object_fit": null,
            "object_position": null,
            "order": null,
            "overflow": null,
            "overflow_x": null,
            "overflow_y": null,
            "padding": null,
            "right": null,
            "top": null,
            "visibility": null,
            "width": null
          }
        },
        "d701a158e7e143f9988ddd6e7ccead8c": {
          "model_module": "@jupyter-widgets/base",
          "model_name": "LayoutModel",
          "model_module_version": "1.2.0",
          "state": {
            "_model_module": "@jupyter-widgets/base",
            "_model_module_version": "1.2.0",
            "_model_name": "LayoutModel",
            "_view_count": null,
            "_view_module": "@jupyter-widgets/base",
            "_view_module_version": "1.2.0",
            "_view_name": "LayoutView",
            "align_content": null,
            "align_items": null,
            "align_self": null,
            "border": null,
            "bottom": null,
            "display": null,
            "flex": null,
            "flex_flow": null,
            "grid_area": null,
            "grid_auto_columns": null,
            "grid_auto_flow": null,
            "grid_auto_rows": null,
            "grid_column": null,
            "grid_gap": null,
            "grid_row": null,
            "grid_template_areas": null,
            "grid_template_columns": null,
            "grid_template_rows": null,
            "height": null,
            "justify_content": null,
            "justify_items": null,
            "left": null,
            "margin": null,
            "max_height": null,
            "max_width": null,
            "min_height": null,
            "min_width": null,
            "object_fit": null,
            "object_position": null,
            "order": null,
            "overflow": null,
            "overflow_x": null,
            "overflow_y": null,
            "padding": null,
            "right": null,
            "top": null,
            "visibility": null,
            "width": null
          }
        },
        "eef3de52e34d4183b3a043a6b66ee3bb": {
          "model_module": "@jupyter-widgets/controls",
          "model_name": "DescriptionStyleModel",
          "model_module_version": "1.5.0",
          "state": {
            "_model_module": "@jupyter-widgets/controls",
            "_model_module_version": "1.5.0",
            "_model_name": "DescriptionStyleModel",
            "_view_count": null,
            "_view_module": "@jupyter-widgets/base",
            "_view_module_version": "1.2.0",
            "_view_name": "StyleView",
            "description_width": ""
          }
        },
        "8e6c6a30d6a64404a7211da1217e7d67": {
          "model_module": "@jupyter-widgets/base",
          "model_name": "LayoutModel",
          "model_module_version": "1.2.0",
          "state": {
            "_model_module": "@jupyter-widgets/base",
            "_model_module_version": "1.2.0",
            "_model_name": "LayoutModel",
            "_view_count": null,
            "_view_module": "@jupyter-widgets/base",
            "_view_module_version": "1.2.0",
            "_view_name": "LayoutView",
            "align_content": null,
            "align_items": null,
            "align_self": null,
            "border": null,
            "bottom": null,
            "display": null,
            "flex": null,
            "flex_flow": null,
            "grid_area": null,
            "grid_auto_columns": null,
            "grid_auto_flow": null,
            "grid_auto_rows": null,
            "grid_column": null,
            "grid_gap": null,
            "grid_row": null,
            "grid_template_areas": null,
            "grid_template_columns": null,
            "grid_template_rows": null,
            "height": null,
            "justify_content": null,
            "justify_items": null,
            "left": null,
            "margin": null,
            "max_height": null,
            "max_width": null,
            "min_height": null,
            "min_width": null,
            "object_fit": null,
            "object_position": null,
            "order": null,
            "overflow": null,
            "overflow_x": null,
            "overflow_y": null,
            "padding": null,
            "right": null,
            "top": null,
            "visibility": null,
            "width": null
          }
        },
        "fc7eed80a9dc4138a22d85a3f2ba23e4": {
          "model_module": "@jupyter-widgets/controls",
          "model_name": "ProgressStyleModel",
          "model_module_version": "1.5.0",
          "state": {
            "_model_module": "@jupyter-widgets/controls",
            "_model_module_version": "1.5.0",
            "_model_name": "ProgressStyleModel",
            "_view_count": null,
            "_view_module": "@jupyter-widgets/base",
            "_view_module_version": "1.2.0",
            "_view_name": "StyleView",
            "bar_color": null,
            "description_width": ""
          }
        },
        "d1f93f047f4b4fbf8cc4ce9453ce1c87": {
          "model_module": "@jupyter-widgets/base",
          "model_name": "LayoutModel",
          "model_module_version": "1.2.0",
          "state": {
            "_model_module": "@jupyter-widgets/base",
            "_model_module_version": "1.2.0",
            "_model_name": "LayoutModel",
            "_view_count": null,
            "_view_module": "@jupyter-widgets/base",
            "_view_module_version": "1.2.0",
            "_view_name": "LayoutView",
            "align_content": null,
            "align_items": null,
            "align_self": null,
            "border": null,
            "bottom": null,
            "display": null,
            "flex": null,
            "flex_flow": null,
            "grid_area": null,
            "grid_auto_columns": null,
            "grid_auto_flow": null,
            "grid_auto_rows": null,
            "grid_column": null,
            "grid_gap": null,
            "grid_row": null,
            "grid_template_areas": null,
            "grid_template_columns": null,
            "grid_template_rows": null,
            "height": null,
            "justify_content": null,
            "justify_items": null,
            "left": null,
            "margin": null,
            "max_height": null,
            "max_width": null,
            "min_height": null,
            "min_width": null,
            "object_fit": null,
            "object_position": null,
            "order": null,
            "overflow": null,
            "overflow_x": null,
            "overflow_y": null,
            "padding": null,
            "right": null,
            "top": null,
            "visibility": null,
            "width": null
          }
        },
        "a07933860f7749ca9278064bc6e5d00c": {
          "model_module": "@jupyter-widgets/controls",
          "model_name": "DescriptionStyleModel",
          "model_module_version": "1.5.0",
          "state": {
            "_model_module": "@jupyter-widgets/controls",
            "_model_module_version": "1.5.0",
            "_model_name": "DescriptionStyleModel",
            "_view_count": null,
            "_view_module": "@jupyter-widgets/base",
            "_view_module_version": "1.2.0",
            "_view_name": "StyleView",
            "description_width": ""
          }
        },
        "41f8dfaa0c68440e8721dc3ea7b8aba1": {
          "model_module": "@jupyter-widgets/controls",
          "model_name": "HBoxModel",
          "model_module_version": "1.5.0",
          "state": {
            "_dom_classes": [],
            "_model_module": "@jupyter-widgets/controls",
            "_model_module_version": "1.5.0",
            "_model_name": "HBoxModel",
            "_view_count": null,
            "_view_module": "@jupyter-widgets/controls",
            "_view_module_version": "1.5.0",
            "_view_name": "HBoxView",
            "box_style": "",
            "children": [
              "IPY_MODEL_cbba136ce27443eebfdaa78a50fbab88",
              "IPY_MODEL_68d10c0e900a4bacbc6cf8632ae6ceaf",
              "IPY_MODEL_485ea1b27d404b1d8cee7caa3d5c4e21"
            ],
            "layout": "IPY_MODEL_e75874ff58044007ad212f648d77345e"
          }
        },
        "cbba136ce27443eebfdaa78a50fbab88": {
          "model_module": "@jupyter-widgets/controls",
          "model_name": "HTMLModel",
          "model_module_version": "1.5.0",
          "state": {
            "_dom_classes": [],
            "_model_module": "@jupyter-widgets/controls",
            "_model_module_version": "1.5.0",
            "_model_name": "HTMLModel",
            "_view_count": null,
            "_view_module": "@jupyter-widgets/controls",
            "_view_module_version": "1.5.0",
            "_view_name": "HTMLView",
            "description": "",
            "description_tooltip": null,
            "layout": "IPY_MODEL_446d9d31617f43ee86ed9e84dc4e8575",
            "placeholder": "​",
            "style": "IPY_MODEL_89755fd1ca7d4a3ab7c2cf84ff4f086d",
            "value": "Downloading pytorch_model.bin: 100%"
          }
        },
        "68d10c0e900a4bacbc6cf8632ae6ceaf": {
          "model_module": "@jupyter-widgets/controls",
          "model_name": "FloatProgressModel",
          "model_module_version": "1.5.0",
          "state": {
            "_dom_classes": [],
            "_model_module": "@jupyter-widgets/controls",
            "_model_module_version": "1.5.0",
            "_model_name": "FloatProgressModel",
            "_view_count": null,
            "_view_module": "@jupyter-widgets/controls",
            "_view_module_version": "1.5.0",
            "_view_name": "ProgressView",
            "bar_style": "success",
            "description": "",
            "description_tooltip": null,
            "layout": "IPY_MODEL_096c0becd7e84b498848084c7a31a89a",
            "max": 31406877,
            "min": 0,
            "orientation": "horizontal",
            "style": "IPY_MODEL_fc652e62bdbc406f9098c95f7eedf208",
            "value": 31406877
          }
        },
        "485ea1b27d404b1d8cee7caa3d5c4e21": {
          "model_module": "@jupyter-widgets/controls",
          "model_name": "HTMLModel",
          "model_module_version": "1.5.0",
          "state": {
            "_dom_classes": [],
            "_model_module": "@jupyter-widgets/controls",
            "_model_module_version": "1.5.0",
            "_model_name": "HTMLModel",
            "_view_count": null,
            "_view_module": "@jupyter-widgets/controls",
            "_view_module_version": "1.5.0",
            "_view_name": "HTMLView",
            "description": "",
            "description_tooltip": null,
            "layout": "IPY_MODEL_8af3c9ed9e7149bfa0e01b21e8421e6a",
            "placeholder": "​",
            "style": "IPY_MODEL_83e6c56eb9bc43bea3a7f2e17c22dc97",
            "value": " 31.4M/31.4M [00:00&lt;00:00, 56.0MB/s]"
          }
        },
        "e75874ff58044007ad212f648d77345e": {
          "model_module": "@jupyter-widgets/base",
          "model_name": "LayoutModel",
          "model_module_version": "1.2.0",
          "state": {
            "_model_module": "@jupyter-widgets/base",
            "_model_module_version": "1.2.0",
            "_model_name": "LayoutModel",
            "_view_count": null,
            "_view_module": "@jupyter-widgets/base",
            "_view_module_version": "1.2.0",
            "_view_name": "LayoutView",
            "align_content": null,
            "align_items": null,
            "align_self": null,
            "border": null,
            "bottom": null,
            "display": null,
            "flex": null,
            "flex_flow": null,
            "grid_area": null,
            "grid_auto_columns": null,
            "grid_auto_flow": null,
            "grid_auto_rows": null,
            "grid_column": null,
            "grid_gap": null,
            "grid_row": null,
            "grid_template_areas": null,
            "grid_template_columns": null,
            "grid_template_rows": null,
            "height": null,
            "justify_content": null,
            "justify_items": null,
            "left": null,
            "margin": null,
            "max_height": null,
            "max_width": null,
            "min_height": null,
            "min_width": null,
            "object_fit": null,
            "object_position": null,
            "order": null,
            "overflow": null,
            "overflow_x": null,
            "overflow_y": null,
            "padding": null,
            "right": null,
            "top": null,
            "visibility": null,
            "width": null
          }
        },
        "446d9d31617f43ee86ed9e84dc4e8575": {
          "model_module": "@jupyter-widgets/base",
          "model_name": "LayoutModel",
          "model_module_version": "1.2.0",
          "state": {
            "_model_module": "@jupyter-widgets/base",
            "_model_module_version": "1.2.0",
            "_model_name": "LayoutModel",
            "_view_count": null,
            "_view_module": "@jupyter-widgets/base",
            "_view_module_version": "1.2.0",
            "_view_name": "LayoutView",
            "align_content": null,
            "align_items": null,
            "align_self": null,
            "border": null,
            "bottom": null,
            "display": null,
            "flex": null,
            "flex_flow": null,
            "grid_area": null,
            "grid_auto_columns": null,
            "grid_auto_flow": null,
            "grid_auto_rows": null,
            "grid_column": null,
            "grid_gap": null,
            "grid_row": null,
            "grid_template_areas": null,
            "grid_template_columns": null,
            "grid_template_rows": null,
            "height": null,
            "justify_content": null,
            "justify_items": null,
            "left": null,
            "margin": null,
            "max_height": null,
            "max_width": null,
            "min_height": null,
            "min_width": null,
            "object_fit": null,
            "object_position": null,
            "order": null,
            "overflow": null,
            "overflow_x": null,
            "overflow_y": null,
            "padding": null,
            "right": null,
            "top": null,
            "visibility": null,
            "width": null
          }
        },
        "89755fd1ca7d4a3ab7c2cf84ff4f086d": {
          "model_module": "@jupyter-widgets/controls",
          "model_name": "DescriptionStyleModel",
          "model_module_version": "1.5.0",
          "state": {
            "_model_module": "@jupyter-widgets/controls",
            "_model_module_version": "1.5.0",
            "_model_name": "DescriptionStyleModel",
            "_view_count": null,
            "_view_module": "@jupyter-widgets/base",
            "_view_module_version": "1.2.0",
            "_view_name": "StyleView",
            "description_width": ""
          }
        },
        "096c0becd7e84b498848084c7a31a89a": {
          "model_module": "@jupyter-widgets/base",
          "model_name": "LayoutModel",
          "model_module_version": "1.2.0",
          "state": {
            "_model_module": "@jupyter-widgets/base",
            "_model_module_version": "1.2.0",
            "_model_name": "LayoutModel",
            "_view_count": null,
            "_view_module": "@jupyter-widgets/base",
            "_view_module_version": "1.2.0",
            "_view_name": "LayoutView",
            "align_content": null,
            "align_items": null,
            "align_self": null,
            "border": null,
            "bottom": null,
            "display": null,
            "flex": null,
            "flex_flow": null,
            "grid_area": null,
            "grid_auto_columns": null,
            "grid_auto_flow": null,
            "grid_auto_rows": null,
            "grid_column": null,
            "grid_gap": null,
            "grid_row": null,
            "grid_template_areas": null,
            "grid_template_columns": null,
            "grid_template_rows": null,
            "height": null,
            "justify_content": null,
            "justify_items": null,
            "left": null,
            "margin": null,
            "max_height": null,
            "max_width": null,
            "min_height": null,
            "min_width": null,
            "object_fit": null,
            "object_position": null,
            "order": null,
            "overflow": null,
            "overflow_x": null,
            "overflow_y": null,
            "padding": null,
            "right": null,
            "top": null,
            "visibility": null,
            "width": null
          }
        },
        "fc652e62bdbc406f9098c95f7eedf208": {
          "model_module": "@jupyter-widgets/controls",
          "model_name": "ProgressStyleModel",
          "model_module_version": "1.5.0",
          "state": {
            "_model_module": "@jupyter-widgets/controls",
            "_model_module_version": "1.5.0",
            "_model_name": "ProgressStyleModel",
            "_view_count": null,
            "_view_module": "@jupyter-widgets/base",
            "_view_module_version": "1.2.0",
            "_view_name": "StyleView",
            "bar_color": null,
            "description_width": ""
          }
        },
        "8af3c9ed9e7149bfa0e01b21e8421e6a": {
          "model_module": "@jupyter-widgets/base",
          "model_name": "LayoutModel",
          "model_module_version": "1.2.0",
          "state": {
            "_model_module": "@jupyter-widgets/base",
            "_model_module_version": "1.2.0",
            "_model_name": "LayoutModel",
            "_view_count": null,
            "_view_module": "@jupyter-widgets/base",
            "_view_module_version": "1.2.0",
            "_view_name": "LayoutView",
            "align_content": null,
            "align_items": null,
            "align_self": null,
            "border": null,
            "bottom": null,
            "display": null,
            "flex": null,
            "flex_flow": null,
            "grid_area": null,
            "grid_auto_columns": null,
            "grid_auto_flow": null,
            "grid_auto_rows": null,
            "grid_column": null,
            "grid_gap": null,
            "grid_row": null,
            "grid_template_areas": null,
            "grid_template_columns": null,
            "grid_template_rows": null,
            "height": null,
            "justify_content": null,
            "justify_items": null,
            "left": null,
            "margin": null,
            "max_height": null,
            "max_width": null,
            "min_height": null,
            "min_width": null,
            "object_fit": null,
            "object_position": null,
            "order": null,
            "overflow": null,
            "overflow_x": null,
            "overflow_y": null,
            "padding": null,
            "right": null,
            "top": null,
            "visibility": null,
            "width": null
          }
        },
        "83e6c56eb9bc43bea3a7f2e17c22dc97": {
          "model_module": "@jupyter-widgets/controls",
          "model_name": "DescriptionStyleModel",
          "model_module_version": "1.5.0",
          "state": {
            "_model_module": "@jupyter-widgets/controls",
            "_model_module_version": "1.5.0",
            "_model_name": "DescriptionStyleModel",
            "_view_count": null,
            "_view_module": "@jupyter-widgets/base",
            "_view_module_version": "1.2.0",
            "_view_name": "StyleView",
            "description_width": ""
          }
        }
      }
    }
  },
  "nbformat": 4,
  "nbformat_minor": 0
}